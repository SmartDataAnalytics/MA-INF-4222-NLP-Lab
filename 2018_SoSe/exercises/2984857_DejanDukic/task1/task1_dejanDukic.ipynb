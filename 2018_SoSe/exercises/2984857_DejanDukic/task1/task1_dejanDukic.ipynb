{
 "cells": [
  {
   "cell_type": "markdown",
   "metadata": {},
   "source": [
    "# Exercise 01; POS tagger sandbox"
   ]
  },
  {
   "cell_type": "markdown",
   "metadata": {},
   "source": [
    "**Dejan Dukic**\n",
    "\n",
    "**Matr #: 2984857**"
   ]
  },
  {
   "cell_type": "markdown",
   "metadata": {},
   "source": [
    "### Obtaining the corpora"
   ]
  },
  {
   "cell_type": "code",
   "execution_count": 1,
   "metadata": {
    "collapsed": true
   },
   "outputs": [],
   "source": [
    "import nltk"
   ]
  },
  {
   "cell_type": "code",
   "execution_count": 2,
   "metadata": {},
   "outputs": [
    {
     "name": "stdout",
     "output_type": "stream",
     "text": [
      "[nltk_data] Downloading package brown to\n",
      "[nltk_data]     C:\\Users\\Dejan\\AppData\\Roaming\\nltk_data...\n",
      "[nltk_data]   Package brown is already up-to-date!\n",
      "[nltk_data] Downloading package treebank to\n",
      "[nltk_data]     C:\\Users\\Dejan\\AppData\\Roaming\\nltk_data...\n",
      "[nltk_data]   Package treebank is already up-to-date!\n",
      "[nltk_data] Downloading package averaged_perceptron_tagger to\n",
      "[nltk_data]     C:\\Users\\Dejan\\AppData\\Roaming\\nltk_data...\n",
      "[nltk_data]   Package averaged_perceptron_tagger is already up-to-\n",
      "[nltk_data]       date!\n"
     ]
    },
    {
     "data": {
      "text/plain": [
       "True"
      ]
     },
     "execution_count": 2,
     "metadata": {},
     "output_type": "execute_result"
    }
   ],
   "source": [
    "nltk.download('brown')\n",
    "nltk.download('treebank')\n",
    "nltk.download('averaged_perceptron_tagger')"
   ]
  },
  {
   "cell_type": "code",
   "execution_count": 3,
   "metadata": {
    "collapsed": true
   },
   "outputs": [],
   "source": [
    "from nltk.corpus import brown, treebank"
   ]
  },
  {
   "cell_type": "markdown",
   "metadata": {},
   "source": [
    "[croatian corpus link]('https://github.com/ffnlp/sethr/blob/master/set.hr.conll'), necessary to download and have in the working directory"
   ]
  },
  {
   "cell_type": "markdown",
   "metadata": {},
   "source": [
    "set up the conllCorpusReader for the particular corpus structure, explained [here](https://github.com/ffnlp/sethr); they are using [universal POS tags](http://universaldependencies.org/docs/u/pos/index.html), which will also be used for accuracy measurement later on"
   ]
  },
  {
   "cell_type": "markdown",
   "metadata": {},
   "source": [
    "column syntax supported by the conllCorpusReader can be found [here](http://www.nltk.org/_modules/nltk/corpus/reader/conll.html)"
   ]
  },
  {
   "cell_type": "code",
   "execution_count": 4,
   "metadata": {
    "collapsed": true
   },
   "outputs": [],
   "source": [
    "root = %pwd\n",
    "columnStructure = ('ignore', 'words', 'ignore', 'ignore', 'ignore', 'ignore', 'ignore', 'ignore', 'ignore', 'pos')\n",
    "hrCorp = nltk.corpus.ConllCorpusReader(root, '.conll', columnStructure)"
   ]
  },
  {
   "cell_type": "markdown",
   "metadata": {},
   "source": [
    "a preprocessing step is required in order to get word-POS tag pairs for each sentence"
   ]
  },
  {
   "cell_type": "code",
   "execution_count": 5,
   "metadata": {
    "collapsed": true
   },
   "outputs": [],
   "source": [
    "corpusConvert = [[(pair[0], pair[1].split('|')[0].split('=')[1]) for pair in sent] for sent in hrCorp.tagged_sents('set.hr.conll')]"
   ]
  },
  {
   "cell_type": "code",
   "execution_count": 6,
   "metadata": {},
   "outputs": [
    {
     "data": {
      "text/plain": [
       "[('Proces', 'NOUN'),\n",
       " ('privatizacije', 'NOUN'),\n",
       " ('na', 'ADP'),\n",
       " ('Kosovu', 'PROPN'),\n",
       " ('pod', 'ADP'),\n",
       " ('povećalom', 'NOUN')]"
      ]
     },
     "execution_count": 6,
     "metadata": {},
     "output_type": "execute_result"
    }
   ],
   "source": [
    "corpusConvert[0]"
   ]
  },
  {
   "cell_type": "markdown",
   "metadata": {},
   "source": [
    "### Helper functions"
   ]
  },
  {
   "cell_type": "markdown",
   "metadata": {},
   "source": [
    "the featureDetect function is meant for capturing syntactic characteristics within a given word of a sentence which should give hints about its part of speech membership. the features used here come from [this tutorial](https://nlpforhackers.io/training-pos-tagger/)."
   ]
  },
  {
   "cell_type": "code",
   "execution_count": 7,
   "metadata": {
    "collapsed": true
   },
   "outputs": [],
   "source": [
    "def featureDetect(sentence, index):\n",
    "    \"\"\" \n",
    "    sentence: list of words, i.e. [w1, w2, ...], \n",
    "    index: the index of the word \n",
    "    \"\"\"\n",
    "    \n",
    "    return {\n",
    "        'word': sentence[index],\n",
    "        'is_first': index == 0,\n",
    "        'is_last': index == len(sentence) - 1,\n",
    "        'is_capitalized': sentence[index][0].upper() == sentence[index][0],\n",
    "        'is_all_caps': sentence[index].upper() == sentence[index],\n",
    "        'is_all_lower': sentence[index].lower() == sentence[index],\n",
    "        'prefix-1': sentence[index][0],\n",
    "        'prefix-2': sentence[index][:2],\n",
    "        'prefix-3': sentence[index][:3],\n",
    "        'suffix-1': sentence[index][-1],\n",
    "        'suffix-2': sentence[index][-2:],\n",
    "        'suffix-3': sentence[index][-3:],\n",
    "        'prev_word': '' if index == 0 else sentence[index - 1],\n",
    "        'next_word': '' if index == len(sentence) - 1 else sentence[index + 1],\n",
    "        'has_hyphen': '-' in sentence[index],\n",
    "        'is_numeric': sentence[index].isdigit(),\n",
    "        'capitals_inside': sentence[index][1:].lower() != sentence[index][1:]\n",
    "    }"
   ]
  },
  {
   "cell_type": "markdown",
   "metadata": {},
   "source": [
    "The untag function returns the list of words without tags from a tagged sentence; the transform_to_dataset function returns X and y representing the dictionary of detected features for each word from a given sentence and the list of correct corresponding tags respectively"
   ]
  },
  {
   "cell_type": "code",
   "execution_count": 8,
   "metadata": {
    "collapsed": true
   },
   "outputs": [],
   "source": [
    "def untag(tagged_sentence):\n",
    "    return [w for w, t in tagged_sentence]\n",
    "\n",
    "def transform_to_dataset(tagged_sentences):\n",
    "    X, y = [], []\n",
    "    for tagged in tagged_sentences:\n",
    "        for index in range(len(tagged)):\n",
    "            X.append(featureDetect(untag(tagged), index))\n",
    "            y.append(tagged[index][1])     \n",
    " \n",
    "    return X, y"
   ]
  },
  {
   "cell_type": "markdown",
   "metadata": {},
   "source": [
    "### Splitting each corpus to train/test sets based on the 80/20 rule"
   ]
  },
  {
   "cell_type": "code",
   "execution_count": 9,
   "metadata": {
    "collapsed": true
   },
   "outputs": [],
   "source": [
    "X1 = treebank.tagged_sents()\n",
    "X1_sents = treebank.sents()\n",
    "\n",
    "X2 = brown.tagged_sents()\n",
    "X2_sents = brown.sents()\n",
    "\n",
    "X3 = list(corpusConvert)\n",
    "X3_sents = hrCorp.sents('set.hr.conll')"
   ]
  },
  {
   "cell_type": "code",
   "execution_count": null,
   "metadata": {
    "collapsed": true
   },
   "outputs": [],
   "source": []
  },
  {
   "cell_type": "code",
   "execution_count": 10,
   "metadata": {
    "collapsed": true
   },
   "outputs": [],
   "source": [
    "splitX1 = int(.8 * len(X1))\n",
    "splitX2 = int(.8 * len(X2))\n",
    "splitX3 = int(.8 * len(X3))\n",
    "\n",
    "size = 10000\n",
    "\n",
    "X1_train, Y1_train = transform_to_dataset(X1[:splitX1])\n",
    "X1_test, Y1_test = transform_to_dataset(X1[splitX1:])\n",
    "\n",
    "X2_train, Y2_train = transform_to_dataset(X2[:splitX2])\n",
    "X2_test, Y2_test = transform_to_dataset(X2[splitX2:])\n",
    "\n",
    "X3_train, Y3_train = transform_to_dataset(X3[:splitX3])\n",
    "X3_test, Y3_test = transform_to_dataset(X3[splitX3:])"
   ]
  },
  {
   "cell_type": "code",
   "execution_count": 11,
   "metadata": {},
   "outputs": [
    {
     "name": "stdout",
     "output_type": "stream",
     "text": [
      "80637 20039\n"
     ]
    }
   ],
   "source": [
    "print(len(X1_train), len(X1_test))"
   ]
  },
  {
   "cell_type": "code",
   "execution_count": 12,
   "metadata": {},
   "outputs": [
    {
     "name": "stdout",
     "output_type": "stream",
     "text": [
      "979646 181546\n"
     ]
    }
   ],
   "source": [
    "print(len(X2_train), len(X2_test))"
   ]
  },
  {
   "cell_type": "code",
   "execution_count": 13,
   "metadata": {},
   "outputs": [
    {
     "name": "stdout",
     "output_type": "stream",
     "text": [
      "67046 16589\n"
     ]
    }
   ],
   "source": [
    "print(len(X3_train), len(X3_test))"
   ]
  },
  {
   "cell_type": "markdown",
   "metadata": {},
   "source": [
    "### Model 1"
   ]
  },
  {
   "cell_type": "code",
   "execution_count": 14,
   "metadata": {},
   "outputs": [
    {
     "name": "stdout",
     "output_type": "stream",
     "text": [
      "Training completed\n"
     ]
    }
   ],
   "source": [
    "from sklearn.linear_model import LogisticRegression\n",
    "from sklearn.feature_extraction import DictVectorizer\n",
    "from sklearn.pipeline import Pipeline\n",
    " \n",
    "clf = Pipeline([\n",
    "    ('vectorizer', DictVectorizer(sparse=False)),\n",
    "    ('classifier', LogisticRegression())\n",
    "])\n",
    " \n",
    "clf.fit(X1_train[:size], Y1_train[:size])\n",
    " \n",
    "print('Training completed')\n",
    "acc1_x1 = clf.score(X1_test, Y1_test)"
   ]
  },
  {
   "cell_type": "markdown",
   "metadata": {},
   "source": [
    "### Model 2"
   ]
  },
  {
   "cell_type": "code",
   "execution_count": 15,
   "metadata": {
    "collapsed": true
   },
   "outputs": [],
   "source": [
    "nltkTag = nltk.pos_tag_sents(X1_sents[splitX1:])"
   ]
  },
  {
   "cell_type": "markdown",
   "metadata": {},
   "source": [
    "flatten the ground trouth list, the predicted tags and compare"
   ]
  },
  {
   "cell_type": "code",
   "execution_count": 16,
   "metadata": {
    "collapsed": true
   },
   "outputs": [],
   "source": [
    "from itertools import chain\n",
    "import numpy as np\n",
    "acc2_x1 = np.mean(np.array([1 if a == b else 0 for a,b in zip([pair[1] for pair in chain.from_iterable(X1[splitX1:])], [pair[1] for pair in chain.from_iterable(nltkTag)])]))"
   ]
  },
  {
   "cell_type": "markdown",
   "metadata": {},
   "source": [
    "### Model(s) 3"
   ]
  },
  {
   "cell_type": "markdown",
   "metadata": {},
   "source": [
    "Rule-based POS taggers\n",
    "DefaultTagger that simply tags everything with the same tag\n",
    "\n",
    "RegexpTagger that applies tags according to a set of regular expressions\n",
    "\n",
    "N-Gram (n-gram tagger is a generalization of a unigram tagger whose context is the current word together with the part-of-speech tags of the n-1 preceding token); variations: UnigramTagger, BigramTagger, TrigramTagger"
   ]
  },
  {
   "cell_type": "code",
   "execution_count": 17,
   "metadata": {
    "collapsed": true
   },
   "outputs": [],
   "source": [
    "from nltk import DefaultTagger as df\n",
    "from nltk import UnigramTagger as ut\n",
    "from nltk import BigramTagger as bt\n",
    "from nltk import TrigramTagger as tg\n",
    "from nltk import RegexpTagger as rt\n",
    "\n",
    "patterns = [(r'.*ing$', 'VBG'), (r'.*ed$', 'VBD'), (r'.*es$', 'VBZ'), (r'.*ould$', 'MD'), (r'.*\\'s$', 'NN$'),               \n",
    "             (r'.*s$', 'NNS'), (r'^-?[0-9]+(.[0-9]+)?$', 'CD'), (r'.*', 'NN')]\n",
    "\n",
    "model3_def = df('NN')\n",
    "model3_uni = ut(X1[:splitX1])\n",
    "model3_bi = bt(X1[:splitX1])\n",
    "model3_tri = tg(X1[:splitX1])\n",
    "model3_regex = rt(patterns)"
   ]
  },
  {
   "cell_type": "code",
   "execution_count": 18,
   "metadata": {
    "collapsed": true
   },
   "outputs": [],
   "source": [
    "acc31_x1 = model3_def.evaluate(X1[splitX1:])\n",
    "acc32_x1 = model3_uni.evaluate(X1[splitX1:])\n",
    "acc33_x1 = model3_bi.evaluate(X1[splitX1:])\n",
    "acc34_x1 = model3_tri.evaluate(X1[splitX1:])\n",
    "acc35_x1 = model3_regex.evaluate(X1[splitX1:])"
   ]
  },
  {
   "cell_type": "markdown",
   "metadata": {},
   "source": [
    "Performance of model 1 trained on X1 when applied to X2"
   ]
  },
  {
   "cell_type": "code",
   "execution_count": 19,
   "metadata": {
    "collapsed": true
   },
   "outputs": [],
   "source": [
    "acc1_x2 = clf.score(X2_test, Y2_test)"
   ]
  },
  {
   "cell_type": "markdown",
   "metadata": {},
   "source": [
    "Retraining model 1 on X2 and then testing on X2"
   ]
  },
  {
   "cell_type": "code",
   "execution_count": 20,
   "metadata": {
    "collapsed": true
   },
   "outputs": [],
   "source": [
    "clf.fit(X2_train[:size], Y2_train[:size])\n",
    "acc1_x2_2 = clf.score(X2_test, Y2_test)"
   ]
  },
  {
   "cell_type": "markdown",
   "metadata": {},
   "source": [
    "Nlkt pretrained on X2"
   ]
  },
  {
   "cell_type": "code",
   "execution_count": 21,
   "metadata": {
    "collapsed": true
   },
   "outputs": [],
   "source": [
    "nltkTag2 = nltk.pos_tag_sents(X2_sents[splitX2:])"
   ]
  },
  {
   "cell_type": "code",
   "execution_count": 22,
   "metadata": {
    "collapsed": true
   },
   "outputs": [],
   "source": [
    "acc2_x2 = np.mean(np.array([1 if a == b else 0 for a,b in zip([pair[1] for pair in chain.from_iterable(X2[splitX2:])], [pair[1] for pair in chain.from_iterable(nltkTag2)])]))"
   ]
  },
  {
   "cell_type": "markdown",
   "metadata": {},
   "source": [
    "Rule-based taggers retrained and tested on X2"
   ]
  },
  {
   "cell_type": "code",
   "execution_count": 23,
   "metadata": {
    "collapsed": true
   },
   "outputs": [],
   "source": [
    "model3_def = df('NN')\n",
    "model3_uni_2 = ut(X2[:splitX2])\n",
    "model3_bi_2 = bt(X2[:splitX2])\n",
    "model3_tri_2 = tg(X2[:splitX2])\n",
    "model3_regex_2 = rt(patterns)"
   ]
  },
  {
   "cell_type": "code",
   "execution_count": 24,
   "metadata": {
    "collapsed": true
   },
   "outputs": [],
   "source": [
    "acc31_x2 = model3_def.evaluate(X2[splitX2:])\n",
    "acc32_x2 = model3_uni_2.evaluate(X2[splitX2:])\n",
    "acc33_x2 = model3_bi_2.evaluate(X2[splitX2:])\n",
    "acc34_x2 = model3_tri_2.evaluate(X2[splitX2:])\n",
    "acc35_x2 = model3_regex_2.evaluate(X2[splitX2:])"
   ]
  },
  {
   "cell_type": "markdown",
   "metadata": {},
   "source": [
    "### Visualizing the accuracies of different models"
   ]
  },
  {
   "cell_type": "code",
   "execution_count": 25,
   "metadata": {},
   "outputs": [
    {
     "data": {
      "image/png": "[encoded data removed]",
      "text/plain": [
       "<Figure size 1440x720 with 1 Axes>"
      ]
     },
     "metadata": {},
     "output_type": "display_data"
    }
   ],
   "source": [
    "import matplotlib.pyplot as plt\n",
    "\n",
    "data1 = [acc1_x1, acc2_x1, acc31_x1, acc32_x1, acc33_x1, acc34_x1, acc35_x1, acc1_x2, acc1_x2_2, acc2_x2, \n",
    "               acc31_x2, acc32_x2, acc33_x2, acc34_x2, acc35_x2]\n",
    "\n",
    "labels = [each.strip() for each in 'model 1 X1, model 2 X1, model 3.1 X1, model 3.2 X1, model 3.3 X1, model 3.4 X1, model 3.5 X1, model 1 X2 (trained on X1), model 1 X2 (retrained on X2), model 2 X2, model 3.1 X2, model 3.2 X2, model 3.3 X2, model 3.4 X2, model 3.5 X2'.split(',')]\n",
    "\n",
    "fig, ax = plt.subplots(figsize=(20, 10))\n",
    "\n",
    "plot1 = ax.barh(range(len(data1)), data1)\n",
    "ax.set_yticks(range(len(data1)))\n",
    "ax.set_yticklabels(labels)\n",
    "\n",
    "for i, v in enumerate(data1):\n",
    "    ax.text(v, i, str(round(v, 3)))\n",
    "\n",
    "plt.show()"
   ]
  },
  {
   "cell_type": "markdown",
   "metadata": {
    "collapsed": true
   },
   "source": [
    "### Task 2"
   ]
  },
  {
   "cell_type": "markdown",
   "metadata": {},
   "source": [
    "the pSCRDRtagger needs to be present in the working directory (all of this will be pushed to git anway but im mentioning just in case)"
   ]
  },
  {
   "cell_type": "markdown",
   "metadata": {},
   "source": [
    "needed to hack the RDR tagger to circumvent the fact that RDR is written for Python 2; only the scripts in this folder will work with this notebook"
   ]
  },
  {
   "cell_type": "markdown",
   "metadata": {},
   "source": [
    "### Model 4"
   ]
  },
  {
   "cell_type": "markdown",
   "metadata": {},
   "source": [
    "wont change a thing from the feature extraction to see how well it fares on a completely different language"
   ]
  },
  {
   "cell_type": "markdown",
   "metadata": {},
   "source": [
    "lets train on the whole corpus"
   ]
  },
  {
   "cell_type": "code",
   "execution_count": 26,
   "metadata": {},
   "outputs": [
    {
     "name": "stdout",
     "output_type": "stream",
     "text": [
      "Training completed\n"
     ]
    }
   ],
   "source": [
    "from sklearn.linear_model import LogisticRegression\n",
    "from sklearn.feature_extraction import DictVectorizer\n",
    "from sklearn.pipeline import Pipeline\n",
    " \n",
    "clf = Pipeline([\n",
    "    ('vectorizer', DictVectorizer(sparse=False)),\n",
    "    ('classifier', LogisticRegression())\n",
    "])\n",
    " \n",
    "# clf.fit(X3_train[:size], Y3_train[:size])\n",
    "clf.fit(X3_train, Y3_train)\n",
    " \n",
    "print('Training completed')\n",
    "acc4_x3 = clf.score(X3_test, Y3_test)"
   ]
  },
  {
   "cell_type": "code",
   "execution_count": 27,
   "metadata": {},
   "outputs": [
    {
     "name": "stdout",
     "output_type": "stream",
     "text": [
      "0.963228645488\n"
     ]
    }
   ],
   "source": [
    "print(acc4_x3)"
   ]
  },
  {
   "cell_type": "markdown",
   "metadata": {},
   "source": [
    "### Model 5"
   ]
  },
  {
   "cell_type": "code",
   "execution_count": 28,
   "metadata": {},
   "outputs": [],
   "source": [
    "from pSCRDRtagger.RDRPOSTagger import RDRPOSTagger"
   ]
  },
  {
   "cell_type": "code",
   "execution_count": 29,
   "metadata": {},
   "outputs": [],
   "source": [
    "preTrainedRDR = RDRPOSTagger()"
   ]
  },
  {
   "cell_type": "code",
   "execution_count": 30,
   "metadata": {},
   "outputs": [],
   "source": [
    "try:\n",
    "    preTrainedRDR.constructSCRDRtreeFromRDRfile(r'hr-upos.RDR')\n",
    "except NameError:\n",
    "    xrange = range\n",
    "    preTrainedRDR.constructSCRDRtreeFromRDRfile(r'hr-upos.RDR')"
   ]
  },
  {
   "cell_type": "code",
   "execution_count": 31,
   "metadata": {},
   "outputs": [],
   "source": [
    "from pSCRDRtagger.Utils import readDictionary"
   ]
  },
  {
   "cell_type": "code",
   "execution_count": 32,
   "metadata": {},
   "outputs": [],
   "source": [
    "DICT = readDictionary(r'hr-upos.DICT')"
   ]
  },
  {
   "cell_type": "markdown",
   "metadata": {},
   "source": [
    "lets get tagging finally"
   ]
  },
  {
   "cell_type": "code",
   "execution_count": 33,
   "metadata": {},
   "outputs": [
    {
     "name": "stdout",
     "output_type": "stream",
     "text": [
      "167\n",
      "752\n"
     ]
    }
   ],
   "source": [
    "#prediction based on the pretrained RDR POS tagger on a Croatian language corpus\n",
    "#the RDR is unstable and has sporadic errors in some sentences which seem perfectly normal to me; I will exclude those from \n",
    "#testing the performance of both models\n",
    "\n",
    "totalPredictedTags = list()\n",
    "errorSentences = list()\n",
    "for i, sent in enumerate(X3_sents[splitX3:]):\n",
    "    try:\n",
    "        tempTaggedSent = preTrainedRDR.tagRawSentence(DICT, ' '.join([str(word) for word in sent]))\n",
    "    except:\n",
    "        errorSentences.append(i)\n",
    "        continue\n",
    "    tags = [pair.split('/')[1] for pair in tempTaggedSent.split(' ')]\n",
    "    totalPredictedTags.extend(tags)\n",
    "\n",
    "print(len(errorSentences))\n",
    "print(len(X3_sents[splitX3:]))\n",
    "#its not too bad"
   ]
  },
  {
   "cell_type": "markdown",
   "metadata": {},
   "source": [
    "compare to true tags"
   ]
  },
  {
   "cell_type": "code",
   "execution_count": 34,
   "metadata": {},
   "outputs": [],
   "source": [
    "from itertools import chain\n",
    "import numpy as np\n",
    "\n",
    "sentencesToBeCompared = [sent for i, sent in enumerate(X3[splitX3:]) if i not in errorSentences]\n",
    "tagsTrue = [tag for word, tag in chain.from_iterable(sentencesToBeCompared)]\n",
    "\n",
    "acc5_x3 = np.mean(np.array([1 if predicted == true else 0 for predicted,true in zip(totalPredictedTags, tagsTrue)]))"
   ]
  },
  {
   "cell_type": "markdown",
   "metadata": {},
   "source": [
    "### Visualize"
   ]
  },
  {
   "cell_type": "code",
   "execution_count": 35,
   "metadata": {},
   "outputs": [
    {
     "data": {
      "image/png": "[encoded data removed]",
      "text/plain": [
       "<Figure size 1440x720 with 1 Axes>"
      ]
     },
     "metadata": {},
     "output_type": "display_data"
    }
   ],
   "source": [
    "import matplotlib.pyplot as plt\n",
    "\n",
    "data2 = [acc4_x3, acc5_x3]\n",
    "\n",
    "labels = [each.strip() for each in 'model 4 X3 (Custom), model 5 X3 (RDR)'.split(',')]\n",
    "\n",
    "fig, ax = plt.subplots(figsize=(20, 10))\n",
    "\n",
    "plot1 = ax.barh(range(len(data2)), data2)\n",
    "ax.set_yticks(range(len(data2)))\n",
    "ax.set_yticklabels(labels)\n",
    "\n",
    "for i, v in enumerate(data2):\n",
    "    ax.text(v, i, str(round(v, 3)))\n",
    "\n",
    "plt.show()"
   ]
  }
 ],
 "metadata": {
  "kernelspec": {
   "display_name": "Python 3",
   "language": "python",
   "name": "python3"
  },
  "language_info": {
   "codemirror_mode": {
    "name": "ipython",
    "version": 3
   },
   "file_extension": ".py",
   "mimetype": "text/x-python",
   "name": "python",
   "nbconvert_exporter": "python",
   "pygments_lexer": "ipython3",
   "version": "3.6.4"
  }
 },
 "nbformat": 4,
 "nbformat_minor": 2
}
