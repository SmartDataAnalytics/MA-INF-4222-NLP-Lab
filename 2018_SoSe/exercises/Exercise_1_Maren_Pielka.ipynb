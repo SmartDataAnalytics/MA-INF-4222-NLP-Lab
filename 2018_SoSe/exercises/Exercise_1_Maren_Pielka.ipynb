{
 "cells": [
  {
   "cell_type": "markdown",
   "metadata": {},
   "source": [
    "<h2>Exercise 1 for NLP Lab: POS taggers</h2>"
   ]
  },
  {
   "cell_type": "markdown",
   "metadata": {},
   "source": [
    "<h3>Task 1: Train and evaluate different POS taggers on the English treebank and brown corpora</h3>"
   ]
  },
  {
   "cell_type": "markdown",
   "metadata": {},
   "source": [
    "<h4>Import corpora and classifiers</h4>"
   ]
  },
  {
   "cell_type": "code",
   "execution_count": 29,
   "metadata": {},
   "outputs": [],
   "source": [
    "import nltk\n",
    "from nltk import word_tokenize, pos_tag\n",
    "\n",
    "from nltk.corpus import brown\n",
    "from nltk import DefaultTagger as df\n",
    "from nltk import UnigramTagger as ut\n",
    "from nltk import BigramTagger as bt\n",
    "from nltk import TrigramTagger as tg\n",
    "\n",
    "from sklearn.linear_model import LogisticRegression\n",
    "from sklearn.feature_extraction import DictVectorizer\n",
    "from sklearn.pipeline import Pipeline"
   ]
  },
  {
   "cell_type": "code",
   "execution_count": 3,
   "metadata": {},
   "outputs": [],
   "source": [
    "performances = { 'performancesTreebank': {}, 'performancesBrown': {} }"
   ]
  },
  {
   "cell_type": "markdown",
   "metadata": {},
   "source": [
    "<h4>Feature extraction (for training classifiers)</h4>"
   ]
  },
  {
   "cell_type": "code",
   "execution_count": 30,
   "metadata": {},
   "outputs": [],
   "source": [
    "def features(sentence, index):\n",
    "    return {\n",
    "        'word': sentence[index],\n",
    "        'is_capitalized': sentence[index][0].upper() == sentence[index][0],\n",
    "        'prefix-1': sentence[index][0],\n",
    "        'prefix-2': '' if len(sentence[index]) == 1 else sentence[index][1],\n",
    "        'prefix-3': '' if len(sentence[index]) <= 2 else sentence[index][2],\n",
    "        'suffix-1': sentence[index][-1],\n",
    "        'suffix-2': '' if len(sentence[index]) == 1 else sentence[index][-2],\n",
    "        'suffix-3': '' if len(sentence[index])<= 2 else sentence[index][-3],\n",
    "        'prev_word': '' if index == 0 else sentence[index - 1],\n",
    "        'next_word': '' if index == len(sentence) - 1 else sentence[index + 1],\n",
    "        'length': len(sentence[index]),\n",
    "        'index_in_sentence': index,\n",
    "    }\n",
    "import pprint \n",
    "#pprint.pprint(features(['This', 'is', 'a', 'sentence'], 1))"
   ]
  },
  {
   "cell_type": "markdown",
   "metadata": {},
   "source": [
    "<h4>Make a dataset from the treebank corpus</h4>"
   ]
  },
  {
   "cell_type": "code",
   "execution_count": 31,
   "metadata": {},
   "outputs": [],
   "source": [
    "def untag(tagged_sentence):\n",
    "    return [w for w, t in tagged_sentence]\n",
    "\n",
    "annotated_sent = nltk.corpus.treebank.tagged_sents()\n",
    "untagged_sentences = nltk.corpus.treebank.sents()\n",
    "cutoff = int(.75 * len(annotated_sent))\n",
    "training_sentences = annotated_sent[:cutoff]\n",
    "test_sentences = annotated_sent[cutoff:]\n",
    "training_sentences_untagged = untagged_sentences[:cutoff]\n",
    "test_sentences_untagged = untagged_sentences[cutoff:]\n",
    " \n",
    "def transform_to_dataset(tagged_sentences):\n",
    "    X, y = [], []\n",
    "    for tagged in tagged_sentences:\n",
    "        for index in range(len(tagged)):\n",
    "            X.append(features(untag(tagged), index))\n",
    "            y.append(tagged[index][1])\n",
    " \n",
    "    return X, y"
   ]
  },
  {
   "cell_type": "markdown",
   "metadata": {},
   "source": [
    "<h4>Task 1.1: Train classifier with the extracted features on the treebank corpus</h4>"
   ]
  },
  {
   "cell_type": "code",
   "execution_count": 6,
   "metadata": {},
   "outputs": [
    {
     "name": "stdout",
     "output_type": "stream",
     "text": [
      "training OK\n"
     ]
    }
   ],
   "source": [
    "size=10000\n",
    "\n",
    "X, y = transform_to_dataset(training_sentences)\n",
    "\n",
    "clf = Pipeline([\n",
    "    ('vectorizer', DictVectorizer(sparse=False)),\n",
    "    ('classifier', LogisticRegression())\n",
    "])\n",
    "clf.fit(X[:size], y[:size])\n",
    " \n",
    "print('training OK')\n",
    " \n",
    "X_test, y_test = transform_to_dataset(test_sentences)\n",
    "performances['performancesTreebank'].update({'Classifier': clf.score(X_test, y_test)})"
   ]
  },
  {
   "cell_type": "markdown",
   "metadata": {},
   "source": [
    "<h4>Task 1.2: Use the NLTK POS tagger on the treebank corpus</h4>"
   ]
  },
  {
   "cell_type": "code",
   "execution_count": 8,
   "metadata": {},
   "outputs": [],
   "source": [
    "# use the whole dataset for the pre-trained nltk pos tagger\n",
    "X_complete, y_complete = transform_to_dataset(annotated_sent)\n",
    "nltk_tags = []\n",
    "size = 1000\n",
    "for sentence in untagged_sentences[:size]:\n",
    "    sentence_tags = nltk.pos_tag(sentence)\n",
    "    for word in range(len(sentence)):\n",
    "        nltk_tags.append(sentence_tags[word][1])\n",
    "        \n",
    "# evaluate accuracy\n",
    "tp = 0\n",
    "for i in range(len(nltk_tags)):\n",
    "    if y_complete[i] == nltk_tags[i]:\n",
    "        tp += 1\n",
    "performances['performancesTreebank'].update({'NLTK POS Tagger': (tp / len(nltk_tags))})"
   ]
  },
  {
   "cell_type": "markdown",
   "metadata": {},
   "source": [
    "<h4>Task 1.3: Use the rule-based classifiers on the treebank corpus</h4>"
   ]
  },
  {
   "cell_type": "code",
   "execution_count": 9,
   "metadata": {},
   "outputs": [],
   "source": [
    "patterns = [(r'.*ing$', 'VBG'), (r'.*ed$', 'VBD'), (r'.*es$', 'VBZ'), (r'.*ould$', 'MD'), (r'.*\\'s$', 'NN$'),               \n",
    "             (r'.*s$', 'NNS'), (r'^-?[0-9]+(.[0-9]+)?$', 'CD'), (r'.*', 'NN')]\n",
    "\n",
    "def_model = nltk.DefaultTagger('NN')\n",
    "uni_model = nltk.UnigramTagger(training_sentences)\n",
    "bi_model = nltk.BigramTagger(training_sentences)\n",
    "tri_model = nltk.TrigramTagger(training_sentences)\n",
    "regexp_model = nltk.RegexpTagger(patterns)\n",
    "\n",
    "# performance of Default Tagger\n",
    "performances['performancesTreebank'].update({'Default Tagger': def_model.evaluate(test_sentences)})\n",
    "\n",
    "# performance of Unigram Tagger\n",
    "performances['performancesTreebank'].update({'Unigram Tagger': uni_model.evaluate(test_sentences)})\n",
    "\n",
    "# performance of Bigram Tagger\n",
    "performances['performancesTreebank'].update({'Bigram Tagger': bi_model.evaluate(test_sentences)})\n",
    "\n",
    "# performance of Trigram Tagger\n",
    "performances['performancesTreebank'].update({'Trigram Tagger': tri_model.evaluate(test_sentences)})\n",
    "\n",
    "# performance of Regex Tagger\n",
    "performances['performancesTreebank'].update({'Regexp Tagger': regexp_model.evaluate(test_sentences)})"
   ]
  },
  {
   "cell_type": "markdown",
   "metadata": {},
   "source": [
    "<h4>Task 1.4: Train classifier with the extracted features on the brown corpus</h4>"
   ]
  },
  {
   "cell_type": "code",
   "execution_count": 10,
   "metadata": {},
   "outputs": [],
   "source": [
    "brown_tagged_sents = brown.tagged_sents(categories='news')\n",
    "brown_sents = brown.sents(categories='news')\n",
    "\n",
    "size = int(len(brown_tagged_sents) * 0.9)\n",
    "\n",
    "training_sentences = brown_tagged_sents[:size]\n",
    "test_sentences = brown_tagged_sents[size:]"
   ]
  },
  {
   "cell_type": "code",
   "execution_count": 11,
   "metadata": {},
   "outputs": [
    {
     "name": "stdout",
     "output_type": "stream",
     "text": [
      "training OK\n"
     ]
    }
   ],
   "source": [
    "size=10000\n",
    "\n",
    "X, y = transform_to_dataset(training_sentences)\n",
    "\n",
    "clf = Pipeline([\n",
    "    ('vectorizer', DictVectorizer(sparse=False)),\n",
    "    ('classifier', LogisticRegression())\n",
    "])\n",
    "clf.fit(X[:size], y[:size])\n",
    " \n",
    "print('training OK')\n",
    " \n",
    "X_test, y_test = transform_to_dataset(test_sentences)\n",
    "performances['performancesBrown'].update({'Classifier': clf.score(X_test, y_test)})"
   ]
  },
  {
   "cell_type": "markdown",
   "metadata": {},
   "source": [
    "<h4>Task 1.5: Use the NLTK POS tagger on the brown corpus</h4>"
   ]
  },
  {
   "cell_type": "code",
   "execution_count": 12,
   "metadata": {},
   "outputs": [],
   "source": [
    "# use the whole dataset for the pre-trained nltk pos tagger\n",
    "X_complete, y_complete = transform_to_dataset(brown_tagged_sents)\n",
    "nltk_tags = []\n",
    "size = 1000\n",
    "for sentence in brown_sents[:size]:\n",
    "    sentence_tags = nltk.pos_tag(sentence)\n",
    "    for word in range(len(sentence)):\n",
    "        nltk_tags.append(sentence_tags[word][1])\n",
    "        \n",
    "# evaluate accuracy\n",
    "tp = 0\n",
    "for i in range(len(nltk_tags)):\n",
    "    if y_complete[i] == nltk_tags[i]:\n",
    "        tp += 1\n",
    "performances['performancesBrown'].update({'NLTK POS Tagger': (tp / len(nltk_tags))})"
   ]
  },
  {
   "cell_type": "markdown",
   "metadata": {},
   "source": [
    "<h4>Task 1.6: Use the rule-based classifiers on the brown corpus</h4>"
   ]
  },
  {
   "cell_type": "code",
   "execution_count": 13,
   "metadata": {},
   "outputs": [],
   "source": [
    "patterns = [(r'.*ing$', 'VBG'), (r'.*ed$', 'VBD'), (r'.*es$', 'VBZ'), (r'.*ould$', 'MD'), (r'.*\\'s$', 'NN$'),               \n",
    "             (r'.*s$', 'NNS'), (r'^-?[0-9]+(.[0-9]+)?$', 'CD'), (r'.*', 'NN')]\n",
    "\n",
    "def_model = nltk.DefaultTagger('NN')\n",
    "uni_model = nltk.UnigramTagger(training_sentences)\n",
    "bi_model = nltk.BigramTagger(training_sentences)\n",
    "tri_model = nltk.TrigramTagger(training_sentences)\n",
    "regexp_model = nltk.RegexpTagger(patterns)\n",
    "\n",
    "# performance of Default Tagger\n",
    "performances['performancesBrown'].update({'Default Tagger': def_model.evaluate(test_sentences)})\n",
    "\n",
    "# performance of Unigram Tagger\n",
    "performances['performancesBrown'].update({'Unigram Tagger': uni_model.evaluate(test_sentences)})\n",
    "\n",
    "# performance of Bigram Tagger\n",
    "performances['performancesBrown'].update({'Bigram Tagger': bi_model.evaluate(test_sentences)})\n",
    "\n",
    "# performance of Trigram Tagger\n",
    "performances['performancesBrown'].update({'Trigram Tagger': tri_model.evaluate(test_sentences)})\n",
    "\n",
    "# performance of Regex Tagger\n",
    "performances['performancesBrown'].update({'Regexp Tagger': regexp_model.evaluate(test_sentences)})"
   ]
  },
  {
   "cell_type": "markdown",
   "metadata": {},
   "source": [
    "<h4>Plotting the results</h4>"
   ]
  },
  {
   "cell_type": "code",
   "execution_count": 15,
   "metadata": {},
   "outputs": [
    {
     "data": {
      "image/png": "[encoded data removed]",
      "text/plain": [
       "<matplotlib.figure.Figure at 0x20ba9668>"
      ]
     },
     "metadata": {},
     "output_type": "display_data"
    }
   ],
   "source": [
    "import matplotlib.pyplot as plt; plt.rcdefaults()\n",
    "import matplotlib.pyplot as plt\n",
    "import numpy as np\n",
    "\n",
    "# data to plot\n",
    "n_groups = 7\n",
    "performances_treebank = list(performances['performancesTreebank'].values())\n",
    "performances_brown = list(performances['performancesBrown'].values())\n",
    " \n",
    "# create plot\n",
    "fig, ax = plt.subplots(figsize=(20, 10))\n",
    "index = np.arange(n_groups)\n",
    "bar_width = 0.35\n",
    "opacity = 0.8\n",
    " \n",
    "rects1 = plt.bar(index, performances_treebank, bar_width,\n",
    "                 alpha=opacity,\n",
    "                 color='b',\n",
    "                 label='Treebank Corpus')\n",
    " \n",
    "rects2 = plt.bar(index + bar_width, performances_brown, bar_width,\n",
    "                 alpha=opacity,\n",
    "                 color='g',\n",
    "                 label='Brown Corpus')\n",
    " \n",
    "plt.ylabel('Accuracy', fontsize=20)\n",
    "plt.title('Results for task 1', fontsize=20)\n",
    "plt.xticks(index + bar_width, list(performances['performancesTreebank'].keys()), fontsize=14)\n",
    "plt.legend(prop={'size': 20})\n",
    "\n",
    "plt.show()"
   ]
  },
  {
   "cell_type": "markdown",
   "metadata": {},
   "source": [
    "<h3>Task 2: Train and evaluate POS taggers on a different language</h3>"
   ]
  },
  {
   "cell_type": "markdown",
   "metadata": {},
   "source": [
    "<h4>Import the Dutch alpino corpus, extract features and build dataset</h4>"
   ]
  },
  {
   "cell_type": "code",
   "execution_count": 58,
   "metadata": {},
   "outputs": [],
   "source": [
    "from nltk.corpus import alpino\n",
    "\n",
    "tagged_sentences = alpino.tagged_sents()\n",
    "untagged_sentences = alpino.sents()\n",
    "cutoff = int(.75 * len(tagged_sentences))\n",
    "training_sentences = tagged_sentences[:cutoff]\n",
    "test_sentences = tagged_sentences[cutoff:]\n",
    "training_sentences_untagged = untagged_sentences[:cutoff]\n",
    "test_sentences_untagged = untagged_sentences[cutoff:]\n",
    "\n",
    "performancesAlpino = {}"
   ]
  },
  {
   "cell_type": "markdown",
   "metadata": {},
   "source": [
    "<h4>Task 2.1: Train classifier on the extracted features</h4>"
   ]
  },
  {
   "cell_type": "code",
   "execution_count": 59,
   "metadata": {},
   "outputs": [
    {
     "name": "stdout",
     "output_type": "stream",
     "text": [
      "training OK\n"
     ]
    }
   ],
   "source": [
    "size=10000\n",
    "\n",
    "X, y = transform_to_dataset(training_sentences)\n",
    "\n",
    "clf = Pipeline([\n",
    "    ('vectorizer', DictVectorizer(sparse=False)),\n",
    "    ('classifier', LogisticRegression())\n",
    "])\n",
    "clf.fit(X[:size], y[:size])\n",
    " \n",
    "print('training OK')\n",
    " \n",
    "X_test, y_test = transform_to_dataset(test_sentences)\n",
    "performancesAlpino.update({'Classifier': clf.score(X_test, y_test)})"
   ]
  },
  {
   "cell_type": "markdown",
   "metadata": {},
   "source": [
    "<h4>Task 2.2: Use the Spacy POS Tagger on the alpino corpus</h5>"
   ]
  },
  {
   "cell_type": "code",
   "execution_count": 60,
   "metadata": {},
   "outputs": [
    {
     "name": "stdout",
     "output_type": "stream",
     "text": [
      "{'Classifier': 0.8535802327581264, 'Spacy POS Tagger': 0.12924868038083961}\n"
     ]
    }
   ],
   "source": [
    "# I used spacy because TreeTagger and RDRPOSTagger did not work for me\n",
    "import spacy\n",
    "import numpy as np\n",
    "\n",
    "nlp = spacy.load('nl')\n",
    "\n",
    "X_complete, y_complete = transform_to_dataset(tagged_sentences)\n",
    "\n",
    "# mapping from spacy tags to nltk tags\n",
    "def tag_mapping(spacy_tag):\n",
    "    if spacy_tag == 'n':\n",
    "        return 'noun'\n",
    "    elif spacy_tag == 'v':\n",
    "        return 'verb'\n",
    "    elif spacy_tag == 'punc':\n",
    "        return 'punct'\n",
    "    elif spacy_tag == 'art':\n",
    "        return 'det'\n",
    "    elif 'prep' in spacy_tag:\n",
    "        return 'prep'\n",
    "    elif 'num' in spacy_tag:\n",
    "        return 'num'\n",
    "    elif 'adj' in spacy_tag:\n",
    "        return 'adj'\n",
    "    elif 'adv' in spacy_tag:\n",
    "        return 'adv'\n",
    "    elif 'pron' in spacy_tag:\n",
    "        return 'pron'\n",
    "    elif 'conj' in spacy_tag:\n",
    "        return 'conj'\n",
    "    elif 'cmp' in spacy_tag:\n",
    "        return 'comp'\n",
    "    elif 'propn' in spacy_tag:\n",
    "        return 'pp'\n",
    "    else:\n",
    "        return spacy_tag\n",
    "\n",
    "tags = []\n",
    "for sentence in untagged_sentences[:1000]:\n",
    "    tokens = nlp(' '.join(sentence))\n",
    "    for token in tokens:\n",
    "        preprocessed_token = (token.tag_).split('|')[0].lower()\n",
    "        converted_token = tag_mapping(preprocessed_token)\n",
    "        tags.append(converted_token)\n",
    "\n",
    "# evaluate accuracy\n",
    "tp = 0\n",
    "for i in range(len(tags)):\n",
    "    if y_complete[i] == tags[i]:\n",
    "        tp += 1\n",
    "performancesAlpino.update({'Spacy POS Tagger': (tp / len(tags))})\n",
    "print(performancesAlpino)"
   ]
  },
  {
   "cell_type": "markdown",
   "metadata": {},
   "source": [
    "<h4>Plot the results</h4>"
   ]
  },
  {
   "cell_type": "code",
   "execution_count": 70,
   "metadata": {},
   "outputs": [
    {
     "data": {
      "image/png": "[encoded data removed]",
      "text/plain": [
       "<matplotlib.figure.Figure at 0x194b5ba8>"
      ]
     },
     "metadata": {},
     "output_type": "display_data"
    }
   ],
   "source": [
    "import matplotlib.pyplot as plt; plt.rcdefaults()\n",
    "import matplotlib.pyplot as plt\n",
    "import numpy as np\n",
    "\n",
    "# data to plot\n",
    "performances = list(performancesAlpino.values())\n",
    " \n",
    "# create plot\n",
    "index = np.arange(2)\n",
    "bar_width = 0.35\n",
    "opacity = 0.8\n",
    " \n",
    "plt.bar(index, performances, bar_width,\n",
    "    alpha=opacity,\n",
    "    color='b',\n",
    "    label='Alpino Corpus')\n",
    " \n",
    "plt.ylabel('Accuracy', fontsize=20)\n",
    "plt.title('Results for task 2', fontsize=20)\n",
    "plt.xticks(index, list(performancesAlpino.keys()), fontsize=14)\n",
    "plt.legend(prop={'size': 20})\n",
    "\n",
    "plt.show()"
   ]
  },
  {
   "cell_type": "code",
   "execution_count": null,
   "metadata": {},
   "outputs": [],
   "source": []
  }
 ],
 "metadata": {
  "kernelspec": {
   "display_name": "Python 3",
   "language": "python",
   "name": "python3"
  }
 },
 "nbformat": 4,
 "nbformat_minor": 2
}
