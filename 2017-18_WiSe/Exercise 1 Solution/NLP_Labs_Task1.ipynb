{
 "cells": [
  {
   "cell_type": "markdown",
   "metadata": {},
   "source": [
    "# Welcome to NLP Labs WiSe 17-18"
   ]
  },
  {
   "cell_type": "code",
   "execution_count": 1,
   "metadata": {
    "collapsed": true
   },
   "outputs": [],
   "source": [
    "## Environment configuration"
   ]
  },
  {
   "cell_type": "markdown",
   "metadata": {},
   "source": [
    "1. Python\n",
    "2. NLTK http://www.nltk.org/install.html\n",
    "3. Jupyter https://jupyter.org/ \n",
    "4. Anaconda https://www.anaconda.com/download\n",
    "\n",
    "use symbols to express math: $$y = x^2$$"
   ]
  },
  {
   "cell_type": "markdown",
   "metadata": {},
   "source": [
    "# Saad Khan  Matrk Nummer - 3010290"
   ]
  },
  {
   "cell_type": "code",
   "execution_count": null,
   "metadata": {
    "collapsed": true
   },
   "outputs": [],
   "source": [
    "import nltk\n",
    "from nltk import word_tokenize, pos_tag\n",
    "\n",
    "# maybe you need to download NLTK data\n",
    "#nltk.download('all')\n",
    "#nltk.download('punkt')\n",
    "#nltk.download('averaged_perceptron_tagger')"
   ]
  },
  {
   "cell_type": "code",
   "execution_count": null,
   "metadata": {
    "collapsed": true
   },
   "outputs": [],
   "source": [
    "tokens = word_tokenize(\"Hello world, lets do something awesome today!\")"
   ]
  },
  {
   "cell_type": "code",
   "execution_count": null,
   "metadata": {
    "collapsed": true,
    "scrolled": true
   },
   "outputs": [],
   "source": [
    "print(pos_tag(tokens))"
   ]
  },
  {
   "cell_type": "markdown",
   "metadata": {},
   "source": [
    "## Loading Penn TreeBank (PTB) X1 & Tiger Corpus X2"
   ]
  },
  {
   "cell_type": "code",
   "execution_count": null,
   "metadata": {
    "collapsed": true
   },
   "outputs": [],
   "source": [
    "#nltk.download('treebank')\n",
    "\n",
    "annotated_sent = nltk.corpus.treebank.tagged_sents()\n",
    "print(annotated_sent[0])\n",
    "print(\"Tagged sentences: \", len(annotated_sent))\n",
    "print(\"Tagged words:\", len(nltk.corpus.treebank.tagged_words()))\n",
    "#1 for English, 2 for German\n",
    "#seperation(annotated_sent)\n",
    "# tagsets\n",
    "#nltk.download('tagsets')\n",
    "#print(nltk.help.upenn_tagset())\n",
    "\n",
    "#loading german corpus \n",
    "corp = nltk.corpus.ConllCorpusReader('.', 'tiger_release_aug07.corrected.16012013.conll09',\n",
    "                                     ['ignore', 'words', 'ignore', 'ignore', 'pos'],\n",
    "                                     encoding='utf-8')\n",
    "german_tagged_sents = corp.tagged_sents()\n",
    "#seperation(german_tagged_sents)\n",
    "print(\"German Tagged sentences: \", len(german_tagged_sents))"
   ]
  },
  {
   "cell_type": "code",
   "execution_count": null,
   "metadata": {
    "collapsed": true
   },
   "outputs": [],
   "source": []
  },
  {
   "cell_type": "markdown",
   "metadata": {},
   "source": [
    "## Training"
   ]
  },
  {
   "cell_type": "code",
   "execution_count": null,
   "metadata": {
    "collapsed": true
   },
   "outputs": [],
   "source": [
    "# TODO: improve this feature extraction function\n",
    "    \n",
    "def features(sentence, index):\n",
    "    return {\n",
    "        'word': sentence[index],\n",
    "        'is_capitalized': sentence[index][0].upper() == sentence[index][0],\n",
    "        'prefix-1': sentence[index][0],\n",
    "        'suffix-1': sentence[index][-1],\n",
    "        'prev_word': '' if index == 0 else sentence[index - 1],\n",
    "        'next_word': '' if index == len(sentence) - 1 else sentence[index + 1]\n",
    "    }\n",
    "def improved_features(sentence, index):\n",
    "    return {\n",
    "        'word': sentence[index],\n",
    "        'is_capitalized': sentence[index][0].upper() == sentence[index][0],\n",
    "        'prefix-1': sentence[index][0],\n",
    "        'prefix-2': sentence[index][:2],\n",
    "        'prefix-3': sentence[index][:3],\n",
    "        'suffix-1': sentence[index][-1],\n",
    "        'suffix-2': sentence[index][-2:],\n",
    "        'prev_word': '' if index == 0 else sentence[index - 1],\n",
    "        'next_word': '' if index == len(sentence) - 1 else sentence[index + 1],\n",
    "        'is_first': index == 0,\n",
    "        'is_last': index == len(sentence) - 1,\n",
    "        'is_all_caps': sentence[index].upper() == sentence[index],\n",
    "        'is_all_lower': sentence[index].lower() == sentence[index],\n",
    "        'suffix-3': sentence[index][-3:],\n",
    "        'has_hyphen': '-' in sentence[index],\n",
    "        'is_numeric': sentence[index].isdigit(),\n",
    "        'capitals_inside': sentence[index][1:].lower() != sentence[index][1:],\n",
    "        #'is_punctuation_mark' : '!' or '?' or '.' or ';' in sentence[index]\n",
    "    }\n",
    "import pprint \n",
    "pprint.pprint(features(['This', 'is', 'a', 'sentence'], 2))\n",
    "#print()\n",
    "#\n",
    "pprint.pprint(improved_features(['This', 'is', 'a', 'sentence'], 2))"
   ]
  },
  {
   "cell_type": "code",
   "execution_count": null,
   "metadata": {
    "collapsed": true
   },
   "outputs": [],
   "source": [
    "def untag(tagged_sentence):\n",
    "    return [w for w, t in tagged_sentence]"
   ]
  },
  {
   "cell_type": "code",
   "execution_count": null,
   "metadata": {
    "collapsed": true
   },
   "outputs": [],
   "source": [
    "def seperation(annotated_sent):\n",
    "    cutoff = int(.80 * len(annotated_sent))\n",
    "    training_sentences = annotated_sent[:cutoff]\n",
    "    test_sentences = annotated_sent[cutoff:]\n",
    " \n",
    "    #print(len(training_sentences))\n",
    "    #print(len(test_sentences))\n",
    "    return training_sentences,test_sentences\n"
   ]
  },
  {
   "cell_type": "code",
   "execution_count": null,
   "metadata": {
    "collapsed": true
   },
   "outputs": [],
   "source": []
  },
  {
   "cell_type": "markdown",
   "metadata": {},
   "source": [
    "# Implementing a classifier"
   ]
  },
  {
   "cell_type": "code",
   "execution_count": null,
   "metadata": {
    "collapsed": true,
    "scrolled": true
   },
   "outputs": [],
   "source": [
    "from sklearn.tree import DecisionTreeClassifier\n",
    "from sklearn.ensemble import RandomForestClassifier\n",
    "from nltk.classify import MaxentClassifier\n",
    "from sklearn.feature_extraction import DictVectorizer\n",
    "from sklearn.pipeline import Pipeline\n",
    "import pickle\n",
    "\n",
    "def english_models():\n",
    "    size=10000\n",
    "    # training RandomForestClassifier\n",
    "    model1 = Pipeline([\n",
    "        ('vectorizer', DictVectorizer(sparse=False)),\n",
    "        ('classifier', RandomForestClassifier())\n",
    "    ])\n",
    "    \n",
    "    model1.fit(X[:size], y[:size]) \n",
    "   \n",
    "    print(\"Accuracy of RForest - English:\", scores[0]) #model 1 score\n",
    "\n",
    "    #Training DT Classifier both classifiers using same dataset\n",
    "    clf = Pipeline([\n",
    "        ('vectorizer', DictVectorizer(sparse=False)),\n",
    "        ('classifier', DecisionTreeClassifier(criterion= 'entropy'))\n",
    "    ])\n",
    "    clf.fit(X[:size], y[:size])\n",
    "\n",
    "    print('training Da Done')\n",
    "\n",
    "    #X_test, y_test = transform_to_dataset(test_sentences)\n",
    "\n",
    "    print(\"Accuracy of DT - English:\", clf.score(X_test, y_test))\n",
    "\n",
    "    #Saving model to disk\n",
    "    pickle.dump(clf, open('DT_model.sav', 'wb'))\n",
    "    pickle.dump(model1, open('model1.sav', 'wb'))\n",
    "    \n",
    "    #Maxent Classifier\n",
    "    \n",
    "    #algorithm = nltk.classify.MaxentClassifier.ALGORITHMS[0]\n",
    "    #maxent_clf = nltk.MaxentClassifier.train(X, algorithm,max_iter=3)\n",
    "    #maxent_clf.show_most_informative_features(10)\n",
    "    return clf,model1\n"
   ]
  },
  {
   "cell_type": "code",
   "execution_count": null,
   "metadata": {
    "collapsed": true
   },
   "outputs": [],
   "source": [
    "def german_model():\n",
    "    size=10000\n",
    "    test_size = 1000\n",
    "    \n",
    "    # training RandomForestClassifier\n",
    "    model4 = Pipeline([\n",
    "        ('vectorizer', DictVectorizer(sparse=False)),\n",
    "        ('classifier', DecisionTreeClassifier(criterion= 'entropy'))\n",
    "    ])\n",
    "   #print('Length of G test ', len(G_test_sentences))\n",
    "    model4.fit(G_x[:size], G_y[:size]) \n",
    "    # X_test, y_test = transform_to_dataset(G_test_sentences[:test_size])\n",
    "    #m4score = model4.score(X_test, y_test)\n",
    "    #print(\"Accuracy of DT - German:\", m4score) #model 4 score\n",
    "    pickle.dump(model4, open('model4.sav', 'wb'))\n",
    "    return model4"
   ]
  },
  {
   "cell_type": "code",
   "execution_count": 64,
   "metadata": {},
   "outputs": [
    {
     "name": "stdout",
     "output_type": "stream",
     "text": [
      "40377\n",
      "Accuracy of RForest - English: 0.877239383203\n",
      "training Da Done\n",
      "Accuracy of DT - English: 0.881531014522\n",
      "Accuracy of DT - German: 0.833909574468\n",
      "\n"
     ]
    }
   ],
   "source": [
    "def transform_to_dataset(tagged_sentences):\n",
    "    X, y = [], []\n",
    "    for tagged in tagged_sentences:\n",
    "        for index in range(len(tagged)):\n",
    "            X.append(features(untag(tagged), index))\n",
    "            y.append(tagged[index][1])\n",
    " \n",
    "    return X, y\n",
    "training_sentences,test_sentences = seperation(annotated_sent)\n",
    "X, y = transform_to_dataset(training_sentences)\n",
    "\n",
    "#For German language\n",
    "\n",
    "G_training_sentences,G_test_sentences = seperation(german_tagged_sents)\n",
    "print(len(G_training_sentences))\n",
    "G_x,G_y = transform_to_dataset(G_training_sentences)\n",
    "\n",
    "#German and English Language Models\n",
    "clf, model1 = english_models()\n",
    "model4 = german_model()\n",
    "\n",
    "print()"
   ]
  },
  {
   "cell_type": "markdown",
   "metadata": {},
   "source": [
    "# Using the classifier"
   ]
  },
  {
   "cell_type": "code",
   "execution_count": null,
   "metadata": {
    "collapsed": true
   },
   "outputs": [],
   "source": [
    "#Function call along with option just to know which classifier to use\n",
    "def pos_tag(sentence,option):\n",
    "    print('checking...')\n",
    "    tagged_sentence = []\n",
    "   # print([features(sentence, index) for index in range(len(sentence))])\n",
    "    if option == 1:\n",
    "        tags = clf.predict([features(sentence, index) for index in range(len(sentence))])\n",
    "    else:\n",
    "        tags = model1.predict([improved_features(sentence, index) for index in range(len(sentence))])\n",
    "    \n",
    "    return zip(sentence, tags)\n",
    "\n",
    "#import platform\n",
    "#print(platform.python_version())\n",
    "#option = 1 means to call DTree Classifier and Features provided, option 2 means call RForest classifier with improved features function\n",
    "print(list(pos_tag(word_tokenize('Hello world, lets do something awesome today!'),1)))\n",
    "print(list(pos_tag(word_tokenize('Hello world, lets do something awesome today!'),2)))\n",
    "#print(list(pos_tag(word_tokenize('Hello world, lets do something awesome today!'),3)))"
   ]
  },
  {
   "cell_type": "code",
   "execution_count": null,
   "metadata": {
    "collapsed": true
   },
   "outputs": [],
   "source": []
  },
  {
   "cell_type": "markdown",
   "metadata": {},
   "source": [
    "## Rule-based POS taggers"
   ]
  },
  {
   "cell_type": "markdown",
   "metadata": {},
   "source": [
    "1. **DefaultTagger** that simply tags everything with the same tag\n",
    "\n",
    "2. **RegexpTagger** that applies tags according to a set of regular expressions\n",
    "\n",
    "3. ** N-Gram** (n-gram tagger is a generalization of a unigram tagger whose context is the current word together with the part-of-speech tags of the n-1 preceding token)\n",
    "    - **UnigramTagger**\n",
    "    - **BigramTagger**\n",
    "    - **TrigramTagger**"
   ]
  },
  {
   "cell_type": "code",
   "execution_count": 69,
   "metadata": {},
   "outputs": [
    {
     "name": "stdout",
     "output_type": "stream",
     "text": [
      "Evaluation of Models in X1\n",
      "Evaluation of Models in X2\n",
      "13\n"
     ]
    },
    {
     "data": {
      "image/png": "[encoded data removed]",
      "text/plain": [
       "<matplotlib.figure.Figure at 0x1688064aac8>"
      ]
     },
     "metadata": {},
     "output_type": "display_data"
    }
   ],
   "source": [
    "#nltk.download('brown')\n",
    "\n",
    "from nltk.corpus import brown\n",
    "from nltk import DefaultTagger as df\n",
    "from nltk import UnigramTagger as ut\n",
    "from nltk import BigramTagger as bt\n",
    "from nltk import TrigramTagger as tg\n",
    "import treetaggerwrapper\n",
    "\n",
    "import matplotlib.pyplot as plt; plt.rcdefaults()\n",
    "import numpy as np\n",
    "import matplotlib.pyplot as plt\n",
    " \n",
    "\n",
    "\n",
    "patterns = [(r'.*ing$', 'VBG'), (r'.*ed$', 'VBD'), (r'.*es$', 'VBZ'), (r'.*ould$', 'MD'), (r'.*\\'s$', 'NN$'),               \n",
    "             (r'.*s$', 'NNS'), (r'^-?[0-9]+(.[0-9]+)?$', 'CD'), (r'.*', 'NN')]\n",
    "\n",
    "brown_tagged_sents = brown.tagged_sents(categories='news')\n",
    "brown_sents = brown.sents(categories='news')\n",
    "size = int(len(brown_tagged_sents) * 0.8)\n",
    "#print(len(brown_tagged_sents))\n",
    "train_sents = brown_tagged_sents[:size]\n",
    "test_sents = brown_tagged_sents[size:]\n",
    "scores = []\n",
    "#X1\n",
    "def_model = nltk.DefaultTagger('NN')\n",
    "regexp_model = nltk.RegexpTagger(patterns)\n",
    "uni_model = nltk.UnigramTagger(train_sents,backoff=regexp_model)\n",
    "bi_model = nltk.BigramTagger(train_sents,backoff=uni_model)\n",
    "tri_model = nltk.TrigramTagger(train_sents,backoff=bi_model)\n",
    "\n",
    "model5 = treetaggerwrapper.TreeTagger(TAGLANG='de')\n",
    "##\n",
    "pickle.dump(def_model, open('model3_1.sav', 'wb'))\n",
    "pickle.dump(uni_model, open('model3_2.sav', 'wb'))\n",
    "pickle.dump(bi_model, open('model3_3.sav', 'wb'))\n",
    "pickle.dump(regexp_model, open('model3_4.sav', 'wb'))\n",
    "pickle.dump(tri_model, open('model3_5.sav', 'wb'))\n",
    "\n",
    "size = 10000\n",
    "X_test, y_test = transform_to_dataset(test_sentences)\n",
    "#print('Length of test ', len(test_sentences))\n",
    "scores.append(model1.score(X_test, y_test))\n",
    "\n",
    "print(\"Evaluation of Models in X1\")\n",
    "\n",
    "# performance of Default Tagger\n",
    "scores.append(def_model.evaluate(test_sentences)) # 1.3.1\n",
    "#print(def_model.evaluate(test_sentences))\n",
    "#print()\n",
    "\n",
    "# performance of Unigram Tagger\n",
    "scores.append(uni_model.evaluate(test_sentences)) # 1.3.2\n",
    "#print(uni_model.evaluate(test_sentences))\n",
    "#print()\n",
    "\n",
    "# performance of Bigram Tagger\n",
    "scores.append(bi_model.evaluate(test_sentences)) # 1.3.3\n",
    "#print(bi_model.evaluate(test_sentences))\n",
    "#print()\n",
    "\n",
    "# performance of Trigram Tagger\n",
    "scores.append(tri_model.evaluate(test_sentences)) # 1.3.4\n",
    "#print(tri_model.evaluate(test_sentences))\n",
    "#print()\n",
    "\n",
    "# performance of Regex Tagger\n",
    "scores.append(regexp_model.evaluate(test_sentences)) # 1.3.5\n",
    "#print(regexp_model.evaluate(test_sentences))\n",
    "X_test, y_test = transform_to_dataset(test_sents)\n",
    "scores.append(model1.score(X_test,y_test)) #1.4\n",
    "\n",
    "print(\"Evaluation of Models in X2\")\n",
    "# performance of Default Tagger\n",
    "#print(def_model.evaluate(train_sents))\n",
    "scores.append(def_model.evaluate(test_sents)) # 1.6.1\n",
    "#print(def_model.evaluate(test_sents))\n",
    "#print()\n",
    "# performance of Unigram Tagger\n",
    "#print(uni_model.evaluate(train_sents))\n",
    "scores.append(uni_model.evaluate(test_sents)) # 1.6.2\n",
    "#print()\n",
    "# performance of Bigram Tagger\n",
    "#print(bi_model.evaluate(train_sents))\n",
    "scores.append(bi_model.evaluate(test_sents)) # 1.6.3\n",
    "#print()\n",
    "# performance of Trigram Tagger\n",
    "#print(tri_model.evaluate(train_sents))\n",
    "scores.append(tri_model.evaluate(test_sents)) # 1.6.4\n",
    "#print()\n",
    "# performance of Regex Tagger\n",
    "#print(regexp_model.evaluate(train_sents))\n",
    "scores.append(regexp_model.evaluate(test_sents)) # 1.6.5\n",
    "\n",
    "X_test, y_test = transform_to_dataset(G_test_sentences[:1000])\n",
    "scores.append(model4.score(X_test, y_test))\n",
    "print(len(scores))\n",
    "\n",
    "objects = ('1.1', '1.3.1', '1.3.2', '1.3.3', '1.3.4', '1.3.5', '1.4','1.6.1','1.6.2','1.6.3','1.6.4','1.6.5','2.2')\n",
    "y_pos = np.arange(len(objects))\n",
    "\n",
    "plt.xticks(y_pos, objects)\n",
    "plt.bar(y_pos, scores, align='center', alpha=1)\n",
    "\n",
    "plt.title('Performance Chart')\n",
    " \n",
    "plt.show()\n",
    "\n",
    "#plot_learning_curve(tri_model, \"accuracy vs. training set size\", X, y, cv=5)"
   ]
  },
  {
   "cell_type": "markdown",
   "metadata": {},
   "source": [
    "## Exercise 01"
   ]
  },
  {
   "cell_type": "markdown",
   "metadata": {},
   "source": [
    "# In this lab you will learn how to train your own POS tagger classifier and test it against some pre-trained models\n",
    "\n",
    "#### Pleases implement your code and upload it to git using (jupyter notebook format)\n",
    "\n",
    "#### Classifiers\n",
    "\n",
    "1. ``model1`` = your POS tagger model (english)\n",
    "2. ``model2`` = pre-trained POS tagger model using NLTK (maxentropy english)\n",
    "3. ``model3.x`` = rule-based classifiers (x = 1 to 5)\n",
    "\n",
    "3. ``model4`` = your POS tagger model (not english)\n",
    "4. ``model5`` = pre-trained POS tagger model using RDRPOSTagger [1](http://rdrpostagger.sourceforge.net/) or TreeTagger [2](http://www.cis.uni-muenchen.de/~schmid/tools/TreeTagger/) (not english)\n",
    "\n",
    "note: for ``model1`` and ``model3`` you can try different classifiers: Hidden Markov Model, Logistic Regression, Maximum Entropy Markov Models, Decision Trees, Naive Bayes, etc..**choose one**!\n",
    "\n",
    "#### Corpora\n",
    "1. ``X1`` = nltk.corpus.treebank (english)\n",
    "2. ``X2`` = nltk.corpus.brown (english)\n",
    "3. ``X3`` = other language (not english)\n",
    "\n",
    "**note**: data split for training/test = 0.8/0.2 (sequencial)\n",
    "\n",
    "#### Task 1\n",
    "- get results for english (**plot a graph with all classifiers x results**)\n",
    "    - ``performance 1.1`` = ``model1`` in ``X1``\n",
    "    - ``performance 1.2`` = ``model2`` in ``X1``\n",
    "    - ``performance 1.3.x`` = ``model3.x`` in ``X1``\n",
    "    \n",
    "    - ``performance 1.4`` = ``model1`` in ``X2``\n",
    "    - ``performance 1.5`` = ``model2`` in ``X2``\n",
    "    - ``performance 1.6.x`` = ``model3.x`` in ``X2``\n",
    "\n",
    "#### Task 2\n",
    "- train your model with standard features (**plot a graph with all classifiers x results**)\n",
    "    - ``performance 2.1`` = ``model4`` in ``X3``\n",
    "    - ``performance 2.2`` = ``model5`` in ``X3``\n",
    "\n",
    "### notes:\n",
    "\n",
    "#### 1. you can save your trained models using pickle (import pickle)\n",
    "#### 2. please upload your jupyter file to git\n",
    "#### 3. this script just gives a general idea, please organize and comment your code accordingly\n",
    "#### 4. you have to make sure the language you choose is supported for one of the classifiers suggested (see above) AND you are able to find a corpus in that language (example: [Tiger Corpus for German](http://www.ims.uni-stuttgart.de/forschung/ressourcen/korpora/TIGERCorpus/download/start.html)). You can also search the Web in order to try to find a pre-trained classifier in your y. If that is not possible, just choose one existing. Please also make sure the language you have choosen _does not_ overlap with other students.\n",
    "#### 5. If you are able to find an annotated corpus and format is CoNLL, you can easly read it using the following method in NLTK:\n",
    "```corp = nltk.corpus.ConllCorpusReader()```\n",
    "#### 6. a nice library to create charts: https://plot.ly/python/bar-charts/"
   ]
  }
 ],
 "metadata": {
  "kernelspec": {
   "display_name": "Python 3",
   "language": "python",
   "name": "python3"
  },
  "language_info": {
   "codemirror_mode": {
    "name": "ipython",
    "version": 3
   },
   "file_extension": ".py",
   "mimetype": "text/x-python",
   "name": "python",
   "nbconvert_exporter": "python",
   "pygments_lexer": "ipython3",
   "version": "3.5.1"
  }
 },
 "nbformat": 4,
 "nbformat_minor": 2
}
