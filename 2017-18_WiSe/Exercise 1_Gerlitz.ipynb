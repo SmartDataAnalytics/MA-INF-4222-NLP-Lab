{
 "cells": [
  {
   "cell_type": "code",
   "execution_count": 1,
   "metadata": {},
   "outputs": [
    {
     "name": "stdout",
     "output_type": "stream",
     "text": [
      "[nltk_data] Downloading package treebank to /home/eva/nltk_data...\n",
      "[nltk_data]   Package treebank is already up-to-date!\n",
      "[nltk_data] Downloading package brown to /home/eva/nltk_data...\n",
      "[nltk_data]   Package brown is already up-to-date!\n"
     ]
    }
   ],
   "source": [
    "# English Corpora: \n",
    "import nltk\n",
    "from nltk.corpus import brown\n",
    "from nltk.corpus import treebank\n",
    "nltk.download('treebank')\n",
    "nltk.download('brown')\n",
    "# Create test and train for Corpus X1\n",
    "treebank_tagged_sents = nltk.corpus.treebank.tagged_sents()\n",
    "size_treebank = int(len(treebank_tagged_sents) * 0.8)\n",
    "train_sents_treebank = treebank_tagged_sents[:size_treebank]\n",
    "test_sents_treebank = treebank_tagged_sents[size_treebank:]\n",
    "\n",
    "# Create test and train for Corpus X2\n",
    "brown_tagged_sents = nltk.corpus.brown.tagged_sents()\n",
    "size_brown = int(len(brown_tagged_sents) * 0.8)\n",
    "train_sents_brown = brown_tagged_sents[:size_brown]\n",
    "test_sents_brown = brown_tagged_sents[size_brown:]"
   ]
  },
  {
   "cell_type": "code",
   "execution_count": 2,
   "metadata": {},
   "outputs": [],
   "source": [
    "# functions needed for own classifier/model 1: \n",
    "def untag(tagged_sentence):\n",
    "    return [w for w, t in tagged_sentence]\n",
    "\n",
    "def features(sentence, index):\n",
    "    return {\n",
    "        'word': sentence[index],\n",
    "        'is_capitalized': sentence[index][0].upper() == sentence[index][0],\n",
    "        'prefix-1': sentence[index][0],\n",
    "        'suffix-1': sentence[index][-1],\n",
    "        'prev_word': '' if index == 0 else sentence[index - 1],\n",
    "        'next_word': '' if index == len(sentence) - 1 else sentence[index + 1]\n",
    "    }\n",
    "\n",
    "def transform_to_dataset(tagged_sentences):\n",
    "    W, X, y = [], [], []\n",
    "    for sentence in tagged_sentences:\n",
    "        for wordindex in range(len(sentence)):\n",
    "            W.append(untag(sentence)[wordindex])\n",
    "            X.append(features(untag(sentence), wordindex))\n",
    "            y.append(sentence[wordindex][1])\n",
    " \n",
    "    return W, X, y"
   ]
  },
  {
   "cell_type": "code",
   "execution_count": 3,
   "metadata": {},
   "outputs": [],
   "source": [
    "# Transform datasets:\n",
    "\n",
    "W_tree, X_tree, y_tree = transform_to_dataset(train_sents_treebank)\n",
    "W_brown, X_brown, y_brown = transform_to_dataset(train_sents_brown)"
   ]
  },
  {
   "cell_type": "code",
   "execution_count": 4,
   "metadata": {
    "scrolled": false
   },
   "outputs": [
    {
     "name": "stdout",
     "output_type": "stream",
     "text": [
      "training OK\n",
      "0.780278457009\n"
     ]
    }
   ],
   "source": [
    "# Implement classifier/model1 for Treebank\n",
    "\n",
    "from sklearn.naive_bayes import GaussianNB\n",
    "from sklearn.feature_extraction import DictVectorizer\n",
    "from sklearn.pipeline import Pipeline\n",
    "\n",
    "size=10000\n",
    "\n",
    "clf = Pipeline([\n",
    "    ('vectorizer', DictVectorizer(sparse=False)),\n",
    "    ('classifier', GaussianNB())\n",
    "])\n",
    "\n",
    "clf.fit(X_tree[:size], y_tree[:size])\n",
    " \n",
    "print('training OK')\n",
    "\n",
    "W_tree_test, X_tree_test, y_tree_test = transform_to_dataset(test_sents_treebank)\n",
    "\n",
    "accuracy_tree = clf.score(X_tree_test, y_tree_test)\n",
    "print(accuracy_tree)"
   ]
  },
  {
   "cell_type": "code",
   "execution_count": null,
   "metadata": {},
   "outputs": [],
   "source": [
    "# Implement classifier/model1 for Brown\n",
    "\n",
    "clf.fit(X_brown[:size], y_brown[:size])\n",
    " \n",
    "print('training OK')\n",
    "\n",
    "W_brown_test, X_brown_test, y_brown_test = transform_to_dataset(test_sents_brown)\n",
    "\n",
    "accuracy_brown = clf.score(X_brown_test, y_brown_test)\n",
    "print(accuracy_brown)"
   ]
  },
  {
   "cell_type": "code",
   "execution_count": 7,
   "metadata": {},
   "outputs": [
    {
     "name": "stdout",
     "output_type": "stream",
     "text": [
      "[nltk_data] Downloading package tagsets to /home/eva/nltk_data...\n",
      "[nltk_data]   Package tagsets is already up-to-date!\n",
      "[nltk_data] Downloading package averaged_perceptron_tagger to\n",
      "[nltk_data]     /home/eva/nltk_data...\n",
      "[nltk_data]   Package averaged_perceptron_tagger is already up-to-\n",
      "[nltk_data]       date!\n",
      "0.893607465442\n",
      "0.60445286594\n"
     ]
    }
   ],
   "source": [
    "# Model 2\n",
    "nltk.download('tagsets')\n",
    "nltk.download('averaged_perceptron_tagger')\n",
    "from itertools import chain\n",
    "import numpy as np\n",
    "\n",
    "res_tree = nltk.pos_tag(W_tree_test)\n",
    "acc_tree = np.mean([x[1] == y for x, y in zip(res_tree, y_tree_test)])\n",
    "print(acc_tree)\n",
    "\n",
    "res_brown = nltk.pos_tag(W_brown_test)\n",
    "acc_brown = np.mean([x[1] == y for x, y in zip(res_brown, y_brown_test)])\n",
    "print(acc_brown)"
   ]
  },
  {
   "cell_type": "code",
   "execution_count": 8,
   "metadata": {},
   "outputs": [
    {
     "data": {
      "text/plain": [
       "<matplotlib.figure.Figure at 0x7fd7231ae358>"
      ]
     },
     "metadata": {},
     "output_type": "display_data"
    }
   ],
   "source": [
    "# Plot the result: Task 1, performance 1.1, 1.2, 1.4 and 1.5\n",
    "\n",
    "# unfortunately, I got a lot of Memory Errors, so I had to store them like this in order to make it work.\n",
    "accuracy_tree = 0.780\n",
    "accuracy_brown = 0.6  # Memory error all the time, so this is not the correct number!\n",
    "\n",
    "import matplotlib.pyplot as plt; plt.rcdefaults()\n",
    "import numpy as np\n",
    "import matplotlib.pyplot as plt\n",
    " \n",
    "objects = ('Treebank NB', 'Brwon NB', 'Treebank Pre', 'Brown Pre')\n",
    "y_pos = np.arange(len(objects))\n",
    "performance = [accuracy_tree, accuracy_brown, acc_tree, acc_brown]\n",
    " \n",
    "plt.bar(y_pos, performance, align='center', alpha=0.5)\n",
    "plt.xticks(y_pos, objects)\n",
    "plt.ylabel('Accuracy')\n",
    "plt.title('Accuracy of Treebank and Brwon')\n",
    " \n",
    "plt.show()"
   ]
  },
  {
   "cell_type": "code",
   "execution_count": 9,
   "metadata": {},
   "outputs": [],
   "source": [
    "# Model3.x\n",
    "\n",
    "patterns = [(r'.*ing$', 'VBG'), (r'.*ed$', 'VBD'), (r'.*es$', 'VBZ'), (r'.*ould$', 'MD'), (r'.*\\'s$', 'NN$'),               \n",
    "             (r'.*s$', 'NNS'), (r'^-?[0-9]+(.[0-9]+)?$', 'CD'), (r'.*', 'NN')]\n",
    "\n",
    "model31 = nltk.DefaultTagger('NN')  # Default Tagger\n",
    "model32 = nltk.RegexpTagger(patterns)  # RegExp Tagger\n",
    "model33 = nltk.UnigramTagger(train_sents_treebank)  # UnigamTagger\n",
    "model34 = nltk.BigramTagger(train_sents_treebank)  # BigamTagger\n",
    "model35 = nltk.TrigramTagger(train_sents_treebank)  # TrigamTagger\n",
    "\n",
    "# Task 1, performance 1.3 (Treebank)\n",
    "\n",
    "# model 3.1\n",
    "res_31_tree_train = model31.evaluate(train_sents_treebank)\n",
    "res_31_tree_test = model31.evaluate(test_sents_treebank)\n",
    "\n",
    "\n",
    "# model 3.2\n",
    "res_32_tree_train = model32.evaluate(train_sents_treebank)\n",
    "res_32_tree_test = model32.evaluate(test_sents_treebank)\n",
    "\n",
    "# model 3.3\n",
    "res_33_tree_train = model33.evaluate(train_sents_treebank)\n",
    "res_33_tree_test = model33.evaluate(test_sents_treebank)\n",
    "\n",
    "\n",
    "# model 3.4\n",
    "res_34_tree_train = model34.evaluate(train_sents_treebank)\n",
    "res_34_tree_test = model34.evaluate(test_sents_treebank)\n",
    "\n",
    "\n",
    "# model 3.5\n",
    "res_35_tree_train = model35.evaluate(train_sents_treebank)\n",
    "res_35_tree_test = model35.evaluate(test_sents_treebank)\n",
    "\n",
    "\n",
    "# Task 1, performance 1.6 (Brown)\n",
    "\n",
    "model33 = nltk.UnigramTagger(train_sents_brown)  # UnigamTagger\n",
    "model34 = nltk.BigramTagger(train_sents_brown)  # BigamTagger\n",
    "model35 = nltk.TrigramTagger(train_sents_brown)  # TrigamTagger\n",
    "\n",
    "# model 3.1\n",
    "res_31_brown_train = model31.evaluate(train_sents_brown)\n",
    "res_31_brown_test = model31.evaluate(test_sents_brown)\n",
    "\n",
    "\n",
    "# model 3.2\n",
    "res_32_brown_train = model32.evaluate(train_sents_brown)\n",
    "res_32_brown_test = model32.evaluate(test_sents_brown)\n",
    "\n",
    "# model 3.3\n",
    "res_33_brown_train = model33.evaluate(train_sents_brown)\n",
    "res_33_brown_test = model33.evaluate(test_sents_brown)\n",
    "\n",
    "# model 3.4\n",
    "res_34_brown_train = model34.evaluate(train_sents_brown)\n",
    "res_34_brown_test = model34.evaluate(test_sents_brown)\n",
    "\n",
    "# model 3.5\n",
    "res_35_brown_train = model35.evaluate(train_sents_brown)\n",
    "res_35_brown_test = model35.evaluate(test_sents_brown)\n"
   ]
  },
  {
   "cell_type": "code",
   "execution_count": 10,
   "metadata": {
    "scrolled": true
   },
   "outputs": [
    {
     "data": {
      "image/png": "[encoded data removed]",
      "text/plain": [
       "<matplotlib.figure.Figure at 0x7fd705c3def0>"
      ]
     },
     "metadata": {},
     "output_type": "display_data"
    }
   ],
   "source": [
    "# Plot Task 1, performance 1.3 and 1.6\n",
    "\n",
    "import numpy as np\n",
    "import matplotlib.pyplot as plt\n",
    "\n",
    "N = 5\n",
    "tree_training = (res_31_tree_train, res_32_tree_train, res_33_tree_train, res_34_tree_train, res_35_tree_train)\n",
    "tree_testing = (res_31_tree_test, res_32_tree_test, res_33_tree_test, res_34_tree_test, res_35_tree_test)\n",
    "brown_training = (res_31_brown_train, res_32_brown_train, res_33_brown_train, res_34_brown_train, res_35_brown_train)\n",
    "brown_testing = (res_31_brown_test, res_32_brown_test, res_33_brown_test, res_34_brown_test, res_35_brown_test)\n",
    "\n",
    "\n",
    "ind = np.arange(N)  # the x locations for the groups\n",
    "width = 0.2     # the width of the bars\n",
    "\n",
    "fig, ax = plt.subplots()\n",
    "rects1 = ax.bar(ind, tree_training, width, color= (0.1, 0.2, 0.5))\n",
    "rects2 = ax.bar(ind + width, tree_testing, width, color= (0.2, 0.3, 0.8))\n",
    "\n",
    "rects3 = ax.bar(ind +2*width, brown_training, width, color = (0.9, 0.1, 0.1))\n",
    "rects4 = ax.bar(ind +3*width, brown_testing, width, color = (0.9, 0.3, 0.3))\n",
    "\n",
    "# add some text for labels, title and axes ticks\n",
    "ax.set_ylabel('Evaluation')\n",
    "ax.set_title('Models')\n",
    "ax.set_xticks(ind + 2*width )\n",
    "ax.set_xticklabels(('3.1', '3.2', '3.3', '3.4', '3.5'))\n",
    "\n",
    "ax.legend((rects1[0], rects2[0], rects3[0], rects4[0]), ('Tree Training', 'Tree Testing', 'Brown Training', 'Brown Testing'), loc='center right', bbox_to_anchor=(1.45, 0.5))\n",
    "\n",
    "\n",
    "plt.show()"
   ]
  },
  {
   "cell_type": "code",
   "execution_count": 20,
   "metadata": {
    "collapsed": true
   },
   "outputs": [
    {
     "ename": "ValueError",
     "evalue": "Inconsistent number of columns:\n46992_1\tDie\tder\t_\tART\t_\tcase=nom|number=sg|gender=fem\t_\t2\t_\tNK\t_\t_\t_\t_\n46992_2\tBundesvereinigung\tBundesvereinigung\t_\tNN\t_\tcase=nom|number=sg|gender=fem\t_\t6\t_\tSB\t_\t_\t_\t_\n46992_3\tder\tder\t_\tART\t_\tcase=gen|number=pl|gender=masc\t_\t5\t_\tNK\t_\t_\t_\t_\n46992_4\tDeutschen\tdeutsch\t_\tADJA\t_\tcase=gen|number=pl|gender=masc|degree=pos\t_\t5\t_\tNK\t_\t_\t_\t_\n46992_5\tApothekerverbände\tApothekerverband\t_\tNN\t_\tcase=gen|number=pl|gend",
     "output_type": "error",
     "traceback": [
      "\u001b[0;31m---------------------------------------------------------------------------\u001b[0m",
      "\u001b[0;31mValueError\u001b[0m                                Traceback (most recent call last)",
      "\u001b[0;32m<ipython-input-20-3eb65fbb4760>\u001b[0m in \u001b[0;36m<module>\u001b[0;34m()\u001b[0m\n\u001b[1;32m      5\u001b[0m \u001b[0mgerman_tagged_sents\u001b[0m \u001b[0;34m=\u001b[0m \u001b[0mcorp\u001b[0m\u001b[0;34m.\u001b[0m\u001b[0mtagged_sents\u001b[0m\u001b[0;34m(\u001b[0m\u001b[0;34m)\u001b[0m\u001b[0;34m\u001b[0m\u001b[0m\n\u001b[1;32m      6\u001b[0m \u001b[0;34m\u001b[0m\u001b[0m\n\u001b[0;32m----> 7\u001b[0;31m \u001b[0;32mprint\u001b[0m \u001b[0mgerman_tagged_sents\u001b[0m\u001b[0;34m[\u001b[0m\u001b[0;34m-\u001b[0m\u001b[0;36m100\u001b[0m\u001b[0;34m]\u001b[0m\u001b[0;34m\u001b[0m\u001b[0m\n\u001b[0m\u001b[1;32m      8\u001b[0m \u001b[0;34m\u001b[0m\u001b[0m\n\u001b[1;32m      9\u001b[0m \u001b[0;31m# Create test and train for Corpus X3\u001b[0m\u001b[0;34m\u001b[0m\u001b[0;34m\u001b[0m\u001b[0m\n",
      "\u001b[0;32m/usr/local/lib/python2.7/dist-packages/nltk/collections.pyc\u001b[0m in \u001b[0;36m__getitem__\u001b[0;34m(self, index)\u001b[0m\n\u001b[1;32m    441\u001b[0m         \u001b[0;32melse\u001b[0m\u001b[0;34m:\u001b[0m\u001b[0;34m\u001b[0m\u001b[0m\n\u001b[1;32m    442\u001b[0m             \u001b[0;31m# Handle negative indices\u001b[0m\u001b[0;34m\u001b[0m\u001b[0;34m\u001b[0m\u001b[0m\n\u001b[0;32m--> 443\u001b[0;31m             \u001b[0;32mif\u001b[0m \u001b[0mindex\u001b[0m \u001b[0;34m<\u001b[0m \u001b[0;36m0\u001b[0m\u001b[0;34m:\u001b[0m \u001b[0mindex\u001b[0m \u001b[0;34m+=\u001b[0m \u001b[0mlen\u001b[0m\u001b[0;34m(\u001b[0m\u001b[0mself\u001b[0m\u001b[0;34m)\u001b[0m\u001b[0;34m\u001b[0m\u001b[0m\n\u001b[0m\u001b[1;32m    444\u001b[0m             \u001b[0;32mif\u001b[0m \u001b[0mindex\u001b[0m \u001b[0;34m<\u001b[0m \u001b[0;36m0\u001b[0m\u001b[0;34m:\u001b[0m \u001b[0;32mraise\u001b[0m \u001b[0mIndexError\u001b[0m\u001b[0;34m(\u001b[0m\u001b[0;34m'index out of range'\u001b[0m\u001b[0;34m)\u001b[0m\u001b[0;34m\u001b[0m\u001b[0m\n\u001b[1;32m    445\u001b[0m             \u001b[0;31m# Check the cache\u001b[0m\u001b[0;34m\u001b[0m\u001b[0;34m\u001b[0m\u001b[0m\n",
      "\u001b[0;32m/usr/local/lib/python2.7/dist-packages/nltk/collections.pyc\u001b[0m in \u001b[0;36m__len__\u001b[0;34m(self)\u001b[0m\n\u001b[1;32m    459\u001b[0m \u001b[0;34m\u001b[0m\u001b[0m\n\u001b[1;32m    460\u001b[0m     \u001b[0;32mdef\u001b[0m \u001b[0m__len__\u001b[0m\u001b[0;34m(\u001b[0m\u001b[0mself\u001b[0m\u001b[0;34m)\u001b[0m\u001b[0;34m:\u001b[0m\u001b[0;34m\u001b[0m\u001b[0m\n\u001b[0;32m--> 461\u001b[0;31m         \u001b[0;32mreturn\u001b[0m \u001b[0mmax\u001b[0m\u001b[0;34m(\u001b[0m\u001b[0mlen\u001b[0m\u001b[0;34m(\u001b[0m\u001b[0mlst\u001b[0m\u001b[0;34m)\u001b[0m \u001b[0;32mfor\u001b[0m \u001b[0mlst\u001b[0m \u001b[0;32min\u001b[0m \u001b[0mself\u001b[0m\u001b[0;34m.\u001b[0m\u001b[0m_lists\u001b[0m\u001b[0;34m)\u001b[0m\u001b[0;34m\u001b[0m\u001b[0m\n\u001b[0m\u001b[1;32m    462\u001b[0m \u001b[0;34m\u001b[0m\u001b[0m\n\u001b[1;32m    463\u001b[0m \u001b[0;34m\u001b[0m\u001b[0m\n",
      "\u001b[0;32m/usr/local/lib/python2.7/dist-packages/nltk/collections.pyc\u001b[0m in \u001b[0;36m<genexpr>\u001b[0;34m((lst,))\u001b[0m\n\u001b[1;32m    459\u001b[0m \u001b[0;34m\u001b[0m\u001b[0m\n\u001b[1;32m    460\u001b[0m     \u001b[0;32mdef\u001b[0m \u001b[0m__len__\u001b[0m\u001b[0;34m(\u001b[0m\u001b[0mself\u001b[0m\u001b[0;34m)\u001b[0m\u001b[0;34m:\u001b[0m\u001b[0;34m\u001b[0m\u001b[0m\n\u001b[0;32m--> 461\u001b[0;31m         \u001b[0;32mreturn\u001b[0m \u001b[0mmax\u001b[0m\u001b[0;34m(\u001b[0m\u001b[0mlen\u001b[0m\u001b[0;34m(\u001b[0m\u001b[0mlst\u001b[0m\u001b[0;34m)\u001b[0m \u001b[0;32mfor\u001b[0m \u001b[0mlst\u001b[0m \u001b[0;32min\u001b[0m \u001b[0mself\u001b[0m\u001b[0;34m.\u001b[0m\u001b[0m_lists\u001b[0m\u001b[0;34m)\u001b[0m\u001b[0;34m\u001b[0m\u001b[0m\n\u001b[0m\u001b[1;32m    462\u001b[0m \u001b[0;34m\u001b[0m\u001b[0m\n\u001b[1;32m    463\u001b[0m \u001b[0;34m\u001b[0m\u001b[0m\n",
      "\u001b[0;32m/usr/local/lib/python2.7/dist-packages/nltk/corpus/reader/util.pyc\u001b[0m in \u001b[0;36m__len__\u001b[0;34m(self)\u001b[0m\n\u001b[1;32m    231\u001b[0m             \u001b[0;31m# iterate_from() sets self._len when it reaches the end\u001b[0m\u001b[0;34m\u001b[0m\u001b[0;34m\u001b[0m\u001b[0m\n\u001b[1;32m    232\u001b[0m             \u001b[0;31m# of the file:\u001b[0m\u001b[0;34m\u001b[0m\u001b[0;34m\u001b[0m\u001b[0m\n\u001b[0;32m--> 233\u001b[0;31m             \u001b[0;32mfor\u001b[0m \u001b[0mtok\u001b[0m \u001b[0;32min\u001b[0m \u001b[0mself\u001b[0m\u001b[0;34m.\u001b[0m\u001b[0miterate_from\u001b[0m\u001b[0;34m(\u001b[0m\u001b[0mself\u001b[0m\u001b[0;34m.\u001b[0m\u001b[0m_toknum\u001b[0m\u001b[0;34m[\u001b[0m\u001b[0;34m-\u001b[0m\u001b[0;36m1\u001b[0m\u001b[0;34m]\u001b[0m\u001b[0;34m)\u001b[0m\u001b[0;34m:\u001b[0m \u001b[0;32mpass\u001b[0m\u001b[0;34m\u001b[0m\u001b[0m\n\u001b[0m\u001b[1;32m    234\u001b[0m         \u001b[0;32mreturn\u001b[0m \u001b[0mself\u001b[0m\u001b[0;34m.\u001b[0m\u001b[0m_len\u001b[0m\u001b[0;34m\u001b[0m\u001b[0m\n\u001b[1;32m    235\u001b[0m \u001b[0;34m\u001b[0m\u001b[0m\n",
      "\u001b[0;32m/usr/local/lib/python2.7/dist-packages/nltk/corpus/reader/util.pyc\u001b[0m in \u001b[0;36miterate_from\u001b[0;34m(self, start_tok)\u001b[0m\n\u001b[1;32m    294\u001b[0m             \u001b[0mself\u001b[0m\u001b[0;34m.\u001b[0m\u001b[0m_current_toknum\u001b[0m \u001b[0;34m=\u001b[0m \u001b[0mtoknum\u001b[0m\u001b[0;34m\u001b[0m\u001b[0m\n\u001b[1;32m    295\u001b[0m             \u001b[0mself\u001b[0m\u001b[0;34m.\u001b[0m\u001b[0m_current_blocknum\u001b[0m \u001b[0;34m=\u001b[0m \u001b[0mblock_index\u001b[0m\u001b[0;34m\u001b[0m\u001b[0m\n\u001b[0;32m--> 296\u001b[0;31m             \u001b[0mtokens\u001b[0m \u001b[0;34m=\u001b[0m \u001b[0mself\u001b[0m\u001b[0;34m.\u001b[0m\u001b[0mread_block\u001b[0m\u001b[0;34m(\u001b[0m\u001b[0mself\u001b[0m\u001b[0;34m.\u001b[0m\u001b[0m_stream\u001b[0m\u001b[0;34m)\u001b[0m\u001b[0;34m\u001b[0m\u001b[0m\n\u001b[0m\u001b[1;32m    297\u001b[0m             assert isinstance(tokens, (tuple, list, AbstractLazySequence)), (\n\u001b[1;32m    298\u001b[0m                 \u001b[0;34m'block reader %s() should return list or tuple.'\u001b[0m \u001b[0;34m%\u001b[0m\u001b[0;34m\u001b[0m\u001b[0m\n",
      "\u001b[0;32m/usr/local/lib/python2.7/dist-packages/nltk/corpus/reader/conll.pyc\u001b[0m in \u001b[0;36m_read_grid_block\u001b[0;34m(self, stream)\u001b[0m\n\u001b[1;32m    206\u001b[0m                 \u001b[0;32mif\u001b[0m \u001b[0mlen\u001b[0m\u001b[0;34m(\u001b[0m\u001b[0mrow\u001b[0m\u001b[0;34m)\u001b[0m \u001b[0;34m!=\u001b[0m \u001b[0mlen\u001b[0m\u001b[0;34m(\u001b[0m\u001b[0mgrid\u001b[0m\u001b[0;34m[\u001b[0m\u001b[0;36m0\u001b[0m\u001b[0;34m]\u001b[0m\u001b[0;34m)\u001b[0m\u001b[0;34m:\u001b[0m\u001b[0;34m\u001b[0m\u001b[0m\n\u001b[1;32m    207\u001b[0m                     raise ValueError('Inconsistent number of columns:\\n%s'\n\u001b[0;32m--> 208\u001b[0;31m                                      % block)\n\u001b[0m\u001b[1;32m    209\u001b[0m             \u001b[0mgrids\u001b[0m\u001b[0;34m.\u001b[0m\u001b[0mappend\u001b[0m\u001b[0;34m(\u001b[0m\u001b[0mgrid\u001b[0m\u001b[0;34m)\u001b[0m\u001b[0;34m\u001b[0m\u001b[0m\n\u001b[1;32m    210\u001b[0m         \u001b[0;32mreturn\u001b[0m \u001b[0mgrids\u001b[0m\u001b[0;34m\u001b[0m\u001b[0m\n",
      "\u001b[0;31m<type 'str'>\u001b[0m: (<type 'exceptions.UnicodeEncodeError'>, UnicodeEncodeError('ascii', u'Inconsistent number of columns:\\n46992_1\\tDie\\tder\\t_\\tART\\t_\\tcase=nom|number=sg|gender=fem\\t_\\t2\\t_\\tNK\\t_\\t_\\t_\\t_\\n46992_2\\tBundesvereinigung\\tBundesvereinigung\\t_\\tNN\\t_\\tcase=nom|number=sg|gender=fem\\t_\\t6\\t_\\tSB\\t_\\t_\\t_\\t_\\n46992_3\\tder\\tder\\t_\\tART\\t_\\tcase=gen|number=pl|gender=masc\\t_\\t5\\t_\\tNK\\t_\\t_\\t_\\t_\\n46992_4\\tDeutschen\\tdeutsch\\t_\\tADJA\\t_\\tcase=gen|number=pl|gender=masc|degree=pos\\t_\\t5\\t_\\tNK\\t_\\t_\\t_\\t_\\n46992_5\\tApothekerverb\\xe4nde\\tApothekerverband\\t_\\tNN\\t_\\tcase=gen|number=pl|gend', 388, 389, 'ordinal not in range(128)'))"
     ]
    }
   ],
   "source": [
    "# TODO: loading german corpus \n",
    "corp = nltk.corpus.ConllCorpusReader('.', 'tiger_release_aug07.corrected.16012013.conll09',\n",
    "                                     ['ignore', 'words', 'ignore', 'ignore', 'pos'],\n",
    "                                     encoding='utf-8')\n",
    "german_tagged_sents = corp.tagged_sents()\n",
    "\n",
    "print german_tagged_sents[-100]\n",
    "\n",
    "# Create test and train for Corpus X3\n",
    "#size_german = int(len(german_tagged_sents) * 0.8)\n",
    "#train_sents_german = german_tagged_sents[:size_german]\n",
    "#test_sents_german = german_tagged_sents[size_german:]\n",
    "\n",
    "#leng = len(german_tagged_sents)\n",
    "#print german_tagged_sents\n"
   ]
  },
  {
   "cell_type": "code",
   "execution_count": 21,
   "metadata": {
    "collapsed": true
   },
   "outputs": [
    {
     "ename": "NameError",
     "evalue": "name 'transform_to_dataset' is not defined",
     "output_type": "error",
     "traceback": [
      "\u001b[0;31m---------------------------------------------------------------------------\u001b[0m",
      "\u001b[0;31mNameError\u001b[0m                                 Traceback (most recent call last)",
      "\u001b[0;32m<ipython-input-21-80aa0b3c1536>\u001b[0m in \u001b[0;36m<module>\u001b[0;34m()\u001b[0m\n\u001b[1;32m      1\u001b[0m \u001b[0;31m# Task 2, performance 2.1\u001b[0m\u001b[0;34m\u001b[0m\u001b[0;34m\u001b[0m\u001b[0m\n\u001b[1;32m      2\u001b[0m \u001b[0;34m\u001b[0m\u001b[0m\n\u001b[0;32m----> 3\u001b[0;31m \u001b[0mW_german\u001b[0m\u001b[0;34m,\u001b[0m \u001b[0mX_german\u001b[0m\u001b[0;34m,\u001b[0m \u001b[0my_german\u001b[0m \u001b[0;34m=\u001b[0m \u001b[0mtransform_to_dataset\u001b[0m\u001b[0;34m(\u001b[0m\u001b[0mtrain_sents_german\u001b[0m\u001b[0;34m)\u001b[0m\u001b[0;34m\u001b[0m\u001b[0m\n\u001b[0m\u001b[1;32m      4\u001b[0m \u001b[0mW_german_test\u001b[0m\u001b[0;34m,\u001b[0m \u001b[0mX_german_test\u001b[0m\u001b[0;34m,\u001b[0m \u001b[0my_german_test\u001b[0m \u001b[0;34m=\u001b[0m \u001b[0mtransform_to_dataset\u001b[0m\u001b[0;34m(\u001b[0m\u001b[0mtest_sents_german\u001b[0m\u001b[0;34m)\u001b[0m\u001b[0;34m\u001b[0m\u001b[0m\n\u001b[1;32m      5\u001b[0m \u001b[0;34m\u001b[0m\u001b[0m\n",
      "\u001b[0;31mNameError\u001b[0m: name 'transform_to_dataset' is not defined"
     ]
    }
   ],
   "source": [
    "# Task 2, performance 2.1\n",
    "from sklearn.naive_bayes import GaussianNB\n",
    "from sklearn.feature_extraction import DictVectorizer\n",
    "from sklearn.pipeline import Pipeline\n",
    "\n",
    "W_german, X_german, y_german = transform_to_dataset(train_sents_german)\n",
    "W_german_test, X_german_test, y_german_test = transform_to_dataset(test_sents_german)\n",
    "\n",
    "size=10000\n",
    "\n",
    "clf.fit(X_german[:size], y_german[:size])\n",
    " \n",
    "print('training OK')\n",
    "\n",
    "\n",
    "#accuracy_german = clf.score(X_german_test, y_german_test)\n",
    "#print accuracy_german"
   ]
  },
  {
   "cell_type": "code",
   "execution_count": null,
   "metadata": {
    "scrolled": true
   },
   "outputs": [],
   "source": [
    "import os\n",
    "os.environ['TREETAGGER_HOME'] = \"/home/eva/Downloads/TreeTagger/cmd\"\n",
    "\n",
    "from treetagger import TreeTagger\n",
    "\n",
    "\n",
    "tt = TreeTagger(language='german')\n",
    "res = tt.tag(W_german_test)\n",
    "\n",
    "accuracy_german_tt = np.mean([x[1] == y for x, y in zip(res, y_german_test)])"
   ]
  },
  {
   "cell_type": "code",
   "execution_count": 4,
   "metadata": {},
   "outputs": [
    {
     "data": {
      "image/png": "[encoded data removed]",
      "text/plain": [
       "<matplotlib.figure.Figure at 0x7f3cab0f1250>"
      ]
     },
     "metadata": {},
     "output_type": "display_data"
    }
   ],
   "source": [
    "# Plot the result: Task 2\n",
    "\n",
    "accuracy_german = 0.5  # not correct\n",
    "accuracy_german_tt = 0.8  # not correct\n",
    "\n",
    "import matplotlib.pyplot as plt; plt.rcdefaults()\n",
    "import numpy as np\n",
    "import matplotlib.pyplot as plt\n",
    " \n",
    "objects = ('Acc german', 'Acc german TT')\n",
    "y_pos = np.arange(len(objects))\n",
    "performance = [accuracy_german, accuracy_german_tt]\n",
    " \n",
    "plt.bar(y_pos, performance, align='center', alpha=0.5)\n",
    "plt.xticks(y_pos, objects)\n",
    "plt.ylabel('Accuracy')\n",
    "plt.title('Accuracy of German Set')\n",
    " \n",
    "plt.show()"
   ]
  },
  {
   "cell_type": "code",
   "execution_count": null,
   "metadata": {},
   "outputs": [],
   "source": []
  }
 ],
 "metadata": {
  "kernelspec": {
   "display_name": "Python 3",
   "language": "python",
   "name": "python3"
  },
  "language_info": {
   "codemirror_mode": {
    "name": "ipython",
    "version": 3
   },
   "file_extension": ".py",
   "mimetype": "text/x-python",
   "name": "python",
   "nbconvert_exporter": "python",
   "pygments_lexer": "ipython3",
   "version": "3.5.2"
  }
 },
 "nbformat": 4,
 "nbformat_minor": 2
}
