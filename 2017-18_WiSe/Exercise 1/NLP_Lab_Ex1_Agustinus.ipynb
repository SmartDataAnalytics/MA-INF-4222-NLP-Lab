{
 "cells": [
  {
   "cell_type": "markdown",
   "metadata": {},
   "source": [
    "# NLP Lab Exercise 1\n",
    "\n",
    "**Agustinus Kristiadi / 3047084**"
   ]
  },
  {
   "cell_type": "markdown",
   "metadata": {},
   "source": [
    "### Load English data"
   ]
  },
  {
   "cell_type": "code",
   "execution_count": 1,
   "metadata": {},
   "outputs": [],
   "source": [
    "import numpy as np\n",
    "import nltk\n",
    "from nltk.corpus import treebank\n",
    "from nltk.corpus import brown\n",
    "from nltk.corpus import conll2000 as conll\n",
    "\n",
    "\n",
    "# Conll2000\n",
    "conll_tagged_sents = conll.tagged_sents()[:1000]\n",
    "train_size = int(0.8 * len(conll_tagged_sents))\n",
    "\n",
    "cn_train_sents = conll_tagged_sents[:train_size]\n",
    "cn_test_sents = conll_tagged_sents[train_size:]\n",
    "\n",
    "# Treebank\n",
    "treebank_tagged_sents = treebank.tagged_sents()[:1000]\n",
    "train_size = int(0.8 * len(treebank_tagged_sents))\n",
    "\n",
    "tb_train_sents = treebank_tagged_sents[:train_size]\n",
    "tb_test_sents = treebank_tagged_sents[train_size:]\n",
    "\n",
    "# Brown\n",
    "brown_tagged_sents = brown.tagged_sents()[:1000]\n",
    "train_size = int(0.8 * len(brown_tagged_sents))\n",
    "\n",
    "bn_train_sents = brown_tagged_sents[:train_size]\n",
    "bn_test_sents = brown_tagged_sents[train_size:]"
   ]
  },
  {
   "cell_type": "code",
   "execution_count": 2,
   "metadata": {},
   "outputs": [],
   "source": [
    "def features(sentence, index):\n",
    "    return {\n",
    "        'word': sentence[index],\n",
    "        'is_capitalized': sentence[index][0].upper() == sentence[index][0],\n",
    "        'prefix-1': sentence[index][0],\n",
    "        'suffix-1': sentence[index][-1],\n",
    "        'prev_word': '' if index == 0 else sentence[index - 1],\n",
    "        'next_word': '' if index == len(sentence) - 1 else sentence[index + 1]\n",
    "    }\n",
    "\n",
    "\n",
    "def untag(tagged_sentence):\n",
    "    return [w for w, t in tagged_sentence]\n",
    "\n",
    " \n",
    "def transform_to_dataset(tagged_sentences):\n",
    "    W, X, y = [], [], []\n",
    "    for tagged in tagged_sentences:\n",
    "        for index in range(len(tagged)):\n",
    "            W.append(untag(tagged)[index])\n",
    "            X.append(features(untag(tagged), index))\n",
    "            y.append(tagged[index][1])\n",
    " \n",
    "    return W, X, y"
   ]
  },
  {
   "cell_type": "markdown",
   "metadata": {},
   "source": [
    "### Model 1 - English"
   ]
  },
  {
   "cell_type": "code",
   "execution_count": 3,
   "metadata": {},
   "outputs": [
    {
     "name": "stdout",
     "output_type": "stream",
     "text": [
      "19008\n",
      "4711\n",
      "\n",
      "19933\n",
      "5251\n",
      "\n",
      "17975\n",
      "4104\n"
     ]
    }
   ],
   "source": [
    "W_train_cn, X_train_cn, y_train_cn = transform_to_dataset(cn_train_sents)\n",
    "W_test_cn, X_test_cn, y_test_cn = transform_to_dataset(cn_test_sents)\n",
    "\n",
    "W_train_tb, X_train_tb, y_train_tb = transform_to_dataset(tb_train_sents)\n",
    "W_test_tb, X_test_tb, y_test_tb = transform_to_dataset(tb_test_sents)\n",
    "\n",
    "W_train_bn, X_train_bn, y_train_bn = transform_to_dataset(bn_train_sents)\n",
    "W_test_bn, X_test_bn, y_test_bn = transform_to_dataset(bn_test_sents)\n",
    "\n",
    "print(len(X_train_cn))\n",
    "print(len(X_test_cn))\n",
    "print()\n",
    "print(len(X_train_tb))\n",
    "print(len(X_test_tb))\n",
    "print()\n",
    "print(len(X_train_bn))\n",
    "print(len(X_test_bn))"
   ]
  },
  {
   "cell_type": "code",
   "execution_count": 4,
   "metadata": {},
   "outputs": [
    {
     "data": {
      "text/plain": [
       "Pipeline(memory=None,\n",
       "     steps=[('vectorizer', DictVectorizer(dtype=<class 'numpy.float64'>, separator='=', sort=True,\n",
       "        sparse=False)), ('classifier', MultinomialNB(alpha=1.0, class_prior=None, fit_prior=True))])"
      ]
     },
     "execution_count": 4,
     "metadata": {},
     "output_type": "execute_result"
    }
   ],
   "source": [
    "from sklearn.naive_bayes import MultinomialNB\n",
    "from sklearn.feature_extraction import DictVectorizer\n",
    "from sklearn.pipeline import Pipeline\n",
    "\n",
    "clf = Pipeline([\n",
    "    ('vectorizer', DictVectorizer(sparse=False)),\n",
    "    ('classifier', MultinomialNB())\n",
    "])\n",
    "\n",
    "clf.fit(X_train_cn, y_train_cn)"
   ]
  },
  {
   "cell_type": "markdown",
   "metadata": {},
   "source": [
    "### Model 2 - Pretrained"
   ]
  },
  {
   "cell_type": "code",
   "execution_count": 5,
   "metadata": {},
   "outputs": [
    {
     "name": "stdout",
     "output_type": "stream",
     "text": [
      "0.886307370025\n",
      "0.589668615984\n"
     ]
    }
   ],
   "source": [
    "# nltk.download('maxent_treebank_pos_tagger')\n",
    "\n",
    "from itertools import chain\n",
    "\n",
    "\n",
    "res_tb = nltk.pos_tag(W_test_tb)\n",
    "acc_tb = np.mean([x[1] == y for x, y in zip(res_tb, y_test_tb)])\n",
    "print(acc_tb)\n",
    "\n",
    "res_bn = nltk.pos_tag(W_test_bn)\n",
    "acc_bn = np.mean([x[1] == y for x, y in zip(res_bn, y_test_bn)])\n",
    "print(acc_bn)"
   ]
  },
  {
   "cell_type": "markdown",
   "metadata": {},
   "source": [
    "### Model 3 - Rule Based"
   ]
  },
  {
   "cell_type": "code",
   "execution_count": 6,
   "metadata": {},
   "outputs": [
    {
     "name": "stdout",
     "output_type": "stream",
     "text": [
      "[0.12721386402589982, 0.6690154256332127, 0.05256141687297657, 0.036564463911635876, 0.2190059036374024]\n",
      "[0.13693957115009747, 0.435916179337232, 0.02387914230019493, 0.01145224171539961, 0.2124756335282651]\n"
     ]
    }
   ],
   "source": [
    "patterns = [(r'.*ing$', 'VBG'), (r'.*ed$', 'VBD'), (r'.*es$', 'VBZ'), (r'.*ould$', 'MD'), (r'.*\\'s$', 'NN$'),               \n",
    "             (r'.*s$', 'NNS'), (r'^-?[0-9]+(.[0-9]+)?$', 'CD'), (r'.*', 'NN')]\n",
    "\n",
    "# Train on conll\n",
    "def_model = nltk.DefaultTagger('NN')\n",
    "uni_model = nltk.UnigramTagger(cn_train_sents)\n",
    "bi_model = nltk.BigramTagger(cn_train_sents)\n",
    "tri_model = nltk.TrigramTagger(cn_train_sents)\n",
    "regexp_model = nltk.RegexpTagger(patterns)\n",
    "\n",
    "models = [def_model, uni_model, bi_model, tri_model, regexp_model]\n",
    "\n",
    "# Treebank\n",
    "res_tb = [m.evaluate(tb_test_sents) for m in models]\n",
    "    \n",
    "\n",
    "# Brown\n",
    "res_bn = [m.evaluate(bn_test_sents) for m in models]\n",
    "\n",
    "\n",
    "print(res_tb)\n",
    "print(res_bn)"
   ]
  },
  {
   "cell_type": "markdown",
   "metadata": {},
   "source": [
    "## Result for Task 1"
   ]
  },
  {
   "cell_type": "code",
   "execution_count": 7,
   "metadata": {},
   "outputs": [
    {
     "data": {
      "image/png": "[encoded data removed]",
      "text/plain": [
       "<matplotlib.figure.Figure at 0x10eb08d68>"
      ]
     },
     "metadata": {},
     "output_type": "display_data"
    }
   ],
   "source": [
    "%matplotlib inline\n",
    "import matplotlib.pyplot as plt\n",
    "import seaborn as sns\n",
    "\n",
    "Y = [clf.score(X_test_tb, y_test_tb), acc_tb, clf.score(X_test_tb, y_test_tb), acc_bn]\n",
    "\n",
    "sns.barplot(['1.1', '1.2', '1.4', '1.5'], Y);\n",
    "plt.title('Model peformance (trained on conll) on treebank and brown');"
   ]
  },
  {
   "cell_type": "markdown",
   "metadata": {},
   "source": [
    "- ``performance 1.1`` = ``model1`` in ``X1``\n",
    "- ``performance 1.2`` = ``model2`` in ``X1``    \n",
    "- ``performance 1.4`` = ``model1`` in ``X2``\n",
    "- ``performance 1.5`` = ``model2`` in ``X2``"
   ]
  },
  {
   "cell_type": "code",
   "execution_count": 8,
   "metadata": {},
   "outputs": [
    {
     "data": {
      "image/png": "[encoded data removed]",
      "text/plain": [
       "<matplotlib.figure.Figure at 0x113f8b128>"
      ]
     },
     "metadata": {},
     "output_type": "display_data"
    }
   ],
   "source": [
    "Y = res_tb + res_bn\n",
    "\n",
    "sns.barplot(['1.3.1', '1.3.2', '1.3.3', '1.3.4', '1.3.5', '1.6.1', '1.6.2', '1.6.3', '1.6.4', '1.6.5'], Y);\n",
    "plt.title('Model peformance (trained on conll) on treebank and brown');"
   ]
  },
  {
   "cell_type": "markdown",
   "metadata": {},
   "source": [
    "- ``performance 1.3.x`` = ``model3.x`` in ``X1``\n",
    "- ``performance 1.6.x`` = ``model3.x`` in ``X2``"
   ]
  },
  {
   "cell_type": "markdown",
   "metadata": {},
   "source": [
    "### Model 4 - Indonesian corpus"
   ]
  },
  {
   "cell_type": "code",
   "execution_count": 9,
   "metadata": {},
   "outputs": [],
   "source": [
    "with open('/Users/wiseodd/Downloads/UI-1M-tagged.txt', 'r') as f:\n",
    "    tagged = []\n",
    "    for line in f:\n",
    "        tagged.append([nltk.tag.str2tuple(t) for t in line.split() if nltk.tag.str2tuple(t)[1] is not None])\n",
    "    \n",
    "id_tagged_sents = tagged[:1000]\n",
    "\n",
    "train_size = int(0.8 * len(id_tagged_sents))\n",
    "\n",
    "id_train_sents = id_tagged_sents[:train_size]\n",
    "id_test_sents = id_tagged_sents[train_size:]\n",
    "\n",
    "# To features\n",
    "W_train_id, X_train_id, y_train_id = transform_to_dataset(id_train_sents)\n",
    "W_test_id, X_test_id, y_test_id = transform_to_dataset(id_test_sents)"
   ]
  },
  {
   "cell_type": "code",
   "execution_count": 10,
   "metadata": {},
   "outputs": [
    {
     "data": {
      "text/plain": [
       "Pipeline(memory=None,\n",
       "     steps=[('vectorizer', DictVectorizer(dtype=<class 'numpy.float64'>, separator='=', sort=True,\n",
       "        sparse=False)), ('classifier', MultinomialNB(alpha=1.0, class_prior=None, fit_prior=True))])"
      ]
     },
     "execution_count": 10,
     "metadata": {},
     "output_type": "execute_result"
    }
   ],
   "source": [
    "clf_id = Pipeline([\n",
    "    ('vectorizer', DictVectorizer(sparse=False)),\n",
    "    ('classifier', MultinomialNB())\n",
    "])\n",
    "\n",
    "clf_id.fit(X_train_id, y_train_id)"
   ]
  },
  {
   "cell_type": "markdown",
   "metadata": {},
   "source": [
    "### Model 5 - TreeTagger"
   ]
  },
  {
   "cell_type": "code",
   "execution_count": 13,
   "metadata": {},
   "outputs": [],
   "source": [
    "import os\n",
    "os.environ['TREETAGGER_HOME'] = \"/Users/wiseodd/Downloads/TreeTagger/cmd\"\n",
    "\n",
    "from treetagger import TreeTagger\n",
    "\n",
    "\n",
    "tt = TreeTagger(language='german')\n",
    "res_id = tt.tag(W_test_id)\n",
    "\n",
    "acc_id = np.mean([x[1] == y for x, y in zip(res_id, y_test_id)])"
   ]
  },
  {
   "cell_type": "markdown",
   "metadata": {},
   "source": [
    "## Result for Task 2"
   ]
  },
  {
   "cell_type": "code",
   "execution_count": 14,
   "metadata": {},
   "outputs": [
    {
     "data": {
      "image/png": "[encoded data removed]",
      "text/plain": [
       "<matplotlib.figure.Figure at 0x11ef8a240>"
      ]
     },
     "metadata": {},
     "output_type": "display_data"
    }
   ],
   "source": [
    "Y = [clf_id.score(X_test_id, y_test_id), acc_id]\n",
    "\n",
    "sns.barplot(['2.1', '2.2'], Y);\n",
    "plt.title('Model peformance on Indonesian corpus');"
   ]
  },
  {
   "cell_type": "markdown",
   "metadata": {},
   "source": [
    "- ``performance 2.1`` = ``model4`` in ``X3``\n",
    "- ``performance 2.2`` = ``model5`` in ``X3``"
   ]
  }
 ],
 "metadata": {
  "kernelspec": {
   "display_name": "Python 3",
   "language": "python",
   "name": "python3"
  },
  "language_info": {
   "codemirror_mode": {
    "name": "ipython",
    "version": 3
   },
   "file_extension": ".py",
   "mimetype": "text/x-python",
   "name": "python",
   "nbconvert_exporter": "python",
   "pygments_lexer": "ipython3",
   "version": "3.6.1"
  }
 },
 "nbformat": 4,
 "nbformat_minor": 2
}
