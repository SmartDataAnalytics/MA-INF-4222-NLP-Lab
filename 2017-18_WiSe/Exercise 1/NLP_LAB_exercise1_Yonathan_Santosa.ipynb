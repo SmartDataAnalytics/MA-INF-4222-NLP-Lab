{
 "cells": [
  {
   "cell_type": "markdown",
   "metadata": {},
   "source": [
    "# NLP Lab Exercise 01\n",
    "##### By: Yonathan Purbo Santosa / 2993106"
   ]
  },
  {
   "cell_type": "markdown",
   "metadata": {},
   "source": [
    "## Importing Corpus"
   ]
  },
  {
   "cell_type": "code",
   "execution_count": 134,
   "metadata": {},
   "outputs": [],
   "source": [
    "# nltk.download('treebank')\n",
    "# nltk.download('brown')\n",
    "\n",
    "from nltk.corpus import brown\n",
    "from nltk.corpus import treebank\n",
    "from nltk.corpus import TaggedCorpusReader\n",
    "\n",
    "'''\n",
    "X1, X2, X3 => dictionary of each words and its tag\n",
    "[('Pierre', 'NNP'), ('Vinken', 'NNP'), (',', ','), ('61', 'CD'), ...]\n",
    "'''\n",
    "X1 = treebank.tagged_sents()\n",
    "X1_sents = treebank.sents()\n",
    "X2 = brown.tagged_sents()\n",
    "X2_sents = brown.sents()\n",
    "# X3 dataset https://github.com/pebbie/pebahasa\n",
    "x3_corpus =TaggedCorpusReader('./corpus', '.*', '/')\n",
    "X3 = x3_corpus.tagged_sents()\n",
    "X3_sents = x3_corpus.sents()"
   ]
  },
  {
   "cell_type": "code",
   "execution_count": 2,
   "metadata": {},
   "outputs": [],
   "source": [
    "# Return untagged sentence\n",
    "def untag(tagged_sentence):\n",
    "    return [w for w, t in tagged_sentence]\n",
    "\n",
    "# Splitting tagged_sentence into [features] and [labels]\n",
    "def transform_to_dataset(tagged_sentences):\n",
    "    X, y = [], []\n",
    "    for tagged in tagged_sentences:\n",
    "        for index in range(len(tagged)):\n",
    "            X.append(features(untag(tagged), index))\n",
    "            y.append(tagged[index][1])\n",
    "            \n",
    " \n",
    "    return X, y"
   ]
  },
  {
   "cell_type": "markdown",
   "metadata": {},
   "source": [
    "# Task 1\n",
    "## Classifier\n",
    "\n",
    "### Model 1\n",
    "Before starting, we will define the feature extractor\n",
    "\n",
    "#### Feature Extractor\n",
    "In this section, we extract the feature of a words. \n",
    "The extracted features are :\n",
    "1. Prefix: il-, in-, pre-, hyper-,..\n",
    "2. Suffix(noun/verb/adj suffix): -al, -ish, -ful, -less, ...\n",
    "3. Capitalize (bool)\n",
    "4. Only first letter is capitalize (bool)\n",
    "5. Previous Word\n",
    "6. Next Word\n",
    "7. The word has more than 3 letters (bool)"
   ]
  },
  {
   "cell_type": "code",
   "execution_count": 3,
   "metadata": {},
   "outputs": [
    {
     "name": "stdout",
     "output_type": "stream",
     "text": [
      "{'first_letter_capitalized': False,\n",
      " 'has_adj_suffix': True,\n",
      " 'has_noun_suffix': False,\n",
      " 'has_prefix': True,\n",
      " 'has_verb_suffix': False,\n",
      " 'is_capitalized': False,\n",
      " 'more_than_3_letter': True,\n",
      " 'next_word': 'written',\n",
      " 'prefix': 'im',\n",
      " 'prev_word': 'the',\n",
      " 'suffix': 'ible',\n",
      " 'word': 'impossible'}\n"
     ]
    }
   ],
   "source": [
    "import numpy as np\n",
    "import pickle\n",
    "def features(sentence, index):\n",
    "    # array of prefixes\n",
    "    prefixes = np.array([[],[],['il','in','ir','im','un','de','re','up'],\\\n",
    "                         ['dis','mid','mis','non','out','pre','pro','sub'],\\\n",
    "                         ['anti','down','mega','over','post','semi','tele'],\\\n",
    "                         ['extra','hyper','inter','super','trans','ultra','under']])\n",
    "    # checking for possible prefix\n",
    "    has_prefix = False\n",
    "    prefix_len = 0\n",
    "    for i in range(2,6):\n",
    "        if sentence[index][:i] in prefixes[i] and len(sentence[index]) != i:\n",
    "            prefix_len = i\n",
    "            has_prefix = True\n",
    "            break\n",
    "    \n",
    "    # array of suffixes (https://www.thoughtco.com/common-suffixes-in-english-1692725)\n",
    "    noun_suffixes = np.array([[],[],['al','er','or','ty'],\\\n",
    "                            ['acy','dom','ism','ity','ist'],\\\n",
    "                            ['ance','ence','ment','ness','ship','sion','tion']])\n",
    "    verb_suffixes = np.array([[],[],['en','fy'],['ate','ify','ize','ise']])\n",
    "    adj_suffixes = np.array([[],['y'],['al','ic'],['ful','ish','ive','ous'],['able','ible','ical','less'],['esque']])\n",
    "    suffixes_len = -1\n",
    "    \n",
    "    # checking for possible suffixes\n",
    "    has_noun_suffixes = False\n",
    "    for i in range(2,5):\n",
    "        if sentence[index][-i:] in noun_suffixes[i] and len(sentence[index]) != i:\n",
    "            suffixes_len = -i\n",
    "            has_noun_suffixes = True\n",
    "            break\n",
    "    \n",
    "    has_verb_suffixes = False\n",
    "    if has_noun_suffixes == False:\n",
    "        for i in range(2,4):\n",
    "            if sentence[index][-i:] in verb_suffixes[i] and len(sentence[index]) != i:\n",
    "                suffixes_len = -i\n",
    "                has_verb_suffixes = True\n",
    "                break\n",
    "\n",
    "    has_adj_suffixes = False\n",
    "    if has_noun_suffixes == False and has_verb_suffixes == False:\n",
    "        for i in range(1,6):\n",
    "            if sentence[index][-i:] in adj_suffixes[i] and len(sentence[index]) != i:\n",
    "                suffixes_len = -i\n",
    "                has_adj_suffixes = True\n",
    "                break  \n",
    "    # end of chechking for possible suffixes\n",
    "    \n",
    "    return {\n",
    "        'word': sentence[index],\n",
    "        'is_capitalized': sentence[index][0].upper() == sentence[index][0],\n",
    "        'first_letter_capitalized': sentence[index][0].title() == sentence[index][0],\n",
    "        'has_prefix': has_prefix,\n",
    "        'prefix': sentence[index][:prefix_len],\n",
    "        'has_noun_suffix': has_noun_suffixes,\n",
    "        'has_verb_suffix': has_verb_suffixes,\n",
    "        'has_adj_suffix': has_adj_suffixes,\n",
    "        'suffix': sentence[index][suffixes_len:],\n",
    "        'more_than_3_letter': len(sentence[index]) > 3,\n",
    "        'prev_word': '' if index == 0 else sentence[index - 1],\n",
    "        'next_word': '' if index == len(sentence) - 1 else sentence[index + 1]\n",
    "    }\n",
    "import pprint \n",
    "pprint.pprint(features(['Describing', 'the', 'impossible', 'written', 'sentences'], 2))"
   ]
  },
  {
   "cell_type": "markdown",
   "metadata": {},
   "source": [
    "## Pre-processing corpus X1"
   ]
  },
  {
   "cell_type": "code",
   "execution_count": 4,
   "metadata": {},
   "outputs": [],
   "source": [
    "# setting data training and data test to 80% - 20%\n",
    "cutoff = int(.8 * len(X1))\n",
    "X1_training = X1[:cutoff]\n",
    "X1_test = X1[cutoff:]\n",
    "\n",
    "# x will contain features\n",
    "# y will contain labels/tags\n",
    "x1, y1 = transform_to_dataset(X1_training)\n",
    "x1_test, y1_test = transform_to_dataset(X1_test)\n",
    "\n",
    "x1_test_sents = X1_sents[cutoff:]"
   ]
  },
  {
   "cell_type": "markdown",
   "metadata": {},
   "source": [
    "#### Creating Classifier with Gaussian Naive Bayes"
   ]
  },
  {
   "cell_type": "code",
   "execution_count": 5,
   "metadata": {},
   "outputs": [
    {
     "name": "stdout",
     "output_type": "stream",
     "text": [
      "training ok\n"
     ]
    }
   ],
   "source": [
    "from sklearn.feature_extraction import DictVectorizer\n",
    "from sklearn.naive_bayes import GaussianNB\n",
    "from sklearn.pipeline import Pipeline\n",
    "\n",
    "size=10000\n",
    "\n",
    "model1 = Pipeline([\n",
    "    ('vectorizer', DictVectorizer(sparse=False)),\n",
    "    ('classifier', GaussianNB())])\n",
    "\n",
    "\n",
    "model1.fit(x1[:size], y1[:size])\n",
    "print(\"training ok\")"
   ]
  },
  {
   "cell_type": "markdown",
   "metadata": {},
   "source": [
    "### Model 2\n",
    "Model 2 is pre-trained ``nltk.pos_tag()`` so there's nothing to do here"
   ]
  },
  {
   "cell_type": "markdown",
   "metadata": {},
   "source": [
    "### Model 3\n",
    "1. **DefaultTagger** that simply tags everything with the same tag\n",
    "\n",
    "2. **RegexpTagger** that applies tags according to a set of regular expressions\n",
    "\n",
    "3. ** N-Gram** (n-gram tagger is a generalization of a unigram tagger whose context is the current word together with the part-of-speech tags of the n-1 preceding token)"
   ]
  },
  {
   "cell_type": "code",
   "execution_count": 6,
   "metadata": {},
   "outputs": [],
   "source": [
    "from nltk import DefaultTagger as df\n",
    "from nltk import UnigramTagger as ut\n",
    "from nltk import BigramTagger as bt\n",
    "from nltk import TrigramTagger as tg\n",
    "from nltk import RegexpTagger as rt\n",
    "\n",
    "patterns = [(r'.*ing$', 'VBG'), (r'.*ed$', 'VBD'), (r'.*es$', 'VBZ'), (r'.*ould$', 'MD'), (r'.*\\'s$', 'NN$'),               \n",
    "             (r'.*s$', 'NNS'), (r'^-?[0-9]+(.[0-9]+)?$', 'CD'), (r'.*', 'NN')]\n",
    "\n",
    "model3_def = df('NN')\n",
    "model3_uni = ut(X1_training)\n",
    "model3_bi = bt(X1_training)\n",
    "model3_tri = tg(X1_training)\n",
    "model3_regex = rt(patterns)"
   ]
  },
  {
   "cell_type": "markdown",
   "metadata": {},
   "source": [
    "## Performance Testing\n",
    "### Performance1_1 : Model1 on X1"
   ]
  },
  {
   "cell_type": "code",
   "execution_count": 7,
   "metadata": {},
   "outputs": [
    {
     "name": "stdout",
     "output_type": "stream",
     "text": [
      "Accuracy: 0.768251908778\n"
     ]
    }
   ],
   "source": [
    "performance1_1 = model1.score(x1_test, y1_test)\n",
    "print(\"Accuracy:\", performance1_1)"
   ]
  },
  {
   "cell_type": "markdown",
   "metadata": {},
   "source": [
    "### Performance1_2 : Model2 on X1"
   ]
  },
  {
   "cell_type": "code",
   "execution_count": 8,
   "metadata": {},
   "outputs": [
    {
     "name": "stdout",
     "output_type": "stream",
     "text": [
      "Accuracy: 0.893707270822\n"
     ]
    }
   ],
   "source": [
    "import nltk\n",
    "_, prediction1_2 = transform_to_dataset(nltk.pos_tag_sents(x1_test_sents))\n",
    "performance1_2 = np.mean(np.array(y1_test) == prediction1_2)\n",
    "print(\"Accuracy:\", performance1_2)"
   ]
  },
  {
   "cell_type": "markdown",
   "metadata": {},
   "source": [
    "### Performance1_3 : Model3.x on X1"
   ]
  },
  {
   "cell_type": "code",
   "execution_count": 9,
   "metadata": {},
   "outputs": [
    {
     "name": "stdout",
     "output_type": "stream",
     "text": [
      "Default Tagger on X1\n",
      "0.1447677029791906\n",
      "\n",
      "Unigram Tagger on X1\n",
      "0.8608213982733669\n",
      "\n",
      "Bigram Tagger on X1\n",
      "0.1132791057437996\n",
      "\n",
      "Trigram Tagger on X1\n",
      "0.06736863116922003\n",
      "\n",
      "Regex Tagger on X1\n",
      "0.24232746145017217\n",
      "\n"
     ]
    }
   ],
   "source": [
    "# performance of Default Tagger\n",
    "performance1_3_1 = model3_def.evaluate(X1_test)\n",
    "print(\"Default Tagger on X1\")\n",
    "print(performance1_3_1)\n",
    "print()\n",
    "# performance of Unigram Tagger\n",
    "performance1_3_2 = model3_uni.evaluate(X1_test)\n",
    "print(\"Unigram Tagger on X1\")\n",
    "print(performance1_3_2)\n",
    "print()\n",
    "# performance of Bigram Tagger\n",
    "performance1_3_3 = model3_bi.evaluate(X1_test)\n",
    "print(\"Bigram Tagger on X1\")\n",
    "print(performance1_3_3)\n",
    "print()\n",
    "# performance of Trigram Tagger\n",
    "performance1_3_4 = model3_tri.evaluate(X1_test)\n",
    "print(\"Trigram Tagger on X1\")\n",
    "print(performance1_3_4)\n",
    "print()\n",
    "# performance of Regex Tagger\n",
    "performance1_3_5 = model3_regex.evaluate(X1_test)\n",
    "print(\"Regex Tagger on X1\")\n",
    "print(performance1_3_5)\n",
    "print()"
   ]
  },
  {
   "cell_type": "markdown",
   "metadata": {},
   "source": [
    "## Pre-processing corpus X2"
   ]
  },
  {
   "cell_type": "code",
   "execution_count": null,
   "metadata": {},
   "outputs": [],
   "source": [
    "# setting data training and data test to 80% - 20%\n",
    "cutoff = int(.8 * len(X2))\n",
    "X2_training = X2[:cutoff]\n",
    "X2_test = X2[cutoff:]\n",
    "\n",
    "# x will contain features\n",
    "# y will contain labels/tags\n",
    "x2, y2 = transform_to_dataset(X2_training)\n",
    "x2_test, y2_test = transform_to_dataset(X2_test)\n",
    "\n",
    "x2_test_sents = X2_sents[cutoff:]"
   ]
  },
  {
   "cell_type": "markdown",
   "metadata": {},
   "source": [
    "### Performance1_4 : Model1 on X2"
   ]
  },
  {
   "cell_type": "code",
   "execution_count": 12,
   "metadata": {
    "scrolled": true
   },
   "outputs": [
    {
     "name": "stdout",
     "output_type": "stream",
     "text": [
      "Accuracy: 0.411588624324\n"
     ]
    }
   ],
   "source": [
    "x2_test_split = np.array_split(x2_test, 100)\n",
    "y2_test_split = np.array_split(y2_test, 100)\n",
    "performance1_4 = 0.0\n",
    "for i in range(100):\n",
    "    performance1_4 += model1.score(x2_test_split[i], y2_test_split[i])/100\n",
    "print(\"Accuracy:\", performance1_4)"
   ]
  },
  {
   "cell_type": "markdown",
   "metadata": {},
   "source": [
    "### Performance1_5 : Model2 on X2"
   ]
  },
  {
   "cell_type": "code",
   "execution_count": 42,
   "metadata": {},
   "outputs": [
    {
     "name": "stdout",
     "output_type": "stream",
     "text": [
      "Accuracy: 0.621420626586\n"
     ]
    }
   ],
   "source": [
    "_, prediction1_5 = transform_to_dataset(nltk.pos_tag_sents(x2_test_sents))\n",
    "performance1_5 = np.mean(np.array(y2_test) == np.array(prediction1_5))\n",
    "print(\"Accuracy:\", performance1_5)"
   ]
  },
  {
   "cell_type": "markdown",
   "metadata": {},
   "source": [
    "### Performance1_6 : Model3.x on X2"
   ]
  },
  {
   "cell_type": "code",
   "execution_count": 14,
   "metadata": {},
   "outputs": [
    {
     "name": "stdout",
     "output_type": "stream",
     "text": [
      "Default Tagger on X1\n",
      "0.1311272392932968\n",
      "\n",
      "Unigram Tagger on X1\n",
      "0.4964406192563915\n",
      "\n",
      "Bigram Tagger on X1\n",
      "0.0467714236883209\n",
      "\n",
      "Trigram Tagger on X1\n",
      "0.02575147305993414\n",
      "\n",
      "Regex Tagger on X1\n",
      "0.1945078878509456\n",
      "\n"
     ]
    }
   ],
   "source": [
    "# performance of Default Tagger\n",
    "performance1_6_1 = model3_def.evaluate(X2_test)\n",
    "print(\"Default Tagger on X1\")\n",
    "print(performance1_6_1)\n",
    "print()\n",
    "# performance of Unigram Tagger\n",
    "performance1_6_2 = model3_uni.evaluate(X2_test)\n",
    "print(\"Unigram Tagger on X1\")\n",
    "print(performance1_6_2)\n",
    "print()\n",
    "# performance of Bigram Tagger\n",
    "performance1_6_3 = model3_bi.evaluate(X2_test)\n",
    "print(\"Bigram Tagger on X1\")\n",
    "print(performance1_6_3)\n",
    "print()\n",
    "# performance of Trigram Tagger\n",
    "performance1_6_4 = model3_tri.evaluate(X2_test)\n",
    "print(\"Trigram Tagger on X1\")\n",
    "print(performance1_6_4)\n",
    "print()\n",
    "# performance of Regex Tagger\n",
    "performance1_6_5 = model3_regex.evaluate(X2_test)\n",
    "print(\"Regex Tagger on X1\")\n",
    "print(performance1_6_5)\n",
    "print()"
   ]
  },
  {
   "cell_type": "markdown",
   "metadata": {},
   "source": [
    "## Plotting the performance"
   ]
  },
  {
   "cell_type": "code",
   "execution_count": 45,
   "metadata": {},
   "outputs": [
    {
     "data": {
      "image/png": "[encoded data removed]",
      "text/plain": [
       "<matplotlib.figure.Figure at 0x7fc59a2559b0>"
      ]
     },
     "metadata": {},
     "output_type": "display_data"
    }
   ],
   "source": [
    "import matplotlib.pyplot as plt\n",
    "\n",
    "performance_1 = [performance1_1, performance1_2, performance1_3_1,\n",
    "                 performance1_3_2, performance1_3_3, performance1_3_4,\n",
    "                 performance1_3_5, performance1_4, performance1_5,\n",
    "                 performance1_6_1, performance1_6_2, performance1_6_3,\n",
    "                 performance1_6_4, performance1_6_5]\n",
    "\n",
    "\n",
    "fig, ax = plt.subplots()\n",
    "\n",
    "# Example data\n",
    "data = ('1_1', '1_2', '1_3_1', '1_3_2', '1_3_3', '1_3_4', '1_3_5', '1_4', '1_5', '1_6_1', '1_6_2', '1_6_3', '1_6_4', '1_6_5')\n",
    "y_pos = np.arange(len(data))\n",
    "\n",
    "ax.barh(y_pos, performance_1, align='center',\n",
    "        color='green', ecolor='black')\n",
    "ax.set_yticks(y_pos)\n",
    "ax.set_yticklabels(people)\n",
    "ax.invert_yaxis()  # labels read top-to-bottom\n",
    "ax.set_xlabel('Accuracy')\n",
    "ax.set_title('Performance measurement')\n",
    "\n",
    "plt.show()"
   ]
  },
  {
   "cell_type": "markdown",
   "metadata": {},
   "source": [
    "# Task 2\n",
    "## Model 4\n",
    "Before starting, we will define the feature extractor\n",
    "\n",
    "#### Feature Extractor\n",
    "In this section, we extract the feature of a words. \n",
    "The extracted features are :\n",
    "1. Prefix\n",
    "2. Suffix\n",
    "3. Capitalize (bool)\n",
    "4. Only first letter is capitalize (bool)\n",
    "5. Previous Word\n",
    "6. Next Word\n",
    "7. The word has more than 3 letters (bool)"
   ]
  },
  {
   "cell_type": "code",
   "execution_count": 16,
   "metadata": {},
   "outputs": [
    {
     "name": "stdout",
     "output_type": "stream",
     "text": [
      "{'first_letter_capitalized': False,\n",
      " 'has_adj_suffix': False,\n",
      " 'has_noun_suffix': False,\n",
      " 'has_prefix': False,\n",
      " 'has_verb_suffix': False,\n",
      " 'is_capitalized': False,\n",
      " 'more_than_3_letter': True,\n",
      " 'next_word': 'kalimat',\n",
      " 'prefix': '',\n",
      " 'prev_word': 'Mencoba',\n",
      " 'suffix': 'n',\n",
      " 'word': 'menjelaskan'}\n"
     ]
    }
   ],
   "source": [
    "def features_id(sentence, index):\n",
    "    # array of prefixes\n",
    "    # http://indodic.com/affixeng.html\n",
    "    prefixes = np.array([[],[],['di','ke','me','pe','se'],\\\n",
    "                         ['ber','mem','men','pem','pen','per','ter'],\\\n",
    "                         ['meng','meny','peng','peny'],\\\n",
    "                         ['menge','penge']])\n",
    "    # checking for possible prefix\n",
    "    has_prefix = False\n",
    "    prefix_len = 0\n",
    "    for i in range(5,1):\n",
    "        if sentence[index][:i] in prefixes[i] and len(sentence[index]) != i:\n",
    "            prefix_len = i\n",
    "            has_prefix = True\n",
    "            break\n",
    "    \n",
    "    # array of suffixes \n",
    "    # http://indodic.com/affixeng.html\n",
    "    suffixes = np.array([[],['i'],['an'],\\\n",
    "                            ['kan','lah','kah','nya']])\n",
    "    \n",
    "    # checking for possible suffixes\n",
    "    has_suffixes = False\n",
    "    suffixes_len = -1\n",
    "    for i in range(3,0):\n",
    "        if sentence[index][-i:] in noun_suffixes[i] and len(sentence[index]) != i:\n",
    "            suffixes_len = -i\n",
    "            has_suffixes = True\n",
    "            break\n",
    "    # end of checking for possible suffixes\n",
    "    \n",
    "    return {\n",
    "        'word': sentence[index],\n",
    "        'is_capitalized': sentence[index][0].upper() == sentence[index][0],\n",
    "        'first_letter_capitalized': sentence[index][0].title() == sentence[index][0],\n",
    "        'has_prefix': has_prefix,\n",
    "        'prefix': sentence[index][:prefix_len],\n",
    "        'has_suffix': has_suffixes,\n",
    "        'suffix': sentence[index][suffixes_len:] if has_suffixes else '',\n",
    "        'more_than_3_letter': len(sentence[index]) > 3,\n",
    "        'prev_word': '' if index == 0 else sentence[index - 1],\n",
    "        'next_word': '' if index == len(sentence) - 1 else sentence[index + 1]\n",
    "    }\n",
    "import pprint \n",
    "pprint.pprint(features(['Mencoba','menjelaskan','kalimat','tidak','mungkin'], 1))"
   ]
  },
  {
   "cell_type": "markdown",
   "metadata": {},
   "source": [
    "## Pre-processing corpus X3"
   ]
  },
  {
   "cell_type": "code",
   "execution_count": 135,
   "metadata": {},
   "outputs": [],
   "source": [
    "# Splitting tagged_sentence into [features] and [labels]\n",
    "def transform_to_dataset_id(tagged_sentences):\n",
    "    X, y = [], []\n",
    "    for tagged in tagged_sentences:\n",
    "        for index in range(len(tagged)):\n",
    "            X.append(features_id(untag(tagged), index))\n",
    "            y.append(tagged[index][1])\n",
    " \n",
    "    return X, y\n",
    "\n",
    "# setting data training and data test to 80% - 20%\n",
    "cutoff = int(.8 * len(X3))\n",
    "X3_training = X3[:cutoff]\n",
    "X3_test = X3[cutoff:]\n",
    "\n",
    "# x will contain features\n",
    "# y will contain labels/tags\n",
    "x3, y3 = transform_to_dataset(X3_training)\n",
    "x3_test, y3_test = transform_to_dataset_id(X3_test)\n",
    "\n",
    "x3_test_sents = X3_sents[cutoff:]"
   ]
  },
  {
   "cell_type": "markdown",
   "metadata": {},
   "source": [
    "## Training"
   ]
  },
  {
   "cell_type": "code",
   "execution_count": 47,
   "metadata": {},
   "outputs": [
    {
     "name": "stdout",
     "output_type": "stream",
     "text": [
      "training ok\n"
     ]
    }
   ],
   "source": [
    "from sklearn.tree import DecisionTreeClassifier\n",
    "\n",
    "size=10000\n",
    "\n",
    "model4 = Pipeline([\n",
    "    ('vectorizer', DictVectorizer(sparse=False)),\n",
    "    ('classifier', DecisionTreeClassifier(criterion='entropy'))])\n",
    "\n",
    "model4.fit(x3[:size], y3[:size])\n",
    "print(\"training ok\")"
   ]
  },
  {
   "cell_type": "markdown",
   "metadata": {},
   "source": [
    "## Performance2_1"
   ]
  },
  {
   "cell_type": "code",
   "execution_count": 49,
   "metadata": {},
   "outputs": [
    {
     "name": "stdout",
     "output_type": "stream",
     "text": [
      "Accuracy: 0.624767801858\n"
     ]
    }
   ],
   "source": [
    "performance2_1 = model4.score(x3_test, y3_test)\n",
    "print(\"Accuracy:\", performance2_1)"
   ]
  },
  {
   "cell_type": "markdown",
   "metadata": {},
   "source": [
    "## Model 5"
   ]
  },
  {
   "cell_type": "code",
   "execution_count": 159,
   "metadata": {},
   "outputs": [],
   "source": [
    "import os\n",
    "os.environ['TREETAGGER'] = '/home/yonathan/Documents/treetag/cmd'\n",
    "\n",
    "from treetagger import TreeTagger\n",
    "\n",
    "x3_test_raw = \"\"\n",
    "for i in x3_test_sents:\n",
    "    for j in i:\n",
    "        x3_test_raw+=j+\" \"\n",
    "        \n",
    "tt = TreeTagger(language='dutch')\n",
    "prediction2_2 = np.delete(tt.tag(x3_test_raw), 2, 1)\n",
    "prediction2_2 = np.delete(prediction2_2, 0, 1)"
   ]
  },
  {
   "cell_type": "markdown",
   "metadata": {},
   "source": [
    "## Performance2_2 Model5 in X3"
   ]
  },
  {
   "cell_type": "code",
   "execution_count": 160,
   "metadata": {},
   "outputs": [
    {
     "name": "stdout",
     "output_type": "stream",
     "text": [
      "0.0\n"
     ]
    }
   ],
   "source": [
    "performance2_2 = np.mean(np.reshape(prediction2_2, -1) == np.array(y3_test))\n",
    "print(performance2_2)"
   ]
  },
  {
   "cell_type": "markdown",
   "metadata": {},
   "source": [
    "## Plotting Performance"
   ]
  },
  {
   "cell_type": "code",
   "execution_count": 161,
   "metadata": {},
   "outputs": [
    {
     "data": {
      "image/png": "[encoded data removed]",
      "text/plain": [
       "<matplotlib.figure.Figure at 0x7fc582585e10>"
      ]
     },
     "metadata": {},
     "output_type": "display_data"
    }
   ],
   "source": [
    "performance_2 = [performance2_1, performance2_2]\n",
    "\n",
    "\n",
    "fig, ax = plt.subplots()\n",
    "\n",
    "# Example data\n",
    "data = ('2_1', '2_2')\n",
    "y_pos = np.arange(len(data))\n",
    "\n",
    "ax.barh(y_pos, performance_2, align='center',\n",
    "        color='green', ecolor='black')\n",
    "ax.set_yticks(y_pos)\n",
    "ax.set_yticklabels(people)\n",
    "ax.invert_yaxis()  # labels read top-to-bottom\n",
    "ax.set_xlabel('Accuracy')\n",
    "ax.set_title('Performance measurement')\n",
    "\n",
    "plt.show()"
   ]
  },
  {
   "cell_type": "code",
   "execution_count": null,
   "metadata": {},
   "outputs": [],
   "source": []
  }
 ],
 "metadata": {
  "kernelspec": {
   "display_name": "Python 3",
   "language": "python",
   "name": "python3"
  },
  "language_info": {
   "codemirror_mode": {
    "name": "ipython",
    "version": 3
   },
   "file_extension": ".py",
   "mimetype": "text/x-python",
   "name": "python",
   "nbconvert_exporter": "python",
   "pygments_lexer": "ipython3",
   "version": "3.6.3"
  }
 },
 "nbformat": 4,
 "nbformat_minor": 2
}
