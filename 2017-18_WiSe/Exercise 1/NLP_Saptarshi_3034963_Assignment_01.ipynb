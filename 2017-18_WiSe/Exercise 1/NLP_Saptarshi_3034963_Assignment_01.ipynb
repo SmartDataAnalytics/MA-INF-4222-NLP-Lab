{
 "cells": [
  {
   "cell_type": "markdown",
   "metadata": {},
   "source": [
    "# Task 1"
   ]
  },
  {
   "cell_type": "code",
   "execution_count": 44,
   "metadata": {},
   "outputs": [],
   "source": [
    "import nltk\n",
    "\n",
    "performances = ['1.1', '1.2', '1.3.1', '1.3.2', '1.3.3', '1.3.4', '1.3.5', \n",
    "                '1.4', '1.5', '1.6.1', '1.6.2', '1.6.3', '1.6.4', '1.6.5',]\n",
    "accuracies = [0.0, 0.0, 0.0, 0.0, 0.0, 0.0, 0.0,\n",
    "              0.0, 0.0, 0.0, 0.0, 0.0, 0.0, 0.0]\n",
    "# Fraction of breaking data for training and testing\n",
    "fraction = 0.8\n",
    "\n",
    "# To get training and testing sentences\n",
    "def getTrainTestSents(tagged_sents, fraction):\n",
    "    size = int(len(tagged_sents) * fraction)\n",
    "    train_sents = tagged_sents[:size]\n",
    "    test_sents = tagged_sents[size:]\n",
    "    \n",
    "    return (train_sents, tagged_sents)\n",
    "\n",
    "def untag(tagged_sentence):\n",
    "    return [w for w, t in tagged_sentence]\n",
    "\n",
    "def transform_to_dataset(tagged_sentences):\n",
    "    X,y = [],[]\n",
    "    for tagged in tagged_sentences:\n",
    "        for index in range(len(tagged)):\n",
    "            X.append(features(untag(tagged), index))\n",
    "            y.append(tagged[index][1])\n",
    "\n",
    "    return X,y"
   ]
  },
  {
   "cell_type": "markdown",
   "metadata": {},
   "source": [
    "<h3>Corpora</h3>"
   ]
  },
  {
   "cell_type": "code",
   "execution_count": 45,
   "metadata": {},
   "outputs": [],
   "source": [
    "X1 = nltk.corpus.treebank\n",
    "X2 = nltk.corpus.brown\n",
    "X3 = nltk.corpus.indian\n",
    "\n",
    "X1_tagged_sents = X1.tagged_sents()\n",
    "X1_tuple_sents = getTrainTestSents(X1_tagged_sents, fraction)\n",
    "X1_train_sents = X1_tuple_sents[0]\n",
    "X1_test_sents = X1_tuple_sents[1]\n",
    "\n",
    "X2_tagged_sents = X2.tagged_sents()\n",
    "X2_tuple_sents = getTrainTestSents(X2_tagged_sents, fraction)\n",
    "X2_train_sents = X2_tuple_sents[0]\n",
    "X2_test_sents = X2_tuple_sents[1]\n",
    "\n",
    "X3_tagged_sents = X3.tagged_sents('bangla.pos')\n",
    "X3_tuple_sents = getTrainTestSents(X3_tagged_sents, fraction)\n",
    "X3_train_sents = X3_tuple_sents[0]\n",
    "X3_test_sents = X3_tuple_sents[1]"
   ]
  },
  {
   "cell_type": "markdown",
   "metadata": {},
   "source": [
    "<h3>Model 1</h3>"
   ]
  },
  {
   "cell_type": "code",
   "execution_count": 46,
   "metadata": {},
   "outputs": [],
   "source": [
    "from nltk import word_tokenize, pos_tag\n",
    "\n",
    "from sklearn.tree import DecisionTreeClassifier\n",
    "from sklearn.feature_extraction import DictVectorizer\n",
    "from sklearn.pipeline import Pipeline\n",
    "\n",
    "def features(sentence, index):\n",
    "    return {\n",
    "        'word': sentence[index],\n",
    "        'is_first': index == 0,\n",
    "        'is_last': index == len(sentence) - 1,\n",
    "        'is_capitalized': sentence[index][0].upper() == sentence[index][0],\n",
    "        'is_all_caps': sentence[index].upper() == sentence[index],\n",
    "        'is_all_lower': sentence[index].lower() == sentence[index],\n",
    "        'prefix-1': sentence[index][0],\n",
    "        'prefix-2': sentence[index][:2],\n",
    "        'prefix-3': sentence[index][:3],\n",
    "        'suffix-1': sentence[index][-1],\n",
    "        'suffix-2': sentence[index][-2:],\n",
    "        'suffix-3': sentence[index][-3:],\n",
    "        'prev_word': '' if index == 0 else sentence[index - 1],\n",
    "        'next_word': '' if index == len(sentence) - 1 else sentence[index + 1],\n",
    "        'has_hyphen': '-' in sentence[index],\n",
    "        'is_numeric': sentence[index].isdigit(),\n",
    "        'capitals_inside': sentence[index][1:].lower() != sentence[index][1:]\n",
    "    }\n",
    "\n",
    "def getAccuracy_Model1(tagged_sents, piece):\n",
    "    size = int(len(tagged_sents) * fraction)\n",
    "    train_sents = tagged_sents[:size]\n",
    "    test_sents = tagged_sents[size:]\n",
    "    \n",
    "    X_train,y_train = transform_to_dataset(train_sents)\n",
    "    \n",
    "    print(\"Training \", piece, \"...\")\n",
    "    clf = Pipeline([\n",
    "        ('vectorizer', DictVectorizer(sparse=False)),\n",
    "        ('classifier', DecisionTreeClassifier(criterion='entropy'))\n",
    "    ])\n",
    "    clf.fit(X_train[:10000], y_train[:10000])\n",
    "    print(\"Training over\")\n",
    "    \n",
    "    X_test, y_test = transform_to_dataset(test_sents)\n",
    "    accuracy = clf.score(X_test, y_test)\n",
    "    \n",
    "    return accuracy"
   ]
  },
  {
   "cell_type": "code",
   "execution_count": 47,
   "metadata": {},
   "outputs": [
    {
     "name": "stdout",
     "output_type": "stream",
     "text": [
      "Training  X1 ...\n",
      "Training over\n",
      "Accuracy for Model1 in X1:  0.89405658965\n"
     ]
    }
   ],
   "source": [
    "accuracy = getAccuracy_Model1(X1_tagged_sents, 'X1')\n",
    "print('Accuracy for Model1 in X1: ', accuracy)\n",
    "accuracies[0] = accuracy"
   ]
  },
  {
   "cell_type": "code",
   "execution_count": 48,
   "metadata": {},
   "outputs": [
    {
     "name": "stdout",
     "output_type": "stream",
     "text": [
      "X2 was split in  20  pieces incase of insufficient memory\n",
      "Training  X2(0:2867) ...\n",
      "Training over\n",
      "Training  X2(2867:5734) ...\n",
      "Training over\n",
      "Training  X2(5734:8601) ...\n",
      "Training over\n",
      "Training  X2(8601:11468) ...\n",
      "Training over\n",
      "Training  X2(11468:14335) ...\n",
      "Training over\n",
      "Training  X2(14335:17202) ...\n",
      "Training over\n",
      "Training  X2(17202:20069) ...\n",
      "Training over\n",
      "Training  X2(20069:22936) ...\n",
      "Training over\n",
      "Training  X2(22936:25803) ...\n",
      "Training over\n",
      "Training  X2(25803:28670) ...\n",
      "Training over\n",
      "Training  X2(28670:31537) ...\n",
      "Training over\n",
      "Training  X2(31537:34404) ...\n",
      "Training over\n",
      "Training  X2(34404:37271) ...\n",
      "Training over\n",
      "Training  X2(37271:40138) ...\n",
      "Training over\n",
      "Training  X2(40138:43005) ...\n",
      "Training over\n",
      "Training  X2(43005:45872) ...\n",
      "Training over\n",
      "Training  X2(45872:48739) ...\n",
      "Training over\n",
      "Training  X2(48739:51606) ...\n",
      "Training over\n",
      "Training  X2(51606:54473) ...\n",
      "Training over\n",
      "Training  X2(54473:57340) ...\n",
      "Training over\n",
      "Accuracy for Model1 in X2 0.822918418919\n"
     ]
    }
   ],
   "source": [
    "pieces = 20\n",
    "print(\"X2 was split in \",pieces,\" pieces incase of insufficient memory\")\n",
    "accuracy = 0\n",
    "l1 = 0\n",
    "for i in range(1,pieces+1):\n",
    "    l2 = int(len(X2_tagged_sents) * i * 1.0/pieces)\n",
    "    accuracy += getAccuracy_Model1(X2_tagged_sents[l1:l2], \"X2(\"+str(l1)+\":\"+str(l2)+\")\")\n",
    "    l1 = l2\n",
    "\n",
    "accuracy = 1.0 * accuracy/pieces\n",
    "print('Accuracy for Model1 in X2', accuracy)\n",
    "accuracies[7] = accuracy"
   ]
  },
  {
   "cell_type": "markdown",
   "metadata": {},
   "source": [
    "<h3>Model 2</h3>"
   ]
  },
  {
   "cell_type": "code",
   "execution_count": 49,
   "metadata": {},
   "outputs": [],
   "source": [
    "def getAccuracy_Model2(corpus):\n",
    "    sents = corpus.sents()\n",
    "    X_pred, y_pred = transform_to_dataset(nltk.pos_tag_sents(sents))\n",
    "    X, y = transform_to_dataset(corpus.tagged_sents())\n",
    "    total_count = len(y)\n",
    "    match_count = 0\n",
    "    for i in range(total_count):\n",
    "        if y[i] == y_pred[i]:\n",
    "            match_count += 1\n",
    "    \n",
    "    return match_count * 1.0/total_count  "
   ]
  },
  {
   "cell_type": "code",
   "execution_count": 50,
   "metadata": {},
   "outputs": [
    {
     "name": "stdout",
     "output_type": "stream",
     "text": [
      "Accuracy Model2 in X1: 0.8929834319996821\n"
     ]
    }
   ],
   "source": [
    "accuracy = getAccuracy_Model2(X1)\n",
    "print(\"Accuracy Model2 in X1:\", accuracy)\n",
    "accuracies[1] = accuracy"
   ]
  },
  {
   "cell_type": "code",
   "execution_count": 51,
   "metadata": {},
   "outputs": [
    {
     "name": "stdout",
     "output_type": "stream",
     "text": [
      "Accuracy Model2 in X2: 0.619474643297577\n"
     ]
    }
   ],
   "source": [
    "accuracy = getAccuracy_Model2(X2)\n",
    "print(\"Accuracy Model2 in X2:\", accuracy)\n",
    "accuracies[8] = accuracy"
   ]
  },
  {
   "cell_type": "markdown",
   "metadata": {},
   "source": [
    "<h3>Model 3</h3>"
   ]
  },
  {
   "cell_type": "code",
   "execution_count": 52,
   "metadata": {},
   "outputs": [],
   "source": [
    "from nltk import DefaultTagger as df\n",
    "from nltk import UnigramTagger as ut\n",
    "from nltk import BigramTagger as bt\n",
    "from nltk import TrigramTagger as tg\n",
    "\n",
    "\n",
    "\n",
    "patterns = [(r'.*ing$', 'VBG'), \n",
    "            (r'.*ed$', 'VBD'), \n",
    "            (r'.*es$', 'VBZ'), \n",
    "            (r'.*ould$', 'MD'), \n",
    "            (r'.*\\'s$', 'NN$'),               \n",
    "            (r'.*s$', 'NNS'), \n",
    "            (r'^-?[0-9]+(.[0-9]+)?$', 'CD'), \n",
    "            (r'.*', 'NN')]\n",
    "\n",
    "def getAccuracy_Model3(tagged_sents):\n",
    "    size = int(len(tagged_sents) * fraction)\n",
    "    train_sents = tagged_sents[:size]\n",
    "    test_sents = tagged_sents[size:]\n",
    "    \n",
    "    def_model = nltk.DefaultTagger('NN')\n",
    "    uni_model = nltk.UnigramTagger(train_sents)\n",
    "    bi_model = nltk.BigramTagger(train_sents)\n",
    "    tri_model = nltk.TrigramTagger(train_sents)\n",
    "    regexp_model = nltk.RegexpTagger(patterns)\n",
    "    \n",
    "    def_model.evaluate(train_sents)\n",
    "    uni_model.evaluate(train_sents)\n",
    "    bi_model.evaluate(train_sents)\n",
    "    tri_model.evaluate(train_sents)\n",
    "    regexp_model.evaluate(train_sents)\n",
    "    \n",
    "    accuracies = {\n",
    "        'Default_Tagger': def_model.evaluate(test_sents),\n",
    "        'Unigram_Tagger': uni_model.evaluate(test_sents),\n",
    "        'Bigram_Tagger': bi_model.evaluate(test_sents),\n",
    "        'Trigram_Tagger': tri_model.evaluate(test_sents),\n",
    "        'Regexp_Tagger': regexp_model.evaluate(test_sents),\n",
    "    }\n",
    "    \n",
    "    return accuracies "
   ]
  },
  {
   "cell_type": "code",
   "execution_count": 53,
   "metadata": {},
   "outputs": [
    {
     "name": "stdout",
     "output_type": "stream",
     "text": [
      "Accuracy for Model3 in X1: \n",
      "{'Regexp_Tagger': 0.24232746145017217, 'Trigram_Tagger': 0.06701931234093518, 'Unigram_Tagger': 0.8622685762762613, 'Default_Tagger': 0.1447677029791906, 'Bigram_Tagger': 0.11332900843355456}\n"
     ]
    }
   ],
   "source": [
    "print('Accuracy for Model3 in X1: ')\n",
    "accuracy = getAccuracy_Model3(X1_tagged_sents)\n",
    "print(accuracy)\n",
    "accuracies[2] = accuracy['Default_Tagger']\n",
    "accuracies[3] = accuracy['Unigram_Tagger']\n",
    "accuracies[4] = accuracy['Default_Tagger']\n",
    "accuracies[5] = accuracy['Bigram_Tagger']\n",
    "accuracies[6] = accuracy['Regexp_Tagger']"
   ]
  },
  {
   "cell_type": "code",
   "execution_count": 54,
   "metadata": {},
   "outputs": [
    {
     "name": "stdout",
     "output_type": "stream",
     "text": [
      "Accuracy for Model3 in X2: \n",
      "{'Regexp_Tagger': 0.17594438874995869, 'Trigram_Tagger': 0.19235345311931962, 'Unigram_Tagger': 0.8769788373194672, 'Default_Tagger': 0.10997763652187324, 'Bigram_Tagger': 0.33914820486267944}\n"
     ]
    }
   ],
   "source": [
    "print('Accuracy for Model3 in X2: ')\n",
    "accuracy = getAccuracy_Model3(X2_tagged_sents)\n",
    "print(accuracy)\n",
    "accuracies[9] = accuracy['Default_Tagger']\n",
    "accuracies[10] = accuracy['Unigram_Tagger']\n",
    "accuracies[11] = accuracy['Default_Tagger']\n",
    "accuracies[12] = accuracy['Bigram_Tagger']\n",
    "accuracies[13] = accuracy['Regexp_Tagger']"
   ]
  },
  {
   "cell_type": "code",
   "execution_count": 55,
   "metadata": {},
   "outputs": [
    {
     "data": {
      "image/png": "[encoded data removed]",
      "text/plain": [
       "<matplotlib.figure.Figure at 0x7ff0798252b0>"
      ]
     },
     "metadata": {},
     "output_type": "display_data"
    }
   ],
   "source": [
    "import matplotlib.pyplot as plt\n",
    "\n",
    "plt.rcdefaults()\n",
    "fig, ax = plt.subplots()\n",
    "\n",
    "ax.barh(performances, accuracies, align='center',\n",
    "        color='blue', ecolor='black')\n",
    "ax.set_yticks(performances)\n",
    "ax.set_yticklabels(performances)\n",
    "ax.invert_yaxis()  # labels read top-to-bottom\n",
    "ax.set_xlabel('Performance')\n",
    "ax.set_title('Accuracies')\n",
    "\n",
    "plt.show()"
   ]
  },
  {
   "cell_type": "markdown",
   "metadata": {},
   "source": [
    "# Task 2"
   ]
  },
  {
   "cell_type": "markdown",
   "metadata": {},
   "source": [
    "<h4>Language: Bengali</h4>"
   ]
  },
  {
   "cell_type": "code",
   "execution_count": 56,
   "metadata": {},
   "outputs": [],
   "source": [
    "accuracies = [0.0, 0.0]\n",
    "performances = ['2.1', '2.2']"
   ]
  },
  {
   "cell_type": "code",
   "execution_count": 57,
   "metadata": {},
   "outputs": [
    {
     "name": "stdout",
     "output_type": "stream",
     "text": [
      "How bengali looks:  ['বাসস্থান-ঘরগৃহস্থালি', 'তোড়া', 'ভাষায়', 'গ্রামকেও', 'বলে', '`', 'মোদ', \"'\", '৷']\n"
     ]
    }
   ],
   "source": [
    "print(\"How bengali looks: \", X3.sents()[1])"
   ]
  },
  {
   "cell_type": "code",
   "execution_count": 58,
   "metadata": {},
   "outputs": [
    {
     "name": "stdout",
     "output_type": "stream",
     "text": [
      "Bengali numbers ['০', '১', '২', '৩', '৪', '৫', '৬', '৭', '৮', '৯']\n"
     ]
    }
   ],
   "source": [
    "bengali_numbers = [chr(0x09E6), chr(0x09E7), chr(0x09E8), chr(0x09E9), chr(0x09EA),\n",
    "                   chr(0x09EB), chr(0x09EC), chr(0x09ED), chr(0x09EE), chr(0x09EF)]\n",
    "print(\"Bengali numbers\",bengali_numbers)"
   ]
  },
  {
   "cell_type": "markdown",
   "metadata": {},
   "source": [
    "<h3>Model 4</h3>"
   ]
  },
  {
   "cell_type": "code",
   "execution_count": 59,
   "metadata": {},
   "outputs": [],
   "source": [
    "def transform_to_dataset_bengali(tagged_sentences):\n",
    "    X,y = [],[]\n",
    "    for tagged in tagged_sentences:\n",
    "        for index in range(len(tagged)):\n",
    "            X.append(features_bengali(untag(tagged), index))\n",
    "            y.append(tagged[index][1])\n",
    "\n",
    "    return X,y\n",
    "\n",
    "def isBengaliNumber(word):\n",
    "    isNum = True\n",
    "    for i in list(word):\n",
    "        if i not in bengali_numbers:\n",
    "            isNum = False\n",
    "            break;\n",
    "    \n",
    "    return isNum\n",
    "\n",
    "    \n",
    "def features_bengali(sentence, index):\n",
    "    return {\n",
    "        'word': sentence[index],\n",
    "        'is_first': index == 0,\n",
    "        'is_last': index == len(sentence) - 1,\n",
    "        'prefix-1': sentence[index][0] if sentence[index] != '' else '',\n",
    "        'prefix-2': sentence[index][:2] if sentence[index] != '' else '',\n",
    "        'prefix-3': sentence[index][:3] if sentence[index] != '' else '',\n",
    "        'suffix-1': sentence[index][-1] if sentence[index] != '' else '',\n",
    "        'suffix-2': sentence[index][-2:] if sentence[index] != '' else '',\n",
    "        'suffix-3': sentence[index][-3:] if sentence[index] != '' else '',\n",
    "        'prev_word': '' if index == 0 else sentence[index - 1],\n",
    "        'next_word': '' if index == len(sentence) - 1 else sentence[index + 1],\n",
    "        'has_hyphen': '-' in sentence[index],\n",
    "        'is_numeric': sentence[index].isdigit() or isBengaliNumber(sentence[index])\n",
    "    }\n",
    "\n",
    "def getAccuracy_Model4(tagged_sents, piece):\n",
    "    size = int(len(tagged_sents) * fraction)\n",
    "    train_sents = tagged_sents[:size]\n",
    "    test_sents = tagged_sents[size:]\n",
    "    \n",
    "    X_train,y_train = transform_to_dataset_bengali(train_sents)\n",
    "    \n",
    "    print(\"Training \", piece, \"...\")\n",
    "    clf = Pipeline([\n",
    "        ('vectorizer', DictVectorizer(sparse=False)),\n",
    "        ('classifier', DecisionTreeClassifier(criterion='entropy'))\n",
    "    ])\n",
    "    clf.fit(X_train[:10000], y_train[:10000])\n",
    "    print(\"Training over\")\n",
    "    \n",
    "    X_test, y_test = transform_to_dataset_bengali(test_sents)\n",
    "    accuracy = clf.score(X_test, y_test)\n",
    "    \n",
    "    return accuracy"
   ]
  },
  {
   "cell_type": "code",
   "execution_count": 60,
   "metadata": {},
   "outputs": [
    {
     "data": {
      "text/plain": [
       "{'has_hyphen': False,\n",
       " 'is_first': False,\n",
       " 'is_last': False,\n",
       " 'is_numeric': True,\n",
       " 'next_word': '-',\n",
       " 'prefix-1': '১',\n",
       " 'prefix-2': '১৮',\n",
       " 'prefix-3': '১৮৬',\n",
       " 'prev_word': '(',\n",
       " 'suffix-1': '১',\n",
       " 'suffix-2': '৬১',\n",
       " 'suffix-3': '৮৬১',\n",
       " 'word': '১৮৬১'}"
      ]
     },
     "execution_count": 60,
     "metadata": {},
     "output_type": "execute_result"
    }
   ],
   "source": [
    "features_bengali(['শৈশব', 'ও', 'কৈশোর', '(', '১৮৬১', '-' ,'১৮৭৮', ')'], 4)"
   ]
  },
  {
   "cell_type": "code",
   "execution_count": 61,
   "metadata": {},
   "outputs": [
    {
     "name": "stdout",
     "output_type": "stream",
     "text": [
      "Training  X3 ...\n",
      "Training over\n",
      "Accuracy for Model4 in X3:  0.714648295867\n"
     ]
    }
   ],
   "source": [
    "accuracy = getAccuracy_Model4(X3_tagged_sents, 'X3')\n",
    "print('Accuracy for Model4 in X3: ', accuracy)\n",
    "accuracies[0] = accuracy"
   ]
  },
  {
   "cell_type": "markdown",
   "metadata": {},
   "source": [
    "<h3>Model 5</h3>"
   ]
  },
  {
   "cell_type": "markdown",
   "metadata": {},
   "source": [
    "<h4>Language: Hindi<br/>\n",
    "POS tagger model: RDRPOSTagger</h4>"
   ]
  },
  {
   "cell_type": "markdown",
   "metadata": {},
   "source": [
    "Hindi was used because RDRPOSTagger or Treebank did not have dictionary for Bengali.<br/>\n",
    "Path RDRPOStagger was included as per the location in the local computer."
   ]
  },
  {
   "cell_type": "code",
   "execution_count": 62,
   "metadata": {
    "scrolled": true
   },
   "outputs": [
    {
     "name": "stdout",
     "output_type": "stream",
     "text": [
      "['Node', '__builtins__', '__cached__', '__doc__', '__file__', '__loader__', '__name__', '__package__', '__spec__', 'tabStr']\n",
      "Tagged Sentence in Hindi:  [('उनकी', 'PRP'), ('माता', 'NNP'), ('का', 'PSP'), ('नाम', 'NN'), ('आनन्दी', 'NN'), ('देवी', 'NNP'), ('था', 'VM'), ('तथा', 'CC'), ('पिता', 'NN'), ('मुंशी', 'NNP'), ('अजायबराय', 'NNC'), ('लमही', 'NN'), ('में', 'PSP'), ('डाकमुंशी', 'NN'), ('थे।', 'NN')]\n"
     ]
    }
   ],
   "source": [
    "import sys\n",
    "sys.path.insert(0, r'/home/saptarshi/UniBonn/MSc/Semester_2/Natural Language Processing/MA-INF-4222-NLP-Lab-master/2017-18_WiSe/RDRPOSTagger-python-3-master/pSCRDRtagger')\n",
    "\n",
    "import RDRPOSTagger as rpt\n",
    "\n",
    "def tagged_tuples(tagged_str):\n",
    "    tagged_tuples = []\n",
    "    for t in tagged_str.split():\n",
    "        x, y = t.split('/')\n",
    "        tagged_tuples.append((x,y))\n",
    "    \n",
    "    return tagged_tuples\n",
    "\n",
    "r = rpt.RDRPOSTagger()\n",
    "r.constructSCRDRtreeFromRDRfile(\"../Models/POS/Hindi.RDR\")\n",
    "DICT = rpt.readDictionary(\"../Models/POS/Hindi.DICT\")\n",
    "\n",
    "t = r.tagRawSentence(DICT, \"उनकी माता का नाम आनन्दी देवी था तथा पिता मुंशी अजायबराय लमही में डाकमुंशी थे।\")\n",
    "\n",
    "print(\"Tagged Sentence in Hindi: \",tagged_tuples(t))"
   ]
  },
  {
   "cell_type": "code",
   "execution_count": 63,
   "metadata": {},
   "outputs": [],
   "source": [
    "def getAccuracy_Model5(tagged_sents_corpus, tagged_sents_predicted):\n",
    "    X_pred, y_pred = transform_to_dataset(tagged_sents_predicted)\n",
    "    X, y = transform_to_dataset(tagged_sents_corpus)\n",
    "    total_count = len(y)\n",
    "    match_count = 0\n",
    "    \n",
    "    for i in range(total_count):\n",
    "        if y[i] == y_pred[i]:\n",
    "            match_count += 1\n",
    "    \n",
    "    return match_count * 1.0/total_count"
   ]
  },
  {
   "cell_type": "code",
   "execution_count": 64,
   "metadata": {},
   "outputs": [
    {
     "name": "stdout",
     "output_type": "stream",
     "text": [
      "Accuracy for Model5 in X3(Hindi):  0.41156462585034015\n"
     ]
    }
   ],
   "source": [
    "X3_hindi_tagged_sents = X3.tagged_sents('hindi.pos')\n",
    "X3_hindi_sents = X3.sents('hindi.pos')\n",
    "X3_hindi_text = [' '.join(i) for i in X3_hindi_sents]\n",
    "X3_hindi_text = ' '.join(X3_hindi_text)\n",
    "\n",
    "X3_hindi_tagged_text = r.tagRawSentence(DICT, v)\n",
    "X3_hindi_predicted_tuples = [tagged_tuples(X3_hindi_tagged_text)]\n",
    "\n",
    "accuracy = getAccuracy_Model5( X3_hindi_tagged_sents, X3_hindi_predicted_tuples)\n",
    "print('Accuracy for Model5 in X3(Hindi): ', accuracy)\n",
    "accuracies[1] = accuracy"
   ]
  },
  {
   "cell_type": "code",
   "execution_count": 65,
   "metadata": {},
   "outputs": [
    {
     "data": {
      "image/png": "[encoded data removed]",
      "text/plain": [
       "<matplotlib.figure.Figure at 0x7ff07c8d2ba8>"
      ]
     },
     "metadata": {},
     "output_type": "display_data"
    }
   ],
   "source": [
    "import matplotlib.pyplot as plt\n",
    "\n",
    "plt.rcdefaults()\n",
    "fig, ax = plt.subplots()\n",
    "\n",
    "ax.barh(performances, accuracies, align='center',\n",
    "        color='blue', ecolor='black')\n",
    "ax.set_yticks(performances)\n",
    "ax.set_yticklabels(performances)\n",
    "ax.invert_yaxis()  # labels read top-to-bottom\n",
    "ax.set_xlabel('Performance')\n",
    "ax.set_title('Accuracies')\n",
    "\n",
    "plt.show()"
   ]
  },
  {
   "cell_type": "code",
   "execution_count": null,
   "metadata": {},
   "outputs": [],
   "source": []
  }
 ],
 "metadata": {
  "kernelspec": {
   "display_name": "Python 3",
   "language": "python",
   "name": "python3"
  },
  "language_info": {
   "codemirror_mode": {
    "name": "ipython",
    "version": 3
   },
   "file_extension": ".py",
   "mimetype": "text/x-python",
   "name": "python",
   "nbconvert_exporter": "python",
   "pygments_lexer": "ipython3",
   "version": "3.5.2"
  }
 },
 "nbformat": 4,
 "nbformat_minor": 2
}
