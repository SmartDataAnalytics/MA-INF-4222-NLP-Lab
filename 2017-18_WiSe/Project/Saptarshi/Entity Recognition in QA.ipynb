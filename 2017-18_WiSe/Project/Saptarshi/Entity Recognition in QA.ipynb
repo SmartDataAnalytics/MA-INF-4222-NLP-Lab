{
 "cells": [
  {
   "cell_type": "markdown",
   "metadata": {},
   "source": [
    "<div><h1 style=\"display:inline !important;\">Question Answering</h1><br/><h3 style=\"color: #6e6e6e; display:inline  !important;\">Relation Identification and Linking</h3></div>"
   ]
  },
  {
   "cell_type": "markdown",
   "metadata": {},
   "source": [
    "## Dependencies"
   ]
  },
  {
   "cell_type": "markdown",
   "metadata": {},
   "source": [
    "<ul>\n",
    "<li>Currently uses the Stanford dependency parser provided by nltk.</li>\n",
    "<li>loadW2V is a program that loads word2Vec model stored in disk. (The models are provide by gensim)</li>\n",
    "<li>OxfordDictionary calls the Oxford Dictionary API to retrieve synonyms for certain words.</li>\n",
    "</ul>"
   ]
  },
  {
   "cell_type": "code",
   "execution_count": 14,
   "metadata": {
    "collapsed": true
   },
   "outputs": [],
   "source": [
    "from nltk.parse.stanford import StanfordDependencyParser\n",
    "from SPARQLWrapper import SPARQLWrapper, JSON\n",
    "from urlparse import urlparse\n",
    "import loadW2V\n",
    "import numpy as np\n",
    "import OxfordDictionary as od\n",
    "import requests\n",
    "import urllib\n",
    "import ast\n",
    "import json\n",
    "import sys"
   ]
  },
  {
   "cell_type": "markdown",
   "metadata": {},
   "source": [
    "If you want to see details of the extraction of answers, set the following to 'True':"
   ]
  },
  {
   "cell_type": "code",
   "execution_count": 15,
   "metadata": {
    "collapsed": true
   },
   "outputs": [],
   "source": [
    "log_details = False"
   ]
  },
  {
   "cell_type": "markdown",
   "metadata": {},
   "source": [
    "This is to store JSON of the details of extraction of answers."
   ]
  },
  {
   "cell_type": "code",
   "execution_count": 16,
   "metadata": {
    "collapsed": true
   },
   "outputs": [],
   "source": [
    "bigJson = []"
   ]
  },
  {
   "cell_type": "markdown",
   "metadata": {},
   "source": [
    "# Functions"
   ]
  },
  {
   "cell_type": "markdown",
   "metadata": {},
   "source": [
    "### get_label(URI)"
   ]
  },
  {
   "cell_type": "markdown",
   "metadata": {},
   "source": [
    "The function <b>\"get_Label\"</b> returns the label of the provided URI.\n",
    "<br/><br/>\n",
    "For example: <br/>\n",
    "If the provided URI is http://dbpedia.org/ontology/birthDate, it returns the string <b>birth date</b>."
   ]
  },
  {
   "cell_type": "code",
   "execution_count": 18,
   "metadata": {
    "collapsed": true
   },
   "outputs": [],
   "source": [
    "def get_Label(URI):\n",
    "    sparql = SPARQLWrapper(\"http://dbpedia.org/sparql\")\n",
    "    query = \"\"\"\n",
    "            PREFIX rdfs: <http://www.w3.org/2000/01/rdf-schema#>\n",
    "            SELECT ?label\n",
    "            WHERE { <\"\"\" + URI + \"\"\">\n",
    "            rdfs:label ?label \n",
    "            FILTER (lang(?label) = 'en') }            \n",
    "        \"\"\"\n",
    "    \n",
    "    sparql.setQuery(query)\n",
    "    sparql.setReturnFormat(JSON)\n",
    "    results = sparql.query().convert()\n",
    "    \n",
    "    if(len(results['results']['bindings']) > 0):\n",
    "        return results['results']['bindings'][0]['label']['value']\n",
    "    else:\n",
    "        return False"
   ]
  },
  {
   "cell_type": "code",
   "execution_count": 19,
   "metadata": {},
   "outputs": [
    {
     "data": {
      "text/plain": [
       "u'birth date'"
      ]
     },
     "execution_count": 19,
     "metadata": {},
     "output_type": "execute_result"
    }
   ],
   "source": [
    "get_Label('http://dbpedia.org/ontology/birthDate')"
   ]
  },
  {
   "cell_type": "markdown",
   "metadata": {},
   "source": [
    "### get_properties(URI)"
   ]
  },
  {
   "cell_type": "markdown",
   "metadata": {},
   "source": [
    "The function <b>\"get_properties\"</b> returns the properties of the provided URI.\n",
    "<br/><br/>\n",
    "For example: <br/>\n",
    "If the provided URI is http://dbpedia.org/resource/John_F._Kennedy, it returns the list of all properties in this resource."
   ]
  },
  {
   "cell_type": "code",
   "execution_count": 20,
   "metadata": {
    "collapsed": true
   },
   "outputs": [],
   "source": [
    "def get_properties(URI):\n",
    "    sparql = SPARQLWrapper(\"http://dbpedia.org/sparql\")\n",
    "    query = \"\"\"\n",
    "        select distinct ?prop where {\n",
    "             <\"\"\"+ URI +\"\"\">\n",
    "             ?prop ?ent }\n",
    "    \"\"\"\n",
    "    sparql.setQuery(query)\n",
    "    sparql.setReturnFormat(JSON)\n",
    "    results = sparql.query().convert()\n",
    "\n",
    "    allowed_types = [\"property\", \"ontology\"]\n",
    "    properties = []\n",
    "    \n",
    "    for result in results[\"results\"][\"bindings\"]:\n",
    "        arr = result[\"prop\"][\"value\"].split('/')\n",
    "        # properties.append(arr[len(arr) - 1])\n",
    "        if arr[len(arr) - 1] != 'abstract' and (arr[len(arr) - 2] in allowed_types):\n",
    "            label = get_Label(result[\"prop\"][\"value\"])\n",
    "            properties.append([arr[len(arr) - 1], arr[len(arr) - 2], result[\"prop\"][\"value\"], label])\n",
    "    \n",
    "    if log_details:\n",
    "        print \"\\nPROPERTIES:\"\n",
    "        print properties\n",
    "    return properties"
   ]
  },
  {
   "cell_type": "markdown",
   "metadata": {},
   "source": [
    "### get_closest_word(word, URI, json_unit, with_synonyms=False)"
   ]
  },
  {
   "cell_type": "markdown",
   "metadata": {},
   "source": [
    "The function <b>\"get_closest_word\"</b> returns the property of the URI which is closest to the provided word.\n",
    "<br/><br/>\n",
    "For example: <br/>\n",
    "If the provided word is <b>wife</b> for http://dbpedia.org/resource/John_F._Kennedy, it returns the property <b>spouse</b>."
   ]
  },
  {
   "cell_type": "code",
   "execution_count": 76,
   "metadata": {
    "collapsed": true
   },
   "outputs": [],
   "source": [
    "# Change if you host the server in locally\n",
    "#w2v_server_url = 'http://localhost:5000/'\n",
    "w2v_server_url = 'http://131.220.155.102:5000/'"
   ]
  },
  {
   "cell_type": "code",
   "execution_count": 73,
   "metadata": {
    "collapsed": true,
    "scrolled": true
   },
   "outputs": [],
   "source": [
    "def get_closest_keyword(word, URI, json_unit, with_synonyms=False):\n",
    "    if with_synonyms == True:\n",
    "        if len(\" \".split(word)) > 1:\n",
    "            with_synonyms = False\n",
    "            \n",
    "    properties = get_properties(URI)\n",
    "\n",
    "    stack_details = {}\n",
    "    stack_details[\"word\"] = word\n",
    "    stack_details[\"properties\"] = properties\n",
    "    stack_details[\"withSynonyms\"] = with_synonyms\n",
    "    \n",
    "    properties = np.array(properties)\n",
    "    \n",
    "    if log_details:\n",
    "        print \"To be matched with: \", word\n",
    "    \n",
    "    # If word being looked for is in the list of properties\n",
    "    for p in properties:\n",
    "        if p[0] == word:\n",
    "            json_unit[\"stackDetails\"].append(stack_details)\n",
    "            return p\n",
    "\n",
    "    if with_synonyms:\n",
    "        synonyms = od.getSynonyms(word)\n",
    "        stack_details[\"synonyms\"] = synonyms\n",
    "\n",
    "        log = []\n",
    "        if synonyms == False:\n",
    "            synonyms = []\n",
    "\n",
    "        synonyms.append((word, word))\n",
    "        if log_details:\n",
    "            print \"\\nSYNONYMS:\"\n",
    "            print synonyms\n",
    "\n",
    "        for synonym in synonyms:\n",
    "            for p in properties:\n",
    "                if p[0] == synonym[0]:\n",
    "                    json_unit[\"stackDetails\"].append(stack_details)\n",
    "                    return p\n",
    "\n",
    "\n",
    "        text_properties = ''\n",
    "        for p in properties:\n",
    "            text_properties = text_properties + '+' + p[0]\n",
    "\n",
    "        text_synonyms = ''\n",
    "        for s in synonyms:\n",
    "            text_synonyms = text_synonyms + '+' + s[0]\n",
    "\n",
    "        url_w2v_server = w2v_server_url + urllib.quote(text_synonyms) + '/' + urllib.quote(text_properties)\n",
    "        if log_details:\n",
    "            print \"\\nURL OF WORD2VEC SERVER:\"\n",
    "            print url_w2v_server\n",
    "\n",
    "        response = requests.get(url_w2v_server)\n",
    "        prop_syn_avg = ast.literal_eval(response.text)\n",
    "\n",
    "        stack_details[\"propertySynonymAvg\"] = prop_syn_avg\n",
    "\n",
    "        prop_syn_avg = np.array(prop_syn_avg)\n",
    "\n",
    "        if log_details:\n",
    "            print \"\\nRESPONSE FROM W2V SERVER:\"\n",
    "            print prop_syn_avg\n",
    "\n",
    "\n",
    "        keyword = prop_syn_avg[np.argmax(prop_syn_avg[:,1])][0]\n",
    "\n",
    "        stack_details[\"keyword\"] = keyword\n",
    "        json_unit[\"stackDetails\"].append(stack_details)\n",
    "        \n",
    "        print \"\\nKEYWORD\"\n",
    "        print keyword\n",
    "        if(keyword == None):\n",
    "            return keyword\n",
    "        \n",
    "        for p in properties:\n",
    "            if p[0] == keyword:\n",
    "                if log_details:\n",
    "                    print \"\\nKEYWORD DETAILS:\"\n",
    "                    print p\n",
    "                return p\n",
    "    else:\n",
    "        phrase = word\n",
    "        labels = []\n",
    "        \n",
    "        text_labels = ''\n",
    "        for p in properties:\n",
    "            text_labels = text_labels + '+' + p[3].encode('utf8')\n",
    "        \n",
    "        url_w2v_server = w2v_server_url + 'phraselabel/' + urllib.quote(phrase) + '/'+urllib.quote(text_labels)\n",
    "        \n",
    "        if log_details:\n",
    "            print \"\\nURL OF WORD2VEC SERVER:\"\n",
    "            print url_w2v_server\n",
    "\n",
    "        response = requests.get(url_w2v_server)\n",
    "        phrase_label_avg = ast.literal_eval(response.text)\n",
    "\n",
    "        stack_details[\"phraseLabelAvg\"] = phrase_label_avg\n",
    "        \n",
    "        phrase_label_avg = np.array(phrase_label_avg)\n",
    "\n",
    "        if log_details:\n",
    "            print \"\\nRESPONSE FROM W2V SERVER:\"\n",
    "            print phrase_label_avg\n",
    "        \n",
    "        keyword = phrase_label_avg[np.argmax(phrase_label_avg[:,2])][1]\n",
    "        \n",
    "        stack_details[\"keyword\"] = keyword\n",
    "        json_unit[\"stackDetails\"].append(stack_details)\n",
    "        print \"\\nKEYWORD\"\n",
    "        print keyword\n",
    "        if(keyword == None):\n",
    "            return keyword\n",
    "        \n",
    "        for p in properties:\n",
    "            if p[3] == keyword:\n",
    "                if log_details:\n",
    "                    print \"\\nKEYWORD DETAILS:\"\n",
    "                    print p\n",
    "                return p"
   ]
  },
  {
   "cell_type": "markdown",
   "metadata": {},
   "source": [
    "### fetch_compound(word, model)"
   ]
  },
  {
   "cell_type": "markdown",
   "metadata": {},
   "source": [
    "The function <b>\"fetch_compound\"</b> returns compound words for words from the given model after dependency parsing.\n",
    "<br/><br/>\n",
    "For example: <br/>\n",
    "If the provided word is <b>date</b>, whereas we are actually looking for <b>birth date</b> in the question, it will return so by looking up the model"
   ]
  },
  {
   "cell_type": "code",
   "execution_count": 22,
   "metadata": {
    "collapsed": true
   },
   "outputs": [],
   "source": [
    "def fetch_compound(word, model):\n",
    "    compound_word = []\n",
    "    for m in model:\n",
    "        if m[1] == u'compound' and m[0][0] == word:\n",
    "            compound_word.append(m[2][0])\n",
    "\n",
    "    compound_word.append(word)\n",
    "    return compound_word"
   ]
  },
  {
   "cell_type": "markdown",
   "metadata": {},
   "source": [
    "### call_sparql(keyword, URI, pType)"
   ]
  },
  {
   "cell_type": "markdown",
   "metadata": {},
   "source": [
    "The function <b>\"call_sparql\"</b> returns values of properties provided as keywords in the given URI.\n",
    "<br/><br/>\n",
    "For example: <br/>\n",
    "If we are looking for <b>spouse</b> of http://dbpedia.org/resource/John_F._Kennedy it will return http://dbpedia.org/resource/Jacqueline_Kennedy_Onassis"
   ]
  },
  {
   "cell_type": "code",
   "execution_count": 23,
   "metadata": {
    "collapsed": true
   },
   "outputs": [],
   "source": [
    "def call_sparql(keyword, URI, pType):\n",
    "    # print \"\\nCALL SPARQL:\"\n",
    "    pTypes = np.array([[u'ontology', 'dbo'],[u'property', 'dbp']])\n",
    "    \n",
    "    for p in pTypes:\n",
    "        if p[0] == pType:\n",
    "            pType = p[1]\n",
    "\n",
    "    sparql = SPARQLWrapper(\"http://dbpedia.org/sparql\")\n",
    "    query = \"\"\"\n",
    "        PREFIX rdfs: <http://www.w3.org/2000/01/rdf-schema#>\n",
    "        SELECT ?\"\"\"+ keyword +\"\"\"\n",
    "        WHERE { <\"\"\" + URI + \"\"\">\n",
    "        \"\"\"+pType+\"\"\":\"\"\"+keyword+\"\"\" ?\"\"\"+keyword+\"\"\" }\n",
    "    \"\"\"\n",
    "    if log_details:\n",
    "        print query\n",
    "        \n",
    "    sparql.setQuery(query)\n",
    "\n",
    "    sparql.setReturnFormat(JSON)\n",
    "    results = sparql.query().convert()\n",
    "    \n",
    "    return [r[keyword][\"value\"] for r in results[\"results\"][\"bindings\"]]"
   ]
  },
  {
   "cell_type": "markdown",
   "metadata": {},
   "source": [
    "### getResources(text)"
   ]
  },
  {
   "cell_type": "markdown",
   "metadata": {},
   "source": [
    "The function <b>\"getResources\"</b> returns URI for a marked entity in a sentence.\n",
    "<br/><br/>\n",
    "For example: <br/>\n",
    "If the provided text is <b>Who are the family members of [Peter Griffin]?</b>, it returns http://dbpedia.org/resource/Peter_Griffin"
   ]
  },
  {
   "cell_type": "code",
   "execution_count": 62,
   "metadata": {
    "collapsed": true
   },
   "outputs": [],
   "source": [
    "def getResources(text):\n",
    "    cookies = {\n",
    "        'JSESSIONID': 'BC9CD43D9E1AE3E7CF51E00D3A3A7702',\n",
    "    }\n",
    "\n",
    "    headers = {\n",
    "        'Origin': 'http://agdistis.aksw.org',\n",
    "        'Accept-Encoding': 'gzip, deflate',\n",
    "        'Accept-Language': 'en-GB,en-US;q=0.8,en;q=0.6',\n",
    "        'User-Agent': 'Mozilla/5.0 (X11; Linux x86_64) AppleWebKit/537.36 (KHTML, like Gecko) Chrome/58.0.3029.68 Safari/537.36',\n",
    "        'Content-Type': 'application/json;charset=UTF-8',\n",
    "        'Accept': 'application/json, text/plain, */*',\n",
    "        'Referer': 'http://agdistis.aksw.org/demo/',\n",
    "        'Connection': 'keep-alive',\n",
    "    }\n",
    "    \n",
    "    data = '{\"text\": \"'+text+'\"}'\n",
    "    response = requests.post('http://agdistis.aksw.org/demo/agdistis', headers=headers, cookies=cookies, data=data)\n",
    "    \n",
    "    return response.json()"
   ]
  },
  {
   "cell_type": "markdown",
   "metadata": {},
   "source": [
    "### answer(question)"
   ]
  },
  {
   "cell_type": "markdown",
   "metadata": {},
   "source": [
    "The function <b>\"answer\"</b> returns an answer for a question using the functions above.\n",
    "<br/><br/>\n",
    "For example: <br/>\n",
    "If we are looking for an answer for <b>\"What was the religion of the wife of JFK?\"</b>, it should return the URI  http://dbpedia.org/resource/Catholic_Church."
   ]
  },
  {
   "cell_type": "code",
   "execution_count": 61,
   "metadata": {
    "collapsed": true
   },
   "outputs": [],
   "source": [
    "def answer(question):\n",
    "    print \"...\"\n",
    "    path_to_jar = 'stanford-corenlp-full-2017-06-09/stanford-corenlp-3.8.0.jar'\n",
    "    path_to_models_jar = 'stanford-corenlp-full-2017-06-09/stanford-corenlp-3.8.0-models.jar'\n",
    "\n",
    "    dependency_parser = StanfordDependencyParser(path_to_jar=path_to_jar,\n",
    "                                                 path_to_models_jar=path_to_models_jar)\n",
    "\n",
    "\n",
    "    json_unit = {}\n",
    "    json_unit[\"question\"] = question\n",
    "    if log_details:\n",
    "        print \"\\nQUESTION:\"\n",
    "        print question\n",
    "\n",
    "    result = dependency_parser.raw_parse(question)\n",
    "    dep = result.next()\n",
    "\n",
    "    model = list(dep.triples())\n",
    "\n",
    "    json_unit[\"model\"] = model\n",
    "    if log_details:\n",
    "        print '\\nMODEL:'\n",
    "        print model\n",
    "\n",
    "\n",
    "    URI = \"http://dbpedia.org/resource/\"\n",
    "    keyword = None\n",
    "    handle = None\n",
    "    trail = None\n",
    "    stack = []\n",
    "    \n",
    "    for i in range(len(model)):\n",
    "        if model[i][1] == u'nsubj':\n",
    "            stack.append(model[i][2][0])\n",
    "\n",
    "    for i in range(len(model)):\n",
    "        if model[i][0][0] == stack[len(stack) - 1] and (model[i][1] == u'nmod' or model[i][1] == u'nmod:poss') :\n",
    "            stack.append(model[i][2][0])\n",
    "\n",
    "    json_unit[\"stack\"] = list(stack)\n",
    "    if log_details:\n",
    "        print '\\nSTACK:'\n",
    "        print stack\n",
    "    handle = stack.pop()\n",
    "    handle = fetch_compound(handle, model)\n",
    "    \n",
    "    compound = ' '.join(handle)\n",
    "    markers = [\"[\",\"]\"]\n",
    "    # markers = [\"<entity>\", \"<entity>\"] \n",
    "    text = question[:question.index(compound)] \\\n",
    "                + markers[0] + question[question.index(compound):question.index(compound)+len(compound)] + markers[1] \\\n",
    "                + question[(question.index(compound)+len(compound)):]\n",
    "    \n",
    "    resjson = getResources(text)\n",
    "    URI = resjson['namedEntities'][0]['disambiguatedURL']\n",
    "    json_unit[\"primaryURL\"] = {}\n",
    "    json_unit[\"primaryURL\"][\"src\"] = \"agdistis\"\n",
    "    json_unit[\"primaryURL\"][\"value\"] = URI\n",
    "\n",
    "    if log_details:\n",
    "        print \"\\nAGISDISTIS URI:\"\n",
    "        print URI\n",
    "   \n",
    "    if URI == None:\n",
    "        json_unit[\"answer\"] = \"Failed to fetch answer\"\n",
    "        return []\n",
    "\n",
    "    results = []\n",
    "    if len(stack) == 0:\n",
    "        results.append(URI)\n",
    "        \n",
    "    i = len(stack)\n",
    "    json_unit[\"stackDetails\"] = []\n",
    "    \n",
    "    while i > 0:\n",
    "        old_results = results\n",
    "        trail = stack.pop()\n",
    "        keyword = fetch_compound(trail, model)\n",
    "\n",
    "        keyword = ' '.join(keyword)\n",
    "        pair = get_closest_keyword(keyword, URI, json_unit)\n",
    "        \n",
    "        \n",
    "        if type(pair) != np.ndarray and pair == None:\n",
    "            results = old_results\n",
    "            break\n",
    "            \n",
    "        if log_details:\n",
    "            print pair\n",
    "        keyword = pair[0]\n",
    "        pType = pair[1]\n",
    "\n",
    "        if log_details:\n",
    "            print keyword, \", \", URI\n",
    "        results = call_sparql(keyword, URI, pType)\n",
    "        if log_details:\n",
    "            print results\n",
    "\n",
    "        for res in results:\n",
    "            parsed_url = urlparse(res)\n",
    "\n",
    "            if parsed_url.scheme == u'http' or parsed_url.scheme == u'https':\n",
    "                URI = res\n",
    "            else:\n",
    "                break\n",
    "\n",
    "        i -= 1\n",
    "    \n",
    "    json_unit[\"answer\"] = results\n",
    "    bigJson.append(json_unit)\n",
    "    return results\n"
   ]
  },
  {
   "cell_type": "markdown",
   "metadata": {},
   "source": [
    "### Set of Questions"
   ]
  },
  {
   "cell_type": "code",
   "execution_count": 60,
   "metadata": {
    "collapsed": true
   },
   "outputs": [],
   "source": [
    "questions = [\n",
    "    'Where is the birth place of Bal Gangadhar Tilak?',\n",
    "    'What is the capital of Germany?',\n",
    "    'What are the population of capital of Germany?',\n",
    "    'Who is the president of United States?',\n",
    "    'When is the birth date of Tom Cruise?',\n",
    "    'What is the color of the flag of Germany?',\n",
    "    'Who is Donald Trump?',\n",
    "    'Where is birth place of wife of Mahatma Gandhi?',\n",
    "    'Who is the vice president of John Kennedy?',\n",
    "    'What is the birth place of wife of John Kennedy?',\n",
    "    'What is the municipality of Roberto Clemente Bridge',\n",
    "    'What is the nationality of the prime minister of Thanong Bidaya?',\n",
    "    'What is the party of Mumbai North?', # Failing due to agidistis\n",
    "    'Who is the founder of Facebook?',\n",
    "    'Who is the supreme leader of North Korea?',\n",
    "    'Who is the writer of family guy?',\n",
    "    \"What is Peter Griffin's nationality?\",\n",
    "    \"Who is Stewie Griffin's old man?\",\n",
    "    \"Who are the family members of Peter Griffin?\",\n",
    "    \"What are the oceans of Earth?\", # Failing due to agidistis\n",
    "    \"What are satellites of Earth?\" # Failing due to agidistis\n",
    "]"
   ]
  },
  {
   "cell_type": "markdown",
   "metadata": {},
   "source": [
    "### Write your question here"
   ]
  },
  {
   "cell_type": "markdown",
   "metadata": {},
   "source": [
    "Set log_details to True if you want to see the details of extraction."
   ]
  },
  {
   "cell_type": "code",
   "execution_count": 82,
   "metadata": {
    "collapsed": true
   },
   "outputs": [],
   "source": [
    "log_details = False"
   ]
  },
  {
   "cell_type": "code",
   "execution_count": 74,
   "metadata": {
    "collapsed": true
   },
   "outputs": [],
   "source": [
    "question = \"Who is the vice president of John Kennedy?\""
   ]
  },
  {
   "cell_type": "code",
   "execution_count": 75,
   "metadata": {
    "scrolled": false
   },
   "outputs": [
    {
     "name": "stdout",
     "output_type": "stream",
     "text": [
      "...\n",
      "\n",
      "QUESTION:\n",
      "Who is the vice president of John Kennedy?\n",
      "\n",
      "MODEL:\n",
      "[((u'Who', u'WP'), u'cop', (u'is', u'VBZ')), ((u'Who', u'WP'), u'nsubj', (u'president', u'NN')), ((u'president', u'NN'), u'det', (u'the', u'DT')), ((u'president', u'NN'), u'compound', (u'vice', u'NN')), ((u'president', u'NN'), u'nmod', (u'Kennedy', u'NNP')), ((u'Kennedy', u'NNP'), u'case', (u'of', u'IN')), ((u'Kennedy', u'NNP'), u'compound', (u'John', u'NNP'))]\n",
      "\n",
      "STACK:\n",
      "[u'president', u'Kennedy']\n",
      "\n",
      "AGISDISTIS URI:\n",
      "http://dbpedia.org/resource/John_F._Kennedy\n",
      "\n",
      "PROPERTIES:\n",
      "[[u'deathPlace', u'ontology', u'http://dbpedia.org/ontology/deathPlace', u'death place'], [u'deathDate', u'ontology', u'http://dbpedia.org/ontology/deathDate', u'death date'], [u'birthPlace', u'ontology', u'http://dbpedia.org/ontology/birthPlace', u'birth place'], [u'birthDate', u'ontology', u'http://dbpedia.org/ontology/birthDate', u'birth date'], [u'wikiPageID', u'ontology', u'http://dbpedia.org/ontology/wikiPageID', u'Wikipage page ID'], [u'wikiPageRevisionID', u'ontology', u'http://dbpedia.org/ontology/wikiPageRevisionID', u'Wikipage revision ID'], [u'wikiPageWikiLink', u'ontology', u'http://dbpedia.org/ontology/wikiPageWikiLink', u'Link from a Wikipage to another Wikipage'], [u'wikiPageExternalLink', u'ontology', u'http://dbpedia.org/ontology/wikiPageExternalLink', u'Link from a Wikipage to an external page'], [u'name', u'property', u'http://dbpedia.org/property/name', u'name'], [u'thumbnail', u'ontology', u'http://dbpedia.org/ontology/thumbnail', u'thumbnail'], [u'almaMater', u'ontology', u'http://dbpedia.org/ontology/almaMater', u'alma mater'], [u'battle', u'ontology', u'http://dbpedia.org/ontology/battle', u'battle'], [u'child', u'ontology', u'http://dbpedia.org/ontology/child', u'child'], [u'militaryBranch', u'ontology', u'http://dbpedia.org/ontology/militaryBranch', u'military branch'], [u'militaryRank', u'ontology', u'http://dbpedia.org/ontology/militaryRank', u'military rank'], [u'militaryUnit', u'ontology', u'http://dbpedia.org/ontology/militaryUnit', u'military unit'], [u'office', u'ontology', u'http://dbpedia.org/ontology/office', u'office'], [u'party', u'ontology', u'http://dbpedia.org/ontology/party', u'party'], [u'predecessor', u'ontology', u'http://dbpedia.org/ontology/predecessor', u'predecessor'], [u'profession', u'ontology', u'http://dbpedia.org/ontology/profession', u'profession'], [u'region', u'ontology', u'http://dbpedia.org/ontology/region', u'region'], [u'relation', u'ontology', u'http://dbpedia.org/ontology/relation', u'relation'], [u'religion', u'ontology', u'http://dbpedia.org/ontology/religion', u'religion'], [u'seniority', u'ontology', u'http://dbpedia.org/ontology/seniority', u'seniority'], [u'serviceEndYear', u'ontology', u'http://dbpedia.org/ontology/serviceEndYear', u'service end year'], [u'serviceStartYear', u'ontology', u'http://dbpedia.org/ontology/serviceStartYear', u'service start year'], [u'signature', u'ontology', u'http://dbpedia.org/ontology/signature', u'signature'], [u'soundRecording', u'ontology', u'http://dbpedia.org/ontology/soundRecording', u'sound recording'], [u'spouse', u'ontology', u'http://dbpedia.org/ontology/spouse', u'spouse'], [u'successor', u'ontology', u'http://dbpedia.org/ontology/successor', u'successor'], [u'termPeriod', u'ontology', u'http://dbpedia.org/ontology/termPeriod', u'term period'], [u'vicePresident', u'ontology', u'http://dbpedia.org/ontology/vicePresident', u'vice president'], [u'agriculture', u'property', u'http://dbpedia.org/property/agriculture', u'Agriculture'], [u'agricultureEnd', u'property', u'http://dbpedia.org/property/agricultureEnd', u'Agriculture end'], [u'agricultureStart', u'property', u'http://dbpedia.org/property/agricultureStart', u'Agriculture start'], [u'align', u'property', u'http://dbpedia.org/property/align', u'align'], [u'author', u'property', u'http://dbpedia.org/property/author', u'author'], [u'b', u'property', u'http://dbpedia.org/property/b', u'b'], [u'birthName', u'property', u'http://dbpedia.org/property/birthName', u'birth name'], [u'colwidth', u'property', u'http://dbpedia.org/property/colwidth', u'colwidth'], [u'commerce', u'property', u'http://dbpedia.org/property/commerce', u'Commerce'], [u'commerceEnd', u'property', u'http://dbpedia.org/property/commerceEnd', u'Commerce end'], [u'commerceStart', u'property', u'http://dbpedia.org/property/commerceStart', u'Commerce start'], [u'deathCause', u'property', u'http://dbpedia.org/property/deathCause', u'death cause'], [u'defense', u'property', u'http://dbpedia.org/property/defense', u'Defense'], [u'defenseEnd', u'property', u'http://dbpedia.org/property/defenseEnd', u'Defense end'], [u'defenseStart', u'property', u'http://dbpedia.org/property/defenseStart', u'Defense start'], [u'format', u'property', u'http://dbpedia.org/property/format', u'format'], [u'help', u'property', u'http://dbpedia.org/property/help', u'help'], [u'interior', u'property', u'http://dbpedia.org/property/interior', u'Interior'], [u'interiorEnd', u'property', u'http://dbpedia.org/property/interiorEnd', u'Interior end '], [u'interiorStart', u'property', u'http://dbpedia.org/property/interiorStart', u'Interior start '], [u'justice', u'property', u'http://dbpedia.org/property/justice', u'Justice'], [u'justiceEnd', u'property', u'http://dbpedia.org/property/justiceEnd', u'Justice end'], [u'justiceStart', u'property', u'http://dbpedia.org/property/justiceStart', u'Justice start'], [u'labor', u'property', u'http://dbpedia.org/property/labor', u'labor'], [u'laborEnd', u'property', u'http://dbpedia.org/property/laborEnd', u'Labor end'], [u'laborStart', u'property', u'http://dbpedia.org/property/laborStart', u'Labor start'], [u'mawards', u'property', u'http://dbpedia.org/property/mawards', u'mawards'], [u'n', u'property', u'http://dbpedia.org/property/n', u'n'], [u'parents', u'property', u'http://dbpedia.org/property/parents', u'parents'], [u'post', u'property', u'http://dbpedia.org/property/post', u'Post'], [u'postDate', u'property', u'http://dbpedia.org/property/postDate', u'Post date'], [u'postEnd', u'property', u'http://dbpedia.org/property/postEnd', u'Post end'], [u'postStart', u'property', u'http://dbpedia.org/property/postStart', u'Post start'], [u'president', u'property', u'http://dbpedia.org/property/president', u'President'], [u'presidentEnd', u'property', u'http://dbpedia.org/property/presidentEnd', u'President end'], [u'presidentStart', u'property', u'http://dbpedia.org/property/presidentStart', u'President start'], [u'restingPlace', u'property', u'http://dbpedia.org/property/restingPlace', u'resting place'], [u's', u'property', u'http://dbpedia.org/property/s', u's'], [u'signatureAlt', u'property', u'http://dbpedia.org/property/signatureAlt', u'signature alt'], [u'sname', u'property', u'http://dbpedia.org/property/sname', u'sname'], [u'sopt', u'property', u'http://dbpedia.org/property/sopt', u'sopt'], [u'state', u'property', u'http://dbpedia.org/property/state', u'state'], [u'stateEnd', u'property', u'http://dbpedia.org/property/stateEnd', u'State end'], [u'stateStart', u'property', u'http://dbpedia.org/property/stateStart', u'State start'], [u'text', u'property', u'http://dbpedia.org/property/text', u'text'], [u'title', u'property', u'http://dbpedia.org/property/title', u'title'], [u'treasury', u'property', u'http://dbpedia.org/property/treasury', u'Treasury'], [u'treasuryEnd', u'property', u'http://dbpedia.org/property/treasuryEnd', u'Treasury end'], [u'treasuryStart', u'property', u'http://dbpedia.org/property/treasuryStart', u'Treasury start'], [u'v', u'property', u'http://dbpedia.org/property/v', u'v'], [u'vicePresident', u'property', u'http://dbpedia.org/property/vicePresident', u'Vice President'], [u'vicePresidentEnd', u'property', u'http://dbpedia.org/property/vicePresidentEnd', u'Vice President end'], [u'vicePresidentStart', u'property', u'http://dbpedia.org/property/vicePresidentStart', u'Vice President start'], [u'wikt', u'property', u'http://dbpedia.org/property/wikt', u'wikt'], [u'health,Education,AndWelfare', u'property', u'http://dbpedia.org/property/health,Education,AndWelfare', u'Health, Education, and Welfare'], [u'health,Education,AndWelfareEnd', u'property', u'http://dbpedia.org/property/health,Education,AndWelfareEnd', u'Health, Education, and Welfare end'], [u'health,Education,AndWelfareStart', u'property', u'http://dbpedia.org/property/health,Education,AndWelfareStart', u'Health, Education, and Welfare start'], [u'wordnet_type', u'property', u'http://dbpedia.org/property/wordnet_type', False]]\n",
      "To be matched with:  vice president\n",
      "\n",
      "URL OF WORD2VEC SERVER:\n",
      "http://localhost:5000/phraselabel/vice%20president/%2Bdeath%20place%2Bdeath%20date%2Bbirth%20place%2Bbirth%20date%2BWikipage%20page%20ID%2BWikipage%20revision%20ID%2BLink%20from%20a%20Wikipage%20to%20another%20Wikipage%2BLink%20from%20a%20Wikipage%20to%20an%20external%20page%2Bname%2Bthumbnail%2Balma%20mater%2Bbattle%2Bchild%2Bmilitary%20branch%2Bmilitary%20rank%2Bmilitary%20unit%2Boffice%2Bparty%2Bpredecessor%2Bprofession%2Bregion%2Brelation%2Breligion%2Bseniority%2Bservice%20end%20year%2Bservice%20start%20year%2Bsignature%2Bsound%20recording%2Bspouse%2Bsuccessor%2Bterm%20period%2Bvice%20president%2BAgriculture%2BAgriculture%20end%2BAgriculture%20start%2Balign%2Bauthor%2Bb%2Bbirth%20name%2Bcolwidth%2BCommerce%2BCommerce%20end%2BCommerce%20start%2Bdeath%20cause%2BDefense%2BDefense%20end%2BDefense%20start%2Bformat%2Bhelp%2BInterior%2BInterior%20end%20%2BInterior%20start%20%2BJustice%2BJustice%20end%2BJustice%20start%2Blabor%2BLabor%20end%2BLabor%20start%2Bmawards%2Bn%2Bparents%2BPost%2BPost%20date%2BPost%20end%2BPost%20start%2BPresident%2BPresident%20end%2BPresident%20start%2Bresting%20place%2Bs%2Bsignature%20alt%2Bsname%2Bsopt%2Bstate%2BState%20end%2BState%20start%2Btext%2Btitle%2BTreasury%2BTreasury%20end%2BTreasury%20start%2Bv%2BVice%20President%2BVice%20President%20end%2BVice%20President%20start%2Bwikt%2BHealth%2C%20Education%2C%20and%20Welfare%2BHealth%2C%20Education%2C%20and%20Welfare%20end%2BHealth%2C%20Education%2C%20and%20Welfare%20start%2BFalse\n"
     ]
    },
    {
     "name": "stdout",
     "output_type": "stream",
     "text": [
      "\n",
      "RESPONSE FROM W2V SERVER:\n",
      "[['vice president' '' '0.0']\n",
      " ['vice president' 'death place' '0.346756523218']\n",
      " ['vice president' 'death date' '0.600482700681']\n",
      " ['vice president' 'birth place' '0.437443310447']\n",
      " ['vice president' 'birth date' '0.691169487909']\n",
      " ['vice president' 'Wikipage page ID' '0.263200086939']\n",
      " ['vice president' 'Wikipage revision ID' '0.2404390917']\n",
      " ['vice president' 'Link from a Wikipage to another Wikipage'\n",
      "  '0.07450532734']\n",
      " ['vice president' 'Link from a Wikipage to an external page'\n",
      "  '0.26311840247']\n",
      " ['vice president' 'name' '0.634497213844']\n",
      " ['vice president' 'thumbnail' '0.0']\n",
      " ['vice president' 'alma mater' '0.0']\n",
      " ['vice president' 'battle' '0.748832643969']\n",
      " ['vice president' 'child' '0.47229922576']\n",
      " ['vice president' 'military branch' '0.654710988808']\n",
      " ['vice president' 'military rank' '0.678124581344']\n",
      " ['vice president' 'military unit' '0.642768615754']\n",
      " ['vice president' 'office' '0.605230739546']\n",
      " ['vice president' 'party' '0.52298895322']\n",
      " ['vice president' 'predecessor' '0.668199095743']\n",
      " ['vice president' 'profession' '0.675612756106']\n",
      " ['vice president' 'region' '0.760889816299']\n",
      " ['vice president' 'relation' '0.623832131042']\n",
      " ['vice president' 'religion' '0.651013794262']\n",
      " ['vice president' 'seniority' '0.0']\n",
      " ['vice president' 'service end year' '0.417214969212']\n",
      " ['vice president' 'service start year' '0.452445890917']\n",
      " ['vice president' 'signature' '0.703615961135']\n",
      " ['vice president' 'sound recording' '0.678681786772']\n",
      " ['vice president' 'spouse' '0.0']\n",
      " ['vice president' 'successor' '0.892947265211']\n",
      " ['vice president' 'term period' '0.615229646109']\n",
      " ['vice president' 'vice president' '0.933228820146']\n",
      " ['vice president' 'Agriculture' '0.905919008573']\n",
      " ['vice president' 'Agriculture end' '0.607255066199']\n",
      " ['vice president' 'Agriculture start' '0.660101448756']\n",
      " ['vice president' 'align' '0.0']\n",
      " ['vice president' 'author' '0.833947434961']\n",
      " ['vice president' 'b' '0.0']\n",
      " ['vice president' 'birth name' '0.690453732209']\n",
      " ['vice president' 'colwidth' '0.0']\n",
      " ['vice president' 'Commerce' '0.902704636869']\n",
      " ['vice president' 'Commerce end' '0.605647880347']\n",
      " ['vice president' 'Commerce start' '0.658494262904']\n",
      " ['vice president' 'death cause' '0.517808595968']\n",
      " ['vice president' 'Defense' '0.903399660918']\n",
      " ['vice president' 'Defense end' '0.605995392371']\n",
      " ['vice president' 'Defense start' '0.658841774928']\n",
      " ['vice president' 'format' '0.819371218774']\n",
      " ['vice president' 'help' '0.155182596861']\n",
      " ['vice president' 'Interior' '0.892973875919']\n",
      " ['vice president' 'Interior end ' '0.400521666581']\n",
      " ['vice president' 'Interior start ' '0.435752588286']\n",
      " ['vice president' 'Justice' '0.902450737827']\n",
      " ['vice president' 'Justice end' '0.605520930826']\n",
      " ['vice president' 'Justice start' '0.658367313383']\n",
      " ['vice president' 'labor' '0.713298397505']\n",
      " ['vice president' 'Labor end' '0.611700931776']\n",
      " ['vice president' 'Labor start' '0.664547314333']\n",
      " ['vice president' 'mawards' '0.0']\n",
      " ['vice president' 'n' '0.669778431199']\n",
      " ['vice president' 'parents' '0.571173709119']\n",
      " ['vice president' 'Post' '0.882262890424']\n",
      " ['vice president' 'Post date' '0.759095807834']\n",
      " ['vice president' 'Post end' '0.595427007124']\n",
      " ['vice president' 'Post start' '0.648273389681']\n",
      " ['vice president' 'President' '0.69825654401']\n",
      " ['vice president' 'President end' '0.503423833917']\n",
      " ['vice president' 'President start' '0.556270216474']\n",
      " ['vice president' 'resting place' '0.47900937123']\n",
      " ['vice president' 's' '0.0']\n",
      " ['vice president' 'signature alt' '0.351807980567']\n",
      " ['vice president' 'sname' '0.0']\n",
      " ['vice president' 'sopt' '0.0']\n",
      " ['vice president' 'state' '0.450477352583']\n",
      " ['vice president' 'State end' '0.563772599517']\n",
      " ['vice president' 'State start' '0.616618982074']\n",
      " ['vice president' 'text' '0.786444987169']\n",
      " ['vice president' 'title' '0.785937186116']\n",
      " ['vice president' 'Treasury' '0.80230742943']\n",
      " ['vice president' 'Treasury end' '0.555449276627']\n",
      " ['vice president' 'Treasury start' '0.608295659184']\n",
      " ['vice president' 'v' '0.0']\n",
      " ['vice president' 'Vice President' '0.773920592542']\n",
      " ['vice president' 'Vice President end' '0.618810769636']\n",
      " ['vice president' 'Vice President start' '0.654041691341']\n",
      " ['vice president' 'wikt' '0.0']\n",
      " ['vice president' 'Health, Education, and Welfare' '0.246324731633']\n",
      " ['vice president' 'Health, Education, and Welfare end' '0.258778010072']\n",
      " ['vice president' 'Health, Education, and Welfare start' '0.279916563094']\n",
      " ['vice president' 'False' '0.0']]\n",
      "\n",
      "KEYWORD\n",
      "vice president\n",
      "\n",
      "KEYWORD DETAILS:\n",
      "[u'vicePresident' u'ontology' u'http://dbpedia.org/ontology/vicePresident'\n",
      " u'vice president']\n",
      "[u'vicePresident' u'ontology' u'http://dbpedia.org/ontology/vicePresident'\n",
      " u'vice president']\n",
      "vicePresident ,  http://dbpedia.org/resource/John_F._Kennedy\n",
      "\n",
      "        PREFIX rdfs: <http://www.w3.org/2000/01/rdf-schema#>\n",
      "        SELECT ?vicePresident\n",
      "        WHERE { <http://dbpedia.org/resource/John_F._Kennedy>\n",
      "        dbo:vicePresident ?vicePresident }\n",
      "    \n",
      "[u'http://dbpedia.org/resource/Lyndon_B._Johnson']\n",
      "http://dbpedia.org/resource/Lyndon_B._Johnson\n"
     ]
    }
   ],
   "source": [
    "results = answer(question)\n",
    "if len(results) == 0:\n",
    "    print \"Failed to fetch answer.\"\n",
    "else:\n",
    "    for res in results:\n",
    "        print res"
   ]
  },
  {
   "cell_type": "markdown",
   "metadata": {},
   "source": [
    "### Run the following for the series of questions declared above"
   ]
  },
  {
   "cell_type": "markdown",
   "metadata": {},
   "source": [
    "<b style=\"color: #1204bc\">Preferable to set log_details to false since it will be annoying to surf through all the data for a series of 20 questions</b>"
   ]
  },
  {
   "cell_type": "code",
   "execution_count": 85,
   "metadata": {
    "collapsed": true
   },
   "outputs": [],
   "source": [
    "log_details = False"
   ]
  },
  {
   "cell_type": "markdown",
   "metadata": {},
   "source": [
    "Empty bigJson to create fresh list of details. This stores all the details of the answer extraction of executed by the following code snippet."
   ]
  },
  {
   "cell_type": "code",
   "execution_count": 86,
   "metadata": {
    "collapsed": true
   },
   "outputs": [],
   "source": [
    "bigJson = []"
   ]
  },
  {
   "cell_type": "markdown",
   "metadata": {},
   "source": [
    "Run the following code to check answers of given list of question."
   ]
  },
  {
   "cell_type": "code",
   "execution_count": 87,
   "metadata": {},
   "outputs": [
    {
     "name": "stdout",
     "output_type": "stream",
     "text": [
      "\n",
      "QUESTION: Where is the birth place of Bal Gangadhar Tilak?\n",
      "\n",
      "ANSWER:\n",
      "...\n",
      "\n",
      "KEYWORD\n",
      "birth place\n",
      "http://dbpedia.org/resource/India\n",
      "http://dbpedia.org/resource/Ratnagiri\n",
      "http://dbpedia.org/resource/Bombay_State\n",
      "http://dbpedia.org/resource/British_India\n",
      "_____________________________\n",
      "\n",
      "QUESTION: What is the capital of Germany?\n",
      "\n",
      "ANSWER:\n",
      "...\n",
      "http://dbpedia.org/resource/Berlin\n",
      "_____________________________\n",
      "\n",
      "QUESTION: What are the population of capital of Germany?\n",
      "\n",
      "ANSWER:\n",
      "...\n",
      "\n",
      "KEYWORD\n",
      "population total\n",
      "3610156\n",
      "_____________________________\n",
      "\n",
      "QUESTION: Who is the president of United States?\n",
      "\n",
      "ANSWER:\n",
      "...\n",
      "\n",
      "KEYWORD\n",
      "leader\n",
      "http://dbpedia.org/resource/Barack_Obama\n",
      "http://dbpedia.org/resource/John_Roberts\n",
      "http://dbpedia.org/resource/Joe_Biden\n",
      "http://dbpedia.org/resource/Paul_Ryan\n",
      "_____________________________\n",
      "\n",
      "QUESTION: When is the birth date of Tom Cruise?\n",
      "\n",
      "ANSWER:\n",
      "...\n",
      "\n",
      "KEYWORD\n",
      "birth date\n",
      "1962-07-03\n",
      "1962-7-3\n",
      "_____________________________\n",
      "\n",
      "QUESTION: What is the color of the flag of Germany?\n",
      "\n",
      "ANSWER:\n",
      "...\n",
      "\n",
      "KEYWORD\n",
      "image coat\n",
      "Coat of Arms of Germany.svg\n",
      "_____________________________\n",
      "\n",
      "QUESTION: Who is Donald Trump?\n",
      "\n",
      "ANSWER:\n",
      "...\n",
      "http://dbpedia.org/resource/Donald_Trump\n",
      "_____________________________\n",
      "\n",
      "QUESTION: Where is birth place of wife of Mahatma Gandhi?\n",
      "\n",
      "ANSWER:\n",
      "...\n",
      "\n",
      "KEYWORD\n",
      "mother\n",
      "\n",
      "KEYWORD\n",
      "birth place\n",
      "http://dbpedia.org/resource/Kirti_Mandir,_Porbandar\n",
      "http://dbpedia.org/resource/British_Indian_Empire\n",
      "http://dbpedia.org/resource/Gujarat\n",
      "http://dbpedia.org/resource/Kathiawar_Agency\n",
      "http://dbpedia.org/resource/Porbandar_State\n",
      "_____________________________\n",
      "\n",
      "QUESTION: Who is the vice president of John Kennedy?\n",
      "\n",
      "ANSWER:\n",
      "...\n",
      "\n",
      "KEYWORD\n",
      "vice president\n",
      "http://dbpedia.org/resource/Lyndon_B._Johnson\n",
      "_____________________________\n",
      "\n",
      "QUESTION: What is the birth place of wife of John Kennedy?\n",
      "\n",
      "ANSWER:\n",
      "...\n",
      "\n",
      "KEYWORD\n",
      "Post end\n",
      "\n",
      "KEYWORD\n",
      "birth place\n",
      "http://dbpedia.org/resource/Brookline,_Massachusetts\n",
      "_____________________________\n",
      "\n",
      "QUESTION: What is the municipality of Roberto Clemente Bridge\n",
      "\n",
      "ANSWER:\n",
      "...\n",
      "http://dbpedia.org/resource/Pittsburgh,_Pennsylvania\n",
      "_____________________________\n",
      "\n",
      "QUESTION: What is the nationality of the prime minister of Thanong Bidaya?\n",
      "\n",
      "ANSWER:\n",
      "...\n",
      "\n",
      "KEYWORD\n",
      "prime minister\n",
      "http://dbpedia.org/resource/Thailand\n",
      "_____________________________\n",
      "\n",
      "QUESTION: What is the party of Mumbai North?\n",
      "\n",
      "ANSWER:\n",
      "...\n",
      "\n",
      "KEYWORD\n",
      "government type\n",
      "http://dbpedia.org/resource/Municipal_corporation\n",
      "_____________________________\n",
      "\n",
      "QUESTION: Who is the founder of Facebook?\n",
      "\n",
      "ANSWER:\n",
      "...\n",
      "\n",
      "KEYWORD\n",
      "n\n",
      "Facebook\n",
      "_____________________________\n",
      "\n",
      "QUESTION: Who is the supreme leader of North Korea?\n",
      "\n",
      "ANSWER:\n",
      "...\n",
      "http://dbpedia.org/resource/Kim_Yong-nam\n",
      "http://dbpedia.org/resource/Choe_Ryong-hae\n",
      "http://dbpedia.org/resource/Hwang_Pyong-so\n",
      "http://dbpedia.org/resource/Pak_Pong-ju\n",
      "http://dbpedia.org/resource/Kim_Jong-un\n",
      "_____________________________\n",
      "\n",
      "QUESTION: Who is the writer of family guy?\n",
      "\n",
      "ANSWER:\n",
      "...\n",
      "Failed to fetch answer.\n",
      "_____________________________\n",
      "\n",
      "QUESTION: What is Peter Griffin's nationality?\n",
      "\n",
      "ANSWER:\n",
      "...\n",
      "American\n",
      "_____________________________\n",
      "\n",
      "QUESTION: Who is Stewie Griffin's old man?\n",
      "\n",
      "ANSWER:\n",
      "...\n",
      "\n",
      "KEYWORD\n",
      "first appearance\n",
      "\"Death Has a Shadow\"\n",
      "_____________________________\n",
      "\n",
      "QUESTION: Who are the family members of Peter Griffin?\n",
      "\n",
      "ANSWER:\n",
      "...\n",
      "\n",
      "KEYWORD\n",
      "spouse\n",
      "http://dbpedia.org/resource/Lois_Griffin\n",
      "_____________________________\n",
      "\n",
      "QUESTION: What are the oceans of Earth?\n",
      "\n",
      "ANSWER:\n",
      "...\n",
      "\n",
      "KEYWORD\n",
      "Wikipage page ID\n",
      "2622514\n",
      "_____________________________\n",
      "\n",
      "QUESTION: What are satellites of Earth?\n",
      "\n",
      "ANSWER:\n",
      "...\n",
      "\n",
      "KEYWORD\n",
      "Link from a Wikipage to another Wikipage\n",
      "http://dbpedia.org/resource/Earth-Two\n",
      "http://dbpedia.org/resource/JLA:_Earth_2\n",
      "http://dbpedia.org/resource/Earth_2_(TV_series)\n",
      "http://dbpedia.org/resource/Earth_analog\n",
      "http://dbpedia.org/resource/Earth_2_(album)\n",
      "http://dbpedia.org/resource/Earth_II_(TV_pilot)\n",
      "_____________________________\n"
     ]
    }
   ],
   "source": [
    "for q in questions:\n",
    "    print \"\\nQUESTION:\", q\n",
    "    print \"\\nANSWER:\"\n",
    "    results = answer(q)\n",
    "\n",
    "    if len(results) == 0:\n",
    "        print \"Failed to fetch answer.\"\n",
    "    else:\n",
    "        for res in results:\n",
    "            print res\n",
    "    \n",
    "    print \"_____________________________\""
   ]
  },
  {
   "cell_type": "code",
   "execution_count": 88,
   "metadata": {},
   "outputs": [
    {
     "name": "stdout",
     "output_type": "stream",
     "text": [
      "[{\"question\": \"Where is the birth place of Bal Gangadhar Tilak?\", \"stackDetails\": [{\"keyword\": \"birth place\", \"word\": \"birth place\", \"properties\": [[\"deathPlace\", \"ontology\", \"http://dbpedia.org/ontology/deathPlace\", \"death place\"], [\"deathDate\", \"ontology\", \"http://dbpedia.org/ontology/deathDate\", \"death date\"], [\"birthPlace\", \"ontology\", \"http://dbpedia.org/ontology/birthPlace\", \"birth place\"], [\"birthDate\", \"ontology\", \"http://dbpedia.org/ontology/birthDate\", \"birth date\"], [\"wikiPageID\", \"ontology\", \"http://dbpedia.org/ontology/wikiPageID\", \"Wikipage page ID\"], [\"wikiPageRevisionID\", \"ontology\", \"http://dbpedia.org/ontology/wikiPageRevisionID\", \"Wikipage revision ID\"], [\"wikiPageWikiLink\", \"ontology\", \"http://dbpedia.org/ontology/wikiPageWikiLink\", \"Link from a Wikipage to another Wikipage\"], [\"wikiPageExternalLink\", \"ontology\", \"http://dbpedia.org/ontology/wikiPageExternalLink\", \"Link from a Wikipage to an external page\"], [\"thumbnail\", \"ontology\", \"http://dbpedia.org/ontology/thumbnail\", \"thumbnail\"], [\"birthYear\", \"ontology\", \"http://dbpedia.org/ontology/birthYear\", \"birth year\"], [\"deathYear\", \"ontology\", \"http://dbpedia.org/ontology/deathYear\", \"death year\"], [\"ethnicity\", \"ontology\", \"http://dbpedia.org/ontology/ethnicity\", \"ethnicity\"], [\"nationality\", \"ontology\", \"http://dbpedia.org/ontology/nationality\", \"nationality\"], [\"religion\", \"ontology\", \"http://dbpedia.org/ontology/religion\", \"religion\"], [\"stateOfOrigin\", \"ontology\", \"http://dbpedia.org/ontology/stateOfOrigin\", \"state of origin\"], [\"alt\", \"property\", \"http://dbpedia.org/property/alt\", \"Alt\"], [\"caption\", \"property\", \"http://dbpedia.org/property/caption\", \"Caption\"], [\"movement\", \"property\", \"http://dbpedia.org/property/movement\", \"movement\"], [\"organization\", \"property\", \"http://dbpedia.org/property/organization\", \"organization\"]], \"withSynonyms\": false, \"phraseLabelAvg\": [[\"birth place\", \"\", 0], [\"birth place\", \"death place\", 0.59519809], [\"birth place\", \"death date\", 0.40021598], [\"birth place\", \"birth place\", 1.0], [\"birth place\", \"birth date\", 0.76095122], [\"birth place\", \"Wikipage page ID\", 0.12565912], [\"birth place\", \"Wikipage revision ID\", 0.16929585], [\"birth place\", \"Link from a Wikipage to another Wikipage\", 0.17426136], [\"birth place\", \"Link from a Wikipage to an external page\", 0.12310871], [\"birth place\", \"thumbnail\", 0.12137315], [\"birth place\", \"birth year\", 0.77297747], [\"birth place\", \"death year\", 0.32539672], [\"birth place\", \"ethnicity\", 0.13567927], [\"birth place\", \"nationality\", 0.27934453], [\"birth place\", \"religion\", 0.18717167], [\"birth place\", \"state of origin\", 0.26547182], [\"birth place\", \"Alt\", 0.075684972], [\"birth place\", \"Caption\", 0.095330507], [\"birth place\", \"movement\", 0.194756], [\"birth place\", \"organization\", 0.0843523]]}], \"answer\": [\"http://dbpedia.org/resource/India\", \"http://dbpedia.org/resource/Ratnagiri\", \"http://dbpedia.org/resource/Bombay_State\", \"http://dbpedia.org/resource/British_India\"], \"model\": [[[\"is\", \"VBZ\"], \"advmod\", [\"Where\", \"WRB\"]], [[\"is\", \"VBZ\"], \"nsubj\", [\"place\", \"NN\"]], [[\"place\", \"NN\"], \"det\", [\"the\", \"DT\"]], [[\"place\", \"NN\"], \"compound\", [\"birth\", \"NN\"]], [[\"place\", \"NN\"], \"nmod\", [\"Tilak\", \"NNP\"]], [[\"Tilak\", \"NNP\"], \"case\", [\"of\", \"IN\"]], [[\"Tilak\", \"NNP\"], \"compound\", [\"Bal\", \"NNP\"]], [[\"Tilak\", \"NNP\"], \"compound\", [\"Gangadhar\", \"NNP\"]]], \"stack\": [\"place\", \"Tilak\"], \"primaryURL\": {\"src\": \"agdistis\", \"value\": \"http://dbpedia.org/resource/Bal_Gangadhar_Tilak\"}}, {\"question\": \"What is the capital of Germany?\", \"stackDetails\": [{\"word\": \"capital\", \"properties\": [[\"wikiPageID\", \"ontology\", \"http://dbpedia.org/ontology/wikiPageID\", \"Wikipage page ID\"], [\"wikiPageRevisionID\", \"ontology\", \"http://dbpedia.org/ontology/wikiPageRevisionID\", \"Wikipage revision ID\"], [\"wikiPageWikiLink\", \"ontology\", \"http://dbpedia.org/ontology/wikiPageWikiLink\", \"Link from a Wikipage to another Wikipage\"], [\"wikiPageExternalLink\", \"ontology\", \"http://dbpedia.org/ontology/wikiPageExternalLink\", \"Link from a Wikipage to an external page\"], [\"thumbnail\", \"ontology\", \"http://dbpedia.org/ontology/thumbnail\", \"thumbnail\"], [\"anthem\", \"ontology\", \"http://dbpedia.org/ontology/anthem\", \"anthem\"], [\"areaTotal\", \"ontology\", \"http://dbpedia.org/ontology/areaTotal\", \"area total (m2)\"], [\"capital\", \"ontology\", \"http://dbpedia.org/ontology/capital\", \"capital\"], [\"currency\", \"ontology\", \"http://dbpedia.org/ontology/currency\", \"currency\"], [\"demonym\", \"ontology\", \"http://dbpedia.org/ontology/demonym\", \"demonym\"], [\"flag\", \"ontology\", \"http://dbpedia.org/ontology/flag\", \"flag (image)\"], [\"foundingDate\", \"ontology\", \"http://dbpedia.org/ontology/foundingDate\", \"founding date\"], [\"governmentType\", \"ontology\", \"http://dbpedia.org/ontology/governmentType\", \"government type\"], [\"language\", \"ontology\", \"http://dbpedia.org/ontology/language\", \"language\"], [\"largestCity\", \"ontology\", \"http://dbpedia.org/ontology/largestCity\", \"largest city\"], [\"leader\", \"ontology\", \"http://dbpedia.org/ontology/leader\", \"leader\"], [\"leaderTitle\", \"ontology\", \"http://dbpedia.org/ontology/leaderTitle\", \"leader title\"], [\"longName\", \"ontology\", \"http://dbpedia.org/ontology/longName\", \"longName\"], [\"officialLanguage\", \"ontology\", \"http://dbpedia.org/ontology/officialLanguage\", \"official language\"], [\"populationDensity\", \"ontology\", \"http://dbpedia.org/ontology/populationDensity\", \"population density (/sqkm)\"], [\"populationTotal\", \"ontology\", \"http://dbpedia.org/ontology/populationTotal\", \"population total\"], [\"align\", \"property\", \"http://dbpedia.org/property/align\", \"align\"], [\"areaMagnitude\", \"property\", \"http://dbpedia.org/property/areaMagnitude\", \"area magnitude\"], [\"areaRank\", \"property\", \"http://dbpedia.org/property/areaRank\", \"area rank\"], [\"callingCode\", \"property\", \"http://dbpedia.org/property/callingCode\", \"calling code\"], [\"caption\", \"property\", \"http://dbpedia.org/property/caption\", \"Caption\"], [\"cctld\", \"property\", \"http://dbpedia.org/property/cctld\", \"cctld\"], [\"currencyCode\", \"property\", \"http://dbpedia.org/property/currencyCode\", \"currency code\"], [\"direction\", \"property\", \"http://dbpedia.org/property/direction\", \"direction\"], [\"drivesOn\", \"property\", \"http://dbpedia.org/property/drivesOn\", \"drives on\"], [\"establishedDate\", \"property\", \"http://dbpedia.org/property/establishedDate\", \"established date\"], [\"establishedEvent\", \"property\", \"http://dbpedia.org/property/establishedEvent\", \"established event\"], [\"footer\", \"property\", \"http://dbpedia.org/property/footer\", \"footer\"], [\"footnoteA\", \"property\", \"http://dbpedia.org/property/footnoteA\", \"footnote a\"], [\"gdpNominal\", \"property\", \"http://dbpedia.org/property/gdpNominal\", \"GDP nominal\"], [\"gdpNominalPerCapita\", \"property\", \"http://dbpedia.org/property/gdpNominalPerCapita\", \"GDP nominal per capita\"], [\"gdpNominalPerCapitaRank\", \"property\", \"http://dbpedia.org/property/gdpNominalPerCapitaRank\", \"GDP nominal per capita rank\"], [\"gdpNominalRank\", \"property\", \"http://dbpedia.org/property/gdpNominalRank\", \"GDP nominal rank\"], [\"gdpNominalYear\", \"property\", \"http://dbpedia.org/property/gdpNominalYear\", \"GDP nominal year\"], [\"gdpPpp\", \"property\", \"http://dbpedia.org/property/gdpPpp\", \"GDP PPP\"], [\"gdpPppPerCapita\", \"property\", \"http://dbpedia.org/property/gdpPppPerCapita\", \"GDP PPP per capita\"], [\"gdpPppPerCapitaRank\", \"property\", \"http://dbpedia.org/property/gdpPppPerCapitaRank\", \"GDP PPP per capita rank\"], [\"gdpPppRank\", \"property\", \"http://dbpedia.org/property/gdpPppRank\", \"GDP PPP rank\"], [\"gdpPppYear\", \"property\", \"http://dbpedia.org/property/gdpPppYear\", \"GDP PPP year\"], [\"gini\", \"property\", \"http://dbpedia.org/property/gini\", \"Gini\"], [\"giniChange\", \"property\", \"http://dbpedia.org/property/giniChange\", \"Gini change\"], [\"giniYear\", \"property\", \"http://dbpedia.org/property/giniYear\", \"Gini year\"], [\"hdi\", \"property\", \"http://dbpedia.org/property/hdi\", \"HDI\"], [\"hdiChange\", \"property\", \"http://dbpedia.org/property/hdiChange\", \"HDI change\"], [\"hdiRank\", \"property\", \"http://dbpedia.org/property/hdiRank\", \"HDI rank\"], [\"hdiYear\", \"property\", \"http://dbpedia.org/property/hdiYear\", \"HDI year\"], [\"image\", \"property\", \"http://dbpedia.org/property/image\", \"image\"], [\"imageCoat\", \"property\", \"http://dbpedia.org/property/imageCoat\", \"image coat\"], [\"imageMap\", \"property\", \"http://dbpedia.org/property/imageMap\", \"image map\"], [\"latd\", \"property\", \"http://dbpedia.org/property/latd\", \"latd\"], [\"latm\", \"property\", \"http://dbpedia.org/property/latm\", \"latm\"], [\"latns\", \"property\", \"http://dbpedia.org/property/latns\", \"latNS\"], [\"longd\", \"property\", \"http://dbpedia.org/property/longd\", \"longd\"], [\"longew\", \"property\", \"http://dbpedia.org/property/longew\", \"longEW\"], [\"longm\", \"property\", \"http://dbpedia.org/property/longm\", \"longm\"], [\"lowerHouse\", \"property\", \"http://dbpedia.org/property/lowerHouse\", \"lower house\"], [\"map2Width\", \"property\", \"http://dbpedia.org/property/map2Width\", \"map2 width\"], [\"populationDensityRank\", \"property\", \"http://dbpedia.org/property/populationDensityRank\", \"population density rank\"], [\"populationEstimateRank\", \"property\", \"http://dbpedia.org/property/populationEstimateRank\", \"population estimate rank\"], [\"populationEstimateYear\", \"property\", \"http://dbpedia.org/property/populationEstimateYear\", \"population estimate year\"], [\"sovereigntyType\", \"property\", \"http://dbpedia.org/property/sovereigntyType\", \"sovereignty type\"], [\"timeZone\", \"property\", \"http://dbpedia.org/property/timeZone\", \"time zone\"], [\"timeZoneDst\", \"property\", \"http://dbpedia.org/property/timeZoneDst\", \"time zone DST\"], [\"title\", \"property\", \"http://dbpedia.org/property/title\", \"title\"], [\"upperHouse\", \"property\", \"http://dbpedia.org/property/upperHouse\", \"upper house\"], [\"utcOffset\", \"property\", \"http://dbpedia.org/property/utcOffset\", \"utc offset\"], [\"utcOffsetDst\", \"property\", \"http://dbpedia.org/property/utcOffsetDst\", \"utc offset DST\"], [\"width\", \"property\", \"http://dbpedia.org/property/width\", \"width\"]], \"withSynonyms\": false}], \"answer\": [\"http://dbpedia.org/resource/Berlin\"], \"model\": [[[\"What\", \"WP\"], \"cop\", [\"is\", \"VBZ\"]], [[\"What\", \"WP\"], \"nsubj\", [\"capital\", \"NN\"]], [[\"capital\", \"NN\"], \"det\", [\"the\", \"DT\"]], [[\"capital\", \"NN\"], \"nmod\", [\"Germany\", \"NNP\"]], [[\"Germany\", \"NNP\"], \"case\", [\"of\", \"IN\"]]], \"stack\": [\"capital\", \"Germany\"], \"primaryURL\": {\"src\": \"agdistis\", \"value\": \"http://dbpedia.org/resource/Germany\"}}, {\"question\": \"What are the population of capital of Germany?\", \"stackDetails\": [{\"word\": \"capital\", \"properties\": [[\"wikiPageID\", \"ontology\", \"http://dbpedia.org/ontology/wikiPageID\", \"Wikipage page ID\"], [\"wikiPageRevisionID\", \"ontology\", \"http://dbpedia.org/ontology/wikiPageRevisionID\", \"Wikipage revision ID\"], [\"wikiPageWikiLink\", \"ontology\", \"http://dbpedia.org/ontology/wikiPageWikiLink\", \"Link from a Wikipage to another Wikipage\"], [\"wikiPageExternalLink\", \"ontology\", \"http://dbpedia.org/ontology/wikiPageExternalLink\", \"Link from a Wikipage to an external page\"], [\"thumbnail\", \"ontology\", \"http://dbpedia.org/ontology/thumbnail\", \"thumbnail\"], [\"anthem\", \"ontology\", \"http://dbpedia.org/ontology/anthem\", \"anthem\"], [\"areaTotal\", \"ontology\", \"http://dbpedia.org/ontology/areaTotal\", \"area total (m2)\"], [\"capital\", \"ontology\", \"http://dbpedia.org/ontology/capital\", \"capital\"], [\"currency\", \"ontology\", \"http://dbpedia.org/ontology/currency\", \"currency\"], [\"demonym\", \"ontology\", \"http://dbpedia.org/ontology/demonym\", \"demonym\"], [\"flag\", \"ontology\", \"http://dbpedia.org/ontology/flag\", \"flag (image)\"], [\"foundingDate\", \"ontology\", \"http://dbpedia.org/ontology/foundingDate\", \"founding date\"], [\"governmentType\", \"ontology\", \"http://dbpedia.org/ontology/governmentType\", \"government type\"], [\"language\", \"ontology\", \"http://dbpedia.org/ontology/language\", \"language\"], [\"largestCity\", \"ontology\", \"http://dbpedia.org/ontology/largestCity\", \"largest city\"], [\"leader\", \"ontology\", \"http://dbpedia.org/ontology/leader\", \"leader\"], [\"leaderTitle\", \"ontology\", \"http://dbpedia.org/ontology/leaderTitle\", \"leader title\"], [\"longName\", \"ontology\", \"http://dbpedia.org/ontology/longName\", \"longName\"], [\"officialLanguage\", \"ontology\", \"http://dbpedia.org/ontology/officialLanguage\", \"official language\"], [\"populationDensity\", \"ontology\", \"http://dbpedia.org/ontology/populationDensity\", \"population density (/sqkm)\"], [\"populationTotal\", \"ontology\", \"http://dbpedia.org/ontology/populationTotal\", \"population total\"], [\"align\", \"property\", \"http://dbpedia.org/property/align\", \"align\"], [\"areaMagnitude\", \"property\", \"http://dbpedia.org/property/areaMagnitude\", \"area magnitude\"], [\"areaRank\", \"property\", \"http://dbpedia.org/property/areaRank\", \"area rank\"], [\"callingCode\", \"property\", \"http://dbpedia.org/property/callingCode\", \"calling code\"], [\"caption\", \"property\", \"http://dbpedia.org/property/caption\", \"Caption\"], [\"cctld\", \"property\", \"http://dbpedia.org/property/cctld\", \"cctld\"], [\"currencyCode\", \"property\", \"http://dbpedia.org/property/currencyCode\", \"currency code\"], [\"direction\", \"property\", \"http://dbpedia.org/property/direction\", \"direction\"], [\"drivesOn\", \"property\", \"http://dbpedia.org/property/drivesOn\", \"drives on\"], [\"establishedDate\", \"property\", \"http://dbpedia.org/property/establishedDate\", \"established date\"], [\"establishedEvent\", \"property\", \"http://dbpedia.org/property/establishedEvent\", \"established event\"], [\"footer\", \"property\", \"http://dbpedia.org/property/footer\", \"footer\"], [\"footnoteA\", \"property\", \"http://dbpedia.org/property/footnoteA\", \"footnote a\"], [\"gdpNominal\", \"property\", \"http://dbpedia.org/property/gdpNominal\", \"GDP nominal\"], [\"gdpNominalPerCapita\", \"property\", \"http://dbpedia.org/property/gdpNominalPerCapita\", \"GDP nominal per capita\"], [\"gdpNominalPerCapitaRank\", \"property\", \"http://dbpedia.org/property/gdpNominalPerCapitaRank\", \"GDP nominal per capita rank\"], [\"gdpNominalRank\", \"property\", \"http://dbpedia.org/property/gdpNominalRank\", \"GDP nominal rank\"], [\"gdpNominalYear\", \"property\", \"http://dbpedia.org/property/gdpNominalYear\", \"GDP nominal year\"], [\"gdpPpp\", \"property\", \"http://dbpedia.org/property/gdpPpp\", \"GDP PPP\"], [\"gdpPppPerCapita\", \"property\", \"http://dbpedia.org/property/gdpPppPerCapita\", \"GDP PPP per capita\"], [\"gdpPppPerCapitaRank\", \"property\", \"http://dbpedia.org/property/gdpPppPerCapitaRank\", \"GDP PPP per capita rank\"], [\"gdpPppRank\", \"property\", \"http://dbpedia.org/property/gdpPppRank\", \"GDP PPP rank\"], [\"gdpPppYear\", \"property\", \"http://dbpedia.org/property/gdpPppYear\", \"GDP PPP year\"], [\"gini\", \"property\", \"http://dbpedia.org/property/gini\", \"Gini\"], [\"giniChange\", \"property\", \"http://dbpedia.org/property/giniChange\", \"Gini change\"], [\"giniYear\", \"property\", \"http://dbpedia.org/property/giniYear\", \"Gini year\"], [\"hdi\", \"property\", \"http://dbpedia.org/property/hdi\", \"HDI\"], [\"hdiChange\", \"property\", \"http://dbpedia.org/property/hdiChange\", \"HDI change\"], [\"hdiRank\", \"property\", \"http://dbpedia.org/property/hdiRank\", \"HDI rank\"], [\"hdiYear\", \"property\", \"http://dbpedia.org/property/hdiYear\", \"HDI year\"], [\"image\", \"property\", \"http://dbpedia.org/property/image\", \"image\"], [\"imageCoat\", \"property\", \"http://dbpedia.org/property/imageCoat\", \"image coat\"], [\"imageMap\", \"property\", \"http://dbpedia.org/property/imageMap\", \"image map\"], [\"latd\", \"property\", \"http://dbpedia.org/property/latd\", \"latd\"], [\"latm\", \"property\", \"http://dbpedia.org/property/latm\", \"latm\"], [\"latns\", \"property\", \"http://dbpedia.org/property/latns\", \"latNS\"], [\"longd\", \"property\", \"http://dbpedia.org/property/longd\", \"longd\"], [\"longew\", \"property\", \"http://dbpedia.org/property/longew\", \"longEW\"], [\"longm\", \"property\", \"http://dbpedia.org/property/longm\", \"longm\"], [\"lowerHouse\", \"property\", \"http://dbpedia.org/property/lowerHouse\", \"lower house\"], [\"map2Width\", \"property\", \"http://dbpedia.org/property/map2Width\", \"map2 width\"], [\"populationDensityRank\", \"property\", \"http://dbpedia.org/property/populationDensityRank\", \"population density rank\"], [\"populationEstimateRank\", \"property\", \"http://dbpedia.org/property/populationEstimateRank\", \"population estimate rank\"], [\"populationEstimateYear\", \"property\", \"http://dbpedia.org/property/populationEstimateYear\", \"population estimate year\"], [\"sovereigntyType\", \"property\", \"http://dbpedia.org/property/sovereigntyType\", \"sovereignty type\"], [\"timeZone\", \"property\", \"http://dbpedia.org/property/timeZone\", \"time zone\"], [\"timeZoneDst\", \"property\", \"http://dbpedia.org/property/timeZoneDst\", \"time zone DST\"], [\"title\", \"property\", \"http://dbpedia.org/property/title\", \"title\"], [\"upperHouse\", \"property\", \"http://dbpedia.org/property/upperHouse\", \"upper house\"], [\"utcOffset\", \"property\", \"http://dbpedia.org/property/utcOffset\", \"utc offset\"], [\"utcOffsetDst\", \"property\", \"http://dbpedia.org/property/utcOffsetDst\", \"utc offset DST\"], [\"width\", \"property\", \"http://dbpedia.org/property/width\", \"width\"]], \"withSynonyms\": false}, {\"keyword\": \"population total\", \"word\": \"population\", \"properties\": [[\"wikiPageID\", \"ontology\", \"http://dbpedia.org/ontology/wikiPageID\", \"Wikipage page ID\"], [\"wikiPageRevisionID\", \"ontology\", \"http://dbpedia.org/ontology/wikiPageRevisionID\", \"Wikipage revision ID\"], [\"wikiPageWikiLink\", \"ontology\", \"http://dbpedia.org/ontology/wikiPageWikiLink\", \"Link from a Wikipage to another Wikipage\"], [\"wikiPageExternalLink\", \"ontology\", \"http://dbpedia.org/ontology/wikiPageExternalLink\", \"Link from a Wikipage to an external page\"], [\"name\", \"property\", \"http://dbpedia.org/property/name\", \"name\"], [\"thumbnail\", \"ontology\", \"http://dbpedia.org/ontology/thumbnail\", \"thumbnail\"], [\"areaCode\", \"ontology\", \"http://dbpedia.org/ontology/areaCode\", \"area code\"], [\"areaTotal\", \"ontology\", \"http://dbpedia.org/ontology/areaTotal\", \"area total (m2)\"], [\"country\", \"ontology\", \"http://dbpedia.org/ontology/country\", \"country\"], [\"demonym\", \"ontology\", \"http://dbpedia.org/ontology/demonym\", \"demonym\"], [\"elevation\", \"ontology\", \"http://dbpedia.org/ontology/elevation\", \"elevation (\\u03bc)\"], [\"leaderParty\", \"ontology\", \"http://dbpedia.org/ontology/leaderParty\", \"leader party\"], [\"leaderTitle\", \"ontology\", \"http://dbpedia.org/ontology/leaderTitle\", \"leader title\"], [\"populationMetro\", \"ontology\", \"http://dbpedia.org/ontology/populationMetro\", \"population metro\"], [\"populationTotal\", \"ontology\", \"http://dbpedia.org/ontology/populationTotal\", \"population total\"], [\"postalCode\", \"ontology\", \"http://dbpedia.org/ontology/postalCode\", \"postal code\"], [\"soundRecording\", \"ontology\", \"http://dbpedia.org/ontology/soundRecording\", \"sound recording\"], [\"align\", \"property\", \"http://dbpedia.org/property/align\", \"align\"], [\"aprHighC\", \"property\", \"http://dbpedia.org/property/aprHighC\", \"Apr high C\"], [\"aprLowC\", \"property\", \"http://dbpedia.org/property/aprLowC\", \"Apr low C\"], [\"aprMeanC\", \"property\", \"http://dbpedia.org/property/aprMeanC\", \"Apr mean C\"], [\"aprRainDays\", \"property\", \"http://dbpedia.org/property/aprRainDays\", \"Apr rain days\"], [\"aprRainMm\", \"property\", \"http://dbpedia.org/property/aprRainMm\", \"Apr rain mm\"], [\"aprRecordHighC\", \"property\", \"http://dbpedia.org/property/aprRecordHighC\", \"Apr record high C\"], [\"aprRecordLowC\", \"property\", \"http://dbpedia.org/property/aprRecordLowC\", \"Apr record low C\"], [\"aprSun\", \"property\", \"http://dbpedia.org/property/aprSun\", \"Apr sun\"], [\"augHighC\", \"property\", \"http://dbpedia.org/property/augHighC\", \"Aug high C\"], [\"augLowC\", \"property\", \"http://dbpedia.org/property/augLowC\", \"Aug low C\"], [\"augMeanC\", \"property\", \"http://dbpedia.org/property/augMeanC\", \"Aug mean C\"], [\"augRainDays\", \"property\", \"http://dbpedia.org/property/augRainDays\", \"Aug rain days\"], [\"augRainMm\", \"property\", \"http://dbpedia.org/property/augRainMm\", \"Aug rain mm\"], [\"augRecordHighC\", \"property\", \"http://dbpedia.org/property/augRecordHighC\", \"Aug record high C\"], [\"augRecordLowC\", \"property\", \"http://dbpedia.org/property/augRecordLowC\", \"Aug record low C\"], [\"augSun\", \"property\", \"http://dbpedia.org/property/augSun\", \"Aug sun\"], [\"blankInfoSec\", \"property\", \"http://dbpedia.org/property/blankInfoSec\", \"blank info sec\"], [\"blankNameSec\", \"property\", \"http://dbpedia.org/property/blankNameSec\", \"blank name sec\"], [\"caption\", \"property\", \"http://dbpedia.org/property/caption\", \"Caption\"], [\"coaSize\", \"property\", \"http://dbpedia.org/property/coaSize\", \"coa size\"], [\"coordinatesDisplay\", \"property\", \"http://dbpedia.org/property/coordinatesDisplay\", \"coordinates display\"], [\"date\", \"property\", \"http://dbpedia.org/property/date\", \"date\"], [\"decHighC\", \"property\", \"http://dbpedia.org/property/decHighC\", \"Dec high C\"], [\"decLowC\", \"property\", \"http://dbpedia.org/property/decLowC\", \"Dec low C\"], [\"decMeanC\", \"property\", \"http://dbpedia.org/property/decMeanC\", \"Dec mean C\"], [\"decRainDays\", \"property\", \"http://dbpedia.org/property/decRainDays\", \"Dec rain days\"], [\"decRainMm\", \"property\", \"http://dbpedia.org/property/decRainMm\", \"Dec rain mm\"], [\"decRecordHighC\", \"property\", \"http://dbpedia.org/property/decRecordHighC\", \"Dec record high C\"], [\"decRecordLowC\", \"property\", \"http://dbpedia.org/property/decRecordLowC\", \"Dec record low C\"], [\"decSun\", \"property\", \"http://dbpedia.org/property/decSun\", \"Dec sun\"], [\"divisions\", \"property\", \"http://dbpedia.org/property/divisions\", \"divisions\"], [\"febHighC\", \"property\", \"http://dbpedia.org/property/febHighC\", \"Feb high C\"], [\"febLowC\", \"property\", \"http://dbpedia.org/property/febLowC\", \"Feb low C\"], [\"febMeanC\", \"property\", \"http://dbpedia.org/property/febMeanC\", \"Feb mean C\"], [\"febRainDays\", \"property\", \"http://dbpedia.org/property/febRainDays\", \"Feb rain days\"], [\"febRainMm\", \"property\", \"http://dbpedia.org/property/febRainMm\", \"Feb rain mm\"], [\"febRecordHighC\", \"property\", \"http://dbpedia.org/property/febRecordHighC\", \"Feb record high C\"], [\"febRecordLowC\", \"property\", \"http://dbpedia.org/property/febRecordLowC\", \"Feb record low C\"], [\"febSun\", \"property\", \"http://dbpedia.org/property/febSun\", \"Feb sun\"], [\"flag\", \"property\", \"http://dbpedia.org/property/flag\", \"Flag\"], [\"float\", \"property\", \"http://dbpedia.org/property/float\", \"float\"], [\"gdp\", \"property\", \"http://dbpedia.org/property/gdp\", \"gdp\"], [\"gdpPerCapita\", \"property\", \"http://dbpedia.org/property/gdpPerCapita\", \"GDP per capita\"], [\"gdpPerCapitaYear\", \"property\", \"http://dbpedia.org/property/gdpPerCapitaYear\", \"GDP per capita year\"], [\"gdpYear\", \"property\", \"http://dbpedia.org/property/gdpYear\", \"GDP year\"], [\"image\", \"property\", \"http://dbpedia.org/property/image\", \"image\"], [\"isoRegion\", \"property\", \"http://dbpedia.org/property/isoRegion\", \"iso region\"], [\"janHighC\", \"property\", \"http://dbpedia.org/property/janHighC\", \"Jan high C\"], [\"janLowC\", \"property\", \"http://dbpedia.org/property/janLowC\", \"Jan low C\"], [\"janMeanC\", \"property\", \"http://dbpedia.org/property/janMeanC\", \"Jan mean C\"], [\"janRainDays\", \"property\", \"http://dbpedia.org/property/janRainDays\", \"Jan rain days\"], [\"janRainMm\", \"property\", \"http://dbpedia.org/property/janRainMm\", \"Jan rain mm\"], [\"janRecordHighC\", \"property\", \"http://dbpedia.org/property/janRecordHighC\", \"Jan record high C\"], [\"janRecordLowC\", \"property\", \"http://dbpedia.org/property/janRecordLowC\", \"Jan record low C\"], [\"janSun\", \"property\", \"http://dbpedia.org/property/janSun\", \"Jan sun\"], [\"julHighC\", \"property\", \"http://dbpedia.org/property/julHighC\", \"Jul high C\"], [\"julLowC\", \"property\", \"http://dbpedia.org/property/julLowC\", \"Jul low C\"], [\"julMeanC\", \"property\", \"http://dbpedia.org/property/julMeanC\", \"Jul mean C\"], [\"julRainDays\", \"property\", \"http://dbpedia.org/property/julRainDays\", \"Jul rain days\"], [\"julRainMm\", \"property\", \"http://dbpedia.org/property/julRainMm\", \"Jul rain mm\"], [\"julRecordHighC\", \"property\", \"http://dbpedia.org/property/julRecordHighC\", \"Jul record high C\"], [\"julRecordLowC\", \"property\", \"http://dbpedia.org/property/julRecordLowC\", \"Jul record low C\"], [\"julSun\", \"property\", \"http://dbpedia.org/property/julSun\", \"Jul sun\"], [\"junHighC\", \"property\", \"http://dbpedia.org/property/junHighC\", \"Jun high C\"], [\"junLowC\", \"property\", \"http://dbpedia.org/property/junLowC\", \"Jun low C\"], [\"junMeanC\", \"property\", \"http://dbpedia.org/property/junMeanC\", \"Jun mean C\"], [\"junRainDays\", \"property\", \"http://dbpedia.org/property/junRainDays\", \"Jun rain days\"], [\"junRainMm\", \"property\", \"http://dbpedia.org/property/junRainMm\", \"Jun rain mm\"], [\"junRecordHighC\", \"property\", \"http://dbpedia.org/property/junRecordHighC\", \"Jun record high C\"], [\"junRecordLowC\", \"property\", \"http://dbpedia.org/property/junRecordLowC\", \"Jun record low C\"], [\"junSun\", \"property\", \"http://dbpedia.org/property/junSun\", \"Jun sun\"], [\"kfz\", \"property\", \"http://dbpedia.org/property/kfz\", \"Kfz\"], [\"latd\", \"property\", \"http://dbpedia.org/property/latd\", \"latd\"], [\"latm\", \"property\", \"http://dbpedia.org/property/latm\", \"latm\"], [\"leader\", \"property\", \"http://dbpedia.org/property/leader\", \"leader\"], [\"leaderParty\", \"property\", \"http://dbpedia.org/property/leaderParty\", \"leader party\"], [\"location\", \"property\", \"http://dbpedia.org/property/location\", \"location\"], [\"longd\", \"property\", \"http://dbpedia.org/property/longd\", \"longd\"], [\"longm\", \"property\", \"http://dbpedia.org/property/longm\", \"longm\"], [\"mapSize\", \"property\", \"http://dbpedia.org/property/mapSize\", \"map size\"], [\"mapText\", \"property\", \"http://dbpedia.org/property/mapText\", \"map text\"], [\"marHighC\", \"property\", \"http://dbpedia.org/property/marHighC\", \"Mar high C\"], [\"marLowC\", \"property\", \"http://dbpedia.org/property/marLowC\", \"Mar low C\"], [\"marMeanC\", \"property\", \"http://dbpedia.org/property/marMeanC\", \"Mar mean C\"], [\"marRainDays\", \"property\", \"http://dbpedia.org/property/marRainDays\", \"Mar rain days\"], [\"marRainMm\", \"property\", \"http://dbpedia.org/property/marRainMm\", \"Mar rain mm\"], [\"marRecordHighC\", \"property\", \"http://dbpedia.org/property/marRecordHighC\", \"Mar record high C\"], [\"marRecordLowC\", \"property\", \"http://dbpedia.org/property/marRecordLowC\", \"Mar record low C\"], [\"marSun\", \"property\", \"http://dbpedia.org/property/marSun\", \"Mar sun\"], [\"mayHighC\", \"property\", \"http://dbpedia.org/property/mayHighC\", \"May high C\"], [\"mayLowC\", \"property\", \"http://dbpedia.org/property/mayLowC\", \"May low C\"], [\"mayMeanC\", \"property\", \"http://dbpedia.org/property/mayMeanC\", \"May mean C\"], [\"mayRainDays\", \"property\", \"http://dbpedia.org/property/mayRainDays\", \"May rain days\"], [\"mayRainMm\", \"property\", \"http://dbpedia.org/property/mayRainMm\", \"May rain mm\"], [\"mayRecordHighC\", \"property\", \"http://dbpedia.org/property/mayRecordHighC\", \"May record high C\"], [\"mayRecordLowC\", \"property\", \"http://dbpedia.org/property/mayRecordLowC\", \"May record low C\"], [\"maySun\", \"property\", \"http://dbpedia.org/property/maySun\", \"May sun\"], [\"metricFirst\", \"property\", \"http://dbpedia.org/property/metricFirst\", \"metric first\"], [\"novHighC\", \"property\", \"http://dbpedia.org/property/novHighC\", \"Nov high C\"], [\"novLowC\", \"property\", \"http://dbpedia.org/property/novLowC\", \"Nov low C\"], [\"novMeanC\", \"property\", \"http://dbpedia.org/property/novMeanC\", \"Nov mean C\"], [\"novRainDays\", \"property\", \"http://dbpedia.org/property/novRainDays\", \"Nov rain days\"], [\"novRainMm\", \"property\", \"http://dbpedia.org/property/novRainMm\", \"Nov rain mm\"], [\"novRecordHighC\", \"property\", \"http://dbpedia.org/property/novRecordHighC\", \"Nov record high C\"], [\"novRecordLowC\", \"property\", \"http://dbpedia.org/property/novRecordLowC\", \"Nov record low C\"], [\"novSun\", \"property\", \"http://dbpedia.org/property/novSun\", \"Nov sun\"], [\"nuts\", \"property\", \"http://dbpedia.org/property/nuts\", \"NUTS\"], [\"octHighC\", \"property\", \"http://dbpedia.org/property/octHighC\", \"Oct high C\"], [\"octLowC\", \"property\", \"http://dbpedia.org/property/octLowC\", \"Oct low C\"], [\"octMeanC\", \"property\", \"http://dbpedia.org/property/octMeanC\", \"Oct mean C\"], [\"octRainDays\", \"property\", \"http://dbpedia.org/property/octRainDays\", \"Oct rain days\"], [\"octRainMm\", \"property\", \"http://dbpedia.org/property/octRainMm\", \"Oct rain mm\"], [\"octRecordHighC\", \"property\", \"http://dbpedia.org/property/octRecordHighC\", \"Oct record high C\"], [\"octRecordLowC\", \"property\", \"http://dbpedia.org/property/octRecordLowC\", \"Oct record low C\"], [\"octSun\", \"property\", \"http://dbpedia.org/property/octSun\", \"Oct sun\"], [\"popDate\", \"property\", \"http://dbpedia.org/property/popDate\", \"pop date\"], [\"rainColour\", \"property\", \"http://dbpedia.org/property/rainColour\", \"rain colour\"], [\"sepHighC\", \"property\", \"http://dbpedia.org/property/sepHighC\", \"Sep high C\"], [\"sepLowC\", \"property\", \"http://dbpedia.org/property/sepLowC\", \"Sep low C\"], [\"sepMeanC\", \"property\", \"http://dbpedia.org/property/sepMeanC\", \"Sep mean C\"], [\"sepRainDays\", \"property\", \"http://dbpedia.org/property/sepRainDays\", \"Sep rain days\"], [\"sepRainMm\", \"property\", \"http://dbpedia.org/property/sepRainMm\", \"Sep rain mm\"], [\"sepRecordHighC\", \"property\", \"http://dbpedia.org/property/sepRecordHighC\", \"Sep record high C\"], [\"sepRecordLowC\", \"property\", \"http://dbpedia.org/property/sepRecordLowC\", \"Sep record low C\"], [\"sepSun\", \"property\", \"http://dbpedia.org/property/sepSun\", \"Sep sun\"], [\"singleLine\", \"property\", \"http://dbpedia.org/property/singleLine\", \"single line\"], [\"source\", \"property\", \"http://dbpedia.org/property/source\", \"source \"], [\"state\", \"property\", \"http://dbpedia.org/property/state\", \"state\"], [\"stateCoa\", \"property\", \"http://dbpedia.org/property/stateCoa\", \"state coa\"], [\"title\", \"property\", \"http://dbpedia.org/property/title\", \"title\"], [\"unLocode\", \"property\", \"http://dbpedia.org/property/unLocode\", \"un locode\"], [\"unitRainDays\", \"property\", \"http://dbpedia.org/property/unitRainDays\", \"unit rain days\"], [\"votes\", \"property\", \"http://dbpedia.org/property/votes\", \"votes\"], [\"website\", \"property\", \"http://dbpedia.org/property/website\", \"Website\"], [\"width\", \"property\", \"http://dbpedia.org/property/width\", \"width\"], [\"yearRecordHighC\", \"property\", \"http://dbpedia.org/property/yearRecordHighC\", \"year record high C\"], [\"yearRecordLowC\", \"property\", \"http://dbpedia.org/property/yearRecordLowC\", \"year record low C\"], [\"yearSun\", \"property\", \"http://dbpedia.org/property/yearSun\", \"year sun\"]], \"withSynonyms\": false, \"phraseLabelAvg\": [[\"population\", \"\", 0], [\"population\", \"Wikipage page ID\", 0.11233801], [\"population\", \"Wikipage revision ID\", 0.16663694], [\"population\", \"Link from a Wikipage to another Wikipage\", 0.083049372], [\"population\", \"Link from a Wikipage to an external page\", 0.084834255], [\"population\", \"name\", 0.020798344], [\"population\", \"thumbnail\", 0.088059485], [\"population\", \"area code\", 0.22468691], [\"population\", \"area total (m2)\", 0.35278386], [\"population\", \"country\", 0.29317078], [\"population\", \"demonym\", 0], [\"population\", \"elevation (\\u03bc)\", 0.13676339], [\"population\", \"leader party\", 0.099431306], [\"population\", \"leader title\", 0.038482197], [\"population\", \"population metro\", 0.79375529], [\"population\", \"population total\", 0.85707283], [\"population\", \"postal code\", 0.13154276], [\"population\", \"sound recording\", 0.0014899853], [\"population\", \"align\", 0.0096287802], [\"population\", \"Apr high C\", 0.076192588], [\"population\", \"Apr low C\", 0.088524237], [\"population\", \"Apr mean C\", 0.13184343], [\"population\", \"Apr rain days\", 0.12612621], [\"population\", \"Apr rain mm\", 0.18578181], [\"population\", \"Apr record high C\", 0.073411867], [\"population\", \"Apr record low C\", 0.084972732], [\"population\", \"Apr sun\", 0.12624848], [\"population\", \"Aug high C\", 0.039963707], [\"population\", \"Aug low C\", 0.056519866], [\"population\", \"Aug mean C\", 0.098274082], [\"population\", \"Aug rain days\", 0.087565936], [\"population\", \"Aug rain mm\", 0.15675791], [\"population\", \"Aug record high C\", 0.043552846], [\"population\", \"Aug record low C\", 0.057947487], [\"population\", \"Aug sun\", 0.082893685], [\"population\", \"blank info sec\", 0.036430754], [\"population\", \"blank name sec\", 0.034690294], [\"population\", \"Caption\", 0.029666543], [\"population\", \"coa size\", 0.23414426], [\"population\", \"coordinates display\", 0.048042744], [\"population\", \"date\", 0.040902913], [\"population\", \"Dec high C\", 0.058935285], [\"population\", \"Dec low C\", 0.069809653], [\"population\", \"Dec mean C\", 0.094051465], [\"population\", \"Dec rain days\", 0.095418699], [\"population\", \"Dec rain mm\", 0.14424008], [\"population\", \"Dec record high C\", 0.059978195], [\"population\", \"Dec record low C\", 0.070002005], [\"population\", \"Dec sun\", 0.089946941], [\"population\", \"divisions\", 0.10459223], [\"population\", \"Feb high C\", 0.075357728], [\"population\", \"Feb low C\", 0.08886157], [\"population\", \"Feb mean C\", 0.12659712], [\"population\", \"Feb rain days\", 0.11863372], [\"population\", \"Feb rain mm\", 0.1811005], [\"population\", \"Feb record high C\", 0.07305029], [\"population\", \"Feb record low C\", 0.08528842], [\"population\", \"Feb sun\", 0.12327971], [\"population\", \"Flag\", 0.082213007], [\"population\", \"float\", -0.0096590202], [\"population\", \"gdp\", 0.34919015], [\"population\", \"GDP per capita\", 0.34269419], [\"population\", \"GDP per capita year\", 0.3426019], [\"population\", \"GDP year\", 0.33851409], [\"population\", \"image\", 0.066724747], [\"population\", \"iso region\", 0.22491261], [\"population\", \"Jan high C\", 0.051692884], [\"population\", \"Jan low C\", 0.065432064], [\"population\", \"Jan mean C\", 0.10222631], [\"population\", \"Jan rain days\", 0.096705392], [\"population\", \"Jan rain mm\", 0.1674898], [\"population\", \"Jan record high C\", 0.053078029], [\"population\", \"Jan record low C\", 0.06537272], [\"population\", \"Jan sun\", 0.092964917], [\"population\", \"Jul high C\", 0.078656666], [\"population\", \"Jul low C\", 0.094228633], [\"population\", \"Jul mean C\", 0.14238937], [\"population\", \"Jul rain days\", 0.12691236], [\"population\", \"Jul rain mm\", 0.19682749], [\"population\", \"Jul record high C\", 0.073538437], [\"population\", \"Jul record low C\", 0.087582737], [\"population\", \"Jul sun\", 0.13293946], [\"population\", \"Jun high C\", 0.019293858], [\"population\", \"Jun low C\", 0.035919141], [\"population\", \"Jun mean C\", 0.07437674], [\"population\", \"Jun rain days\", 0.068748258], [\"population\", \"Jun rain mm\", 0.13924749], [\"population\", \"Jun record high C\", 0.025791528], [\"population\", \"Jun record low C\", 0.040229004], [\"population\", \"Jun sun\", 0.057032935], [\"population\", \"Kfz\", 0], [\"population\", \"latd\", 0], [\"population\", \"latm\", 0], [\"population\", \"leader\", 0.063661546], [\"population\", \"leader party\", 0.099431306], [\"population\", \"location\", 0.16090238], [\"population\", \"longd\", 0], [\"population\", \"longm\", 0], [\"population\", \"map size\", 0.2951951], [\"population\", \"map text\", 0.15086548], [\"population\", \"Mar high C\", 0.036463153], [\"population\", \"Mar low C\", 0.051830396], [\"population\", \"Mar mean C\", 0.087245852], [\"population\", \"Mar rain days\", 0.081026033], [\"population\", \"Mar rain mm\", 0.15186857], [\"population\", \"Mar record high C\", 0.039398983], [\"population\", \"Mar record low C\", 0.052637558], [\"population\", \"Mar sun\", 0.075391978], [\"population\", \"May high C\", 0.060225248], [\"population\", \"May low C\", 0.077412292], [\"population\", \"May mean C\", 0.12316205], [\"population\", \"May rain days\", 0.10822777], [\"population\", \"May rain mm\", 0.18803352], [\"population\", \"May record high C\", 0.058210518], [\"population\", \"May record low C\", 0.072992869], [\"population\", \"May sun\", 0.11078551], [\"population\", \"metric first\", 0.041639939], [\"population\", \"Nov high C\", 0.073248036], [\"population\", \"Nov low C\", 0.087711439], [\"population\", \"Nov mean C\", 0.12550026], [\"population\", \"Nov rain days\", 0.12044348], [\"population\", \"Nov rain mm\", 0.18419784], [\"population\", \"Nov record high C\", 0.070835069], [\"population\", \"Nov record low C\", 0.083743513], [\"population\", \"Nov sun\", 0.1214385], [\"population\", \"NUTS\", 0.079615593], [\"population\", \"Oct high C\", 0.052568611], [\"population\", \"Oct low C\", 0.067215964], [\"population\", \"Oct mean C\", 0.10619284], [\"population\", \"Oct rain days\", 0.10114117], [\"population\", \"Oct rain mm\", 0.16693948], [\"population\", \"Oct record high C\", 0.05342206], [\"population\", \"Oct record low C\", 0.066330515], [\"population\", \"Oct sun\", 0.098339386], [\"population\", \"pop date\", 0.028465332], [\"population\", \"rain colour\", 0.10522194], [\"population\", \"Sep high C\", 0.059593171], [\"population\", \"Sep low C\", 0.073799759], [\"population\", \"Sep mean C\", 0.11641595], [\"population\", \"Sep rain days\", 0.10914844], [\"population\", \"Sep rain mm\", 0.17657419], [\"population\", \"Sep record high C\", 0.059153788], [\"population\", \"Sep record low C\", 0.071899332], [\"population\", \"Sep sun\", 0.1093863], [\"population\", \"single line\", 0.049949501], [\"population\", \"source \", 0.065199018], [\"population\", \"state\", 0.24936627], [\"population\", \"state coa\", 0.20947997], [\"population\", \"title\", -0.00273892], [\"population\", \"un locode\", 0.040614862], [\"population\", \"unit rain days\", 0.15902674], [\"population\", \"votes\", 0.21878694], [\"population\", \"Website\", 0.028693555], [\"population\", \"width\", 0.12341858], [\"population\", \"year record high C\", 0.079503082], [\"population\", \"year record low C\", 0.094670169], [\"population\", \"year sun\", 0.14500552]]}], \"answer\": [\"3610156\"], \"model\": [[[\"What\", \"WP\"], \"cop\", [\"are\", \"VBP\"]], [[\"What\", \"WP\"], \"nsubj\", [\"population\", \"NN\"]], [[\"population\", \"NN\"], \"det\", [\"the\", \"DT\"]], [[\"population\", \"NN\"], \"nmod\", [\"capital\", \"NN\"]], [[\"capital\", \"NN\"], \"case\", [\"of\", \"IN\"]], [[\"capital\", \"NN\"], \"nmod\", [\"Germany\", \"NNP\"]], [[\"Germany\", \"NNP\"], \"case\", [\"of\", \"IN\"]]], \"stack\": [\"population\", \"capital\", \"Germany\"], \"primaryURL\": {\"src\": \"agdistis\", \"value\": \"http://dbpedia.org/resource/Germany\"}}, {\"question\": \"Who is the president of United States?\", \"stackDetails\": [{\"keyword\": \"leader\", \"word\": \"president\", \"properties\": [[\"wikiPageID\", \"ontology\", \"http://dbpedia.org/ontology/wikiPageID\", \"Wikipage page ID\"], [\"wikiPageRevisionID\", \"ontology\", \"http://dbpedia.org/ontology/wikiPageRevisionID\", \"Wikipage revision ID\"], [\"wikiPageWikiLink\", \"ontology\", \"http://dbpedia.org/ontology/wikiPageWikiLink\", \"Link from a Wikipage to another Wikipage\"], [\"wikiPageExternalLink\", \"ontology\", \"http://dbpedia.org/ontology/wikiPageExternalLink\", \"Link from a Wikipage to an external page\"], [\"thumbnail\", \"ontology\", \"http://dbpedia.org/ontology/thumbnail\", \"thumbnail\"], [\"anthem\", \"ontology\", \"http://dbpedia.org/ontology/anthem\", \"anthem\"], [\"areaTotal\", \"ontology\", \"http://dbpedia.org/ontology/areaTotal\", \"area total (m2)\"], [\"capital\", \"ontology\", \"http://dbpedia.org/ontology/capital\", \"capital\"], [\"demonym\", \"ontology\", \"http://dbpedia.org/ontology/demonym\", \"demonym\"], [\"ethnicGroup\", \"ontology\", \"http://dbpedia.org/ontology/ethnicGroup\", \"ethnic group\"], [\"flag\", \"ontology\", \"http://dbpedia.org/ontology/flag\", \"flag (image)\"], [\"foundingDate\", \"ontology\", \"http://dbpedia.org/ontology/foundingDate\", \"founding date\"], [\"governmentType\", \"ontology\", \"http://dbpedia.org/ontology/governmentType\", \"government type\"], [\"language\", \"ontology\", \"http://dbpedia.org/ontology/language\", \"language\"], [\"largestCity\", \"ontology\", \"http://dbpedia.org/ontology/largestCity\", \"largest city\"], [\"leader\", \"ontology\", \"http://dbpedia.org/ontology/leader\", \"leader\"], [\"leaderTitle\", \"ontology\", \"http://dbpedia.org/ontology/leaderTitle\", \"leader title\"], [\"longName\", \"ontology\", \"http://dbpedia.org/ontology/longName\", \"longName\"], [\"motto\", \"ontology\", \"http://dbpedia.org/ontology/motto\", \"motto\"], [\"officialLanguage\", \"ontology\", \"http://dbpedia.org/ontology/officialLanguage\", \"official language\"], [\"percentageOfAreaWater\", \"ontology\", \"http://dbpedia.org/ontology/percentageOfAreaWater\", \"percentage of area water\"], [\"populationDensity\", \"ontology\", \"http://dbpedia.org/ontology/populationDensity\", \"population density (/sqkm)\"], [\"populationTotal\", \"ontology\", \"http://dbpedia.org/ontology/populationTotal\", \"population total\"], [\"footnoteF\", \"property\", \"http://dbpedia.org/property/footnoteF\", \"footnote f\"], [\"align\", \"property\", \"http://dbpedia.org/property/align\", \"align\"], [\"altMap\", \"property\", \"http://dbpedia.org/property/altMap\", \"alt map\"], [\"areaData\", \"property\", \"http://dbpedia.org/property/areaData\", \"area data\"], [\"areaLabel\", \"property\", \"http://dbpedia.org/property/areaLabel\", \"area label\"], [\"areaMagnitude\", \"property\", \"http://dbpedia.org/property/areaMagnitude\", \"area magnitude\"], [\"areaRank\", \"property\", \"http://dbpedia.org/property/areaRank\", \"area rank\"], [\"callingCode\", \"property\", \"http://dbpedia.org/property/callingCode\", \"calling code\"], [\"caption\", \"property\", \"http://dbpedia.org/property/caption\", \"Caption\"], [\"cctld\", \"property\", \"http://dbpedia.org/property/cctld\", \"cctld\"], [\"countryCode\", \"property\", \"http://dbpedia.org/property/countryCode\", \"country code\"], [\"currency\", \"property\", \"http://dbpedia.org/property/currency\", \"currency\"], [\"currencyCode\", \"property\", \"http://dbpedia.org/property/currencyCode\", \"currency code\"], [\"date\", \"property\", \"http://dbpedia.org/property/date\", \"date\"], [\"dateFormat\", \"property\", \"http://dbpedia.org/property/dateFormat\", \"date format\"], [\"direction\", \"property\", \"http://dbpedia.org/property/direction\", \"direction\"], [\"drivesOn\", \"property\", \"http://dbpedia.org/property/drivesOn\", \"drives on\"], [\"ef\", \"property\", \"http://dbpedia.org/property/ef\", \"EF\"], [\"efRank\", \"property\", \"http://dbpedia.org/property/efRank\", \"EF rank\"], [\"efYear\", \"property\", \"http://dbpedia.org/property/efYear\", \"EF year\"], [\"establishedDate\", \"property\", \"http://dbpedia.org/property/establishedDate\", \"established date\"], [\"establishedEvent\", \"property\", \"http://dbpedia.org/property/establishedEvent\", \"established event\"], [\"footnoteA\", \"property\", \"http://dbpedia.org/property/footnoteA\", \"footnote a\"], [\"footnoteB\", \"property\", \"http://dbpedia.org/property/footnoteB\", \"footnote b\"], [\"footnoteC\", \"property\", \"http://dbpedia.org/property/footnoteC\", \"footnote c\"], [\"footnoteD\", \"property\", \"http://dbpedia.org/property/footnoteD\", \"footnote d\"], [\"footnoteE\", \"property\", \"http://dbpedia.org/property/footnoteE\", \"footnote e\"], [\"gdpNominal\", \"property\", \"http://dbpedia.org/property/gdpNominal\", \"GDP nominal\"], [\"gdpNominalPerCapita\", \"property\", \"http://dbpedia.org/property/gdpNominalPerCapita\", \"GDP nominal per capita\"], [\"gdpNominalPerCapitaRank\", \"property\", \"http://dbpedia.org/property/gdpNominalPerCapitaRank\", \"GDP nominal per capita rank\"], [\"gdpNominalRank\", \"property\", \"http://dbpedia.org/property/gdpNominalRank\", \"GDP nominal rank\"], [\"gdpNominalYear\", \"property\", \"http://dbpedia.org/property/gdpNominalYear\", \"GDP nominal year\"], [\"gdpPpp\", \"property\", \"http://dbpedia.org/property/gdpPpp\", \"GDP PPP\"], [\"gdpPppPerCapita\", \"property\", \"http://dbpedia.org/property/gdpPppPerCapita\", \"GDP PPP per capita\"], [\"gdpPppPerCapitaRank\", \"property\", \"http://dbpedia.org/property/gdpPppPerCapitaRank\", \"GDP PPP per capita rank\"], [\"gdpPppRank\", \"property\", \"http://dbpedia.org/property/gdpPppRank\", \"GDP PPP rank\"], [\"gdpPppYear\", \"property\", \"http://dbpedia.org/property/gdpPppYear\", \"GDP PPP year\"], [\"gini\", \"property\", \"http://dbpedia.org/property/gini\", \"Gini\"], [\"giniYear\", \"property\", \"http://dbpedia.org/property/giniYear\", \"Gini year\"], [\"hdi\", \"property\", \"http://dbpedia.org/property/hdi\", \"HDI\"], [\"hdiChange\", \"property\", \"http://dbpedia.org/property/hdiChange\", \"HDI change\"], [\"hdiRank\", \"property\", \"http://dbpedia.org/property/hdiRank\", \"HDI rank\"], [\"hdiYear\", \"property\", \"http://dbpedia.org/property/hdiYear\", \"HDI year\"], [\"height\", \"property\", \"http://dbpedia.org/property/height\", \"height\"], [\"image\", \"property\", \"http://dbpedia.org/property/image\", \"image\"], [\"imageCoat\", \"property\", \"http://dbpedia.org/property/imageCoat\", \"image coat\"], [\"imageMap\", \"property\", \"http://dbpedia.org/property/imageMap\", \"image map\"], [\"iso3166code\", \"property\", \"http://dbpedia.org/property/iso3166code\", \"iso3166code\"], [\"languagesType\", \"property\", \"http://dbpedia.org/property/languagesType\", \"languages type\"], [\"latd\", \"property\", \"http://dbpedia.org/property/latd\", \"latd\"], [\"latm\", \"property\", \"http://dbpedia.org/property/latm\", \"latm\"], [\"latns\", \"property\", \"http://dbpedia.org/property/latns\", \"latNS\"], [\"legislature\", \"property\", \"http://dbpedia.org/property/legislature\", \"Legislature\"], [\"longd\", \"property\", \"http://dbpedia.org/property/longd\", \"longd\"], [\"longew\", \"property\", \"http://dbpedia.org/property/longew\", \"longEW\"], [\"longm\", \"property\", \"http://dbpedia.org/property/longm\", \"longm\"], [\"lowerHouse\", \"property\", \"http://dbpedia.org/property/lowerHouse\", \"lower house\"], [\"mapCaption\", \"property\", \"http://dbpedia.org/property/mapCaption\", \"map caption\"], [\"mapWidth\", \"property\", \"http://dbpedia.org/property/mapWidth\", \"map width\"], [\"officialReligion\", \"property\", \"http://dbpedia.org/property/officialReligion\", \"official religion\"], [\"populationCensus\", \"property\", \"http://dbpedia.org/property/populationCensus\", \"population census\"], [\"populationCensusRank\", \"property\", \"http://dbpedia.org/property/populationCensusRank\", \"population census rank\"], [\"populationCensusYear\", \"property\", \"http://dbpedia.org/property/populationCensusYear\", \"population census year\"], [\"populationDensityRank\", \"property\", \"http://dbpedia.org/property/populationDensityRank\", \"population density rank\"], [\"populationEstimateRank\", \"property\", \"http://dbpedia.org/property/populationEstimateRank\", \"population estimate rank\"], [\"populationEstimateYear\", \"property\", \"http://dbpedia.org/property/populationEstimateYear\", \"population estimate year\"], [\"reason\", \"property\", \"http://dbpedia.org/property/reason\", \"reason\"], [\"sovereigntyType\", \"property\", \"http://dbpedia.org/property/sovereigntyType\", \"sovereignty type\"], [\"symbolType\", \"property\", \"http://dbpedia.org/property/symbolType\", \"symbol type\"], [\"upperHouse\", \"property\", \"http://dbpedia.org/property/upperHouse\", \"upper house\"], [\"utcOffset\", \"property\", \"http://dbpedia.org/property/utcOffset\", \"utc offset\"], [\"utcOffsetDst\", \"property\", \"http://dbpedia.org/property/utcOffsetDst\", \"utc offset DST\"], [\"width\", \"property\", \"http://dbpedia.org/property/width\", \"width\"]], \"withSynonyms\": false, \"phraseLabelAvg\": [[\"president\", \"\", 0], [\"president\", \"Wikipage page ID\", -0.025786236], [\"president\", \"Wikipage revision ID\", -0.021849224], [\"president\", \"Link from a Wikipage to another Wikipage\", -0.032945175], [\"president\", \"Link from a Wikipage to an external page\", 0.0074862833], [\"president\", \"thumbnail\", -0.052007139], [\"president\", \"anthem\", 0.10483376], [\"president\", \"area total (m2)\", -0.061767373], [\"president\", \"capital\", 0.10236386], [\"president\", \"demonym\", 0], [\"president\", \"ethnic group\", 0.090150021], [\"president\", \"flag (image)\", 0.12665418], [\"president\", \"founding date\", 0.22526632], [\"president\", \"government type\", 0.11640244], [\"president\", \"language\", 0.064476058], [\"president\", \"largest city\", 0.1538633], [\"president\", \"leader\", 0.45556399], [\"president\", \"leader title\", 0.32821888], [\"president\", \"longName\", 0], [\"president\", \"motto\", 0.22113876], [\"president\", \"official language\", 0.18577489], [\"president\", \"percentage of area water\", 0.021948798], [\"president\", \"population density (/sqkm)\", 0.04270748], [\"president\", \"population total\", -0.01540693], [\"president\", \"footnote f\", -0.035754077], [\"president\", \"align\", 0.096490264], [\"president\", \"alt map\", -0.066145889], [\"president\", \"area data\", 0.0072665899], [\"president\", \"area label\", -0.024381539], [\"president\", \"area magnitude\", 0.027834941], [\"president\", \"area rank\", 0.010969503], [\"president\", \"calling code\", 0.02456671], [\"president\", \"Caption\", 0.020327976], [\"president\", \"cctld\", 0], [\"president\", \"country code\", 0.0966186], [\"president\", \"currency\", 0.048212137], [\"president\", \"currency code\", 0.033103015], [\"president\", \"date\", -0.075856894], [\"president\", \"date format\", -0.05577226], [\"president\", \"direction\", 0.20268594], [\"president\", \"drives on\", -0.0556412], [\"president\", \"EF\", -0.014834544], [\"president\", \"EF rank\", 0.0055483249], [\"president\", \"EF year\", 0.020489356], [\"president\", \"established date\", 0.0055702957], [\"president\", \"established event\", 0.10990948], [\"president\", \"footnote a\", 0.013996698], [\"president\", \"footnote b\", -0.040390696], [\"president\", \"footnote c\", 0.025552092], [\"president\", \"footnote d\", 0.030894635], [\"president\", \"footnote e\", -0.0055975947], [\"president\", \"GDP nominal\", 0.024645204], [\"president\", \"GDP nominal per capita\", -0.033413295], [\"president\", \"GDP nominal per capita rank\", -0.021126848], [\"president\", \"GDP nominal rank\", 0.030797569], [\"president\", \"GDP nominal year\", 0.043768056], [\"president\", \"GDP PPP\", -0.071763642], [\"president\", \"GDP PPP per capita\", -0.093646422], [\"president\", \"GDP PPP per capita rank\", -0.072773613], [\"president\", \"GDP PPP rank\", -0.045352958], [\"president\", \"GDP PPP year\", -0.045394726], [\"president\", \"Gini\", -0.055667829], [\"president\", \"Gini year\", 0.021059455], [\"president\", \"HDI\", 0], [\"president\", \"HDI change\", 0.078418262], [\"president\", \"HDI rank\", 0.022150097], [\"president\", \"HDI year\", 0.059064448], [\"president\", \"height\", 0.0011825172], [\"president\", \"image\", 0.07623595], [\"president\", \"image coat\", 0.10147624], [\"president\", \"image map\", 0.044001941], [\"president\", \"iso3166code\", 0], [\"president\", \"languages type\", -0.051740624], [\"president\", \"latd\", 0], [\"president\", \"latm\", 0], [\"president\", \"latNS\", 0], [\"president\", \"Legislature\", 0.23676561], [\"president\", \"longd\", 0], [\"president\", \"longEW\", 0], [\"president\", \"longm\", 0], [\"president\", \"lower house\", 0.044373523], [\"president\", \"map caption\", 0.010365508], [\"president\", \"map width\", -0.037077334], [\"president\", \"official religion\", 0.15665065], [\"president\", \"population census\", 0.028068857], [\"president\", \"population census rank\", 0.033873077], [\"president\", \"population census year\", 0.043189693], [\"president\", \"population density rank\", 0.045970194], [\"president\", \"population estimate rank\", 0.0094201788], [\"president\", \"population estimate year\", 0.017854543], [\"president\", \"reason\", 0.077489138], [\"president\", \"sovereignty type\", 0.085668221], [\"president\", \"symbol type\", 0.13649213], [\"president\", \"upper house\", 0.018734155], [\"president\", \"utc offset\", -0.065182023], [\"president\", \"utc offset DST\", -0.068277374], [\"president\", \"width\", -0.047212485]]}], \"answer\": [\"http://dbpedia.org/resource/Barack_Obama\", \"http://dbpedia.org/resource/John_Roberts\", \"http://dbpedia.org/resource/Joe_Biden\", \"http://dbpedia.org/resource/Paul_Ryan\"], \"model\": [[[\"Who\", \"WP\"], \"cop\", [\"is\", \"VBZ\"]], [[\"Who\", \"WP\"], \"nsubj\", [\"president\", \"NN\"]], [[\"president\", \"NN\"], \"det\", [\"the\", \"DT\"]], [[\"president\", \"NN\"], \"nmod\", [\"States\", \"NNPS\"]], [[\"States\", \"NNPS\"], \"case\", [\"of\", \"IN\"]], [[\"States\", \"NNPS\"], \"compound\", [\"United\", \"NNP\"]]], \"stack\": [\"president\", \"States\"], \"primaryURL\": {\"src\": \"agdistis\", \"value\": \"http://dbpedia.org/resource/United_States\"}}, {\"question\": \"When is the birth date of Tom Cruise?\", \"stackDetails\": [{\"keyword\": \"birth date\", \"word\": \"birth date\", \"properties\": [[\"birthPlace\", \"ontology\", \"http://dbpedia.org/ontology/birthPlace\", \"birth place\"], [\"birthDate\", \"ontology\", \"http://dbpedia.org/ontology/birthDate\", \"birth date\"], [\"wikiPageID\", \"ontology\", \"http://dbpedia.org/ontology/wikiPageID\", \"Wikipage page ID\"], [\"wikiPageRevisionID\", \"ontology\", \"http://dbpedia.org/ontology/wikiPageRevisionID\", \"Wikipage revision ID\"], [\"wikiPageWikiLink\", \"ontology\", \"http://dbpedia.org/ontology/wikiPageWikiLink\", \"Link from a Wikipage to another Wikipage\"], [\"wikiPageExternalLink\", \"ontology\", \"http://dbpedia.org/ontology/wikiPageExternalLink\", \"Link from a Wikipage to an external page\"], [\"thumbnail\", \"ontology\", \"http://dbpedia.org/ontology/thumbnail\", \"thumbnail\"], [\"activeYearsStartYear\", \"ontology\", \"http://dbpedia.org/ontology/activeYearsStartYear\", \"active years start year\"], [\"birthName\", \"ontology\", \"http://dbpedia.org/ontology/birthName\", \"birth name\"], [\"birthYear\", \"ontology\", \"http://dbpedia.org/ontology/birthYear\", \"birth year\"], [\"occupation\", \"ontology\", \"http://dbpedia.org/ontology/occupation\", \"occupation\"], [\"relative\", \"ontology\", \"http://dbpedia.org/ontology/relative\", \"relative\"], [\"religion\", \"ontology\", \"http://dbpedia.org/ontology/religion\", \"religion\"], [\"spouse\", \"ontology\", \"http://dbpedia.org/ontology/spouse\", \"spouse\"], [\"b\", \"property\", \"http://dbpedia.org/property/b\", \"b\"], [\"caption\", \"property\", \"http://dbpedia.org/property/caption\", \"Caption\"], [\"children\", \"property\", \"http://dbpedia.org/property/children\", \"children\"], [\"commons\", \"property\", \"http://dbpedia.org/property/commons\", \"commons\"], [\"display\", \"property\", \"http://dbpedia.org/property/display\", \"display\"], [\"n\", \"property\", \"http://dbpedia.org/property/n\", \"n\"], [\"q\", \"property\", \"http://dbpedia.org/property/q\", \"q\"], [\"s\", \"property\", \"http://dbpedia.org/property/s\", \"s\"], [\"species\", \"property\", \"http://dbpedia.org/property/species\", \"species\"], [\"title\", \"property\", \"http://dbpedia.org/property/title\", \"title\"], [\"v\", \"property\", \"http://dbpedia.org/property/v\", \"v\"], [\"wikt\", \"property\", \"http://dbpedia.org/property/wikt\", \"wikt\"], [\"wordnet_type\", \"property\", \"http://dbpedia.org/property/wordnet_type\", false]], \"withSynonyms\": false, \"phraseLabelAvg\": [[\"birth date\", \"\", 0], [\"birth date\", \"birth place\", 0.76095122], [\"birth date\", \"birth date\", 0.99999988], [\"birth date\", \"Wikipage page ID\", 0.18918015], [\"birth date\", \"Wikipage revision ID\", 0.24958605], [\"birth date\", \"Link from a Wikipage to another Wikipage\", 0.16770063], [\"birth date\", \"Link from a Wikipage to an external page\", 0.14066924], [\"birth date\", \"thumbnail\", 0.15185426], [\"birth date\", \"active years start year\", 0.27588543], [\"birth date\", \"birth name\", 0.77042007], [\"birth date\", \"birth year\", 0.80661732], [\"birth date\", \"occupation\", 0.12879747], [\"birth date\", \"relative\", 0.16162072], [\"birth date\", \"religion\", 0.14991856], [\"birth date\", \"spouse\", 0.20574963], [\"birth date\", \"b\", 0.13704722], [\"birth date\", \"Caption\", 0.11165778], [\"birth date\", \"children\", 0.2551389], [\"birth date\", \"commons\", 0.034683876], [\"birth date\", \"display\", 0.063282296], [\"birth date\", \"n\", 0.0070538446], [\"birth date\", \"q\", 0.065250732], [\"birth date\", \"s\", 0.042451292], [\"birth date\", \"species\", 0.12938902], [\"birth date\", \"title\", 0.11457749], [\"birth date\", \"v\", 0.038020089], [\"birth date\", \"wikt\", 0], [\"birth date\", \"False\", 0.19066033]]}], \"answer\": [\"1962-07-03\", \"1962-7-3\"], \"model\": [[[\"is\", \"VBZ\"], \"advmod\", [\"When\", \"WRB\"]], [[\"is\", \"VBZ\"], \"nsubj\", [\"date\", \"NN\"]], [[\"date\", \"NN\"], \"det\", [\"the\", \"DT\"]], [[\"date\", \"NN\"], \"compound\", [\"birth\", \"NN\"]], [[\"date\", \"NN\"], \"nmod\", [\"Cruise\", \"NNP\"]], [[\"Cruise\", \"NNP\"], \"case\", [\"of\", \"IN\"]], [[\"Cruise\", \"NNP\"], \"compound\", [\"Tom\", \"NNP\"]]], \"stack\": [\"date\", \"Cruise\"], \"primaryURL\": {\"src\": \"agdistis\", \"value\": \"http://dbpedia.org/resource/Tom_Cruise\"}}, {\"question\": \"What is the color of the flag of Germany?\", \"stackDetails\": [{\"word\": \"flag\", \"properties\": [[\"wikiPageID\", \"ontology\", \"http://dbpedia.org/ontology/wikiPageID\", \"Wikipage page ID\"], [\"wikiPageRevisionID\", \"ontology\", \"http://dbpedia.org/ontology/wikiPageRevisionID\", \"Wikipage revision ID\"], [\"wikiPageWikiLink\", \"ontology\", \"http://dbpedia.org/ontology/wikiPageWikiLink\", \"Link from a Wikipage to another Wikipage\"], [\"wikiPageExternalLink\", \"ontology\", \"http://dbpedia.org/ontology/wikiPageExternalLink\", \"Link from a Wikipage to an external page\"], [\"thumbnail\", \"ontology\", \"http://dbpedia.org/ontology/thumbnail\", \"thumbnail\"], [\"anthem\", \"ontology\", \"http://dbpedia.org/ontology/anthem\", \"anthem\"], [\"areaTotal\", \"ontology\", \"http://dbpedia.org/ontology/areaTotal\", \"area total (m2)\"], [\"capital\", \"ontology\", \"http://dbpedia.org/ontology/capital\", \"capital\"], [\"currency\", \"ontology\", \"http://dbpedia.org/ontology/currency\", \"currency\"], [\"demonym\", \"ontology\", \"http://dbpedia.org/ontology/demonym\", \"demonym\"], [\"flag\", \"ontology\", \"http://dbpedia.org/ontology/flag\", \"flag (image)\"], [\"foundingDate\", \"ontology\", \"http://dbpedia.org/ontology/foundingDate\", \"founding date\"], [\"governmentType\", \"ontology\", \"http://dbpedia.org/ontology/governmentType\", \"government type\"], [\"language\", \"ontology\", \"http://dbpedia.org/ontology/language\", \"language\"], [\"largestCity\", \"ontology\", \"http://dbpedia.org/ontology/largestCity\", \"largest city\"], [\"leader\", \"ontology\", \"http://dbpedia.org/ontology/leader\", \"leader\"], [\"leaderTitle\", \"ontology\", \"http://dbpedia.org/ontology/leaderTitle\", \"leader title\"], [\"longName\", \"ontology\", \"http://dbpedia.org/ontology/longName\", \"longName\"], [\"officialLanguage\", \"ontology\", \"http://dbpedia.org/ontology/officialLanguage\", \"official language\"], [\"populationDensity\", \"ontology\", \"http://dbpedia.org/ontology/populationDensity\", \"population density (/sqkm)\"], [\"populationTotal\", \"ontology\", \"http://dbpedia.org/ontology/populationTotal\", \"population total\"], [\"align\", \"property\", \"http://dbpedia.org/property/align\", \"align\"], [\"areaMagnitude\", \"property\", \"http://dbpedia.org/property/areaMagnitude\", \"area magnitude\"], [\"areaRank\", \"property\", \"http://dbpedia.org/property/areaRank\", \"area rank\"], [\"callingCode\", \"property\", \"http://dbpedia.org/property/callingCode\", \"calling code\"], [\"caption\", \"property\", \"http://dbpedia.org/property/caption\", \"Caption\"], [\"cctld\", \"property\", \"http://dbpedia.org/property/cctld\", \"cctld\"], [\"currencyCode\", \"property\", \"http://dbpedia.org/property/currencyCode\", \"currency code\"], [\"direction\", \"property\", \"http://dbpedia.org/property/direction\", \"direction\"], [\"drivesOn\", \"property\", \"http://dbpedia.org/property/drivesOn\", \"drives on\"], [\"establishedDate\", \"property\", \"http://dbpedia.org/property/establishedDate\", \"established date\"], [\"establishedEvent\", \"property\", \"http://dbpedia.org/property/establishedEvent\", \"established event\"], [\"footer\", \"property\", \"http://dbpedia.org/property/footer\", \"footer\"], [\"footnoteA\", \"property\", \"http://dbpedia.org/property/footnoteA\", \"footnote a\"], [\"gdpNominal\", \"property\", \"http://dbpedia.org/property/gdpNominal\", \"GDP nominal\"], [\"gdpNominalPerCapita\", \"property\", \"http://dbpedia.org/property/gdpNominalPerCapita\", \"GDP nominal per capita\"], [\"gdpNominalPerCapitaRank\", \"property\", \"http://dbpedia.org/property/gdpNominalPerCapitaRank\", \"GDP nominal per capita rank\"], [\"gdpNominalRank\", \"property\", \"http://dbpedia.org/property/gdpNominalRank\", \"GDP nominal rank\"], [\"gdpNominalYear\", \"property\", \"http://dbpedia.org/property/gdpNominalYear\", \"GDP nominal year\"], [\"gdpPpp\", \"property\", \"http://dbpedia.org/property/gdpPpp\", \"GDP PPP\"], [\"gdpPppPerCapita\", \"property\", \"http://dbpedia.org/property/gdpPppPerCapita\", \"GDP PPP per capita\"], [\"gdpPppPerCapitaRank\", \"property\", \"http://dbpedia.org/property/gdpPppPerCapitaRank\", \"GDP PPP per capita rank\"], [\"gdpPppRank\", \"property\", \"http://dbpedia.org/property/gdpPppRank\", \"GDP PPP rank\"], [\"gdpPppYear\", \"property\", \"http://dbpedia.org/property/gdpPppYear\", \"GDP PPP year\"], [\"gini\", \"property\", \"http://dbpedia.org/property/gini\", \"Gini\"], [\"giniChange\", \"property\", \"http://dbpedia.org/property/giniChange\", \"Gini change\"], [\"giniYear\", \"property\", \"http://dbpedia.org/property/giniYear\", \"Gini year\"], [\"hdi\", \"property\", \"http://dbpedia.org/property/hdi\", \"HDI\"], [\"hdiChange\", \"property\", \"http://dbpedia.org/property/hdiChange\", \"HDI change\"], [\"hdiRank\", \"property\", \"http://dbpedia.org/property/hdiRank\", \"HDI rank\"], [\"hdiYear\", \"property\", \"http://dbpedia.org/property/hdiYear\", \"HDI year\"], [\"image\", \"property\", \"http://dbpedia.org/property/image\", \"image\"], [\"imageCoat\", \"property\", \"http://dbpedia.org/property/imageCoat\", \"image coat\"], [\"imageMap\", \"property\", \"http://dbpedia.org/property/imageMap\", \"image map\"], [\"latd\", \"property\", \"http://dbpedia.org/property/latd\", \"latd\"], [\"latm\", \"property\", \"http://dbpedia.org/property/latm\", \"latm\"], [\"latns\", \"property\", \"http://dbpedia.org/property/latns\", \"latNS\"], [\"longd\", \"property\", \"http://dbpedia.org/property/longd\", \"longd\"], [\"longew\", \"property\", \"http://dbpedia.org/property/longew\", \"longEW\"], [\"longm\", \"property\", \"http://dbpedia.org/property/longm\", \"longm\"], [\"lowerHouse\", \"property\", \"http://dbpedia.org/property/lowerHouse\", \"lower house\"], [\"map2Width\", \"property\", \"http://dbpedia.org/property/map2Width\", \"map2 width\"], [\"populationDensityRank\", \"property\", \"http://dbpedia.org/property/populationDensityRank\", \"population density rank\"], [\"populationEstimateRank\", \"property\", \"http://dbpedia.org/property/populationEstimateRank\", \"population estimate rank\"], [\"populationEstimateYear\", \"property\", \"http://dbpedia.org/property/populationEstimateYear\", \"population estimate year\"], [\"sovereigntyType\", \"property\", \"http://dbpedia.org/property/sovereigntyType\", \"sovereignty type\"], [\"timeZone\", \"property\", \"http://dbpedia.org/property/timeZone\", \"time zone\"], [\"timeZoneDst\", \"property\", \"http://dbpedia.org/property/timeZoneDst\", \"time zone DST\"], [\"title\", \"property\", \"http://dbpedia.org/property/title\", \"title\"], [\"upperHouse\", \"property\", \"http://dbpedia.org/property/upperHouse\", \"upper house\"], [\"utcOffset\", \"property\", \"http://dbpedia.org/property/utcOffset\", \"utc offset\"], [\"utcOffsetDst\", \"property\", \"http://dbpedia.org/property/utcOffsetDst\", \"utc offset DST\"], [\"width\", \"property\", \"http://dbpedia.org/property/width\", \"width\"]], \"withSynonyms\": false}, {\"keyword\": \"image coat\", \"word\": \"color\", \"properties\": [[\"wikiPageID\", \"ontology\", \"http://dbpedia.org/ontology/wikiPageID\", \"Wikipage page ID\"], [\"wikiPageRevisionID\", \"ontology\", \"http://dbpedia.org/ontology/wikiPageRevisionID\", \"Wikipage revision ID\"], [\"wikiPageWikiLink\", \"ontology\", \"http://dbpedia.org/ontology/wikiPageWikiLink\", \"Link from a Wikipage to another Wikipage\"], [\"wikiPageExternalLink\", \"ontology\", \"http://dbpedia.org/ontology/wikiPageExternalLink\", \"Link from a Wikipage to an external page\"], [\"thumbnail\", \"ontology\", \"http://dbpedia.org/ontology/thumbnail\", \"thumbnail\"], [\"anthem\", \"ontology\", \"http://dbpedia.org/ontology/anthem\", \"anthem\"], [\"areaTotal\", \"ontology\", \"http://dbpedia.org/ontology/areaTotal\", \"area total (m2)\"], [\"capital\", \"ontology\", \"http://dbpedia.org/ontology/capital\", \"capital\"], [\"currency\", \"ontology\", \"http://dbpedia.org/ontology/currency\", \"currency\"], [\"demonym\", \"ontology\", \"http://dbpedia.org/ontology/demonym\", \"demonym\"], [\"flag\", \"ontology\", \"http://dbpedia.org/ontology/flag\", \"flag (image)\"], [\"foundingDate\", \"ontology\", \"http://dbpedia.org/ontology/foundingDate\", \"founding date\"], [\"governmentType\", \"ontology\", \"http://dbpedia.org/ontology/governmentType\", \"government type\"], [\"language\", \"ontology\", \"http://dbpedia.org/ontology/language\", \"language\"], [\"largestCity\", \"ontology\", \"http://dbpedia.org/ontology/largestCity\", \"largest city\"], [\"leader\", \"ontology\", \"http://dbpedia.org/ontology/leader\", \"leader\"], [\"leaderTitle\", \"ontology\", \"http://dbpedia.org/ontology/leaderTitle\", \"leader title\"], [\"longName\", \"ontology\", \"http://dbpedia.org/ontology/longName\", \"longName\"], [\"officialLanguage\", \"ontology\", \"http://dbpedia.org/ontology/officialLanguage\", \"official language\"], [\"populationDensity\", \"ontology\", \"http://dbpedia.org/ontology/populationDensity\", \"population density (/sqkm)\"], [\"populationTotal\", \"ontology\", \"http://dbpedia.org/ontology/populationTotal\", \"population total\"], [\"align\", \"property\", \"http://dbpedia.org/property/align\", \"align\"], [\"areaMagnitude\", \"property\", \"http://dbpedia.org/property/areaMagnitude\", \"area magnitude\"], [\"areaRank\", \"property\", \"http://dbpedia.org/property/areaRank\", \"area rank\"], [\"callingCode\", \"property\", \"http://dbpedia.org/property/callingCode\", \"calling code\"], [\"caption\", \"property\", \"http://dbpedia.org/property/caption\", \"Caption\"], [\"cctld\", \"property\", \"http://dbpedia.org/property/cctld\", \"cctld\"], [\"currencyCode\", \"property\", \"http://dbpedia.org/property/currencyCode\", \"currency code\"], [\"direction\", \"property\", \"http://dbpedia.org/property/direction\", \"direction\"], [\"drivesOn\", \"property\", \"http://dbpedia.org/property/drivesOn\", \"drives on\"], [\"establishedDate\", \"property\", \"http://dbpedia.org/property/establishedDate\", \"established date\"], [\"establishedEvent\", \"property\", \"http://dbpedia.org/property/establishedEvent\", \"established event\"], [\"footer\", \"property\", \"http://dbpedia.org/property/footer\", \"footer\"], [\"footnoteA\", \"property\", \"http://dbpedia.org/property/footnoteA\", \"footnote a\"], [\"gdpNominal\", \"property\", \"http://dbpedia.org/property/gdpNominal\", \"GDP nominal\"], [\"gdpNominalPerCapita\", \"property\", \"http://dbpedia.org/property/gdpNominalPerCapita\", \"GDP nominal per capita\"], [\"gdpNominalPerCapitaRank\", \"property\", \"http://dbpedia.org/property/gdpNominalPerCapitaRank\", \"GDP nominal per capita rank\"], [\"gdpNominalRank\", \"property\", \"http://dbpedia.org/property/gdpNominalRank\", \"GDP nominal rank\"], [\"gdpNominalYear\", \"property\", \"http://dbpedia.org/property/gdpNominalYear\", \"GDP nominal year\"], [\"gdpPpp\", \"property\", \"http://dbpedia.org/property/gdpPpp\", \"GDP PPP\"], [\"gdpPppPerCapita\", \"property\", \"http://dbpedia.org/property/gdpPppPerCapita\", \"GDP PPP per capita\"], [\"gdpPppPerCapitaRank\", \"property\", \"http://dbpedia.org/property/gdpPppPerCapitaRank\", \"GDP PPP per capita rank\"], [\"gdpPppRank\", \"property\", \"http://dbpedia.org/property/gdpPppRank\", \"GDP PPP rank\"], [\"gdpPppYear\", \"property\", \"http://dbpedia.org/property/gdpPppYear\", \"GDP PPP year\"], [\"gini\", \"property\", \"http://dbpedia.org/property/gini\", \"Gini\"], [\"giniChange\", \"property\", \"http://dbpedia.org/property/giniChange\", \"Gini change\"], [\"giniYear\", \"property\", \"http://dbpedia.org/property/giniYear\", \"Gini year\"], [\"hdi\", \"property\", \"http://dbpedia.org/property/hdi\", \"HDI\"], [\"hdiChange\", \"property\", \"http://dbpedia.org/property/hdiChange\", \"HDI change\"], [\"hdiRank\", \"property\", \"http://dbpedia.org/property/hdiRank\", \"HDI rank\"], [\"hdiYear\", \"property\", \"http://dbpedia.org/property/hdiYear\", \"HDI year\"], [\"image\", \"property\", \"http://dbpedia.org/property/image\", \"image\"], [\"imageCoat\", \"property\", \"http://dbpedia.org/property/imageCoat\", \"image coat\"], [\"imageMap\", \"property\", \"http://dbpedia.org/property/imageMap\", \"image map\"], [\"latd\", \"property\", \"http://dbpedia.org/property/latd\", \"latd\"], [\"latm\", \"property\", \"http://dbpedia.org/property/latm\", \"latm\"], [\"latns\", \"property\", \"http://dbpedia.org/property/latns\", \"latNS\"], [\"longd\", \"property\", \"http://dbpedia.org/property/longd\", \"longd\"], [\"longew\", \"property\", \"http://dbpedia.org/property/longew\", \"longEW\"], [\"longm\", \"property\", \"http://dbpedia.org/property/longm\", \"longm\"], [\"lowerHouse\", \"property\", \"http://dbpedia.org/property/lowerHouse\", \"lower house\"], [\"map2Width\", \"property\", \"http://dbpedia.org/property/map2Width\", \"map2 width\"], [\"populationDensityRank\", \"property\", \"http://dbpedia.org/property/populationDensityRank\", \"population density rank\"], [\"populationEstimateRank\", \"property\", \"http://dbpedia.org/property/populationEstimateRank\", \"population estimate rank\"], [\"populationEstimateYear\", \"property\", \"http://dbpedia.org/property/populationEstimateYear\", \"population estimate year\"], [\"sovereigntyType\", \"property\", \"http://dbpedia.org/property/sovereigntyType\", \"sovereignty type\"], [\"timeZone\", \"property\", \"http://dbpedia.org/property/timeZone\", \"time zone\"], [\"timeZoneDst\", \"property\", \"http://dbpedia.org/property/timeZoneDst\", \"time zone DST\"], [\"title\", \"property\", \"http://dbpedia.org/property/title\", \"title\"], [\"upperHouse\", \"property\", \"http://dbpedia.org/property/upperHouse\", \"upper house\"], [\"utcOffset\", \"property\", \"http://dbpedia.org/property/utcOffset\", \"utc offset\"], [\"utcOffsetDst\", \"property\", \"http://dbpedia.org/property/utcOffsetDst\", \"utc offset DST\"], [\"width\", \"property\", \"http://dbpedia.org/property/width\", \"width\"]], \"withSynonyms\": false, \"phraseLabelAvg\": [[\"color\", \"\", 0], [\"color\", \"Wikipage page ID\", 0.20724368], [\"color\", \"Wikipage revision ID\", 0.13553265], [\"color\", \"Link from a Wikipage to another Wikipage\", 0.018443756], [\"color\", \"Link from a Wikipage to an external page\", 0.12844616], [\"color\", \"thumbnail\", 0.21309605], [\"color\", \"anthem\", 0.089733027], [\"color\", \"area total (m2)\", 0.094980679], [\"color\", \"capital\", -0.079762153], [\"color\", \"currency\", 0.075907029], [\"color\", \"demonym\", 0], [\"color\", \"flag (image)\", 0.18044138], [\"color\", \"founding date\", 0.032367781], [\"color\", \"government type\", 0.20140758], [\"color\", \"language\", 0.17493889], [\"color\", \"largest city\", 0.067623965], [\"color\", \"leader\", 0.00014111232], [\"color\", \"leader title\", 0.035875209], [\"color\", \"longName\", 0], [\"color\", \"official language\", 0.15032373], [\"color\", \"population density (/sqkm)\", 0.20416066], [\"color\", \"population total\", 0.10544989], [\"color\", \"align\", 0.066022202], [\"color\", \"area magnitude\", 0.099453397], [\"color\", \"area rank\", 0.1120374], [\"color\", \"calling code\", 0.1699713], [\"color\", \"Caption\", 0.11990472], [\"color\", \"cctld\", 0], [\"color\", \"currency code\", 0.14649056], [\"color\", \"direction\", 0.16407917], [\"color\", \"drives on\", 0.085942291], [\"color\", \"established date\", 0.0055121225], [\"color\", \"established event\", 0.0087812636], [\"color\", \"footer\", 0.060778551], [\"color\", \"footnote a\", 0.0066866511], [\"color\", \"GDP nominal\", 0.092768297], [\"color\", \"GDP nominal per capita\", 0.099199817], [\"color\", \"GDP nominal per capita rank\", 0.11065341], [\"color\", \"GDP nominal rank\", 0.1091343], [\"color\", \"GDP nominal year\", 0.10523172], [\"color\", \"GDP PPP\", 0.15223993], [\"color\", \"GDP PPP per capita\", 0.14180654], [\"color\", \"GDP PPP per capita rank\", 0.14634609], [\"color\", \"GDP PPP rank\", 0.15439762], [\"color\", \"GDP PPP year\", 0.16368777], [\"color\", \"Gini\", 0.088037543], [\"color\", \"Gini change\", 0.21745217], [\"color\", \"Gini year\", 0.10030863], [\"color\", \"HDI\", 0], [\"color\", \"HDI change\", 0.19849546], [\"color\", \"HDI rank\", 0.070604488], [\"color\", \"HDI year\", 0.062671155], [\"color\", \"image\", 0.28325441], [\"color\", \"image coat\", 0.37388334], [\"color\", \"image map\", 0.26437268], [\"color\", \"latd\", 0], [\"color\", \"latm\", 0], [\"color\", \"latNS\", 0], [\"color\", \"longd\", 0], [\"color\", \"longEW\", 0], [\"color\", \"longm\", 0], [\"color\", \"lower house\", 0.069688328], [\"color\", \"map2 width\", 0.32290435], [\"color\", \"population density rank\", 0.20244542], [\"color\", \"population estimate rank\", 0.13279885], [\"color\", \"population estimate year\", 0.12624964], [\"color\", \"sovereignty type\", 0.18654661], [\"color\", \"time zone\", 0.10840736], [\"color\", \"time zone DST\", 0.15243937], [\"color\", \"title\", 0.051276781], [\"color\", \"upper house\", 0.088679314], [\"color\", \"utc offset\", 0.073133387], [\"color\", \"utc offset DST\", 0.11271525], [\"color\", \"width\", 0.32290435]]}], \"answer\": [\"Coat of Arms of Germany.svg\"], \"model\": [[[\"What\", \"WP\"], \"cop\", [\"is\", \"VBZ\"]], [[\"What\", \"WP\"], \"nsubj\", [\"color\", \"NN\"]], [[\"color\", \"NN\"], \"det\", [\"the\", \"DT\"]], [[\"color\", \"NN\"], \"nmod\", [\"flag\", \"NN\"]], [[\"flag\", \"NN\"], \"case\", [\"of\", \"IN\"]], [[\"flag\", \"NN\"], \"det\", [\"the\", \"DT\"]], [[\"flag\", \"NN\"], \"nmod\", [\"Germany\", \"NNP\"]], [[\"Germany\", \"NNP\"], \"case\", [\"of\", \"IN\"]]], \"stack\": [\"color\", \"flag\", \"Germany\"], \"primaryURL\": {\"src\": \"agdistis\", \"value\": \"http://dbpedia.org/resource/Germany\"}}, {\"question\": \"Who is Donald Trump?\", \"stackDetails\": [], \"answer\": [\"http://dbpedia.org/resource/Donald_Trump\"], \"model\": [[[\"Who\", \"WP\"], \"cop\", [\"is\", \"VBZ\"]], [[\"Who\", \"WP\"], \"nsubj\", [\"Trump\", \"NNP\"]], [[\"Trump\", \"NNP\"], \"compound\", [\"Donald\", \"NNP\"]]], \"stack\": [\"Trump\"], \"primaryURL\": {\"src\": \"agdistis\", \"value\": \"http://dbpedia.org/resource/Donald_Trump\"}}, {\"question\": \"Where is birth place of wife of Mahatma Gandhi?\", \"stackDetails\": [{\"keyword\": \"mother\", \"word\": \"wife\", \"properties\": [[\"deathPlace\", \"ontology\", \"http://dbpedia.org/ontology/deathPlace\", \"death place\"], [\"deathDate\", \"ontology\", \"http://dbpedia.org/ontology/deathDate\", \"death date\"], [\"birthPlace\", \"ontology\", \"http://dbpedia.org/ontology/birthPlace\", \"birth place\"], [\"birthDate\", \"ontology\", \"http://dbpedia.org/ontology/birthDate\", \"birth date\"], [\"wikiPageID\", \"ontology\", \"http://dbpedia.org/ontology/wikiPageID\", \"Wikipage page ID\"], [\"wikiPageRevisionID\", \"ontology\", \"http://dbpedia.org/ontology/wikiPageRevisionID\", \"Wikipage revision ID\"], [\"wikiPageWikiLink\", \"ontology\", \"http://dbpedia.org/ontology/wikiPageWikiLink\", \"Link from a Wikipage to another Wikipage\"], [\"wikiPageExternalLink\", \"ontology\", \"http://dbpedia.org/ontology/wikiPageExternalLink\", \"Link from a Wikipage to an external page\"], [\"name\", \"property\", \"http://dbpedia.org/property/name\", \"name\"], [\"thumbnail\", \"ontology\", \"http://dbpedia.org/ontology/thumbnail\", \"thumbnail\"], [\"alias\", \"ontology\", \"http://dbpedia.org/ontology/alias\", \"alias\"], [\"almaMater\", \"ontology\", \"http://dbpedia.org/ontology/almaMater\", \"alma mater\"], [\"birthName\", \"ontology\", \"http://dbpedia.org/ontology/birthName\", \"birth name\"], [\"birthYear\", \"ontology\", \"http://dbpedia.org/ontology/birthYear\", \"birth year\"], [\"child\", \"ontology\", \"http://dbpedia.org/ontology/child\", \"child\"], [\"deathCause\", \"ontology\", \"http://dbpedia.org/ontology/deathCause\", \"death cause\"], [\"deathYear\", \"ontology\", \"http://dbpedia.org/ontology/deathYear\", \"death year\"], [\"education\", \"ontology\", \"http://dbpedia.org/ontology/education\", \"education\"], [\"ethnicity\", \"ontology\", \"http://dbpedia.org/ontology/ethnicity\", \"ethnicity\"], [\"knownFor\", \"ontology\", \"http://dbpedia.org/ontology/knownFor\", \"known for\"], [\"nationality\", \"ontology\", \"http://dbpedia.org/ontology/nationality\", \"nationality\"], [\"religion\", \"ontology\", \"http://dbpedia.org/ontology/religion\", \"religion\"], [\"restingPlace\", \"ontology\", \"http://dbpedia.org/ontology/restingPlace\", \"resting place\"], [\"spouse\", \"ontology\", \"http://dbpedia.org/ontology/spouse\", \"spouse\"], [\"stateOfOrigin\", \"ontology\", \"http://dbpedia.org/ontology/stateOfOrigin\", \"state of origin\"], [\"alt\", \"property\", \"http://dbpedia.org/property/alt\", \"Alt\"], [\"author\", \"property\", \"http://dbpedia.org/property/author\", \"author\"], [\"b\", \"property\", \"http://dbpedia.org/property/b\", \"b\"], [\"d\", \"property\", \"http://dbpedia.org/property/d\", \"d\"], [\"display\", \"property\", \"http://dbpedia.org/property/display\", \"display\"], [\"expiry\", \"property\", \"http://dbpedia.org/property/expiry\", \"expiry\"], [\"father\", \"property\", \"http://dbpedia.org/property/father\", \"father\"], [\"honorificPrefix\", \"property\", \"http://dbpedia.org/property/honorificPrefix\", \"honorific prefix\"], [\"id\", \"property\", \"http://dbpedia.org/property/id\", \"id\"], [\"mother\", \"property\", \"http://dbpedia.org/property/mother\", \"mother\"], [\"movement\", \"property\", \"http://dbpedia.org/property/movement\", \"movement\"], [\"n\", \"property\", \"http://dbpedia.org/property/n\", \"n\"], [\"signature\", \"property\", \"http://dbpedia.org/property/signature\", \"signature\"], [\"small\", \"property\", \"http://dbpedia.org/property/small\", \"small\"], [\"title\", \"property\", \"http://dbpedia.org/property/title\", \"title\"], [\"v\", \"property\", \"http://dbpedia.org/property/v\", \"v\"], [\"voy\", \"property\", \"http://dbpedia.org/property/voy\", \"voy\"], [\"wikt\", \"property\", \"http://dbpedia.org/property/wikt\", \"wikt\"]], \"withSynonyms\": false, \"phraseLabelAvg\": [[\"wife\", \"\", 0], [\"wife\", \"death place\", 0.27257663], [\"wife\", \"death date\", 0.27268741], [\"wife\", \"birth place\", 0.2327528], [\"wife\", \"birth date\", 0.22904584], [\"wife\", \"Wikipage page ID\", 0.067832671], [\"wife\", \"Wikipage revision ID\", 0.00092584791], [\"wife\", \"Link from a Wikipage to another Wikipage\", 0.077342078], [\"wife\", \"Link from a Wikipage to an external page\", 0.022336802], [\"wife\", \"name\", 0.19646977], [\"wife\", \"thumbnail\", 0.025946468], [\"wife\", \"alias\", 0.24538749], [\"wife\", \"alma mater\", 0.12057105], [\"wife\", \"birth name\", 0.28805208], [\"wife\", \"birth year\", 0.24735613], [\"wife\", \"child\", 0.3550868], [\"wife\", \"death cause\", 0.24535143], [\"wife\", \"death year\", 0.28219053], [\"wife\", \"education\", 0.10046382], [\"wife\", \"ethnicity\", 0.066073135], [\"wife\", \"known for\", 0.079735607], [\"wife\", \"nationality\", 0.12517208], [\"wife\", \"religion\", 0.17106795], [\"wife\", \"resting place\", 0.11233886], [\"wife\", \"spouse\", 0.51875573], [\"wife\", \"state of origin\", 0.090725511], [\"wife\", \"Alt\", -0.055199411], [\"wife\", \"author\", 0.15935852], [\"wife\", \"b\", -0.0044105626], [\"wife\", \"d\", -0.014722241], [\"wife\", \"display\", 0.019791901], [\"wife\", \"expiry\", 0.03726602], [\"wife\", \"father\", 0.66888273], [\"wife\", \"honorific prefix\", 0.066465065], [\"wife\", \"id\", 0.036960091], [\"wife\", \"mother\", 0.75506818], [\"wife\", \"movement\", -0.014594918], [\"wife\", \"n\", -0.037544213], [\"wife\", \"signature\", 0.11084677], [\"wife\", \"small\", 0.050900575], [\"wife\", \"title\", 0.035909113], [\"wife\", \"v\", -0.063750945], [\"wife\", \"voy\", 0.17199966], [\"wife\", \"wikt\", 0]]}, {\"keyword\": \"birth place\", \"word\": \"birth place\", \"properties\": [[\"deathPlace\", \"ontology\", \"http://dbpedia.org/ontology/deathPlace\", \"death place\"], [\"deathDate\", \"ontology\", \"http://dbpedia.org/ontology/deathDate\", \"death date\"], [\"birthPlace\", \"ontology\", \"http://dbpedia.org/ontology/birthPlace\", \"birth place\"], [\"birthDate\", \"ontology\", \"http://dbpedia.org/ontology/birthDate\", \"birth date\"], [\"wikiPageID\", \"ontology\", \"http://dbpedia.org/ontology/wikiPageID\", \"Wikipage page ID\"], [\"wikiPageRevisionID\", \"ontology\", \"http://dbpedia.org/ontology/wikiPageRevisionID\", \"Wikipage revision ID\"], [\"wikiPageWikiLink\", \"ontology\", \"http://dbpedia.org/ontology/wikiPageWikiLink\", \"Link from a Wikipage to another Wikipage\"], [\"wikiPageExternalLink\", \"ontology\", \"http://dbpedia.org/ontology/wikiPageExternalLink\", \"Link from a Wikipage to an external page\"], [\"name\", \"property\", \"http://dbpedia.org/property/name\", \"name\"], [\"thumbnail\", \"ontology\", \"http://dbpedia.org/ontology/thumbnail\", \"thumbnail\"], [\"alias\", \"ontology\", \"http://dbpedia.org/ontology/alias\", \"alias\"], [\"almaMater\", \"ontology\", \"http://dbpedia.org/ontology/almaMater\", \"alma mater\"], [\"birthName\", \"ontology\", \"http://dbpedia.org/ontology/birthName\", \"birth name\"], [\"birthYear\", \"ontology\", \"http://dbpedia.org/ontology/birthYear\", \"birth year\"], [\"child\", \"ontology\", \"http://dbpedia.org/ontology/child\", \"child\"], [\"deathCause\", \"ontology\", \"http://dbpedia.org/ontology/deathCause\", \"death cause\"], [\"deathYear\", \"ontology\", \"http://dbpedia.org/ontology/deathYear\", \"death year\"], [\"education\", \"ontology\", \"http://dbpedia.org/ontology/education\", \"education\"], [\"ethnicity\", \"ontology\", \"http://dbpedia.org/ontology/ethnicity\", \"ethnicity\"], [\"knownFor\", \"ontology\", \"http://dbpedia.org/ontology/knownFor\", \"known for\"], [\"nationality\", \"ontology\", \"http://dbpedia.org/ontology/nationality\", \"nationality\"], [\"religion\", \"ontology\", \"http://dbpedia.org/ontology/religion\", \"religion\"], [\"restingPlace\", \"ontology\", \"http://dbpedia.org/ontology/restingPlace\", \"resting place\"], [\"spouse\", \"ontology\", \"http://dbpedia.org/ontology/spouse\", \"spouse\"], [\"stateOfOrigin\", \"ontology\", \"http://dbpedia.org/ontology/stateOfOrigin\", \"state of origin\"], [\"alt\", \"property\", \"http://dbpedia.org/property/alt\", \"Alt\"], [\"author\", \"property\", \"http://dbpedia.org/property/author\", \"author\"], [\"b\", \"property\", \"http://dbpedia.org/property/b\", \"b\"], [\"d\", \"property\", \"http://dbpedia.org/property/d\", \"d\"], [\"display\", \"property\", \"http://dbpedia.org/property/display\", \"display\"], [\"expiry\", \"property\", \"http://dbpedia.org/property/expiry\", \"expiry\"], [\"father\", \"property\", \"http://dbpedia.org/property/father\", \"father\"], [\"honorificPrefix\", \"property\", \"http://dbpedia.org/property/honorificPrefix\", \"honorific prefix\"], [\"id\", \"property\", \"http://dbpedia.org/property/id\", \"id\"], [\"mother\", \"property\", \"http://dbpedia.org/property/mother\", \"mother\"], [\"movement\", \"property\", \"http://dbpedia.org/property/movement\", \"movement\"], [\"n\", \"property\", \"http://dbpedia.org/property/n\", \"n\"], [\"signature\", \"property\", \"http://dbpedia.org/property/signature\", \"signature\"], [\"small\", \"property\", \"http://dbpedia.org/property/small\", \"small\"], [\"title\", \"property\", \"http://dbpedia.org/property/title\", \"title\"], [\"v\", \"property\", \"http://dbpedia.org/property/v\", \"v\"], [\"voy\", \"property\", \"http://dbpedia.org/property/voy\", \"voy\"], [\"wikt\", \"property\", \"http://dbpedia.org/property/wikt\", \"wikt\"]], \"withSynonyms\": false, \"phraseLabelAvg\": [[\"birth place\", \"\", 0], [\"birth place\", \"death place\", 0.59519809], [\"birth place\", \"death date\", 0.40021598], [\"birth place\", \"birth place\", 1.0], [\"birth place\", \"birth date\", 0.76095122], [\"birth place\", \"Wikipage page ID\", 0.12565912], [\"birth place\", \"Wikipage revision ID\", 0.16929585], [\"birth place\", \"Link from a Wikipage to another Wikipage\", 0.17426136], [\"birth place\", \"Link from a Wikipage to an external page\", 0.12310871], [\"birth place\", \"name\", 0.26241863], [\"birth place\", \"thumbnail\", 0.12137315], [\"birth place\", \"alias\", 0.13662192], [\"birth place\", \"alma mater\", 0.1607403], [\"birth place\", \"birth name\", 0.74844849], [\"birth place\", \"birth year\", 0.77297747], [\"birth place\", \"child\", 0.41799986], [\"birth place\", \"death cause\", 0.26300141], [\"birth place\", \"death year\", 0.32539672], [\"birth place\", \"education\", 0.16396385], [\"birth place\", \"ethnicity\", 0.13567927], [\"birth place\", \"known for\", 0.1190057], [\"birth place\", \"nationality\", 0.27934453], [\"birth place\", \"religion\", 0.18717167], [\"birth place\", \"resting place\", 0.50949574], [\"birth place\", \"spouse\", 0.14308898], [\"birth place\", \"state of origin\", 0.26547182], [\"birth place\", \"Alt\", 0.075684972], [\"birth place\", \"author\", 0.11009853], [\"birth place\", \"b\", 0.086712338], [\"birth place\", \"d\", 0.091583095], [\"birth place\", \"display\", 0.091341972], [\"birth place\", \"expiry\", 0.15114591], [\"birth place\", \"father\", 0.27894366], [\"birth place\", \"honorific prefix\", 0.17590955], [\"birth place\", \"id\", 0.12059248], [\"birth place\", \"mother\", 0.32813212], [\"birth place\", \"movement\", 0.194756], [\"birth place\", \"n\", 0.041177243], [\"birth place\", \"signature\", 0.12035222], [\"birth place\", \"small\", 0.079330541], [\"birth place\", \"title\", 0.20240396], [\"birth place\", \"v\", 0.077276871], [\"birth place\", \"voy\", 0.040374823], [\"birth place\", \"wikt\", 0]]}], \"answer\": [\"http://dbpedia.org/resource/Kirti_Mandir,_Porbandar\", \"http://dbpedia.org/resource/British_Indian_Empire\", \"http://dbpedia.org/resource/Gujarat\", \"http://dbpedia.org/resource/Kathiawar_Agency\", \"http://dbpedia.org/resource/Porbandar_State\"], \"model\": [[[\"is\", \"VBZ\"], \"advmod\", [\"Where\", \"WRB\"]], [[\"is\", \"VBZ\"], \"nsubj\", [\"place\", \"NN\"]], [[\"place\", \"NN\"], \"compound\", [\"birth\", \"NN\"]], [[\"place\", \"NN\"], \"nmod\", [\"wife\", \"NN\"]], [[\"wife\", \"NN\"], \"case\", [\"of\", \"IN\"]], [[\"wife\", \"NN\"], \"nmod\", [\"Gandhi\", \"NNP\"]], [[\"Gandhi\", \"NNP\"], \"case\", [\"of\", \"IN\"]], [[\"Gandhi\", \"NNP\"], \"compound\", [\"Mahatma\", \"NNP\"]]], \"stack\": [\"place\", \"wife\", \"Gandhi\"], \"primaryURL\": {\"src\": \"agdistis\", \"value\": \"http://dbpedia.org/resource/Mahatma_Gandhi\"}}, {\"question\": \"Who is the vice president of John Kennedy?\", \"stackDetails\": [{\"keyword\": \"vice president\", \"word\": \"vice president\", \"properties\": [[\"deathPlace\", \"ontology\", \"http://dbpedia.org/ontology/deathPlace\", \"death place\"], [\"deathDate\", \"ontology\", \"http://dbpedia.org/ontology/deathDate\", \"death date\"], [\"birthPlace\", \"ontology\", \"http://dbpedia.org/ontology/birthPlace\", \"birth place\"], [\"birthDate\", \"ontology\", \"http://dbpedia.org/ontology/birthDate\", \"birth date\"], [\"wikiPageID\", \"ontology\", \"http://dbpedia.org/ontology/wikiPageID\", \"Wikipage page ID\"], [\"wikiPageRevisionID\", \"ontology\", \"http://dbpedia.org/ontology/wikiPageRevisionID\", \"Wikipage revision ID\"], [\"wikiPageWikiLink\", \"ontology\", \"http://dbpedia.org/ontology/wikiPageWikiLink\", \"Link from a Wikipage to another Wikipage\"], [\"wikiPageExternalLink\", \"ontology\", \"http://dbpedia.org/ontology/wikiPageExternalLink\", \"Link from a Wikipage to an external page\"], [\"name\", \"property\", \"http://dbpedia.org/property/name\", \"name\"], [\"thumbnail\", \"ontology\", \"http://dbpedia.org/ontology/thumbnail\", \"thumbnail\"], [\"almaMater\", \"ontology\", \"http://dbpedia.org/ontology/almaMater\", \"alma mater\"], [\"battle\", \"ontology\", \"http://dbpedia.org/ontology/battle\", \"battle\"], [\"child\", \"ontology\", \"http://dbpedia.org/ontology/child\", \"child\"], [\"militaryBranch\", \"ontology\", \"http://dbpedia.org/ontology/militaryBranch\", \"military branch\"], [\"militaryRank\", \"ontology\", \"http://dbpedia.org/ontology/militaryRank\", \"military rank\"], [\"militaryUnit\", \"ontology\", \"http://dbpedia.org/ontology/militaryUnit\", \"military unit\"], [\"office\", \"ontology\", \"http://dbpedia.org/ontology/office\", \"office\"], [\"party\", \"ontology\", \"http://dbpedia.org/ontology/party\", \"party\"], [\"predecessor\", \"ontology\", \"http://dbpedia.org/ontology/predecessor\", \"predecessor\"], [\"profession\", \"ontology\", \"http://dbpedia.org/ontology/profession\", \"profession\"], [\"region\", \"ontology\", \"http://dbpedia.org/ontology/region\", \"region\"], [\"relation\", \"ontology\", \"http://dbpedia.org/ontology/relation\", \"relation\"], [\"religion\", \"ontology\", \"http://dbpedia.org/ontology/religion\", \"religion\"], [\"seniority\", \"ontology\", \"http://dbpedia.org/ontology/seniority\", \"seniority\"], [\"serviceEndYear\", \"ontology\", \"http://dbpedia.org/ontology/serviceEndYear\", \"service end year\"], [\"serviceStartYear\", \"ontology\", \"http://dbpedia.org/ontology/serviceStartYear\", \"service start year\"], [\"signature\", \"ontology\", \"http://dbpedia.org/ontology/signature\", \"signature\"], [\"soundRecording\", \"ontology\", \"http://dbpedia.org/ontology/soundRecording\", \"sound recording\"], [\"spouse\", \"ontology\", \"http://dbpedia.org/ontology/spouse\", \"spouse\"], [\"successor\", \"ontology\", \"http://dbpedia.org/ontology/successor\", \"successor\"], [\"termPeriod\", \"ontology\", \"http://dbpedia.org/ontology/termPeriod\", \"term period\"], [\"vicePresident\", \"ontology\", \"http://dbpedia.org/ontology/vicePresident\", \"vice president\"], [\"agriculture\", \"property\", \"http://dbpedia.org/property/agriculture\", \"Agriculture\"], [\"agricultureEnd\", \"property\", \"http://dbpedia.org/property/agricultureEnd\", \"Agriculture end\"], [\"agricultureStart\", \"property\", \"http://dbpedia.org/property/agricultureStart\", \"Agriculture start\"], [\"align\", \"property\", \"http://dbpedia.org/property/align\", \"align\"], [\"author\", \"property\", \"http://dbpedia.org/property/author\", \"author\"], [\"b\", \"property\", \"http://dbpedia.org/property/b\", \"b\"], [\"birthName\", \"property\", \"http://dbpedia.org/property/birthName\", \"birth name\"], [\"colwidth\", \"property\", \"http://dbpedia.org/property/colwidth\", \"colwidth\"], [\"commerce\", \"property\", \"http://dbpedia.org/property/commerce\", \"Commerce\"], [\"commerceEnd\", \"property\", \"http://dbpedia.org/property/commerceEnd\", \"Commerce end\"], [\"commerceStart\", \"property\", \"http://dbpedia.org/property/commerceStart\", \"Commerce start\"], [\"deathCause\", \"property\", \"http://dbpedia.org/property/deathCause\", \"death cause\"], [\"defense\", \"property\", \"http://dbpedia.org/property/defense\", \"Defense\"], [\"defenseEnd\", \"property\", \"http://dbpedia.org/property/defenseEnd\", \"Defense end\"], [\"defenseStart\", \"property\", \"http://dbpedia.org/property/defenseStart\", \"Defense start\"], [\"format\", \"property\", \"http://dbpedia.org/property/format\", \"format\"], [\"help\", \"property\", \"http://dbpedia.org/property/help\", \"help\"], [\"interior\", \"property\", \"http://dbpedia.org/property/interior\", \"Interior\"], [\"interiorEnd\", \"property\", \"http://dbpedia.org/property/interiorEnd\", \"Interior end \"], [\"interiorStart\", \"property\", \"http://dbpedia.org/property/interiorStart\", \"Interior start \"], [\"justice\", \"property\", \"http://dbpedia.org/property/justice\", \"Justice\"], [\"justiceEnd\", \"property\", \"http://dbpedia.org/property/justiceEnd\", \"Justice end\"], [\"justiceStart\", \"property\", \"http://dbpedia.org/property/justiceStart\", \"Justice start\"], [\"labor\", \"property\", \"http://dbpedia.org/property/labor\", \"labor\"], [\"laborEnd\", \"property\", \"http://dbpedia.org/property/laborEnd\", \"Labor end\"], [\"laborStart\", \"property\", \"http://dbpedia.org/property/laborStart\", \"Labor start\"], [\"mawards\", \"property\", \"http://dbpedia.org/property/mawards\", \"mawards\"], [\"n\", \"property\", \"http://dbpedia.org/property/n\", \"n\"], [\"parents\", \"property\", \"http://dbpedia.org/property/parents\", \"parents\"], [\"post\", \"property\", \"http://dbpedia.org/property/post\", \"Post\"], [\"postDate\", \"property\", \"http://dbpedia.org/property/postDate\", \"Post date\"], [\"postEnd\", \"property\", \"http://dbpedia.org/property/postEnd\", \"Post end\"], [\"postStart\", \"property\", \"http://dbpedia.org/property/postStart\", \"Post start\"], [\"president\", \"property\", \"http://dbpedia.org/property/president\", \"President\"], [\"presidentEnd\", \"property\", \"http://dbpedia.org/property/presidentEnd\", \"President end\"], [\"presidentStart\", \"property\", \"http://dbpedia.org/property/presidentStart\", \"President start\"], [\"restingPlace\", \"property\", \"http://dbpedia.org/property/restingPlace\", \"resting place\"], [\"s\", \"property\", \"http://dbpedia.org/property/s\", \"s\"], [\"signatureAlt\", \"property\", \"http://dbpedia.org/property/signatureAlt\", \"signature alt\"], [\"sname\", \"property\", \"http://dbpedia.org/property/sname\", \"sname\"], [\"sopt\", \"property\", \"http://dbpedia.org/property/sopt\", \"sopt\"], [\"state\", \"property\", \"http://dbpedia.org/property/state\", \"state\"], [\"stateEnd\", \"property\", \"http://dbpedia.org/property/stateEnd\", \"State end\"], [\"stateStart\", \"property\", \"http://dbpedia.org/property/stateStart\", \"State start\"], [\"text\", \"property\", \"http://dbpedia.org/property/text\", \"text\"], [\"title\", \"property\", \"http://dbpedia.org/property/title\", \"title\"], [\"treasury\", \"property\", \"http://dbpedia.org/property/treasury\", \"Treasury\"], [\"treasuryEnd\", \"property\", \"http://dbpedia.org/property/treasuryEnd\", \"Treasury end\"], [\"treasuryStart\", \"property\", \"http://dbpedia.org/property/treasuryStart\", \"Treasury start\"], [\"v\", \"property\", \"http://dbpedia.org/property/v\", \"v\"], [\"vicePresident\", \"property\", \"http://dbpedia.org/property/vicePresident\", \"Vice President\"], [\"vicePresidentEnd\", \"property\", \"http://dbpedia.org/property/vicePresidentEnd\", \"Vice President end\"], [\"vicePresidentStart\", \"property\", \"http://dbpedia.org/property/vicePresidentStart\", \"Vice President start\"], [\"wikt\", \"property\", \"http://dbpedia.org/property/wikt\", \"wikt\"], [\"health,Education,AndWelfare\", \"property\", \"http://dbpedia.org/property/health,Education,AndWelfare\", \"Health, Education, and Welfare\"], [\"health,Education,AndWelfareEnd\", \"property\", \"http://dbpedia.org/property/health,Education,AndWelfareEnd\", \"Health, Education, and Welfare end\"], [\"health,Education,AndWelfareStart\", \"property\", \"http://dbpedia.org/property/health,Education,AndWelfareStart\", \"Health, Education, and Welfare start\"], [\"wordnet_type\", \"property\", \"http://dbpedia.org/property/wordnet_type\", false]], \"withSynonyms\": false, \"phraseLabelAvg\": [[\"vice president\", \"\", 0], [\"vice president\", \"death place\", 0.041488469], [\"vice president\", \"death date\", -0.011608732], [\"vice president\", \"birth place\", 0.043564681], [\"vice president\", \"birth date\", -0.0047552236], [\"vice president\", \"Wikipage page ID\", -0.037603978], [\"vice president\", \"Wikipage revision ID\", 0.013039088], [\"vice president\", \"Link from a Wikipage to another Wikipage\", -0.011265102], [\"vice president\", \"Link from a Wikipage to an external page\", 0.021870991], [\"vice president\", \"name\", 0.14316723], [\"vice president\", \"thumbnail\", -0.01879443], [\"vice president\", \"alma mater\", 0.046700679], [\"vice president\", \"battle\", -0.00036440114], [\"vice president\", \"child\", -0.021626724], [\"vice president\", \"military branch\", 0.23143591], [\"vice president\", \"military rank\", 0.075887345], [\"vice president\", \"military unit\", 0.1490197], [\"vice president\", \"office\", 0.21132965], [\"vice president\", \"party\", 0.1207554], [\"vice president\", \"predecessor\", 0.28901452], [\"vice president\", \"profession\", 0.051193982], [\"vice president\", \"region\", 0.12773567], [\"vice president\", \"relation\", -0.022622108], [\"vice president\", \"religion\", 0.060182273], [\"vice president\", \"seniority\", 0.15001673], [\"vice president\", \"service end year\", 0.056387305], [\"vice president\", \"service start year\", 0.083689615], [\"vice president\", \"signature\", 0.019304153], [\"vice president\", \"sound recording\", -0.10668782], [\"vice president\", \"spouse\", 0.096430041], [\"vice president\", \"successor\", 0.42856628], [\"vice president\", \"term period\", 0.12766722], [\"vice president\", \"vice president\", 0.99999988], [\"vice president\", \"Agriculture\", 0.14544989], [\"vice president\", \"Agriculture end\", 0.1083324], [\"vice president\", \"Agriculture start\", 0.13871033], [\"vice president\", \"align\", 0.054383703], [\"vice president\", \"author\", 0.13624892], [\"vice president\", \"b\", -0.057523593], [\"vice president\", \"birth name\", 0.11143569], [\"vice president\", \"colwidth\", 0], [\"vice president\", \"Commerce\", 0.26938194], [\"vice president\", \"Commerce end\", 0.21679169], [\"vice president\", \"Commerce start\", 0.24371676], [\"vice president\", \"death cause\", 0.048317522], [\"vice president\", \"Defense\", 0.029320063], [\"vice president\", \"Defense end\", 0.012388695], [\"vice president\", \"Defense start\", 0.0411999], [\"vice president\", \"format\", -0.019420465], [\"vice president\", \"help\", -0.0071978108], [\"vice president\", \"Interior\", 0.021798365], [\"vice president\", \"Interior end \", 0.0056758323], [\"vice president\", \"Interior start \", 0.03702141], [\"vice president\", \"Justice\", 0.15533824], [\"vice president\", \"Justice end\", 0.11547193], [\"vice president\", \"Justice start\", 0.14811745], [\"vice president\", \"labor\", 0.10316918], [\"vice president\", \"Labor end\", 0.072363846], [\"vice president\", \"Labor start\", 0.10014694], [\"vice president\", \"mawards\", 0], [\"vice president\", \"n\", 0.0053531332], [\"vice president\", \"parents\", 0.028881012], [\"vice president\", \"Post\", 0.12729415], [\"vice president\", \"Post date\", 0.032883618], [\"vice president\", \"Post end\", 0.073398553], [\"vice president\", \"Post start\", 0.10567985], [\"vice president\", \"President\", 0.81356871], [\"vice president\", \"President end\", 0.64641279], [\"vice president\", \"President start\", 0.64278364], [\"vice president\", \"resting place\", 0.033039499], [\"vice president\", \"s\", 0.17951241], [\"vice president\", \"signature alt\", -0.010050844], [\"vice president\", \"sname\", 0], [\"vice president\", \"sopt\", 0], [\"vice president\", \"state\", 0.075582266], [\"vice president\", \"State end\", 0.039414696], [\"vice president\", \"State start\", 0.074637406], [\"vice president\", \"text\", 0.043918163], [\"vice president\", \"title\", 0.068391718], [\"vice president\", \"Treasury\", 0.15536989], [\"vice president\", \"Treasury end\", 0.11577531], [\"vice president\", \"Treasury start\", 0.14847022], [\"vice president\", \"v\", 0.10384631], [\"vice president\", \"Vice President\", 0.99999988], [\"vice president\", \"Vice President end\", 0.91519761], [\"vice president\", \"Vice President start\", 0.91084135], [\"vice president\", \"wikt\", 0], [\"vice president\", \"Health, Education, and Welfare\", 0.054566078], [\"vice president\", \"Health, Education, and Welfare end\", 0.033959705], [\"vice president\", \"Health, Education, and Welfare start\", 0.065714777], [\"vice president\", \"False\", 0.056233361]]}], \"answer\": [\"http://dbpedia.org/resource/Lyndon_B._Johnson\"], \"model\": [[[\"Who\", \"WP\"], \"cop\", [\"is\", \"VBZ\"]], [[\"Who\", \"WP\"], \"nsubj\", [\"president\", \"NN\"]], [[\"president\", \"NN\"], \"det\", [\"the\", \"DT\"]], [[\"president\", \"NN\"], \"compound\", [\"vice\", \"NN\"]], [[\"president\", \"NN\"], \"nmod\", [\"Kennedy\", \"NNP\"]], [[\"Kennedy\", \"NNP\"], \"case\", [\"of\", \"IN\"]], [[\"Kennedy\", \"NNP\"], \"compound\", [\"John\", \"NNP\"]]], \"stack\": [\"president\", \"Kennedy\"], \"primaryURL\": {\"src\": \"agdistis\", \"value\": \"http://dbpedia.org/resource/John_F._Kennedy\"}}, {\"question\": \"What is the birth place of wife of John Kennedy?\", \"stackDetails\": [{\"keyword\": \"Post end\", \"word\": \"wife\", \"properties\": [[\"deathPlace\", \"ontology\", \"http://dbpedia.org/ontology/deathPlace\", \"death place\"], [\"deathDate\", \"ontology\", \"http://dbpedia.org/ontology/deathDate\", \"death date\"], [\"birthPlace\", \"ontology\", \"http://dbpedia.org/ontology/birthPlace\", \"birth place\"], [\"birthDate\", \"ontology\", \"http://dbpedia.org/ontology/birthDate\", \"birth date\"], [\"wikiPageID\", \"ontology\", \"http://dbpedia.org/ontology/wikiPageID\", \"Wikipage page ID\"], [\"wikiPageRevisionID\", \"ontology\", \"http://dbpedia.org/ontology/wikiPageRevisionID\", \"Wikipage revision ID\"], [\"wikiPageWikiLink\", \"ontology\", \"http://dbpedia.org/ontology/wikiPageWikiLink\", \"Link from a Wikipage to another Wikipage\"], [\"wikiPageExternalLink\", \"ontology\", \"http://dbpedia.org/ontology/wikiPageExternalLink\", \"Link from a Wikipage to an external page\"], [\"name\", \"property\", \"http://dbpedia.org/property/name\", \"name\"], [\"thumbnail\", \"ontology\", \"http://dbpedia.org/ontology/thumbnail\", \"thumbnail\"], [\"almaMater\", \"ontology\", \"http://dbpedia.org/ontology/almaMater\", \"alma mater\"], [\"battle\", \"ontology\", \"http://dbpedia.org/ontology/battle\", \"battle\"], [\"child\", \"ontology\", \"http://dbpedia.org/ontology/child\", \"child\"], [\"militaryBranch\", \"ontology\", \"http://dbpedia.org/ontology/militaryBranch\", \"military branch\"], [\"militaryRank\", \"ontology\", \"http://dbpedia.org/ontology/militaryRank\", \"military rank\"], [\"militaryUnit\", \"ontology\", \"http://dbpedia.org/ontology/militaryUnit\", \"military unit\"], [\"office\", \"ontology\", \"http://dbpedia.org/ontology/office\", \"office\"], [\"party\", \"ontology\", \"http://dbpedia.org/ontology/party\", \"party\"], [\"predecessor\", \"ontology\", \"http://dbpedia.org/ontology/predecessor\", \"predecessor\"], [\"profession\", \"ontology\", \"http://dbpedia.org/ontology/profession\", \"profession\"], [\"region\", \"ontology\", \"http://dbpedia.org/ontology/region\", \"region\"], [\"relation\", \"ontology\", \"http://dbpedia.org/ontology/relation\", \"relation\"], [\"religion\", \"ontology\", \"http://dbpedia.org/ontology/religion\", \"religion\"], [\"seniority\", \"ontology\", \"http://dbpedia.org/ontology/seniority\", \"seniority\"], [\"serviceEndYear\", \"ontology\", \"http://dbpedia.org/ontology/serviceEndYear\", \"service end year\"], [\"serviceStartYear\", \"ontology\", \"http://dbpedia.org/ontology/serviceStartYear\", \"service start year\"], [\"signature\", \"ontology\", \"http://dbpedia.org/ontology/signature\", \"signature\"], [\"soundRecording\", \"ontology\", \"http://dbpedia.org/ontology/soundRecording\", \"sound recording\"], [\"spouse\", \"ontology\", \"http://dbpedia.org/ontology/spouse\", \"spouse\"], [\"successor\", \"ontology\", \"http://dbpedia.org/ontology/successor\", \"successor\"], [\"termPeriod\", \"ontology\", \"http://dbpedia.org/ontology/termPeriod\", \"term period\"], [\"vicePresident\", \"ontology\", \"http://dbpedia.org/ontology/vicePresident\", \"vice president\"], [\"agriculture\", \"property\", \"http://dbpedia.org/property/agriculture\", \"Agriculture\"], [\"agricultureEnd\", \"property\", \"http://dbpedia.org/property/agricultureEnd\", \"Agriculture end\"], [\"agricultureStart\", \"property\", \"http://dbpedia.org/property/agricultureStart\", \"Agriculture start\"], [\"align\", \"property\", \"http://dbpedia.org/property/align\", \"align\"], [\"author\", \"property\", \"http://dbpedia.org/property/author\", \"author\"], [\"b\", \"property\", \"http://dbpedia.org/property/b\", \"b\"], [\"birthName\", \"property\", \"http://dbpedia.org/property/birthName\", \"birth name\"], [\"colwidth\", \"property\", \"http://dbpedia.org/property/colwidth\", \"colwidth\"], [\"commerce\", \"property\", \"http://dbpedia.org/property/commerce\", \"Commerce\"], [\"commerceEnd\", \"property\", \"http://dbpedia.org/property/commerceEnd\", \"Commerce end\"], [\"commerceStart\", \"property\", \"http://dbpedia.org/property/commerceStart\", \"Commerce start\"], [\"deathCause\", \"property\", \"http://dbpedia.org/property/deathCause\", \"death cause\"], [\"defense\", \"property\", \"http://dbpedia.org/property/defense\", \"Defense\"], [\"defenseEnd\", \"property\", \"http://dbpedia.org/property/defenseEnd\", \"Defense end\"], [\"defenseStart\", \"property\", \"http://dbpedia.org/property/defenseStart\", \"Defense start\"], [\"format\", \"property\", \"http://dbpedia.org/property/format\", \"format\"], [\"help\", \"property\", \"http://dbpedia.org/property/help\", \"help\"], [\"interior\", \"property\", \"http://dbpedia.org/property/interior\", \"Interior\"], [\"interiorEnd\", \"property\", \"http://dbpedia.org/property/interiorEnd\", \"Interior end \"], [\"interiorStart\", \"property\", \"http://dbpedia.org/property/interiorStart\", \"Interior start \"], [\"justice\", \"property\", \"http://dbpedia.org/property/justice\", \"Justice\"], [\"justiceEnd\", \"property\", \"http://dbpedia.org/property/justiceEnd\", \"Justice end\"], [\"justiceStart\", \"property\", \"http://dbpedia.org/property/justiceStart\", \"Justice start\"], [\"labor\", \"property\", \"http://dbpedia.org/property/labor\", \"labor\"], [\"laborEnd\", \"property\", \"http://dbpedia.org/property/laborEnd\", \"Labor end\"], [\"laborStart\", \"property\", \"http://dbpedia.org/property/laborStart\", \"Labor start\"], [\"mawards\", \"property\", \"http://dbpedia.org/property/mawards\", \"mawards\"], [\"n\", \"property\", \"http://dbpedia.org/property/n\", \"n\"], [\"parents\", \"property\", \"http://dbpedia.org/property/parents\", \"parents\"], [\"post\", \"property\", \"http://dbpedia.org/property/post\", \"Post\"], [\"postDate\", \"property\", \"http://dbpedia.org/property/postDate\", \"Post date\"], [\"postEnd\", \"property\", \"http://dbpedia.org/property/postEnd\", \"Post end\"], [\"postStart\", \"property\", \"http://dbpedia.org/property/postStart\", \"Post start\"], [\"president\", \"property\", \"http://dbpedia.org/property/president\", \"President\"], [\"presidentEnd\", \"property\", \"http://dbpedia.org/property/presidentEnd\", \"President end\"], [\"presidentStart\", \"property\", \"http://dbpedia.org/property/presidentStart\", \"President start\"], [\"restingPlace\", \"property\", \"http://dbpedia.org/property/restingPlace\", \"resting place\"], [\"s\", \"property\", \"http://dbpedia.org/property/s\", \"s\"], [\"signatureAlt\", \"property\", \"http://dbpedia.org/property/signatureAlt\", \"signature alt\"], [\"sname\", \"property\", \"http://dbpedia.org/property/sname\", \"sname\"], [\"sopt\", \"property\", \"http://dbpedia.org/property/sopt\", \"sopt\"], [\"state\", \"property\", \"http://dbpedia.org/property/state\", \"state\"], [\"stateEnd\", \"property\", \"http://dbpedia.org/property/stateEnd\", \"State end\"], [\"stateStart\", \"property\", \"http://dbpedia.org/property/stateStart\", \"State start\"], [\"text\", \"property\", \"http://dbpedia.org/property/text\", \"text\"], [\"title\", \"property\", \"http://dbpedia.org/property/title\", \"title\"], [\"treasury\", \"property\", \"http://dbpedia.org/property/treasury\", \"Treasury\"], [\"treasuryEnd\", \"property\", \"http://dbpedia.org/property/treasuryEnd\", \"Treasury end\"], [\"treasuryStart\", \"property\", \"http://dbpedia.org/property/treasuryStart\", \"Treasury start\"], [\"v\", \"property\", \"http://dbpedia.org/property/v\", \"v\"], [\"vicePresident\", \"property\", \"http://dbpedia.org/property/vicePresident\", \"Vice President\"], [\"vicePresidentEnd\", \"property\", \"http://dbpedia.org/property/vicePresidentEnd\", \"Vice President end\"], [\"vicePresidentStart\", \"property\", \"http://dbpedia.org/property/vicePresidentStart\", \"Vice President start\"], [\"wikt\", \"property\", \"http://dbpedia.org/property/wikt\", \"wikt\"], [\"health,Education,AndWelfare\", \"property\", \"http://dbpedia.org/property/health,Education,AndWelfare\", \"Health, Education, and Welfare\"], [\"health,Education,AndWelfareEnd\", \"property\", \"http://dbpedia.org/property/health,Education,AndWelfareEnd\", \"Health, Education, and Welfare end\"], [\"health,Education,AndWelfareStart\", \"property\", \"http://dbpedia.org/property/health,Education,AndWelfareStart\", \"Health, Education, and Welfare start\"], [\"wordnet_type\", \"property\", \"http://dbpedia.org/property/wordnet_type\", false]], \"withSynonyms\": false, \"phraseLabelAvg\": [[\"wife\", \"\", 0], [\"wife\", \"death place\", 0.27257663], [\"wife\", \"death date\", 0.27268741], [\"wife\", \"birth place\", 0.2327528], [\"wife\", \"birth date\", 0.22904584], [\"wife\", \"Wikipage page ID\", 0.067832671], [\"wife\", \"Wikipage revision ID\", 0.00092584791], [\"wife\", \"Link from a Wikipage to another Wikipage\", 0.077342078], [\"wife\", \"Link from a Wikipage to an external page\", 0.022336802], [\"wife\", \"name\", 0.19646977], [\"wife\", \"thumbnail\", 0.025946468], [\"wife\", \"alma mater\", 0.12057105], [\"wife\", \"battle\", 0.063898645], [\"wife\", \"child\", 0.3550868], [\"wife\", \"military branch\", 0.099967755], [\"wife\", \"military rank\", 0.03512682], [\"wife\", \"military unit\", 0.10065319], [\"wife\", \"office\", 0.20248063], [\"wife\", \"party\", 0.15131427], [\"wife\", \"predecessor\", 0.17170371], [\"wife\", \"profession\", 0.17266035], [\"wife\", \"region\", -0.014705421], [\"wife\", \"relation\", 0.045474127], [\"wife\", \"religion\", 0.17106795], [\"wife\", \"seniority\", 0.015671877], [\"wife\", \"service end year\", 0.033791967], [\"wife\", \"service start year\", 0.063415684], [\"wife\", \"signature\", 0.11084677], [\"wife\", \"sound recording\", -0.0030935172], [\"wife\", \"spouse\", 0.51875573], [\"wife\", \"successor\", 0.18481328], [\"wife\", \"term period\", 0.051074564], [\"wife\", \"vice president\", 0.20493081], [\"wife\", \"Agriculture\", 0.074840888], [\"wife\", \"Agriculture end\", 0.042851146], [\"wife\", \"Agriculture start\", 0.07540413], [\"wife\", \"align\", 0.0081231892], [\"wife\", \"author\", 0.15935852], [\"wife\", \"b\", -0.0044105626], [\"wife\", \"birth name\", 0.28805208], [\"wife\", \"colwidth\", 0], [\"wife\", \"Commerce\", 0.029305331], [\"wife\", \"Commerce end\", 0.0066158781], [\"wife\", \"Commerce start\", 0.037988156], [\"wife\", \"death cause\", 0.24535143], [\"wife\", \"Defense\", 0.10951882], [\"wife\", \"Defense end\", 0.068325855], [\"wife\", \"Defense start\", 0.097537696], [\"wife\", \"format\", -0.040927522], [\"wife\", \"help\", 0.064117759], [\"wife\", \"Interior\", 0.030562202], [\"wife\", \"Interior end \", 0.0044303946], [\"wife\", \"Interior start \", 0.038282812], [\"wife\", \"Justice\", 0.082943812], [\"wife\", \"Justice end\", 0.049519308], [\"wife\", \"Justice start\", 0.082674734], [\"wife\", \"labor\", 0.097609878], [\"wife\", \"Labor end\", 0.059794717], [\"wife\", \"Labor start\", 0.090438589], [\"wife\", \"mawards\", 0], [\"wife\", \"n\", -0.037544213], [\"wife\", \"parents\", 0.45572785], [\"wife\", \"Post\", 0.030310446], [\"wife\", \"Post date\", 0.081174813], [\"wife\", \"Post end\", 2.1690368e-05], [\"wife\", \"Post start\", 0.035348106], [\"wife\", \"President\", 0.16623905], [\"wife\", \"President end\", 0.11316791], [\"wife\", \"President start\", 0.14229465], [\"wife\", \"resting place\", 0.11233886], [\"wife\", \"s\", -0.0075131175], [\"wife\", \"signature alt\", 0.020065084], [\"wife\", \"sname\", 0], [\"wife\", \"sopt\", 0], [\"wife\", \"state\", 0.087592885], [\"wife\", \"State end\", 0.038023651], [\"wife\", \"State start\", 0.076236248], [\"wife\", \"text\", 0.038572665], [\"wife\", \"title\", 0.035909113], [\"wife\", \"Treasury\", 0.14266084], [\"wife\", \"Treasury end\", 0.097949043], [\"wife\", \"Treasury start\", 0.13260525], [\"wife\", \"v\", -0.063750945], [\"wife\", \"Vice President\", 0.20493081], [\"wife\", \"Vice President end\", 0.17540045], [\"wife\", \"Vice President start\", 0.19389874], [\"wife\", \"wikt\", 0], [\"wife\", \"Health, Education, and Welfare\", 0.15304241], [\"wife\", \"Health, Education, and Welfare end\", 0.1075355], [\"wife\", \"Health, Education, and Welfare start\", 0.14237976], [\"wife\", \"False\", 0.12141927]]}, {\"keyword\": \"birth place\", \"word\": \"birth place\", \"properties\": [[\"deathPlace\", \"ontology\", \"http://dbpedia.org/ontology/deathPlace\", \"death place\"], [\"deathDate\", \"ontology\", \"http://dbpedia.org/ontology/deathDate\", \"death date\"], [\"birthPlace\", \"ontology\", \"http://dbpedia.org/ontology/birthPlace\", \"birth place\"], [\"birthDate\", \"ontology\", \"http://dbpedia.org/ontology/birthDate\", \"birth date\"], [\"wikiPageID\", \"ontology\", \"http://dbpedia.org/ontology/wikiPageID\", \"Wikipage page ID\"], [\"wikiPageRevisionID\", \"ontology\", \"http://dbpedia.org/ontology/wikiPageRevisionID\", \"Wikipage revision ID\"], [\"wikiPageWikiLink\", \"ontology\", \"http://dbpedia.org/ontology/wikiPageWikiLink\", \"Link from a Wikipage to another Wikipage\"], [\"wikiPageExternalLink\", \"ontology\", \"http://dbpedia.org/ontology/wikiPageExternalLink\", \"Link from a Wikipage to an external page\"], [\"name\", \"property\", \"http://dbpedia.org/property/name\", \"name\"], [\"thumbnail\", \"ontology\", \"http://dbpedia.org/ontology/thumbnail\", \"thumbnail\"], [\"almaMater\", \"ontology\", \"http://dbpedia.org/ontology/almaMater\", \"alma mater\"], [\"battle\", \"ontology\", \"http://dbpedia.org/ontology/battle\", \"battle\"], [\"child\", \"ontology\", \"http://dbpedia.org/ontology/child\", \"child\"], [\"militaryBranch\", \"ontology\", \"http://dbpedia.org/ontology/militaryBranch\", \"military branch\"], [\"militaryRank\", \"ontology\", \"http://dbpedia.org/ontology/militaryRank\", \"military rank\"], [\"militaryUnit\", \"ontology\", \"http://dbpedia.org/ontology/militaryUnit\", \"military unit\"], [\"office\", \"ontology\", \"http://dbpedia.org/ontology/office\", \"office\"], [\"party\", \"ontology\", \"http://dbpedia.org/ontology/party\", \"party\"], [\"predecessor\", \"ontology\", \"http://dbpedia.org/ontology/predecessor\", \"predecessor\"], [\"profession\", \"ontology\", \"http://dbpedia.org/ontology/profession\", \"profession\"], [\"region\", \"ontology\", \"http://dbpedia.org/ontology/region\", \"region\"], [\"relation\", \"ontology\", \"http://dbpedia.org/ontology/relation\", \"relation\"], [\"religion\", \"ontology\", \"http://dbpedia.org/ontology/religion\", \"religion\"], [\"seniority\", \"ontology\", \"http://dbpedia.org/ontology/seniority\", \"seniority\"], [\"serviceEndYear\", \"ontology\", \"http://dbpedia.org/ontology/serviceEndYear\", \"service end year\"], [\"serviceStartYear\", \"ontology\", \"http://dbpedia.org/ontology/serviceStartYear\", \"service start year\"], [\"signature\", \"ontology\", \"http://dbpedia.org/ontology/signature\", \"signature\"], [\"soundRecording\", \"ontology\", \"http://dbpedia.org/ontology/soundRecording\", \"sound recording\"], [\"spouse\", \"ontology\", \"http://dbpedia.org/ontology/spouse\", \"spouse\"], [\"successor\", \"ontology\", \"http://dbpedia.org/ontology/successor\", \"successor\"], [\"termPeriod\", \"ontology\", \"http://dbpedia.org/ontology/termPeriod\", \"term period\"], [\"vicePresident\", \"ontology\", \"http://dbpedia.org/ontology/vicePresident\", \"vice president\"], [\"agriculture\", \"property\", \"http://dbpedia.org/property/agriculture\", \"Agriculture\"], [\"agricultureEnd\", \"property\", \"http://dbpedia.org/property/agricultureEnd\", \"Agriculture end\"], [\"agricultureStart\", \"property\", \"http://dbpedia.org/property/agricultureStart\", \"Agriculture start\"], [\"align\", \"property\", \"http://dbpedia.org/property/align\", \"align\"], [\"author\", \"property\", \"http://dbpedia.org/property/author\", \"author\"], [\"b\", \"property\", \"http://dbpedia.org/property/b\", \"b\"], [\"birthName\", \"property\", \"http://dbpedia.org/property/birthName\", \"birth name\"], [\"colwidth\", \"property\", \"http://dbpedia.org/property/colwidth\", \"colwidth\"], [\"commerce\", \"property\", \"http://dbpedia.org/property/commerce\", \"Commerce\"], [\"commerceEnd\", \"property\", \"http://dbpedia.org/property/commerceEnd\", \"Commerce end\"], [\"commerceStart\", \"property\", \"http://dbpedia.org/property/commerceStart\", \"Commerce start\"], [\"deathCause\", \"property\", \"http://dbpedia.org/property/deathCause\", \"death cause\"], [\"defense\", \"property\", \"http://dbpedia.org/property/defense\", \"Defense\"], [\"defenseEnd\", \"property\", \"http://dbpedia.org/property/defenseEnd\", \"Defense end\"], [\"defenseStart\", \"property\", \"http://dbpedia.org/property/defenseStart\", \"Defense start\"], [\"format\", \"property\", \"http://dbpedia.org/property/format\", \"format\"], [\"help\", \"property\", \"http://dbpedia.org/property/help\", \"help\"], [\"interior\", \"property\", \"http://dbpedia.org/property/interior\", \"Interior\"], [\"interiorEnd\", \"property\", \"http://dbpedia.org/property/interiorEnd\", \"Interior end \"], [\"interiorStart\", \"property\", \"http://dbpedia.org/property/interiorStart\", \"Interior start \"], [\"justice\", \"property\", \"http://dbpedia.org/property/justice\", \"Justice\"], [\"justiceEnd\", \"property\", \"http://dbpedia.org/property/justiceEnd\", \"Justice end\"], [\"justiceStart\", \"property\", \"http://dbpedia.org/property/justiceStart\", \"Justice start\"], [\"labor\", \"property\", \"http://dbpedia.org/property/labor\", \"labor\"], [\"laborEnd\", \"property\", \"http://dbpedia.org/property/laborEnd\", \"Labor end\"], [\"laborStart\", \"property\", \"http://dbpedia.org/property/laborStart\", \"Labor start\"], [\"mawards\", \"property\", \"http://dbpedia.org/property/mawards\", \"mawards\"], [\"n\", \"property\", \"http://dbpedia.org/property/n\", \"n\"], [\"parents\", \"property\", \"http://dbpedia.org/property/parents\", \"parents\"], [\"post\", \"property\", \"http://dbpedia.org/property/post\", \"Post\"], [\"postDate\", \"property\", \"http://dbpedia.org/property/postDate\", \"Post date\"], [\"postEnd\", \"property\", \"http://dbpedia.org/property/postEnd\", \"Post end\"], [\"postStart\", \"property\", \"http://dbpedia.org/property/postStart\", \"Post start\"], [\"president\", \"property\", \"http://dbpedia.org/property/president\", \"President\"], [\"presidentEnd\", \"property\", \"http://dbpedia.org/property/presidentEnd\", \"President end\"], [\"presidentStart\", \"property\", \"http://dbpedia.org/property/presidentStart\", \"President start\"], [\"restingPlace\", \"property\", \"http://dbpedia.org/property/restingPlace\", \"resting place\"], [\"s\", \"property\", \"http://dbpedia.org/property/s\", \"s\"], [\"signatureAlt\", \"property\", \"http://dbpedia.org/property/signatureAlt\", \"signature alt\"], [\"sname\", \"property\", \"http://dbpedia.org/property/sname\", \"sname\"], [\"sopt\", \"property\", \"http://dbpedia.org/property/sopt\", \"sopt\"], [\"state\", \"property\", \"http://dbpedia.org/property/state\", \"state\"], [\"stateEnd\", \"property\", \"http://dbpedia.org/property/stateEnd\", \"State end\"], [\"stateStart\", \"property\", \"http://dbpedia.org/property/stateStart\", \"State start\"], [\"text\", \"property\", \"http://dbpedia.org/property/text\", \"text\"], [\"title\", \"property\", \"http://dbpedia.org/property/title\", \"title\"], [\"treasury\", \"property\", \"http://dbpedia.org/property/treasury\", \"Treasury\"], [\"treasuryEnd\", \"property\", \"http://dbpedia.org/property/treasuryEnd\", \"Treasury end\"], [\"treasuryStart\", \"property\", \"http://dbpedia.org/property/treasuryStart\", \"Treasury start\"], [\"v\", \"property\", \"http://dbpedia.org/property/v\", \"v\"], [\"vicePresident\", \"property\", \"http://dbpedia.org/property/vicePresident\", \"Vice President\"], [\"vicePresidentEnd\", \"property\", \"http://dbpedia.org/property/vicePresidentEnd\", \"Vice President end\"], [\"vicePresidentStart\", \"property\", \"http://dbpedia.org/property/vicePresidentStart\", \"Vice President start\"], [\"wikt\", \"property\", \"http://dbpedia.org/property/wikt\", \"wikt\"], [\"health,Education,AndWelfare\", \"property\", \"http://dbpedia.org/property/health,Education,AndWelfare\", \"Health, Education, and Welfare\"], [\"health,Education,AndWelfareEnd\", \"property\", \"http://dbpedia.org/property/health,Education,AndWelfareEnd\", \"Health, Education, and Welfare end\"], [\"health,Education,AndWelfareStart\", \"property\", \"http://dbpedia.org/property/health,Education,AndWelfareStart\", \"Health, Education, and Welfare start\"], [\"wordnet_type\", \"property\", \"http://dbpedia.org/property/wordnet_type\", false]], \"withSynonyms\": false, \"phraseLabelAvg\": [[\"birth place\", \"\", 0], [\"birth place\", \"death place\", 0.59519809], [\"birth place\", \"death date\", 0.40021598], [\"birth place\", \"birth place\", 1.0], [\"birth place\", \"birth date\", 0.76095122], [\"birth place\", \"Wikipage page ID\", 0.12565912], [\"birth place\", \"Wikipage revision ID\", 0.16929585], [\"birth place\", \"Link from a Wikipage to another Wikipage\", 0.17426136], [\"birth place\", \"Link from a Wikipage to an external page\", 0.12310871], [\"birth place\", \"name\", 0.26241863], [\"birth place\", \"thumbnail\", 0.12137315], [\"birth place\", \"alma mater\", 0.1607403], [\"birth place\", \"battle\", 0.059302993], [\"birth place\", \"child\", 0.41799986], [\"birth place\", \"military branch\", 0.09422487], [\"birth place\", \"military rank\", 0.13460793], [\"birth place\", \"military unit\", 0.067112371], [\"birth place\", \"office\", 0.12843601], [\"birth place\", \"party\", 0.16999042], [\"birth place\", \"predecessor\", -0.0069190799], [\"birth place\", \"profession\", 0.1041578], [\"birth place\", \"region\", 0.072944745], [\"birth place\", \"relation\", 0.15403952], [\"birth place\", \"religion\", 0.18717167], [\"birth place\", \"seniority\", 0.14687341], [\"birth place\", \"service end year\", 0.15900841], [\"birth place\", \"service start year\", 0.2705349], [\"birth place\", \"signature\", 0.12035222], [\"birth place\", \"sound recording\", 0.17546187], [\"birth place\", \"spouse\", 0.14308898], [\"birth place\", \"successor\", 0.09855625], [\"birth place\", \"term period\", 0.12208783], [\"birth place\", \"vice president\", 0.043564681], [\"birth place\", \"Agriculture\", 0.051374216], [\"birth place\", \"Agriculture end\", 0.084589772], [\"birth place\", \"Agriculture start\", 0.20708911], [\"birth place\", \"align\", 0.096733429], [\"birth place\", \"author\", 0.11009853], [\"birth place\", \"b\", 0.086712338], [\"birth place\", \"birth name\", 0.74844849], [\"birth place\", \"colwidth\", 0], [\"birth place\", \"Commerce\", 0.09287148], [\"birth place\", \"Commerce end\", 0.12019071], [\"birth place\", \"Commerce start\", 0.23752068], [\"birth place\", \"death cause\", 0.26300141], [\"birth place\", \"Defense\", 0.014870293], [\"birth place\", \"Defense end\", 0.054824177], [\"birth place\", \"Defense start\", 0.17194746], [\"birth place\", \"format\", 0.10526568], [\"birth place\", \"help\", 0.087575771], [\"birth place\", \"Interior\", 0.01937123], [\"birth place\", \"Interior end \", 0.06018424], [\"birth place\", \"Interior start \", 0.18744095], [\"birth place\", \"Justice\", 0.11058769], [\"birth place\", \"Justice end\", 0.1302411], [\"birth place\", \"Justice start\", 0.25369361], [\"birth place\", \"labor\", 0.22271043], [\"birth place\", \"Labor end\", 0.22538894], [\"birth place\", \"Labor start\", 0.3409414], [\"birth place\", \"mawards\", 0], [\"birth place\", \"n\", 0.041177243], [\"birth place\", \"parents\", 0.30701923], [\"birth place\", \"Post\", 0.1460454], [\"birth place\", \"Post date\", 0.28844383], [\"birth place\", \"Post end\", 0.14457814], [\"birth place\", \"Post start\", 0.27691019], [\"birth place\", \"President\", 0.022754367], [\"birth place\", \"President end\", 0.067981444], [\"birth place\", \"President start\", 0.19808726], [\"birth place\", \"resting place\", 0.50949574], [\"birth place\", \"s\", 0.052244376], [\"birth place\", \"signature alt\", 0.13020049], [\"birth place\", \"sname\", 0], [\"birth place\", \"sopt\", 0], [\"birth place\", \"state\", 0.14616865], [\"birth place\", \"State end\", 0.15770696], [\"birth place\", \"State start\", 0.30119383], [\"birth place\", \"text\", 0.089921191], [\"birth place\", \"title\", 0.20240396], [\"birth place\", \"Treasury\", 0.006588405], [\"birth place\", \"Treasury end\", 0.046944246], [\"birth place\", \"Treasury start\", 0.17001927], [\"birth place\", \"v\", 0.077276871], [\"birth place\", \"Vice President\", 0.043564681], [\"birth place\", \"Vice President end\", 0.072066866], [\"birth place\", \"Vice President start\", 0.15864591], [\"birth place\", \"wikt\", 0], [\"birth place\", \"Health, Education, and Welfare\", 0.23151207], [\"birth place\", \"Health, Education, and Welfare end\", 0.23614636], [\"birth place\", \"Health, Education, and Welfare start\", 0.36618438], [\"birth place\", \"False\", 0.17022865]]}], \"answer\": [\"http://dbpedia.org/resource/Brookline,_Massachusetts\"], \"model\": [[[\"What\", \"WP\"], \"cop\", [\"is\", \"VBZ\"]], [[\"What\", \"WP\"], \"nsubj\", [\"place\", \"NN\"]], [[\"place\", \"NN\"], \"det\", [\"the\", \"DT\"]], [[\"place\", \"NN\"], \"compound\", [\"birth\", \"NN\"]], [[\"place\", \"NN\"], \"nmod\", [\"wife\", \"NN\"]], [[\"wife\", \"NN\"], \"case\", [\"of\", \"IN\"]], [[\"wife\", \"NN\"], \"nmod\", [\"Kennedy\", \"NNP\"]], [[\"Kennedy\", \"NNP\"], \"case\", [\"of\", \"IN\"]], [[\"Kennedy\", \"NNP\"], \"compound\", [\"John\", \"NNP\"]]], \"stack\": [\"place\", \"wife\", \"Kennedy\"], \"primaryURL\": {\"src\": \"agdistis\", \"value\": \"http://dbpedia.org/resource/John_F._Kennedy\"}}, {\"question\": \"What is the municipality of Roberto Clemente Bridge\", \"stackDetails\": [{\"word\": \"municipality\", \"properties\": [[\"wikiPageID\", \"ontology\", \"http://dbpedia.org/ontology/wikiPageID\", \"Wikipage page ID\"], [\"wikiPageRevisionID\", \"ontology\", \"http://dbpedia.org/ontology/wikiPageRevisionID\", \"Wikipage revision ID\"], [\"wikiPageWikiLink\", \"ontology\", \"http://dbpedia.org/ontology/wikiPageWikiLink\", \"Link from a Wikipage to another Wikipage\"], [\"wikiPageExternalLink\", \"ontology\", \"http://dbpedia.org/ontology/wikiPageExternalLink\", \"Link from a Wikipage to an external page\"], [\"thumbnail\", \"ontology\", \"http://dbpedia.org/ontology/thumbnail\", \"thumbnail\"], [\"architecturalStyle\", \"ontology\", \"http://dbpedia.org/ontology/architecturalStyle\", \"architectural style\"], [\"country\", \"ontology\", \"http://dbpedia.org/ontology/country\", \"country\"], [\"foundingDate\", \"ontology\", \"http://dbpedia.org/ontology/foundingDate\", \"founding date\"], [\"length\", \"ontology\", \"http://dbpedia.org/ontology/length\", \"length (\\u03bc)\"], [\"material\", \"ontology\", \"http://dbpedia.org/ontology/material\", \"material\"], [\"municipality\", \"ontology\", \"http://dbpedia.org/ontology/municipality\", \"municipality\"], [\"region\", \"ontology\", \"http://dbpedia.org/ontology/region\", \"region\"], [\"river\", \"ontology\", \"http://dbpedia.org/ontology/river\", \"river\"], [\"synonym\", \"ontology\", \"http://dbpedia.org/ontology/synonym\", \"synonym\"], [\"type\", \"ontology\", \"http://dbpedia.org/ontology/type\", \"type\"], [\"authorType\", \"property\", \"http://dbpedia.org/property/authorType\", \"author type\"], [\"dwgs\", \"property\", \"http://dbpedia.org/property/dwgs\", \"dwgs\"], [\"etymologyType\", \"property\", \"http://dbpedia.org/property/etymologyType\", \"etymology type\"], [\"bridge\", \"property\", \"http://dbpedia.org/property/bridge\", \"bridge\"], [\"cap\", \"property\", \"http://dbpedia.org/property/cap\", \"cap\"], [\"codeType\", \"property\", \"http://dbpedia.org/property/codeType\", \"code type\"], [\"color\", \"property\", \"http://dbpedia.org/property/color\", \"color\"], [\"commons\", \"property\", \"http://dbpedia.org/property/commons\", \"commons\"], [\"countryFlag\", \"property\", \"http://dbpedia.org/property/countryFlag\", \"country flag\"], [\"downstream\", \"property\", \"http://dbpedia.org/property/downstream\", \"downstream\"], [\"downstreamSigns\", \"property\", \"http://dbpedia.org/property/downstreamSigns\", \"downstream signs\"], [\"established1Type\", \"property\", \"http://dbpedia.org/property/established1Type\", \"established1 type\"], [\"establishedType\", \"property\", \"http://dbpedia.org/property/establishedType\", \"established type\"], [\"etymology\", \"property\", \"http://dbpedia.org/property/etymology\", \"etymology\"], [\"id\", \"property\", \"http://dbpedia.org/property/id\", \"id\"], [\"imageCaption\", \"property\", \"http://dbpedia.org/property/imageCaption\", \"image caption\"], [\"latD\", \"property\", \"http://dbpedia.org/property/latD\", \"lat d\"], [\"latM\", \"property\", \"http://dbpedia.org/property/latM\", \"lat m\"], [\"latNs\", \"property\", \"http://dbpedia.org/property/latNs\", \"lat NS\"], [\"latS\", \"property\", \"http://dbpedia.org/property/latS\", \"lat s\"], [\"longD\", \"property\", \"http://dbpedia.org/property/longD\", \"long d\"], [\"longEw\", \"property\", \"http://dbpedia.org/property/longEw\", \"long EW\"], [\"longM\", \"property\", \"http://dbpedia.org/property/longM\", \"long m\"], [\"longS\", \"property\", \"http://dbpedia.org/property/longS\", \"long s\"], [\"management\", \"property\", \"http://dbpedia.org/property/management\", \"management\"], [\"map\", \"property\", \"http://dbpedia.org/property/map\", \"map\"], [\"map1Caption\", \"property\", \"http://dbpedia.org/property/map1Caption\", \"map1 caption\"], [\"mapCaption\", \"property\", \"http://dbpedia.org/property/mapCaption\", \"map caption\"], [\"mapLocator\", \"property\", \"http://dbpedia.org/property/mapLocator\", \"map locator\"], [\"number\", \"property\", \"http://dbpedia.org/property/number\", \"number\"], [\"officialName\", \"property\", \"http://dbpedia.org/property/officialName\", \"official name\"], [\"parentType\", \"property\", \"http://dbpedia.org/property/parentType\", \"parent type\"], [\"photos\", \"property\", \"http://dbpedia.org/property/photos\", \"photos\"], [\"place\", \"property\", \"http://dbpedia.org/property/place\", \"place\"], [\"regionType\", \"property\", \"http://dbpedia.org/property/regionType\", \"region type\"], [\"road\", \"property\", \"http://dbpedia.org/property/road\", \"Road\"], [\"state\", \"property\", \"http://dbpedia.org/property/state\", \"state\"], [\"stateFlag\", \"property\", \"http://dbpedia.org/property/stateFlag\", \"state flag\"], [\"structure\", \"property\", \"http://dbpedia.org/property/structure\", \"structure\"], [\"survey\", \"property\", \"http://dbpedia.org/property/survey\", \"survey\"], [\"title\", \"property\", \"http://dbpedia.org/property/title\", \"title\"], [\"upstream\", \"property\", \"http://dbpedia.org/property/upstream\", \"upstream\"], [\"codeLabel\", \"property\", \"http://dbpedia.org/property/codeLabel\", \"code label\"], [\"height1Imperial\", \"property\", \"http://dbpedia.org/property/height1Imperial\", \"height1 imperial\"], [\"height1Type\", \"property\", \"http://dbpedia.org/property/height1Type\", \"height1 type\"], [\"heightImperial\", \"property\", \"http://dbpedia.org/property/heightImperial\", \"height imperial\"], [\"heightType\", \"property\", \"http://dbpedia.org/property/heightType\", \"height type\"], [\"length1Imperial\", \"property\", \"http://dbpedia.org/property/length1Imperial\", \"length1 imperial\"], [\"length1Type\", \"property\", \"http://dbpedia.org/property/length1Type\", \"length1 type\"], [\"length2Imperial\", \"property\", \"http://dbpedia.org/property/length2Imperial\", \"length2 imperial\"], [\"length2Type\", \"property\", \"http://dbpedia.org/property/length2Type\", \"length2 type\"], [\"length3Type\", \"property\", \"http://dbpedia.org/property/length3Type\", \"length3 type\"], [\"managementType\", \"property\", \"http://dbpedia.org/property/managementType\", \"management type\"], [\"numberType\", \"property\", \"http://dbpedia.org/property/numberType\", \"number type\"], [\"riverType\", \"property\", \"http://dbpedia.org/property/riverType\", \"river type\"], [\"road2Type\", \"property\", \"http://dbpedia.org/property/road2Type\", \"road2 type\"], [\"roadNote\", \"property\", \"http://dbpedia.org/property/roadNote\", \"road note\"], [\"styleType\", \"property\", \"http://dbpedia.org/property/styleType\", \"style type\"], [\"width1Imperial\", \"property\", \"http://dbpedia.org/property/width1Imperial\", \"width1 imperial\"], [\"width1Type\", \"property\", \"http://dbpedia.org/property/width1Type\", \"width1 type\"], [\"wordnet_type\", \"property\", \"http://dbpedia.org/property/wordnet_type\", false]], \"withSynonyms\": false}], \"answer\": [\"http://dbpedia.org/resource/Pittsburgh,_Pennsylvania\"], \"model\": [[[\"What\", \"WP\"], \"cop\", [\"is\", \"VBZ\"]], [[\"What\", \"WP\"], \"nsubj\", [\"municipality\", \"NN\"]], [[\"municipality\", \"NN\"], \"det\", [\"the\", \"DT\"]], [[\"municipality\", \"NN\"], \"nmod\", [\"Bridge\", \"NNP\"]], [[\"Bridge\", \"NNP\"], \"case\", [\"of\", \"IN\"]], [[\"Bridge\", \"NNP\"], \"compound\", [\"Roberto\", \"NNP\"]], [[\"Bridge\", \"NNP\"], \"compound\", [\"Clemente\", \"NNP\"]]], \"stack\": [\"municipality\", \"Bridge\"], \"primaryURL\": {\"src\": \"agdistis\", \"value\": \"http://dbpedia.org/resource/Roberto_Clemente_Bridge\"}}, {\"question\": \"What is the nationality of the prime minister of Thanong Bidaya?\", \"stackDetails\": [{\"keyword\": \"prime minister\", \"word\": \"minister\", \"properties\": [[\"birthPlace\", \"ontology\", \"http://dbpedia.org/ontology/birthPlace\", \"birth place\"], [\"birthDate\", \"ontology\", \"http://dbpedia.org/ontology/birthDate\", \"birth date\"], [\"wikiPageID\", \"ontology\", \"http://dbpedia.org/ontology/wikiPageID\", \"Wikipage page ID\"], [\"wikiPageRevisionID\", \"ontology\", \"http://dbpedia.org/ontology/wikiPageRevisionID\", \"Wikipage revision ID\"], [\"wikiPageWikiLink\", \"ontology\", \"http://dbpedia.org/ontology/wikiPageWikiLink\", \"Link from a Wikipage to another Wikipage\"], [\"wikiPageExternalLink\", \"ontology\", \"http://dbpedia.org/ontology/wikiPageExternalLink\", \"Link from a Wikipage to an external page\"], [\"activeYearsEndDate\", \"ontology\", \"http://dbpedia.org/ontology/activeYearsEndDate\", \"active years end date\"], [\"activeYearsStartDate\", \"ontology\", \"http://dbpedia.org/ontology/activeYearsStartDate\", \"active years start date\"], [\"almaMater\", \"ontology\", \"http://dbpedia.org/ontology/almaMater\", \"alma mater\"], [\"nationality\", \"ontology\", \"http://dbpedia.org/ontology/nationality\", \"nationality\"], [\"office\", \"ontology\", \"http://dbpedia.org/ontology/office\", \"office\"], [\"orderInOffice\", \"ontology\", \"http://dbpedia.org/ontology/orderInOffice\", \"order in office\"], [\"primeMinister\", \"ontology\", \"http://dbpedia.org/ontology/primeMinister\", \"prime minister\"], [\"profession\", \"ontology\", \"http://dbpedia.org/ontology/profession\", \"profession\"], [\"religion\", \"ontology\", \"http://dbpedia.org/ontology/religion\", \"religion\"], [\"successor\", \"ontology\", \"http://dbpedia.org/ontology/successor\", \"successor\"], [\"imageSize\", \"property\", \"http://dbpedia.org/property/imageSize\", \"image size\"], [\"predecessor\", \"property\", \"http://dbpedia.org/property/predecessor\", \"predecessor\"], [\"title\", \"property\", \"http://dbpedia.org/property/title\", \"title\"], [\"years\", \"property\", \"http://dbpedia.org/property/years\", \"years\"]], \"withSynonyms\": false, \"phraseLabelAvg\": [[\"minister\", \"\", 0], [\"minister\", \"birth place\", 0.10055304], [\"minister\", \"birth date\", 0.050359935], [\"minister\", \"Wikipage page ID\", -0.039610788], [\"minister\", \"Wikipage revision ID\", 0.01624593], [\"minister\", \"Link from a Wikipage to another Wikipage\", 0.054956149], [\"minister\", \"Link from a Wikipage to an external page\", 0.080727033], [\"minister\", \"active years end date\", -0.0063651083], [\"minister\", \"active years start date\", 0.026630821], [\"minister\", \"alma mater\", 0.11363319], [\"minister\", \"nationality\", 0.15915693], [\"minister\", \"office\", 0.13809347], [\"minister\", \"order in office\", 0.1148046], [\"minister\", \"prime minister\", 0.80163175], [\"minister\", \"profession\", 0.11358758], [\"minister\", \"religion\", 0.15699282], [\"minister\", \"successor\", 0.15891016], [\"minister\", \"image size\", 0.0025918656], [\"minister\", \"predecessor\", 0.16775464], [\"minister\", \"title\", 0.036550302], [\"minister\", \"years\", 0.022210918]]}, {\"word\": \"nationality\", \"properties\": [[\"birthPlace\", \"ontology\", \"http://dbpedia.org/ontology/birthPlace\", \"birth place\"], [\"birthDate\", \"ontology\", \"http://dbpedia.org/ontology/birthDate\", \"birth date\"], [\"wikiPageID\", \"ontology\", \"http://dbpedia.org/ontology/wikiPageID\", \"Wikipage page ID\"], [\"wikiPageRevisionID\", \"ontology\", \"http://dbpedia.org/ontology/wikiPageRevisionID\", \"Wikipage revision ID\"], [\"wikiPageWikiLink\", \"ontology\", \"http://dbpedia.org/ontology/wikiPageWikiLink\", \"Link from a Wikipage to another Wikipage\"], [\"wikiPageExternalLink\", \"ontology\", \"http://dbpedia.org/ontology/wikiPageExternalLink\", \"Link from a Wikipage to an external page\"], [\"thumbnail\", \"ontology\", \"http://dbpedia.org/ontology/thumbnail\", \"thumbnail\"], [\"activeYearsEndDate\", \"ontology\", \"http://dbpedia.org/ontology/activeYearsEndDate\", \"active years end date\"], [\"activeYearsStartDate\", \"ontology\", \"http://dbpedia.org/ontology/activeYearsStartDate\", \"active years start date\"], [\"militaryBranch\", \"ontology\", \"http://dbpedia.org/ontology/militaryBranch\", \"military branch\"], [\"militaryCommand\", \"ontology\", \"http://dbpedia.org/ontology/militaryCommand\", \"military command\"], [\"militaryRank\", \"ontology\", \"http://dbpedia.org/ontology/militaryRank\", \"military rank\"], [\"monarch\", \"ontology\", \"http://dbpedia.org/ontology/monarch\", \"monarch\"], [\"nationality\", \"ontology\", \"http://dbpedia.org/ontology/nationality\", \"nationality\"], [\"office\", \"ontology\", \"http://dbpedia.org/ontology/office\", \"office\"], [\"orderInOffice\", \"ontology\", \"http://dbpedia.org/ontology/orderInOffice\", \"order in office\"], [\"party\", \"ontology\", \"http://dbpedia.org/ontology/party\", \"party\"], [\"primeMinister\", \"ontology\", \"http://dbpedia.org/ontology/primeMinister\", \"prime minister\"], [\"religion\", \"ontology\", \"http://dbpedia.org/ontology/religion\", \"religion\"], [\"spouse\", \"ontology\", \"http://dbpedia.org/ontology/spouse\", \"spouse\"], [\"successor\", \"ontology\", \"http://dbpedia.org/ontology/successor\", \"successor\"], [\"after\", \"property\", \"http://dbpedia.org/property/after\", \"after\"], [\"before\", \"property\", \"http://dbpedia.org/property/before\", \"before\"], [\"nativeName\", \"property\", \"http://dbpedia.org/property/nativeName\", \"native name\"], [\"office\", \"property\", \"http://dbpedia.org/property/office\", \"office\"], [\"predecessor\", \"property\", \"http://dbpedia.org/property/predecessor\", \"predecessor\"], [\"primeminister\", \"property\", \"http://dbpedia.org/property/primeminister\", \"primeminister\"], [\"successor\", \"property\", \"http://dbpedia.org/property/successor\", \"successor\"], [\"termEnd\", \"property\", \"http://dbpedia.org/property/termEnd\", \"term end\"], [\"termStart\", \"property\", \"http://dbpedia.org/property/termStart\", \"term start\"], [\"title\", \"property\", \"http://dbpedia.org/property/title\", \"title\"], [\"years\", \"property\", \"http://dbpedia.org/property/years\", \"years\"], [\"wordnet_type\", \"property\", \"http://dbpedia.org/property/wordnet_type\", false]], \"withSynonyms\": false}], \"answer\": [\"http://dbpedia.org/resource/Thailand\"], \"model\": [[[\"What\", \"WP\"], \"cop\", [\"is\", \"VBZ\"]], [[\"What\", \"WP\"], \"nsubj\", [\"nationality\", \"NN\"]], [[\"nationality\", \"NN\"], \"det\", [\"the\", \"DT\"]], [[\"nationality\", \"NN\"], \"nmod\", [\"minister\", \"NN\"]], [[\"minister\", \"NN\"], \"case\", [\"of\", \"IN\"]], [[\"minister\", \"NN\"], \"det\", [\"the\", \"DT\"]], [[\"minister\", \"NN\"], \"amod\", [\"prime\", \"JJ\"]], [[\"minister\", \"NN\"], \"nmod\", [\"Bidaya\", \"NNP\"]], [[\"Bidaya\", \"NNP\"], \"case\", [\"of\", \"IN\"]], [[\"Bidaya\", \"NNP\"], \"compound\", [\"Thanong\", \"NNP\"]]], \"stack\": [\"nationality\", \"minister\", \"Bidaya\"], \"primaryURL\": {\"src\": \"agdistis\", \"value\": \"http://dbpedia.org/resource/Thanong_Bidaya\"}}, {\"question\": \"What is the party of Mumbai North?\", \"stackDetails\": [{\"keyword\": \"government type\", \"word\": \"party\", \"properties\": [[\"wikiPageID\", \"ontology\", \"http://dbpedia.org/ontology/wikiPageID\", \"Wikipage page ID\"], [\"wikiPageRevisionID\", \"ontology\", \"http://dbpedia.org/ontology/wikiPageRevisionID\", \"Wikipage revision ID\"], [\"wikiPageWikiLink\", \"ontology\", \"http://dbpedia.org/ontology/wikiPageWikiLink\", \"Link from a Wikipage to another Wikipage\"], [\"wikiPageExternalLink\", \"ontology\", \"http://dbpedia.org/ontology/wikiPageExternalLink\", \"Link from a Wikipage to an external page\"], [\"thumbnail\", \"ontology\", \"http://dbpedia.org/ontology/thumbnail\", \"thumbnail\"], [\"country\", \"ontology\", \"http://dbpedia.org/ontology/country\", \"country\"], [\"elevation\", \"ontology\", \"http://dbpedia.org/ontology/elevation\", \"elevation (\\u03bc)\"], [\"governmentType\", \"ontology\", \"http://dbpedia.org/ontology/governmentType\", \"government type\"], [\"isPartOf\", \"ontology\", \"http://dbpedia.org/ontology/isPartOf\", \"is part of\"], [\"postalCode\", \"ontology\", \"http://dbpedia.org/ontology/postalCode\", \"postal code\"], [\"timeZone\", \"ontology\", \"http://dbpedia.org/ontology/timeZone\", \"time zone\"], [\"utcOffset\", \"ontology\", \"http://dbpedia.org/ontology/utcOffset\", \"UTC offset\"], [\"blank1InfoSec\", \"property\", \"http://dbpedia.org/property/blank1InfoSec\", \"blank1 info sec\"], [\"blank1NameSec\", \"property\", \"http://dbpedia.org/property/blank1NameSec\", \"blank1 name sec\"], [\"blank2InfoSec\", \"property\", \"http://dbpedia.org/property/blank2InfoSec\", \"blank2 info sec\"], [\"blank2NameSec\", \"property\", \"http://dbpedia.org/property/blank2NameSec\", \"blank2 name sec\"], [\"coordinatesDisplay\", \"property\", \"http://dbpedia.org/property/coordinatesDisplay\", \"coordinates display\"], [\"demographics1Info\", \"property\", \"http://dbpedia.org/property/demographics1Info\", \"demographics1 info\"], [\"demographics1Title\", \"property\", \"http://dbpedia.org/property/demographics1Title\", \"demographics1 title\"], [\"demographicsType\", \"property\", \"http://dbpedia.org/property/demographicsType\", \"demographics type\"], [\"governingBody\", \"property\", \"http://dbpedia.org/property/governingBody\", \"governing body\"], [\"imageAlt\", \"property\", \"http://dbpedia.org/property/imageAlt\", \"image alt\"], [\"imageCaption\", \"property\", \"http://dbpedia.org/property/imageCaption\", \"image caption\"], [\"imageSkyline\", \"property\", \"http://dbpedia.org/property/imageSkyline\", \"image skyline\"], [\"latd\", \"property\", \"http://dbpedia.org/property/latd\", \"latd\"], [\"latns\", \"property\", \"http://dbpedia.org/property/latns\", \"latNS\"], [\"longd\", \"property\", \"http://dbpedia.org/property/longd\", \"longd\"], [\"longew\", \"property\", \"http://dbpedia.org/property/longew\", \"longEW\"], [\"populationDensityKm\", \"property\", \"http://dbpedia.org/property/populationDensityKm\", \"population density km\"], [\"postalCodeType\", \"property\", \"http://dbpedia.org/property/postalCodeType\", \"postal code type\"], [\"pushpinLabelPosition\", \"property\", \"http://dbpedia.org/property/pushpinLabelPosition\", \"pushpin label position\"], [\"pushpinMap\", \"property\", \"http://dbpedia.org/property/pushpinMap\", \"pushpin map\"], [\"settlementType\", \"property\", \"http://dbpedia.org/property/settlementType\", \"settlement type\"], [\"subdivisionName\", \"property\", \"http://dbpedia.org/property/subdivisionName\", \"subdivision name\"], [\"subdivisionType\", \"property\", \"http://dbpedia.org/property/subdivisionType\", \"subdivision type\"], [\"unitPref\", \"property\", \"http://dbpedia.org/property/unitPref\", \"unit pref\"]], \"withSynonyms\": false, \"phraseLabelAvg\": [[\"party\", \"\", 0], [\"party\", \"Wikipage page ID\", 0.13931398], [\"party\", \"Wikipage revision ID\", 0.15615387], [\"party\", \"Link from a Wikipage to another Wikipage\", 0.10321899], [\"party\", \"Link from a Wikipage to an external page\", 0.14731443], [\"party\", \"thumbnail\", 0.029517232], [\"party\", \"country\", 0.23925756], [\"party\", \"elevation (\\u03bc)\", 0.070861489], [\"party\", \"government type\", 0.29557389], [\"party\", \"is part of\", 0.10480934], [\"party\", \"postal code\", 0.12405407], [\"party\", \"time zone\", 0.084507033], [\"party\", \"UTC offset\", 0.0030999039], [\"party\", \"blank1 info sec\", 0.065059766], [\"party\", \"blank1 name sec\", 0.097707711], [\"party\", \"blank2 info sec\", 0.065059766], [\"party\", \"blank2 name sec\", 0.097707711], [\"party\", \"coordinates display\", -0.010781524], [\"party\", \"demographics1 info\", 0.050255943], [\"party\", \"demographics1 title\", 0.10286806], [\"party\", \"demographics type\", 0.11782961], [\"party\", \"governing body\", 0.27114266], [\"party\", \"image alt\", 0.15267874], [\"party\", \"image caption\", 0.11068949], [\"party\", \"image skyline\", 0.11750876], [\"party\", \"latd\", 0], [\"party\", \"latNS\", 0], [\"party\", \"longd\", 0], [\"party\", \"longEW\", 0], [\"party\", \"population density km\", 0.048243944], [\"party\", \"postal code type\", 0.13871108], [\"party\", \"pushpin label position\", 0.12084427], [\"party\", \"pushpin map\", 0.020339351], [\"party\", \"settlement type\", 0.084911317], [\"party\", \"subdivision name\", 0.10594665], [\"party\", \"subdivision type\", 0.093251213], [\"party\", \"unit pref\", 0.043373067]]}], \"answer\": [\"http://dbpedia.org/resource/Municipal_corporation\"], \"model\": [[[\"What\", \"WP\"], \"cop\", [\"is\", \"VBZ\"]], [[\"What\", \"WP\"], \"nsubj\", [\"party\", \"NN\"]], [[\"party\", \"NN\"], \"det\", [\"the\", \"DT\"]], [[\"party\", \"NN\"], \"nmod\", [\"North\", \"NNP\"]], [[\"North\", \"NNP\"], \"case\", [\"of\", \"IN\"]], [[\"North\", \"NNP\"], \"compound\", [\"Mumbai\", \"NNP\"]]], \"stack\": [\"party\", \"North\"], \"primaryURL\": {\"src\": \"agdistis\", \"value\": \"http://dbpedia.org/resource/Fort_(Mumbai_precinct)\"}}, {\"question\": \"Who is the founder of Facebook?\", \"stackDetails\": [{\"keyword\": \"n\", \"word\": \"founder\", \"properties\": [[\"wikiPageID\", \"ontology\", \"http://dbpedia.org/ontology/wikiPageID\", \"Wikipage page ID\"], [\"wikiPageRevisionID\", \"ontology\", \"http://dbpedia.org/ontology/wikiPageRevisionID\", \"Wikipage revision ID\"], [\"wikiPageWikiLink\", \"ontology\", \"http://dbpedia.org/ontology/wikiPageWikiLink\", \"Link from a Wikipage to another Wikipage\"], [\"wikiPageExternalLink\", \"ontology\", \"http://dbpedia.org/ontology/wikiPageExternalLink\", \"Link from a Wikipage to an external page\"], [\"name\", \"property\", \"http://dbpedia.org/property/name\", \"name\"], [\"secCik\", \"property\", \"http://dbpedia.org/property/secCik\", \"sec cik\"], [\"thumbnail\", \"ontology\", \"http://dbpedia.org/ontology/thumbnail\", \"thumbnail\"], [\"currentStatus\", \"ontology\", \"http://dbpedia.org/ontology/currentStatus\", \"current status\"], [\"foundedBy\", \"ontology\", \"http://dbpedia.org/ontology/foundedBy\", \"founded by\"], [\"industry\", \"ontology\", \"http://dbpedia.org/ontology/industry\", \"industry\"], [\"keyPerson\", \"ontology\", \"http://dbpedia.org/ontology/keyPerson\", \"key person\"], [\"language\", \"ontology\", \"http://dbpedia.org/ontology/language\", \"language\"], [\"location\", \"ontology\", \"http://dbpedia.org/ontology/location\", \"location\"], [\"numberOfEmployees\", \"ontology\", \"http://dbpedia.org/ontology/numberOfEmployees\", \"number of employees\"], [\"regionServed\", \"ontology\", \"http://dbpedia.org/ontology/regionServed\", \"region served\"], [\"subsidiary\", \"ontology\", \"http://dbpedia.org/ontology/subsidiary\", \"subsidiary\"], [\"type\", \"ontology\", \"http://dbpedia.org/ontology/type\", \"type\"], [\"registration\", \"property\", \"http://dbpedia.org/property/registration\", \"registration\"], [\"alexa\", \"property\", \"http://dbpedia.org/property/alexa\", \"alexa\"], [\"b\", \"property\", \"http://dbpedia.org/property/b\", \"b\"], [\"caption\", \"property\", \"http://dbpedia.org/property/caption\", \"Caption\"], [\"commonsCategory\", \"property\", \"http://dbpedia.org/property/commonsCategory\", \"commons category\"], [\"date\", \"property\", \"http://dbpedia.org/property/date\", \"date\"], [\"display\", \"property\", \"http://dbpedia.org/property/display\", \"display\"], [\"hoovers\", \"property\", \"http://dbpedia.org/property/hoovers\", \"hoovers\"], [\"logo\", \"property\", \"http://dbpedia.org/property/logo\", \"logo\"], [\"n\", \"property\", \"http://dbpedia.org/property/n\", \"n\"], [\"numUsers\", \"property\", \"http://dbpedia.org/property/numUsers\", \"num users\"], [\"owner\", \"property\", \"http://dbpedia.org/property/owner\", \"owner\"], [\"programmingLanguage\", \"property\", \"http://dbpedia.org/property/programmingLanguage\", \"programming language\"], [\"q\", \"property\", \"http://dbpedia.org/property/q\", \"q\"], [\"reason\", \"property\", \"http://dbpedia.org/property/reason\", \"reason\"], [\"s\", \"property\", \"http://dbpedia.org/property/s\", \"s\"], [\"screenshot\", \"property\", \"http://dbpedia.org/property/screenshot\", \"screenshot\"], [\"screenshotSize\", \"property\", \"http://dbpedia.org/property/screenshotSize\", \"screenshot size\"], [\"species\", \"property\", \"http://dbpedia.org/property/species\", \"species\"], [\"symbol\", \"property\", \"http://dbpedia.org/property/symbol\", \"symbol\"], [\"tradedAs\", \"property\", \"http://dbpedia.org/property/tradedAs\", \"traded as\"], [\"v\", \"property\", \"http://dbpedia.org/property/v\", \"v\"], [\"voy\", \"property\", \"http://dbpedia.org/property/voy\", \"voy\"], [\"websiteType\", \"property\", \"http://dbpedia.org/property/websiteType\", \"website type\"], [\"wikt\", \"property\", \"http://dbpedia.org/property/wikt\", \"wikt\"]], \"withSynonyms\": false, \"phraseLabelAvg\": [[\"founder\", \"\", 0], [\"founder\", \"Wikipage page ID\", 0.055305902], [\"founder\", \"Wikipage revision ID\", 0.0035267326], [\"founder\", \"Link from a Wikipage to another Wikipage\", -0.0091575263], [\"founder\", \"Link from a Wikipage to an external page\", 0.017488023], [\"founder\", \"name\", 0.1838792], [\"founder\", \"sec cik\", -0.058580928], [\"founder\", \"thumbnail\", -0.044064276], [\"founder\", \"current status\", 0.033486303], [\"founder\", \"founded by\", 0.62793493], [\"founder\", \"industry\", 0.16178557], [\"founder\", \"key person\", 0.041057743], [\"founder\", \"language\", -0.026965361], [\"founder\", \"location\", 0.092061788], [\"founder\", \"number of employees\", 0.060081355], [\"founder\", \"region served\", 0.11006626], [\"founder\", \"subsidiary\", 0.24484605], [\"founder\", \"type\", -0.044409681], [\"founder\", \"registration\", 0.0099979751], [\"founder\", \"alexa\", -0.038206331], [\"founder\", \"b\", -0.11189474], [\"founder\", \"Caption\", 0.027614553], [\"founder\", \"commons category\", -0.034571163], [\"founder\", \"date\", -0.011269234], [\"founder\", \"display\", -0.042943619], [\"founder\", \"hoovers\", 0.033895742], [\"founder\", \"logo\", 0.11164132], [\"founder\", \"n\", 9.9297467e-05], [\"founder\", \"num users\", -0.011087331], [\"founder\", \"owner\", 0.45933196], [\"founder\", \"programming language\", 0.061024971], [\"founder\", \"q\", -0.029106002], [\"founder\", \"reason\", 0.017012658], [\"founder\", \"s\", 0.17304143], [\"founder\", \"screenshot\", 0.021286612], [\"founder\", \"screenshot size\", 0.014208662], [\"founder\", \"species\", -0.086340174], [\"founder\", \"symbol\", 0.1627434], [\"founder\", \"traded as\", 0.044507328], [\"founder\", \"v\", 0.080137029], [\"founder\", \"voy\", 0.053387225], [\"founder\", \"website type\", 0.1373138], [\"founder\", \"wikt\", 0]]}], \"answer\": [\"Facebook\"], \"model\": [[[\"Who\", \"WP\"], \"cop\", [\"is\", \"VBZ\"]], [[\"Who\", \"WP\"], \"nsubj\", [\"founder\", \"NN\"]], [[\"founder\", \"NN\"], \"det\", [\"the\", \"DT\"]], [[\"founder\", \"NN\"], \"nmod\", [\"Facebook\", \"NNP\"]], [[\"Facebook\", \"NNP\"], \"case\", [\"of\", \"IN\"]]], \"stack\": [\"founder\", \"Facebook\"], \"primaryURL\": {\"src\": \"agdistis\", \"value\": \"http://dbpedia.org/resource/Facebook\"}}, {\"question\": \"Who is the supreme leader of North Korea?\", \"stackDetails\": [{\"word\": \"leader\", \"properties\": [[\"wikiPageID\", \"ontology\", \"http://dbpedia.org/ontology/wikiPageID\", \"Wikipage page ID\"], [\"wikiPageRevisionID\", \"ontology\", \"http://dbpedia.org/ontology/wikiPageRevisionID\", \"Wikipage revision ID\"], [\"wikiPageWikiLink\", \"ontology\", \"http://dbpedia.org/ontology/wikiPageWikiLink\", \"Link from a Wikipage to another Wikipage\"], [\"wikiPageExternalLink\", \"ontology\", \"http://dbpedia.org/ontology/wikiPageExternalLink\", \"Link from a Wikipage to an external page\"], [\"thumbnail\", \"ontology\", \"http://dbpedia.org/ontology/thumbnail\", \"thumbnail\"], [\"anthem\", \"ontology\", \"http://dbpedia.org/ontology/anthem\", \"anthem\"], [\"areaTotal\", \"ontology\", \"http://dbpedia.org/ontology/areaTotal\", \"area total (m2)\"], [\"capital\", \"ontology\", \"http://dbpedia.org/ontology/capital\", \"capital\"], [\"currency\", \"ontology\", \"http://dbpedia.org/ontology/currency\", \"currency\"], [\"demonym\", \"ontology\", \"http://dbpedia.org/ontology/demonym\", \"demonym\"], [\"flag\", \"ontology\", \"http://dbpedia.org/ontology/flag\", \"flag (image)\"], [\"governmentType\", \"ontology\", \"http://dbpedia.org/ontology/governmentType\", \"government type\"], [\"language\", \"ontology\", \"http://dbpedia.org/ontology/language\", \"language\"], [\"largestCity\", \"ontology\", \"http://dbpedia.org/ontology/largestCity\", \"largest city\"], [\"leader\", \"ontology\", \"http://dbpedia.org/ontology/leader\", \"leader\"], [\"leaderTitle\", \"ontology\", \"http://dbpedia.org/ontology/leaderTitle\", \"leader title\"], [\"motto\", \"ontology\", \"http://dbpedia.org/ontology/motto\", \"motto\"], [\"officialLanguage\", \"ontology\", \"http://dbpedia.org/ontology/officialLanguage\", \"official language\"], [\"percentageOfAreaWater\", \"ontology\", \"http://dbpedia.org/ontology/percentageOfAreaWater\", \"percentage of area water\"], [\"populationDensity\", \"ontology\", \"http://dbpedia.org/ontology/populationDensity\", \"population density (/sqkm)\"], [\"populationTotal\", \"ontology\", \"http://dbpedia.org/ontology/populationTotal\", \"population total\"], [\"soundRecording\", \"ontology\", \"http://dbpedia.org/ontology/soundRecording\", \"sound recording\"], [\"timeZone\", \"ontology\", \"http://dbpedia.org/ontology/timeZone\", \"time zone\"], [\"areaMagnitude\", \"property\", \"http://dbpedia.org/property/areaMagnitude\", \"area magnitude\"], [\"areaRank\", \"property\", \"http://dbpedia.org/property/areaRank\", \"area rank\"], [\"callingCode\", \"property\", \"http://dbpedia.org/property/callingCode\", \"calling code\"], [\"caption\", \"property\", \"http://dbpedia.org/property/caption\", \"Caption\"], [\"cctld\", \"property\", \"http://dbpedia.org/property/cctld\", \"cctld\"], [\"color\", \"property\", \"http://dbpedia.org/property/color\", \"color\"], [\"currencyCode\", \"property\", \"http://dbpedia.org/property/currencyCode\", \"currency code\"], [\"dateFormat\", \"property\", \"http://dbpedia.org/property/dateFormat\", \"date format\"], [\"drivesOn\", \"property\", \"http://dbpedia.org/property/drivesOn\", \"drives on\"], [\"establishedDate\", \"property\", \"http://dbpedia.org/property/establishedDate\", \"established date\"], [\"establishedEvent\", \"property\", \"http://dbpedia.org/property/establishedEvent\", \"established event\"], [\"float\", \"property\", \"http://dbpedia.org/property/float\", \"float\"], [\"footnoteA\", \"property\", \"http://dbpedia.org/property/footnoteA\", \"footnote a\"], [\"footnoteB\", \"property\", \"http://dbpedia.org/property/footnoteB\", \"footnote b\"], [\"gdpNominal\", \"property\", \"http://dbpedia.org/property/gdpNominal\", \"GDP nominal\"], [\"gdpNominalPerCapita\", \"property\", \"http://dbpedia.org/property/gdpNominalPerCapita\", \"GDP nominal per capita\"], [\"gdpNominalYear\", \"property\", \"http://dbpedia.org/property/gdpNominalYear\", \"GDP nominal year\"], [\"gdpPpp\", \"property\", \"http://dbpedia.org/property/gdpPpp\", \"GDP PPP\"], [\"gdpPppPerCapita\", \"property\", \"http://dbpedia.org/property/gdpPppPerCapita\", \"GDP PPP per capita\"], [\"gdpPppYear\", \"property\", \"http://dbpedia.org/property/gdpPppYear\", \"GDP PPP year\"], [\"hdi\", \"property\", \"http://dbpedia.org/property/hdi\", \"HDI\"], [\"hdiChange\", \"property\", \"http://dbpedia.org/property/hdiChange\", \"HDI change\"], [\"hdiRank\", \"property\", \"http://dbpedia.org/property/hdiRank\", \"HDI rank\"], [\"hdiYear\", \"property\", \"http://dbpedia.org/property/hdiYear\", \"HDI year\"], [\"imageCoat\", \"property\", \"http://dbpedia.org/property/imageCoat\", \"image coat\"], [\"imageMap\", \"property\", \"http://dbpedia.org/property/imageMap\", \"image map\"], [\"languagesType\", \"property\", \"http://dbpedia.org/property/languagesType\", \"languages type\"], [\"latd\", \"property\", \"http://dbpedia.org/property/latd\", \"latd\"], [\"latm\", \"property\", \"http://dbpedia.org/property/latm\", \"latm\"], [\"latns\", \"property\", \"http://dbpedia.org/property/latns\", \"latNS\"], [\"legislature\", \"property\", \"http://dbpedia.org/property/legislature\", \"Legislature\"], [\"longd\", \"property\", \"http://dbpedia.org/property/longd\", \"longd\"], [\"longew\", \"property\", \"http://dbpedia.org/property/longew\", \"longEW\"], [\"longm\", \"property\", \"http://dbpedia.org/property/longm\", \"longm\"], [\"mapCaption\", \"property\", \"http://dbpedia.org/property/mapCaption\", \"map caption\"], [\"populationCensus\", \"property\", \"http://dbpedia.org/property/populationCensus\", \"population census\"], [\"populationCensusYear\", \"property\", \"http://dbpedia.org/property/populationCensusYear\", \"population census year\"], [\"populationDensityRank\", \"property\", \"http://dbpedia.org/property/populationDensityRank\", \"population density rank\"], [\"populationEstimateRank\", \"property\", \"http://dbpedia.org/property/populationEstimateRank\", \"population estimate rank\"], [\"populationEstimateYear\", \"property\", \"http://dbpedia.org/property/populationEstimateYear\", \"population estimate year\"], [\"rr\", \"property\", \"http://dbpedia.org/property/rr\", \"rr\"], [\"sovereigntyType\", \"property\", \"http://dbpedia.org/property/sovereigntyType\", \"sovereignty type\"], [\"symbolType\", \"property\", \"http://dbpedia.org/property/symbolType\", \"symbol type\"], [\"utcOffset\", \"property\", \"http://dbpedia.org/property/utcOffset\", \"utc offset\"], [\"voy\", \"property\", \"http://dbpedia.org/property/voy\", \"voy\"], [\"wikt\", \"property\", \"http://dbpedia.org/property/wikt\", \"wikt\"]], \"withSynonyms\": false}], \"answer\": [\"http://dbpedia.org/resource/Kim_Yong-nam\", \"http://dbpedia.org/resource/Choe_Ryong-hae\", \"http://dbpedia.org/resource/Hwang_Pyong-so\", \"http://dbpedia.org/resource/Pak_Pong-ju\", \"http://dbpedia.org/resource/Kim_Jong-un\"], \"model\": [[[\"Who\", \"WP\"], \"cop\", [\"is\", \"VBZ\"]], [[\"Who\", \"WP\"], \"nsubj\", [\"leader\", \"NN\"]], [[\"leader\", \"NN\"], \"det\", [\"the\", \"DT\"]], [[\"leader\", \"NN\"], \"amod\", [\"supreme\", \"JJ\"]], [[\"leader\", \"NN\"], \"nmod\", [\"Korea\", \"NNP\"]], [[\"Korea\", \"NNP\"], \"case\", [\"of\", \"IN\"]], [[\"Korea\", \"NNP\"], \"compound\", [\"North\", \"NNP\"]]], \"stack\": [\"leader\", \"Korea\"], \"primaryURL\": {\"src\": \"agdistis\", \"value\": \"http://dbpedia.org/resource/North_Korea\"}}, {\"question\": \"What is Peter Griffin's nationality?\", \"stackDetails\": [{\"word\": \"nationality\", \"properties\": [[\"wikiPageID\", \"ontology\", \"http://dbpedia.org/ontology/wikiPageID\", \"Wikipage page ID\"], [\"wikiPageRevisionID\", \"ontology\", \"http://dbpedia.org/ontology/wikiPageRevisionID\", \"Wikipage revision ID\"], [\"wikiPageWikiLink\", \"ontology\", \"http://dbpedia.org/ontology/wikiPageWikiLink\", \"Link from a Wikipage to another Wikipage\"], [\"child\", \"ontology\", \"http://dbpedia.org/ontology/child\", \"child\"], [\"creator\", \"ontology\", \"http://dbpedia.org/ontology/creator\", \"creator (agent)\"], [\"firstAppearance\", \"ontology\", \"http://dbpedia.org/ontology/firstAppearance\", \"first appearance\"], [\"occupation\", \"ontology\", \"http://dbpedia.org/ontology/occupation\", \"occupation\"], [\"relative\", \"ontology\", \"http://dbpedia.org/ontology/relative\", \"relative\"], [\"series\", \"ontology\", \"http://dbpedia.org/ontology/series\", \"series\"], [\"spouse\", \"ontology\", \"http://dbpedia.org/ontology/spouse\", \"spouse\"], [\"voice\", \"ontology\", \"http://dbpedia.org/ontology/voice\", \"voice\"], [\"align\", \"property\", \"http://dbpedia.org/property/align\", \"align\"], [\"nationality\", \"property\", \"http://dbpedia.org/property/nationality\", \"nationality\"], [\"quote\", \"property\", \"http://dbpedia.org/property/quote\", \"quote\"], [\"source\", \"property\", \"http://dbpedia.org/property/source\", \"source \"], [\"width\", \"property\", \"http://dbpedia.org/property/width\", \"width\"]], \"withSynonyms\": false}], \"answer\": [\"American\"], \"model\": [[[\"What\", \"WP\"], \"cop\", [\"is\", \"VBZ\"]], [[\"What\", \"WP\"], \"nsubj\", [\"nationality\", \"NN\"]], [[\"nationality\", \"NN\"], \"nmod:poss\", [\"Griffin\", \"NNP\"]], [[\"Griffin\", \"NNP\"], \"compound\", [\"Peter\", \"NNP\"]], [[\"Griffin\", \"NNP\"], \"case\", [\"'s\", \"POS\"]]], \"stack\": [\"nationality\", \"Griffin\"], \"primaryURL\": {\"src\": \"agdistis\", \"value\": \"http://dbpedia.org/resource/Peter_Griffin\"}}, {\"question\": \"Who is Stewie Griffin's old man?\", \"stackDetails\": [{\"keyword\": \"first appearance\", \"word\": \"man\", \"properties\": [[\"wikiPageID\", \"ontology\", \"http://dbpedia.org/ontology/wikiPageID\", \"Wikipage page ID\"], [\"wikiPageRevisionID\", \"ontology\", \"http://dbpedia.org/ontology/wikiPageRevisionID\", \"Wikipage revision ID\"], [\"wikiPageWikiLink\", \"ontology\", \"http://dbpedia.org/ontology/wikiPageWikiLink\", \"Link from a Wikipage to another Wikipage\"], [\"wikiPageExternalLink\", \"ontology\", \"http://dbpedia.org/ontology/wikiPageExternalLink\", \"Link from a Wikipage to an external page\"], [\"creator\", \"ontology\", \"http://dbpedia.org/ontology/creator\", \"creator (agent)\"], [\"firstAppearance\", \"ontology\", \"http://dbpedia.org/ontology/firstAppearance\", \"first appearance\"], [\"relative\", \"ontology\", \"http://dbpedia.org/ontology/relative\", \"relative\"], [\"series\", \"ontology\", \"http://dbpedia.org/ontology/series\", \"series\"], [\"species\", \"ontology\", \"http://dbpedia.org/ontology/species\", \"species\"], [\"voice\", \"ontology\", \"http://dbpedia.org/ontology/voice\", \"voice\"], [\"ethnicity\", \"property\", \"http://dbpedia.org/property/ethnicity\", \"ethnicity\"], [\"occupation\", \"property\", \"http://dbpedia.org/property/occupation\", \"occupation\"]], \"withSynonyms\": false, \"phraseLabelAvg\": [[\"man\", \"\", 0], [\"man\", \"Wikipage page ID\", 0.086659558], [\"man\", \"Wikipage revision ID\", 0.052935299], [\"man\", \"Link from a Wikipage to another Wikipage\", 0.15210612], [\"man\", \"Link from a Wikipage to an external page\", 0.084248722], [\"man\", \"creator (agent)\", 0.076988667], [\"man\", \"first appearance\", 0.16780703], [\"man\", \"relative\", 0.14223926], [\"man\", \"series\", 0.068242386], [\"man\", \"species\", 0.13412343], [\"man\", \"voice\", 0.086536452], [\"man\", \"ethnicity\", 0.075192541], [\"man\", \"occupation\", 0.079701044]]}], \"answer\": [\"\\\"Death Has a Shadow\\\"\"], \"model\": [[[\"Who\", \"WP\"], \"cop\", [\"is\", \"VBZ\"]], [[\"Who\", \"WP\"], \"nsubj\", [\"man\", \"NN\"]], [[\"man\", \"NN\"], \"nmod:poss\", [\"Griffin\", \"NNP\"]], [[\"Griffin\", \"NNP\"], \"compound\", [\"Stewie\", \"NNP\"]], [[\"Griffin\", \"NNP\"], \"case\", [\"'s\", \"POS\"]], [[\"man\", \"NN\"], \"amod\", [\"old\", \"JJ\"]]], \"stack\": [\"man\", \"Griffin\"], \"primaryURL\": {\"src\": \"agdistis\", \"value\": \"http://dbpedia.org/resource/Stewie_Griffin\"}}, {\"question\": \"Who are the family members of Peter Griffin?\", \"stackDetails\": [{\"keyword\": \"spouse\", \"word\": \"family members\", \"properties\": [[\"wikiPageID\", \"ontology\", \"http://dbpedia.org/ontology/wikiPageID\", \"Wikipage page ID\"], [\"wikiPageRevisionID\", \"ontology\", \"http://dbpedia.org/ontology/wikiPageRevisionID\", \"Wikipage revision ID\"], [\"wikiPageWikiLink\", \"ontology\", \"http://dbpedia.org/ontology/wikiPageWikiLink\", \"Link from a Wikipage to another Wikipage\"], [\"child\", \"ontology\", \"http://dbpedia.org/ontology/child\", \"child\"], [\"creator\", \"ontology\", \"http://dbpedia.org/ontology/creator\", \"creator (agent)\"], [\"firstAppearance\", \"ontology\", \"http://dbpedia.org/ontology/firstAppearance\", \"first appearance\"], [\"occupation\", \"ontology\", \"http://dbpedia.org/ontology/occupation\", \"occupation\"], [\"relative\", \"ontology\", \"http://dbpedia.org/ontology/relative\", \"relative\"], [\"series\", \"ontology\", \"http://dbpedia.org/ontology/series\", \"series\"], [\"spouse\", \"ontology\", \"http://dbpedia.org/ontology/spouse\", \"spouse\"], [\"voice\", \"ontology\", \"http://dbpedia.org/ontology/voice\", \"voice\"], [\"align\", \"property\", \"http://dbpedia.org/property/align\", \"align\"], [\"nationality\", \"property\", \"http://dbpedia.org/property/nationality\", \"nationality\"], [\"quote\", \"property\", \"http://dbpedia.org/property/quote\", \"quote\"], [\"source\", \"property\", \"http://dbpedia.org/property/source\", \"source \"], [\"width\", \"property\", \"http://dbpedia.org/property/width\", \"width\"]], \"withSynonyms\": false, \"phraseLabelAvg\": [[\"family members\", \"\", 0], [\"family members\", \"Wikipage page ID\", 0.12953715], [\"family members\", \"Wikipage revision ID\", 0.047502965], [\"family members\", \"Link from a Wikipage to another Wikipage\", 0.16889019], [\"family members\", \"child\", 0.27772903], [\"family members\", \"creator (agent)\", 0.067275323], [\"family members\", \"first appearance\", 0.074845076], [\"family members\", \"occupation\", 0.076316714], [\"family members\", \"relative\", 0.22333947], [\"family members\", \"series\", 0.026735503], [\"family members\", \"spouse\", 0.34599641], [\"family members\", \"voice\", 0.12070318], [\"family members\", \"align\", 0.054120101], [\"family members\", \"nationality\", 0.18719156], [\"family members\", \"quote\", -0.021243537], [\"family members\", \"source \", 0.13421318], [\"family members\", \"width\", 0.028302662]]}], \"answer\": [\"http://dbpedia.org/resource/Lois_Griffin\"], \"model\": [[[\"Who\", \"WP\"], \"cop\", [\"are\", \"VBP\"]], [[\"Who\", \"WP\"], \"nsubj\", [\"members\", \"NNS\"]], [[\"members\", \"NNS\"], \"det\", [\"the\", \"DT\"]], [[\"members\", \"NNS\"], \"compound\", [\"family\", \"NN\"]], [[\"members\", \"NNS\"], \"nmod\", [\"Griffin\", \"NNP\"]], [[\"Griffin\", \"NNP\"], \"case\", [\"of\", \"IN\"]], [[\"Griffin\", \"NNP\"], \"compound\", [\"Peter\", \"NNP\"]]], \"stack\": [\"members\", \"Griffin\"], \"primaryURL\": {\"src\": \"agdistis\", \"value\": \"http://dbpedia.org/resource/Peter_Griffin\"}}, {\"question\": \"What are the oceans of Earth?\", \"stackDetails\": [{\"keyword\": \"Wikipage page ID\", \"word\": \"oceans\", \"properties\": [[\"wikiPageID\", \"ontology\", \"http://dbpedia.org/ontology/wikiPageID\", \"Wikipage page ID\"], [\"wikiPageRevisionID\", \"ontology\", \"http://dbpedia.org/ontology/wikiPageRevisionID\", \"Wikipage revision ID\"], [\"wikiPageWikiLink\", \"ontology\", \"http://dbpedia.org/ontology/wikiPageWikiLink\", \"Link from a Wikipage to another Wikipage\"], [\"wikiPageDisambiguates\", \"ontology\", \"http://dbpedia.org/ontology/wikiPageDisambiguates\", \"Wikipage disambiguates\"]], \"withSynonyms\": false, \"phraseLabelAvg\": [[\"oceans\", \"\", 0], [\"oceans\", \"Wikipage page ID\", 0.097390994], [\"oceans\", \"Wikipage revision ID\", 0.049681697], [\"oceans\", \"Link from a Wikipage to another Wikipage\", 0.041227207], [\"oceans\", \"Wikipage disambiguates\", 0]]}], \"answer\": [\"2622514\"], \"model\": [[[\"What\", \"WP\"], \"cop\", [\"are\", \"VBP\"]], [[\"What\", \"WP\"], \"nsubj\", [\"oceans\", \"NNS\"]], [[\"oceans\", \"NNS\"], \"det\", [\"the\", \"DT\"]], [[\"oceans\", \"NNS\"], \"nmod\", [\"Earth\", \"NNP\"]], [[\"Earth\", \"NNP\"], \"case\", [\"of\", \"IN\"]]], \"stack\": [\"oceans\", \"Earth\"], \"primaryURL\": {\"src\": \"agdistis\", \"value\": \"http://dbpedia.org/resource/Earth_2\"}}, {\"question\": \"What are satellites of Earth?\", \"stackDetails\": [{\"keyword\": \"Link from a Wikipage to another Wikipage\", \"word\": \"satellites\", \"properties\": [[\"wikiPageID\", \"ontology\", \"http://dbpedia.org/ontology/wikiPageID\", \"Wikipage page ID\"], [\"wikiPageRevisionID\", \"ontology\", \"http://dbpedia.org/ontology/wikiPageRevisionID\", \"Wikipage revision ID\"], [\"wikiPageWikiLink\", \"ontology\", \"http://dbpedia.org/ontology/wikiPageWikiLink\", \"Link from a Wikipage to another Wikipage\"], [\"wikiPageDisambiguates\", \"ontology\", \"http://dbpedia.org/ontology/wikiPageDisambiguates\", \"Wikipage disambiguates\"]], \"withSynonyms\": false, \"phraseLabelAvg\": [[\"satellites\", \"\", 0], [\"satellites\", \"Wikipage page ID\", -0.0066783186], [\"satellites\", \"Wikipage revision ID\", -0.016206717], [\"satellites\", \"Link from a Wikipage to another Wikipage\", 0.094178669], [\"satellites\", \"Wikipage disambiguates\", 0]]}], \"answer\": [\"http://dbpedia.org/resource/Earth-Two\", \"http://dbpedia.org/resource/JLA:_Earth_2\", \"http://dbpedia.org/resource/Earth_2_(TV_series)\", \"http://dbpedia.org/resource/Earth_analog\", \"http://dbpedia.org/resource/Earth_2_(album)\", \"http://dbpedia.org/resource/Earth_II_(TV_pilot)\"], \"model\": [[[\"What\", \"WP\"], \"cop\", [\"are\", \"VBP\"]], [[\"What\", \"WP\"], \"nsubj\", [\"satellites\", \"NNS\"]], [[\"satellites\", \"NNS\"], \"nmod\", [\"Earth\", \"NNP\"]], [[\"Earth\", \"NNP\"], \"case\", [\"of\", \"IN\"]]], \"stack\": [\"satellites\", \"Earth\"], \"primaryURL\": {\"src\": \"agdistis\", \"value\": \"http://dbpedia.org/resource/Earth_2\"}}]\n"
     ]
    }
   ],
   "source": [
    "print json.dumps(bigJson)"
   ]
  }
 ],
 "metadata": {
  "kernelspec": {
   "display_name": "Python 2",
   "language": "python",
   "name": "python2"
  },
  "language_info": {
   "codemirror_mode": {
    "name": "ipython",
    "version": 2
   },
   "file_extension": ".py",
   "mimetype": "text/x-python",
   "name": "python",
   "nbconvert_exporter": "python",
   "pygments_lexer": "ipython2",
   "version": "2.7.12"
  }
 },
 "nbformat": 4,
 "nbformat_minor": 2
}
