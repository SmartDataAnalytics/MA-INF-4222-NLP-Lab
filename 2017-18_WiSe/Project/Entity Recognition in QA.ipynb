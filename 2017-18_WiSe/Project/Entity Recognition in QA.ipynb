{
 "cells": [
  {
   "cell_type": "markdown",
   "metadata": {},
   "source": [
    "# Dependencies"
   ]
  },
  {
   "cell_type": "markdown",
   "metadata": {},
   "source": [
    "<ul>\n",
    "<li>Currently uses the Stanford dependency parser provided by nltk.</li>\n",
    "<li>loadW2V is a program that loads word2Vec model stored in disk. (The models are provide by gensim)</li>\n",
    "<li>OxfordDictionary calls the Oxford Dictionary API to retrieve synonyms for certain words.</li>\n",
    "</ul>"
   ]
  },
  {
   "cell_type": "code",
   "execution_count": 34,
   "metadata": {},
   "outputs": [],
   "source": [
    "from nltk.parse.stanford import StanfordDependencyParser\n",
    "from SPARQLWrapper import SPARQLWrapper, JSON\n",
    "from urlparse import urlparse\n",
    "import loadW2V\n",
    "import numpy as np\n",
    "import OxfordDictionary as od"
   ]
  },
  {
   "cell_type": "markdown",
   "metadata": {},
   "source": [
    "If you want to see details of the extraction of answers, set the following to 'True':"
   ]
  },
  {
   "cell_type": "code",
   "execution_count": 59,
   "metadata": {},
   "outputs": [],
   "source": [
    "log_details = False"
   ]
  },
  {
   "cell_type": "markdown",
   "metadata": {},
   "source": [
    "# Functions"
   ]
  },
  {
   "cell_type": "markdown",
   "metadata": {},
   "source": [
    "### redirect(URI)"
   ]
  },
  {
   "cell_type": "markdown",
   "metadata": {},
   "source": [
    "The function <b>\"redirect\"</b> returns the proper DBpedia URI by fetching the property <b>wikiPageRidirects</b>.\n",
    "<br/><br/>\n",
    "For example: <br/>\n",
    "If the provided URI is http://dbpedia.org/page/JFK, it returns http://dbpedia.org/page/John_F._Kennedy"
   ]
  },
  {
   "cell_type": "code",
   "execution_count": 54,
   "metadata": {},
   "outputs": [],
   "source": [
    "def redirect(URI):\n",
    "    sparql = SPARQLWrapper(\"http://dbpedia.org/sparql\")\n",
    "    query = \"\"\"\n",
    "        PREFIX rdfs: <http://www.w3.org/2000/01/rdf-schema#>\n",
    "        SELECT ?wikiPageRedirects\n",
    "        WHERE { <\"\"\" + URI + \"\"\">\n",
    "        dbo:wikiPageRedirects ?wikiPageRedirects }\n",
    "    \"\"\"\n",
    "    if log_details:\n",
    "        print query\n",
    "    sparql.setQuery(query)\n",
    "    sparql.setReturnFormat(JSON)\n",
    "    results = sparql.query().convert()\n",
    "    # print results\n",
    "    new_URI = [r[\"wikiPageRedirects\"][\"value\"] for r in results[\"results\"][\"bindings\"]]\n",
    "    if log_details:\n",
    "        print \"\\nREDIRECT:\"\n",
    "    if len(new_URI) > 0:\n",
    "        if log_details:\n",
    "            print new_URI[0]\n",
    "        return new_URI[0]\n",
    "    else:\n",
    "        if log_details:\n",
    "            print URI\n",
    "        return URI"
   ]
  },
  {
   "cell_type": "markdown",
   "metadata": {},
   "source": [
    "### get_closest_word(word, URI)"
   ]
  },
  {
   "cell_type": "markdown",
   "metadata": {},
   "source": [
    "The function <b>\"get_closest_word\"</b> returns the property of the URI which is closest to the provided word.\n",
    "<br/><br/>\n",
    "For example: <br/>\n",
    "If the provided word is <b>wife</b> for http://dbpedia.org/page/John_F._Kennedy, it returns the property <b>spouse</b>."
   ]
  },
  {
   "cell_type": "code",
   "execution_count": 38,
   "metadata": {},
   "outputs": [],
   "source": [
    "def get_closest_keyword(word, URI):\n",
    "    sparql = SPARQLWrapper(\"http://dbpedia.org/sparql\")\n",
    "    query = \"\"\"\n",
    "        select distinct ?prop where {\n",
    "             <\"\"\"+ URI +\"\"\">\n",
    "             ?prop ?ent }\n",
    "    \"\"\"\n",
    "    sparql.setQuery(query)\n",
    "    sparql.setReturnFormat(JSON)\n",
    "    results = sparql.query().convert()\n",
    "\n",
    "    properties = []\n",
    "    if log_details:\n",
    "        print \"\\nPROPERTIES:\"\n",
    "    for result in results[\"results\"][\"bindings\"]:\n",
    "        if log_details:\n",
    "            print result\n",
    "        arr = result[\"prop\"][\"value\"].split('/')\n",
    "        # properties.append(arr[len(arr) - 1])\n",
    "        if arr[len(arr) - 1] != 'abstract':\n",
    "            properties.append([arr[len(arr) - 1], arr[len(arr) - 2]])\n",
    "\n",
    "    properties = np.array(properties)\n",
    "    if log_details:\n",
    "        print \"To be matched with: \", word\n",
    "    # print properties\n",
    "    for p in properties:\n",
    "        if log_details:\n",
    "            print p[0]\n",
    "        if p[0] == word:\n",
    "            return p\n",
    "\n",
    "    synonyms = od.getSynonyms(word)\n",
    "\n",
    "    log = []\n",
    "    if synonyms == False:\n",
    "        synonyms = []\n",
    "\n",
    "    synonyms.append((word, word))\n",
    "    if log_details:\n",
    "        print \"\\nSYNONYMS:\"\n",
    "        print synonyms\n",
    "        \n",
    "    for synonym in synonyms:\n",
    "        for p in properties:\n",
    "            if p[0] == synonym[0]:\n",
    "                return p\n",
    "\n",
    "    \n",
    "    prop_syn_avg = []\n",
    "    for p in properties:\n",
    "        avg = 0\n",
    "        for synonym in synonyms:\n",
    "            try:\n",
    "                s = loadW2V.b.similarity(p[0], synonym[0])\n",
    "                # print '(', p[0], ',' , synonym[0], ') ', s\n",
    "                avg += s\n",
    "            except KeyError:\n",
    "                log.append(KeyError.message)\n",
    "\n",
    "        prop_syn_avg.append([p[0], avg/len(synonyms)])\n",
    "\n",
    "    sorted = np.argsort(np.array(prop_syn_avg), 0)[:,1]\n",
    "\n",
    "    if log_details:\n",
    "        print \"\\nSYNONYM SIMILARITIES:\"\n",
    "        for s in sorted:\n",
    "            print prop_syn_avg[s]\n",
    "\n",
    "    keyword = prop_syn_avg[np.argmax(np.array(prop_syn_avg), 0)[1]][0]\n",
    "\n",
    "    print keyword\n",
    "    for p in properties:\n",
    "        if p[0] == keyword:\n",
    "            if log_details:\n",
    "                print \"\\nKEYWORD:\"\n",
    "                print p\n",
    "            return p"
   ]
  },
  {
   "cell_type": "markdown",
   "metadata": {},
   "source": [
    "### fetch_compound(word, model)"
   ]
  },
  {
   "cell_type": "markdown",
   "metadata": {},
   "source": [
    "The function <b>\"fetch_compound\"</b> returns compound words for words from the given model after dependency parsing.\n",
    "<br/><br/>\n",
    "For example: <br/>\n",
    "If the provided word is <b>date</b>, whereas we are actually looking for <b>birth date</b> in the question, it will return so by looking up the model"
   ]
  },
  {
   "cell_type": "code",
   "execution_count": 39,
   "metadata": {},
   "outputs": [],
   "source": [
    "def fetch_compound(word, model):\n",
    "    compound_word = []\n",
    "    for m in model:\n",
    "        if m[1] == u'compound' and m[0][0] == word:\n",
    "            compound_word.append(m[2][0])\n",
    "\n",
    "    compound_word.append(word)\n",
    "    return compound_word"
   ]
  },
  {
   "cell_type": "markdown",
   "metadata": {},
   "source": [
    "### call_sparql(keyword, URI, pType)"
   ]
  },
  {
   "cell_type": "markdown",
   "metadata": {},
   "source": [
    "The function <b>\"call_sparql\"</b> returns values of properties provided as keywords in the given URI.\n",
    "<br/><br/>\n",
    "For example: <br/>\n",
    "If we are looking for <b>spouse</b> of http://dbpedia.org/page/John_F._Kennedy it will return http://dbpedia.org/page/Jacqueline_Kennedy_Onassis"
   ]
  },
  {
   "cell_type": "code",
   "execution_count": 40,
   "metadata": {},
   "outputs": [],
   "source": [
    "def call_sparql(keyword, URI, pType):\n",
    "    # print \"\\nCALL SPARQL:\"\n",
    "    pTypes = np.array([[u'ontology', 'dbo'],[u'property', 'dbp']])\n",
    "    \n",
    "    for p in pTypes:\n",
    "        if p[0] == pType:\n",
    "            pType = p[1]\n",
    "\n",
    "    sparql = SPARQLWrapper(\"http://dbpedia.org/sparql\")\n",
    "    query = \"\"\"\n",
    "        PREFIX rdfs: <http://www.w3.org/2000/01/rdf-schema#>\n",
    "        SELECT ?\"\"\"+ keyword +\"\"\"\n",
    "        WHERE { <\"\"\" + URI + \"\"\">\n",
    "        \"\"\"+pType+\"\"\":\"\"\"+keyword+\"\"\" ?\"\"\"+keyword+\"\"\" }\n",
    "    \"\"\"\n",
    "    if log_details:\n",
    "        print query\n",
    "        \n",
    "    sparql.setQuery(query)\n",
    "\n",
    "    sparql.setReturnFormat(JSON)\n",
    "    results = sparql.query().convert()\n",
    "\n",
    "    # answers = []\n",
    "    # for result in results:\n",
    "    # print results[\"results\"][\"bindings\"]\n",
    "    return [r[keyword][\"value\"] for r in results[\"results\"][\"bindings\"]]"
   ]
  },
  {
   "cell_type": "markdown",
   "metadata": {},
   "source": [
    "### answer(question)"
   ]
  },
  {
   "cell_type": "markdown",
   "metadata": {},
   "source": [
    "The function <b>\"answer\"</b> returns an answer for a question using the functions above.\n",
    "<br/><br/>\n",
    "For example: <br/>\n",
    "If we are looking for an answer for <b>\"What was the religion of the wife of JFK?\"</b>, it should return the <b>abstract for catholic church</b>."
   ]
  },
  {
   "cell_type": "code",
   "execution_count": 57,
   "metadata": {},
   "outputs": [],
   "source": [
    "def answer(question):\n",
    "    print \"...\"\n",
    "    path_to_jar = 'stanford-corenlp-full-2017-06-09/stanford-corenlp-3.8.0.jar'\n",
    "    path_to_models_jar = 'stanford-corenlp-full-2017-06-09/stanford-corenlp-3.8.0-models.jar'\n",
    "\n",
    "    dependency_parser = StanfordDependencyParser(path_to_jar=path_to_jar,\n",
    "                                                 path_to_models_jar=path_to_models_jar)\n",
    "\n",
    "\n",
    "    if log_details:\n",
    "        print \"\\nQUESTION:\"\n",
    "        print question\n",
    "\n",
    "    result = dependency_parser.raw_parse(question)\n",
    "    dep = result.next()\n",
    "\n",
    "    model = list(dep.triples())\n",
    "\n",
    "    if log_details:\n",
    "        print '\\nMODEL:'\n",
    "        print model\n",
    "\n",
    "\n",
    "    URI = \"http://dbpedia.org/resource/\"\n",
    "    keyword = None\n",
    "    handle = None\n",
    "    trail = None\n",
    "    stack = []\n",
    "\n",
    "    # print models\n",
    "    for i in range(len(model)):\n",
    "        if model[i][1] == u'nsubj':\n",
    "            stack.append(model[i][2][0])\n",
    "\n",
    "    for i in range(len(model)):\n",
    "        # print model[i][0][0], stack[len(stack) - 1]\n",
    "        if model[i][0][0] == stack[len(stack) - 1] and model[i][1] == u'nmod':\n",
    "            stack.append(model[i][2][0])\n",
    "\n",
    "    if log_details:\n",
    "        print '\\nSTACK:'\n",
    "        print stack\n",
    "    handle = stack.pop()\n",
    "    handle = fetch_compound(handle, model)\n",
    "    URI = URI + '_'.join(handle)\n",
    "    URI = redirect(URI)\n",
    "    # print URI\n",
    "    results = []\n",
    "    if len(stack) == 0:\n",
    "        results.append(URI)\n",
    "        \n",
    "    i = len(stack)\n",
    "    while i > 0:\n",
    "        #if len(stack) == 0:\n",
    "        #    keyword = \"label\"\n",
    "        #else:\n",
    "        \n",
    "        trail = stack.pop()\n",
    "        keyword = fetch_compound(trail, model)\n",
    "\n",
    "        # print URI\n",
    "        keyword = ' '.join(keyword)\n",
    "        keyword = ''.join(x for x in keyword.title() if not x.isspace())\n",
    "        keyword = list(keyword)\n",
    "        keyword[0] = keyword[0].lower()\n",
    "        keyword = ''.join(keyword)\n",
    "        pair = get_closest_keyword(keyword, URI)\n",
    "        if log_details:\n",
    "            print pair\n",
    "        keyword = pair[0]\n",
    "        pType = pair[1]\n",
    "\n",
    "        if log_details:\n",
    "            print keyword, \", \", URI\n",
    "        results = call_sparql(keyword, URI, pType)\n",
    "        if log_details:\n",
    "            print results\n",
    "\n",
    "        for res in results:\n",
    "            parsed_url = urlparse(res)\n",
    "\n",
    "            if parsed_url.scheme == u'http' or parsed_url.scheme == u'https':\n",
    "                # res = call_sparql(keyword, res)\n",
    "                URI = res\n",
    "            else:\n",
    "                break\n",
    "\n",
    "        i -= 1\n",
    "\n",
    "    \n",
    "    return results\n"
   ]
  },
  {
   "cell_type": "markdown",
   "metadata": {},
   "source": [
    "### Set of Questions"
   ]
  },
  {
   "cell_type": "code",
   "execution_count": 42,
   "metadata": {},
   "outputs": [],
   "source": [
    "questions = [\n",
    "    # 'Where is the birth place of Bal Gangadhar Tilak?'\n",
    "    # 'What is the capital of Germany?'\n",
    "    # 'Who is the president of United States?'\n",
    "    # 'When is the birth date of Tom Cruise?'\n",
    "    # 'What is the color of the flag of Germany?'\n",
    "    # 'Who is Donald Trump?'\n",
    "    # 'Where is birth place of wife of Mahatma Gandhi?'\n",
    "    # 'Who is the vice president of John Kennedy?'\n",
    "    # 'What is the birth place of wife of John Kennedy?'\n",
    "    # 'What is the municipality of Roberto Clemente Bridge'\n",
    "    # 'What is the nationality of the prime minister of Thanong Bidaya?'\n",
    "    # 'which are the films of Richard Gere and Julia Roberts?'\n",
    "    # 'What is the party of Mumbai North?'\n",
    "    #'Who is the founder of Facebook?'\n",
    "]"
   ]
  },
  {
   "cell_type": "markdown",
   "metadata": {},
   "source": [
    "### Write your question here"
   ]
  },
  {
   "cell_type": "code",
   "execution_count": 70,
   "metadata": {},
   "outputs": [],
   "source": [
    "question = 'Where is birth place of wife of Mahatma Gandhi?'"
   ]
  },
  {
   "cell_type": "code",
   "execution_count": 71,
   "metadata": {},
   "outputs": [
    {
     "name": "stdout",
     "output_type": "stream",
     "text": [
      "...\n",
      "http://dbpedia.org/resource/Gujarat\n",
      "http://dbpedia.org/resource/Porbandar\n",
      "http://dbpedia.org/resource/Kathiawar_Agency\n",
      "http://dbpedia.org/resource/British_Raj\n"
     ]
    }
   ],
   "source": [
    "results = answer(question)\n",
    "\n",
    "for res in results:\n",
    "    print res"
   ]
  },
  {
   "cell_type": "code",
   "execution_count": null,
   "metadata": {},
   "outputs": [],
   "source": []
  }
 ],
 "metadata": {
  "kernelspec": {
   "display_name": "Python 2",
   "language": "python",
   "name": "python2"
  },
  "language_info": {
   "codemirror_mode": {
    "name": "ipython",
    "version": 2
   },
   "file_extension": ".py",
   "mimetype": "text/x-python",
   "name": "python",
   "nbconvert_exporter": "python",
   "pygments_lexer": "ipython2",
   "version": "2.7.12"
  }
 },
 "nbformat": 4,
 "nbformat_minor": 2
}
